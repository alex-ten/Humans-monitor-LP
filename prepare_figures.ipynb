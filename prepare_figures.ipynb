{
 "cells": [
  {
   "cell_type": "markdown",
   "metadata": {
    "heading_collapsed": true
   },
   "source": [
    "# Imports"
   ]
  },
  {
   "cell_type": "code",
   "execution_count": null,
   "metadata": {
    "ExecuteTime": {
     "end_time": "2020-11-15T00:05:42.761331Z",
     "start_time": "2020-11-15T00:05:40.576739Z"
    },
    "hidden": true
   },
   "outputs": [],
   "source": [
    "%matplotlib inline\n",
    "import matplotlib.pyplot as plt\n",
    "from matplotlib import gridspec, lines, legend_handler\n",
    "from mpl_toolkits.axes_grid1.inset_locator import inset_axes\n",
    "import seaborn as sns\n",
    "import numpy as np\n",
    "import pandas as pd\n",
    "import scipy.stats as scs\n",
    "from statsmodels.formula.api import ols\n",
    "from os import path\n",
    "from IPython.display import display\n",
    "\n",
    "\n",
    "from python_scripts.utils import loc_utils as lut\n",
    "from python_scripts.utils import vis_utils as vut\n",
    "from python_scripts.utils.vis_utils import gcolors, glabels, fullglabels, gmarkers, colors, ncolors, tlabels"
   ]
  },
  {
   "cell_type": "markdown",
   "metadata": {
    "heading_collapsed": true
   },
   "source": [
    "# Figure 1b"
   ]
  },
  {
   "cell_type": "code",
   "execution_count": null,
   "metadata": {
    "code_folding": [
     0
    ],
    "hidden": true
   },
   "outputs": [],
   "source": [
    "def make_fig1b(data_path, figname, save_to='LOCAL', save_as=''):\n",
    "    cols = ['sid', 'grp', 'tid', 'pc_first']\n",
    "    df = lut.unpickle(data_path)\n",
    "    df = df.loc[:, cols]\n",
    "    df = df.replace({'1_1D': 1, '2_I1D': 2, '3_2D': 3, '4_R': 4, 'F': 0, 'S': 1})\n",
    "    df['percent_correct'] = df.pc_first * 100\n",
    "\n",
    "    fig = plt.figure(figname, figsize=[5, 5])\n",
    "\n",
    "    ax = vut.pretty(fig.add_subplot(111))\n",
    "    palet = sns.set_palette(sns.color_palette(gcolors))\n",
    "    sns.boxplot(x='tid', y='percent_correct', hue='grp', data=df,\n",
    "                saturation=1, palette=palet, ax=ax)\n",
    "\n",
    "    props = {'connectionstyle': 'bar',\n",
    "             'arrowstyle': '-',\n",
    "             'patchA': None, 'patchB': None,\n",
    "             'shrinkA': 10, 'shrinkB': 10,\n",
    "             'linewidth': 2}\n",
    "    bh, pad = 100, .025\n",
    "    for i in range(3):\n",
    "        ax.text(x=i + .5, y=bh + 15, s='***', fontsize=15, ha='center', va='top')\n",
    "        ax.annotate('', xy=(i + pad, bh), xytext=(i + 1 - pad, bh), xycoords='data',\n",
    "                    ha='center', va='top', arrowprops=props)\n",
    "\n",
    "    ax.set_ylim(0, 115)\n",
    "    ax.set_xlim(-.5, 3.8)\n",
    "    ax.set_xlabel('Learning activity', fontsize=15)\n",
    "    ax.set_ylabel('% correct', fontsize=20)\n",
    "    ax.set_xticklabels(['A1', 'A2', 'A3', 'A4'], fontsize=15, fontweight='bold')\n",
    "    for xt, c in zip(ax.get_xticklabels(), colors):\n",
    "        xt.set_color(c)\n",
    "\n",
    "    ax.legend_.remove()\n",
    "    ax.text(3.5, 100, glabels[0], va='top', ha='left',\n",
    "            fontsize=15, fontweight='bold', color=gcolors[0])\n",
    "    ax.text(3.5, 80, glabels[1], va='bottom', ha='left',\n",
    "            fontsize=15, fontweight='bold', color=gcolors[1])\n",
    "\n",
    "    fig.tight_layout()\n",
    "    if save_as:\n",
    "        vut.save_it(fig, save_to, figname, save_as=save_as)\n",
    "\n",
    "\n",
    "make_fig1b(\n",
    "    data_path='data/long3.pkl',\n",
    "    figname='figure1b',\n",
    "    save_to='figures',\n",
    "    save_as='' # File format (png, jpeg, svg, ...)\n",
    ")\n"
   ]
  },
  {
   "cell_type": "markdown",
   "metadata": {
    "heading_collapsed": true
   },
   "source": [
    "# Figure 2a"
   ]
  },
  {
   "cell_type": "code",
   "execution_count": null,
   "metadata": {
    "ExecuteTime": {
     "end_time": "2020-11-15T00:49:52.460161Z",
     "start_time": "2020-11-15T00:49:51.946601Z"
    },
    "code_folding": [
     0
    ],
    "hidden": true,
    "scrolled": false
   },
   "outputs": [],
   "source": [
    "def make_fig2a(data_path, figname, save_to, save_as=None):\n",
    "    # Load data\n",
    "    df = pd.read_csv(data_path)[['sid','group','trial','activity']]\n",
    "    \n",
    "    # Select only required free-play trials (N = 250)\n",
    "    df = df.loc[df.trial <= 60+250].drop(columns='trial')\n",
    "    \n",
    "    # Count trials per activity for each subject\n",
    "    counts = df.groupby(['group', 'sid']).activity.value_counts().to_frame('counts')\n",
    "    counts = ((counts - 15)/250)*100\n",
    "    counts_stats = counts.groupby(['group','activity']).agg(['mean', 'sem'])\n",
    "    counts_stats.columns = counts_stats.columns.droplevel(0)\n",
    "    display(counts_stats)\n",
    "\n",
    "    fig = plt.figure(figname, figsize=[5, 4])\n",
    "    ax = vut.pretty(fig.add_subplot(111), 'y')\n",
    "    ax.axhline(25, ls='--', color='k', alpha=.8)\n",
    "    x = np.array([1, 2, 3, 4])\n",
    "    for i, grp in enumerate([1, 0]):\n",
    "        y = counts_stats.loc[(grp, slice(None)), 'mean']\n",
    "        yerr = counts_stats.loc[(grp, slice(None)), 'sem']\n",
    "        ax.errorbar(x, y, yerr=yerr, color=gcolors[grp], marker=gmarkers[grp],\n",
    "                    capsize=5, markersize=8, lw=2, label=fullglabels[grp])\n",
    "\n",
    "    ax.set_xticks(x)\n",
    "    ax.set_xticklabels(['A1', 'A2', 'A3', 'A4'], fontsize=14, fontweight='bold')\n",
    "    for xt, c in zip(ax.get_xticklabels(), colors):\n",
    "        xt.set_color(c)\n",
    "\n",
    "    ax.set_xlabel('Learning activity', fontsize=14)\n",
    "    ax.set_ylabel('Trials per activity\\n(%; Mean and SEM)', fontsize=14)\n",
    "    leg = ax.legend(fontsize=14)\n",
    "\n",
    "    fig.tight_layout()\n",
    "    if save_as:\n",
    "        vut.save_it(fig, save_to, figname, save_as=save_as, compress=False)\n",
    "\n",
    "\n",
    "make_fig2a(\n",
    "    data_path='data/clean_data.csv',\n",
    "    figname='figure2a',\n",
    "    save_to='figures',\n",
    "    save_as='' # File format (png, jpeg, svg, ...)\n",
    ")"
   ]
  },
  {
   "cell_type": "markdown",
   "metadata": {},
   "source": [
    "# Figure 2b"
   ]
  },
  {
   "cell_type": "code",
   "execution_count": 76,
   "metadata": {
    "ExecuteTime": {
     "end_time": "2020-11-15T01:44:05.792206Z",
     "start_time": "2020-11-15T01:44:05.121599Z"
    },
    "code_folding": [
     0,
     22
    ],
    "run_control": {
     "marked": false
    },
    "scrolled": false
   },
   "outputs": [
    {
     "data": {
      "text/html": [
       "<table class=\"simpletable\">\n",
       "<caption>OLS Regression Results</caption>\n",
       "<tr>\n",
       "  <th>Dep. Variable:</th>         <td>correct</td>     <th>  R-squared:         </th> <td>   0.490</td>\n",
       "</tr>\n",
       "<tr>\n",
       "  <th>Model:</th>                   <td>OLS</td>       <th>  Adj. R-squared:    </th> <td>   0.487</td>\n",
       "</tr>\n",
       "<tr>\n",
       "  <th>Method:</th>             <td>Least Squares</td>  <th>  F-statistic:       </th> <td>   159.1</td>\n",
       "</tr>\n",
       "<tr>\n",
       "  <th>Date:</th>             <td>Sun, 15 Nov 2020</td> <th>  Prob (F-statistic):</th> <td>3.05e-72</td>\n",
       "</tr>\n",
       "<tr>\n",
       "  <th>Time:</th>                 <td>02:44:05</td>     <th>  Log-Likelihood:    </th> <td> -1347.8</td>\n",
       "</tr>\n",
       "<tr>\n",
       "  <th>No. Observations:</th>      <td>   500</td>      <th>  AIC:               </th> <td>   2704.</td>\n",
       "</tr>\n",
       "<tr>\n",
       "  <th>Df Residuals:</th>          <td>   496</td>      <th>  BIC:               </th> <td>   2720.</td>\n",
       "</tr>\n",
       "<tr>\n",
       "  <th>Df Model:</th>              <td>     3</td>      <th>                     </th>     <td> </td>   \n",
       "</tr>\n",
       "<tr>\n",
       "  <th>Covariance Type:</th>      <td>nonrobust</td>    <th>                     </th>     <td> </td>   \n",
       "</tr>\n",
       "</table>\n",
       "<table class=\"simpletable\">\n",
       "<tr>\n",
       "                       <td></td>                          <th>coef</th>     <th>std err</th>      <th>t</th>      <th>P>|t|</th>  <th>[0.025</th>    <th>0.975]</th>  \n",
       "</tr>\n",
       "<tr>\n",
       "  <th>Intercept</th>                                   <td>   65.3227</td> <td>    0.457</td> <td>  143.062</td> <td> 0.000</td> <td>   64.426</td> <td>   66.220</td>\n",
       "</tr>\n",
       "<tr>\n",
       "  <th>C(group, Treatment(reference=1))[T.0]</th>       <td>    2.9381</td> <td>    0.646</td> <td>    4.550</td> <td> 0.000</td> <td>    1.669</td> <td>    4.207</td>\n",
       "</tr>\n",
       "<tr>\n",
       "  <th>trial</th>                                       <td>   -0.0021</td> <td>    0.003</td> <td>   -0.655</td> <td> 0.513</td> <td>   -0.008</td> <td>    0.004</td>\n",
       "</tr>\n",
       "<tr>\n",
       "  <th>trial:C(group, Treatment(reference=1))[T.0]</th> <td>    0.0284</td> <td>    0.004</td> <td>    6.358</td> <td> 0.000</td> <td>    0.020</td> <td>    0.037</td>\n",
       "</tr>\n",
       "</table>\n",
       "<table class=\"simpletable\">\n",
       "<tr>\n",
       "  <th>Omnibus:</th>       <td> 0.151</td> <th>  Durbin-Watson:     </th> <td>   1.734</td>\n",
       "</tr>\n",
       "<tr>\n",
       "  <th>Prob(Omnibus):</th> <td> 0.927</td> <th>  Jarque-Bera (JB):  </th> <td>   0.191</td>\n",
       "</tr>\n",
       "<tr>\n",
       "  <th>Skew:</th>          <td>-0.041</td> <th>  Prob(JB):          </th> <td>   0.909</td>\n",
       "</tr>\n",
       "<tr>\n",
       "  <th>Kurtosis:</th>      <td> 2.952</td> <th>  Cond. No.          </th> <td>    760.</td>\n",
       "</tr>\n",
       "</table><br/><br/>Warnings:<br/>[1] Standard Errors assume that the covariance matrix of the errors is correctly specified."
      ],
      "text/plain": [
       "<class 'statsmodels.iolib.summary.Summary'>\n",
       "\"\"\"\n",
       "                            OLS Regression Results                            \n",
       "==============================================================================\n",
       "Dep. Variable:                correct   R-squared:                       0.490\n",
       "Model:                            OLS   Adj. R-squared:                  0.487\n",
       "Method:                 Least Squares   F-statistic:                     159.1\n",
       "Date:                Sun, 15 Nov 2020   Prob (F-statistic):           3.05e-72\n",
       "Time:                        02:44:05   Log-Likelihood:                -1347.8\n",
       "No. Observations:                 500   AIC:                             2704.\n",
       "Df Residuals:                     496   BIC:                             2720.\n",
       "Df Model:                           3                                         \n",
       "Covariance Type:            nonrobust                                         \n",
       "===============================================================================================================\n",
       "                                                  coef    std err          t      P>|t|      [0.025      0.975]\n",
       "---------------------------------------------------------------------------------------------------------------\n",
       "Intercept                                      65.3227      0.457    143.062      0.000      64.426      66.220\n",
       "C(group, Treatment(reference=1))[T.0]           2.9381      0.646      4.550      0.000       1.669       4.207\n",
       "trial                                          -0.0021      0.003     -0.655      0.513      -0.008       0.004\n",
       "trial:C(group, Treatment(reference=1))[T.0]     0.0284      0.004      6.358      0.000       0.020       0.037\n",
       "==============================================================================\n",
       "Omnibus:                        0.151   Durbin-Watson:                   1.734\n",
       "Prob(Omnibus):                  0.927   Jarque-Bera (JB):                0.191\n",
       "Skew:                          -0.041   Prob(JB):                        0.909\n",
       "Kurtosis:                       2.952   Cond. No.                         760.\n",
       "==============================================================================\n",
       "\n",
       "Warnings:\n",
       "[1] Standard Errors assume that the covariance matrix of the errors is correctly specified.\n",
       "\"\"\""
      ]
     },
     "metadata": {},
     "output_type": "display_data"
    },
    {
     "name": "stdout",
     "output_type": "stream",
     "text": [
      "group 0: Y = 65.323 - 0.002*X\n",
      "group 1: Y = 68.261 + 0.026*X\n"
     ]
    },
    {
     "data": {
      "image/png": "[encoded data removed]",
      "text/plain": [
       "<Figure size 360x216 with 1 Axes>"
      ]
     },
     "metadata": {
      "needs_background": "light"
     },
     "output_type": "display_data"
    }
   ],
   "source": [
    "def make_top_fig(data_path, figname, save_to, save_as=None):\n",
    "    # Load data, select columns\n",
    "    df = pd.read_csv(data_path)[['sid','group','trial','activity']]\n",
    "    \n",
    "    # Select free-play trials\n",
    "    df = df.loc[(df.trial <= 60+250) & (df.trial > 60)]\n",
    "    df.loc[:, 'trial'] -= 60\n",
    "    \n",
    "    # Get group sizes\n",
    "    group_sizes = [group_sids.size for group_sids in df.groupby(['group']).sid.unique().values]\n",
    "    \n",
    "    # Count subjects per activity per trial for each group\n",
    "    df = df.groupby(['group','activity','trial']).agg({'sid': 'nunique'})\n",
    "    df = df.rename(columns={'sid':'n'})\n",
    "\n",
    "    # Create figure, define gridspec\n",
    "    fig = plt.figure(figname, figsize=[5, 6])\n",
    "    gs = gridspec.GridSpec(2, 1)\n",
    "\n",
    "    # Create ghost axis for common label\n",
    "    ax = fig.add_subplot(gs[:2, 0])\n",
    "    ax.tick_params(left=False, labelleft=False, bottom=False, labelbottom=False)\n",
    "    for spine in ax.spines.values():\n",
    "        spine.set_visible(False)\n",
    "    ax.set_ylabel('Fraction of Ps selecting a learning activity', fontsize=14, labelpad=30)\n",
    "\n",
    "    for i, grp in enumerate([1, 0]):\n",
    "        ax = vut.pretty(fig.add_subplot(gs[i, :3]))\n",
    "        ax.set_xlim(1, 250)\n",
    "        ax.set_ylim(.08, .5)\n",
    "        ax.grid(True)\n",
    "\n",
    "        if i:\n",
    "            ax.set_xlabel('Trial', fontsize=14)\n",
    "        else:\n",
    "            ax.tick_params(labelbottom=False)\n",
    "            handles = [lines.Line2D([0], [0], color=colors[k], ls='', marker='o', label=tlabels[k + 1]) for k in range(4)]\n",
    "            leg = ax.legend(handles, tlabels.values(), handletextpad=.05,\n",
    "                            bbox_to_anchor=(0, 1, 1, 0.2), loc='lower left', mode='expand', ncol=4, fontsize=14)\n",
    "            vut.color_legend(leg)\n",
    "\n",
    "        txt = ax.text(x=.05, y=.95, s=fullglabels[grp],\n",
    "                      ha='left', va='top', transform=ax.transAxes,\n",
    "                      color=gcolors[grp], fontweight='bold', fontsize=14)\n",
    "\n",
    "        for j, activity in enumerate(df.index.unique(1).tolist()):\n",
    "            psel = df.loc[(grp, activity, slice(None)), 'n'].sort_index().values / group_sizes[grp]\n",
    "            ax.plot(psel, c=colors[j], label=activity, lw=2)\n",
    "\n",
    "    fig.tight_layout()\n",
    "    if save_as:\n",
    "        vut.save_it(fig, save_to, figname, save_as=save_as, compress=False)\n",
    "\n",
    "\n",
    "def make_bottom_fig(data_path, figname, save_to, save_as=None):\n",
    "    # Load data, select columns\n",
    "    df = pd.read_csv(data_path)[['sid','group','trial','correct']]\n",
    "    \n",
    "    # Select free-play trials\n",
    "    df = df.loc[(df.trial <= 60+250) & (df.trial > 60)]\n",
    "    df.loc[:, 'trial'] -= 60\n",
    "    \n",
    "    # Calculate percentage of subjects who guessed correctly for each trial in each group\n",
    "    df = df.groupby(['group', 'trial'])[['correct']].mean()\n",
    "    df.loc[:, 'correct'] = df.correct * 100\n",
    "    \n",
    "    # Fit linear regression (set EG for contrast reference)\n",
    "    lm = ols('correct ~ trial*C(group,Treatment(reference=1))', data=df.reset_index()).fit()\n",
    "    params = lm.params\n",
    "    display(lm.summary())\n",
    "\n",
    "    # Make figure\n",
    "    fig = plt.figure(figname, figsize=[5, 3])\n",
    "    ax = vut.pretty(fig.add_subplot(111))\n",
    "\n",
    "    for grp in [0, 1]:\n",
    "        # Display raw percentages\n",
    "        x = np.arange(1, 251)\n",
    "        y = df.loc[(grp, slice(None)), :].values.squeeze()\n",
    "        ax.plot(x, y, color=gcolors[grp], ls='', alpha=.3, marker='.')\n",
    "        \n",
    "        # Display model predictions \n",
    "        x_ = np.array([1, 251])\n",
    "        y_ = lm.predict({'group': (grp, grp), 'trial': x_})\n",
    "        ax.plot(x_, y_, color=gcolors[grp], lw=2, alpha=.9, label=fullglabels[grp])\n",
    "        \n",
    "        # Print fitted line equations\n",
    "        intercept = params[0] + params[1] * grp\n",
    "        slope = params[2] + params[3] * grp\n",
    "        pos = int(slope > 0)\n",
    "        txt = 'Y = {:.3f} {} {:.3f}*X'.format(intercept, '-+'[pos], np.abs(slope))\n",
    "        print('group {}: {}'.format(grp, txt))\n",
    "\n",
    "    ax.set_xlabel('Trial', fontsize=14)\n",
    "    ax.set_ylabel('% correct', fontsize=14)\n",
    "\n",
    "    leg = ax.legend(fontsize=14, ncol=2)\n",
    "    vut.color_legend(leg)\n",
    "\n",
    "    ax.set_ylim(55, 85)\n",
    "    ax.set_xlim(1, 250)\n",
    "    fig.tight_layout()\n",
    "\n",
    "    if save_as:\n",
    "        vut.save_it(fig, save_to, figname, save_as=save_as, compress=False)\n",
    "\n",
    "\n",
    "data_path = 'data/clean_data.csv'\n",
    "save_path = 'figures'\n",
    "fig_format = '' # File format (png, jpeg, svg, ...)\n",
    "\n",
    "make_top_fig(\n",
    "    data_path=data_path,\n",
    "    figname='figure2b_top',\n",
    "    save_to=save_path,\n",
    "    save_as=fig_format\n",
    ")\n",
    "\n",
    "make_bottom_fig(\n",
    "    data_path=data_path,\n",
    "    figname='figure2b_bottom',\n",
    "    save_to=save_path,\n",
    "    save_as=fig_format\n",
    ")"
   ]
  },
  {
   "cell_type": "markdown",
   "metadata": {
    "heading_collapsed": true
   },
   "source": [
    "# Figure 2c "
   ]
  },
  {
   "cell_type": "markdown",
   "metadata": {
    "hidden": true
   },
   "source": [
    "Figure 2c was prepared in R.  The figure can be reproduced by running an R script stored in *R_scripts/figure2c.R*"
   ]
  },
  {
   "cell_type": "markdown",
   "metadata": {
    "heading_collapsed": true
   },
   "source": [
    "# Figure 3"
   ]
  },
  {
   "cell_type": "code",
   "execution_count": null,
   "metadata": {
    "ExecuteTime": {
     "end_time": "2020-11-15T00:06:49.485161Z",
     "start_time": "2020-11-15T00:06:47.351127Z"
    },
    "code_folding": [],
    "hidden": true,
    "run_control": {
     "marked": false
    },
    "scrolled": false
   },
   "outputs": [],
   "source": [
    "def make_fig(data_path, figname, save_to, save_as=''):\n",
    "    xstr = 'sc_lep'\n",
    "    df = lut.unpickle(data_path).sort_values(by=xstr)\n",
    "    df = df.loc[df.ntm > 0, :]\n",
    "\n",
    "    propS = np.sum(df.grp == 1) / df.shape[0]\n",
    "\n",
    "    fig = plt.figure(figname, figsize=[7, 7])\n",
    "    gs = gridspec.GridSpec(2, 2)\n",
    "\n",
    "    # Figure (scatter plot and histograms)\n",
    "    # ====================================\n",
    "    ghost_top = fig.add_subplot(gs[0, 0])\n",
    "    ghost_top.set_ylabel('Relative frequency', fontsize=14, labelpad=30)\n",
    "    ghost_top.tick_params(left=False, labelleft=False, bottom=False, labelbottom=False)\n",
    "    for spine in ghost_top.spines.values(): spine.set_visible(False)\n",
    "\n",
    "    ax_top1 = vut.pretty(inset_axes(ghost_top, width='100%', height='30%', loc=9, borderpad=0))\n",
    "    ax_top2 = vut.pretty(inset_axes(ghost_top, width='100%', height='30%', loc=10, borderpad=0))\n",
    "    ax_top3 = vut.pretty(inset_axes(ghost_top, width='100%', height='30%', loc=8, borderpad=0))\n",
    "\n",
    "    ghost_right = fig.add_subplot(gs[1, 1])\n",
    "    ghost_right.set_xlabel('Relative frequency', fontsize=14, labelpad=30)\n",
    "    ghost_right.tick_params(left=False, labelleft=False, bottom=False, labelbottom=False)\n",
    "    for spine in ghost_right.spines.values(): spine.set_visible(False)\n",
    "    ax_right1 = vut.pretty(inset_axes(ghost_right, width='30%', height='100%', loc=6, borderpad=0))\n",
    "    ax_right2 = vut.pretty(inset_axes(ghost_right, width='30%', height='100%', loc=10, borderpad=0))\n",
    "    ax_right3 = vut.pretty(inset_axes(ghost_right, width='30%', height='100%', loc=7, borderpad=0))\n",
    "\n",
    "    ax_scat = vut.pretty(fig.add_subplot(gs[1, 0]))\n",
    "\n",
    "    bins = np.arange(0, 1.02, .1)\n",
    "    labels = {'ntm': ['NAM ' + str(i) for i in (0, 1, 2, 3)], 'grp': fullglabels}\n",
    "    axes_by_ntm = {\n",
    "        'top': {\n",
    "            3: ax_top1,\n",
    "            2: ax_top2,\n",
    "            1: ax_top3},\n",
    "        'right': {\n",
    "            1: ax_right1,\n",
    "            2: ax_right2,\n",
    "            3: ax_right3}}\n",
    "    for ntm in [1, 2, 3]:\n",
    "        axes_by_ntm['top'][ntm].set_xlim(.0, .8)\n",
    "        axes_by_ntm['top'][ntm].set_ylim(0., .4)\n",
    "        axes_by_ntm['right'][ntm].set_xlim(0., .45)\n",
    "        axes_by_ntm['right'][ntm].set_ylim(0.38, 1.)\n",
    "        for grp in [0, 1]:\n",
    "            x = df.loc[(df.ntm == ntm) & (df.grp == grp), xstr]\n",
    "            y = df.loc[(df.ntm == ntm) & (df.grp == grp), 'post']\n",
    "            ax_scat.scatter(x, y, s=30, alpha=.7,\n",
    "                            facecolors=ncolors[ntm - 1] if grp else 'w',\n",
    "                            edgecolors=ncolors[ntm - 1])\n",
    "\n",
    "            rf, _ = np.histogram(x, bins=bins, weights=np.ones_like(x) / x.size)\n",
    "            axes_by_ntm['top'][ntm].plot(bins[:-1], rf, c=ncolors[ntm - 1], lw=2,\n",
    "                                         ls='-' if grp else '--',\n",
    "                                         label='{} / NAM-{}'.format(glabels[grp], ntm))\n",
    "            axes_by_ntm['top'][ntm].tick_params(labelbottom=False)\n",
    "            axes_by_ntm['top'][ntm].text(.02, .9, 'NAM-{}'.format(ntm), ha='left', va='top', fontsize=12,\n",
    "                                         color=ncolors[ntm - 1], transform=axes_by_ntm['top'][ntm].transAxes)\n",
    "\n",
    "            rf, _ = np.histogram(y, bins=bins, weights=np.ones_like(x) / x.size)\n",
    "            axes_by_ntm['right'][ntm].plot(rf, bins[1:], c=ncolors[ntm - 1], lw=2,\n",
    "                                           ls='-' if grp else '--',\n",
    "                                           label='{} / NAM-{}'.format(glabels[grp], ntm))\n",
    "            axes_by_ntm['right'][ntm].tick_params(labelleft=False)\n",
    "            axes_by_ntm['right'][ntm].text(.95, .02, 'NAM-{}'.format(ntm), ha='right', va='bottom', fontsize=12,\n",
    "                                           color=ncolors[ntm - 1], transform=axes_by_ntm['right'][ntm].transAxes)\n",
    "\n",
    "    ax_scat.set_xlim(.0, .8)\n",
    "    ax_scat.set_ylim(0.38, 1.)\n",
    "    ax_scat.set_xlabel('Self-challenge (SC)', fontsize=14)\n",
    "    ax_scat.set_ylabel('Weighted performance (dwfPC)', fontsize=14)\n",
    "\n",
    "    # Edit legend\n",
    "    c = 'darkgray'\n",
    "    mark_ig = lines.Line2D([0], [0], ls='', marker='o', label=fullglabels[0], markerfacecolor='w', markeredgecolor=c)\n",
    "    line_ig = lines.Line2D([0], [0], color=c, lw=2, label=fullglabels[0], ls='--', dashes=(2, 1))\n",
    "\n",
    "    mark_eg = lines.Line2D([0], [0], color=c, ls='', marker='o', label=fullglabels[1])\n",
    "    line_eg = lines.Line2D([0], [0], color=c, lw=2, label=fullglabels[1])\n",
    "\n",
    "    ax_scat.legend(((line_ig, mark_ig), (line_eg, mark_eg)), fullglabels.values(),\n",
    "                   bbox_to_anchor=(.5, 1.1,),\n",
    "                   fontsize=12, ncol=3, loc='center',\n",
    "                   handler_map={tuple: legend_handler.HandlerTuple(ndivide=None)})\n",
    "\n",
    "    # Main Model\n",
    "    # ====================================\n",
    "    qreg = ols('post ~ (pre + {0} + np.power({0}, 2) + grp)'.format(xstr), data=df).fit()\n",
    "    x = np.linspace(df.loc[:, xstr].min(), df.loc[:, xstr].max(), 100)\n",
    "    y_hat = qreg.get_prediction({xstr: x,\n",
    "                                 'pre': np.full_like(x, df.pre.mean()),\n",
    "                                 'grp': np.full_like(x, propS)\n",
    "                                 }).summary_frame()\n",
    "    display(y_hat.head())\n",
    "    c, alpha = 'k', .7\n",
    "    ax_scat.plot(x, y_hat['mean'], c=c, alpha=alpha)\n",
    "    ax_scat.plot(x, y_hat['mean_ci_lower'], c=c, lw=1, ls='--', alpha=alpha)\n",
    "    ax_scat.plot(x, y_hat['mean_ci_upper'], c=c, lw=1, ls='--', alpha=alpha)\n",
    "\n",
    "    df.loc[:, xstr] = scs.stats.zscore(df.loc[:, xstr]) # Standardize x before fitting the quadratic model\n",
    "    \n",
    "    # Run quadratic regression of final performance\n",
    "    qreg = ols('post ~ (pre + {0} + np.power({0}, 2) + grp)'.format(xstr), data=df).fit()\n",
    "    display(qreg.summary())\n",
    "    \n",
    "    # Run nonquadratic regression and compare AIC\n",
    "    nonqreg = ols('post ~ (pre + {0} + grp)'.format(xstr), data=df).fit()\n",
    "    print('Delta AIC = {:.2f}'.format(qreg.aic - nonqreg.aic))\n",
    "\n",
    "    # Run model of average SC as a function of Group x NAM\n",
    "    lreg = ols('{} ~ C(grp) * C(ntm)'.format(xstr), data=df).fit()\n",
    "    display(lreg.summary())\n",
    "    \n",
    "    # Show group and subgroup counts\n",
    "    display(df.groupby(['grp', 'ntm'])['sid'].agg('count'))\n",
    "    \n",
    "    # Save figure\n",
    "    fig.tight_layout()\n",
    "    if save_as:\n",
    "        vut.save_it(fig, save_to, figname=figname, save_as=save_as, compress=False, dpi=100)\n",
    "\n",
    "\n",
    "make_fig(\n",
    "    data_path='data/lpreds_data.pkl',\n",
    "    figname='figure3',\n",
    "    save_to='figures',\n",
    "    save_as='' # File format (png, jpeg, svg, ...)\n",
    ")"
   ]
  },
  {
   "cell_type": "markdown",
   "metadata": {
    "heading_collapsed": true
   },
   "source": [
    "# Figure 4a"
   ]
  },
  {
   "cell_type": "code",
   "execution_count": null,
   "metadata": {
    "code_folding": [],
    "hidden": true
   },
   "outputs": [],
   "source": [
    "def make_fig(data_path, figname, save_to, save_as=''):\n",
    "    baseline = 693.1471805599454\n",
    "    ic = 'aic'\n",
    "    df = pd.read_csv(data_path)\n",
    "    fdf = pd.read_csv(data_path)[['form', 'loss', ic]]\n",
    "    fdf['nvars'] = 6 - df.loc[:, 'tau':'relt_coef'].isnull().sum(axis=1)\n",
    "    fdf.loc[:, ic] = 2 * fdf.loss + 2 * fdf.nvars\n",
    "    fdf = fdf[~fdf.form.str.contains('dLP')]\n",
    "    fdf = fdf[~fdf.form.str.contains('mLP')]\n",
    "    fdf = fdf[~fdf.form.str.contains('RELT')]\n",
    "    fdf.replace(['rLP', 'PC + rLP'], ['LP', 'PC + LP'], inplace=True)\n",
    "    byform = fdf.set_index('form')\n",
    "\n",
    "    fdf = fdf.loc[:, ('form', 'aic')].groupby(['form']).agg(['mean', 'std'])\n",
    "    fdf = fdf.sort_values(by=(ic, 'mean'), ascending=True)\n",
    "    display(fdf)\n",
    "\n",
    "    fig = plt.figure(figname, figsize=(5, 3.5))\n",
    "    ax = vut.pretty(fig.add_subplot(111), 'x')\n",
    "\n",
    "    fdf = fdf.sort_values(by=(ic, 'mean'), ascending=False)\n",
    "    sns.violinplot(x=ic, y='form', data=byform.reset_index(), ax=ax,\n",
    "                   color='lightgray', linewidth=1.5, order=fdf.index)\n",
    "    for v in ax.collections: v.set_edgecolor('w')\n",
    "\n",
    "    ax.axvline(baseline, ls='--', zorder=3, color='red',\n",
    "               label='Random model')\n",
    "    ax.set_ylabel('Model', fontsize=14)\n",
    "    ax.set_xlabel('AIC', fontsize=14)\n",
    "    ax.set_xlim([200, 800])\n",
    "    ax.legend()\n",
    "\n",
    "    print('Baseline AIC = {}'.format(baseline))\n",
    "    fig.tight_layout()\n",
    "    if save_as:\n",
    "        vut.save_it(fig, save_to, figname=figname, save_as=save_as, compress=False, dpi=100)\n",
    "\n",
    "\n",
    "make_fig(\n",
    "    data_path='data/choiceModelComparison_PC_dLP_rLP_mLP_RELT_300seeds.csv',\n",
    "    figname='figure4a',\n",
    "    save_to='figures',\n",
    "    save_as='' # File format (png, jpeg, svg, ...)\n",
    ")"
   ]
  },
  {
   "cell_type": "markdown",
   "metadata": {
    "heading_collapsed": true
   },
   "source": [
    "# Figure 4b"
   ]
  },
  {
   "cell_type": "markdown",
   "metadata": {
    "hidden": true
   },
   "source": [
    "Figure 4b was prepared in R. The figure can be reproduced by running an R script stored in *R_scripts/figure4b.R*"
   ]
  }
 ],
 "metadata": {
  "hide_input": false,
  "kernelspec": {
   "display_name": "Python 3",
   "language": "python",
   "name": "python3"
  },
  "language_info": {
   "codemirror_mode": {
    "name": "ipython",
    "version": 3
   },
   "file_extension": ".py",
   "mimetype": "text/x-python",
   "name": "python",
   "nbconvert_exporter": "python",
   "pygments_lexer": "ipython3",
   "version": "3.6.4"
  },
  "toc": {
   "base_numbering": 1,
   "nav_menu": {},
   "number_sections": true,
   "sideBar": true,
   "skip_h1_title": false,
   "title_cell": "Table of Contents",
   "title_sidebar": "Contents",
   "toc_cell": false,
   "toc_position": {},
   "toc_section_display": true,
   "toc_window_display": false
  },
  "varInspector": {
   "cols": {
    "lenName": 16,
    "lenType": 16,
    "lenVar": 40
   },
   "kernels_config": {
    "python": {
     "delete_cmd_postfix": "",
     "delete_cmd_prefix": "del ",
     "library": "var_list.py",
     "varRefreshCmd": "print(var_dic_list())"
    },
    "r": {
     "delete_cmd_postfix": ") ",
     "delete_cmd_prefix": "rm(",
     "library": "var_list.r",
     "varRefreshCmd": "cat(var_dic_list()) "
    }
   },
   "types_to_exclude": [
    "module",
    "function",
    "builtin_function_or_method",
    "instance",
    "_Feature"
   ],
   "window_display": false
  }
 },
 "nbformat": 4,
 "nbformat_minor": 4
}
