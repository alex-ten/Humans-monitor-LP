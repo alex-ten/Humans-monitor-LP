{
 "cells": [
  {
   "cell_type": "markdown",
   "metadata": {},
   "source": [
    "**Imports**"
   ]
  },
  {
   "cell_type": "code",
   "execution_count": 1,
   "metadata": {
    "ExecuteTime": {
     "end_time": "2021-02-16T20:53:18.932810Z",
     "start_time": "2021-02-16T20:53:14.997Z"
    }
   },
   "outputs": [
    {
     "name": "stderr",
     "output_type": "stream",
     "text": [
      "Warning message:\n",
      "“package ‘tidyverse’ was built under R version 3.5.2”── \u001b[1mAttaching packages\u001b[22m ─────────────────────────────────────── tidyverse 1.3.0 ──\n",
      "\u001b[32m✔\u001b[39m \u001b[34mggplot2\u001b[39m 3.3.0     \u001b[32m✔\u001b[39m \u001b[34mpurrr  \u001b[39m 0.3.4\n",
      "\u001b[32m✔\u001b[39m \u001b[34mtibble \u001b[39m 3.0.1     \u001b[32m✔\u001b[39m \u001b[34mdplyr  \u001b[39m 1.0.2\n",
      "\u001b[32m✔\u001b[39m \u001b[34mtidyr  \u001b[39m 1.0.3     \u001b[32m✔\u001b[39m \u001b[34mstringr\u001b[39m 1.4.0\n",
      "\u001b[32m✔\u001b[39m \u001b[34mreadr  \u001b[39m 1.3.1     \u001b[32m✔\u001b[39m \u001b[34mforcats\u001b[39m 0.5.0\n",
      "Warning message:\n",
      "“package ‘ggplot2’ was built under R version 3.5.2”Warning message:\n",
      "“package ‘stringr’ was built under R version 3.5.2”Warning message:\n",
      "“package ‘forcats’ was built under R version 3.5.2”── \u001b[1mConflicts\u001b[22m ────────────────────────────────────────── tidyverse_conflicts() ──\n",
      "\u001b[31m✖\u001b[39m \u001b[34mdplyr\u001b[39m::\u001b[32mfilter()\u001b[39m  masks \u001b[34mstats\u001b[39m::filter()\n",
      "\u001b[31m✖\u001b[39m \u001b[34mpurrr\u001b[39m::\u001b[32mflatten()\u001b[39m masks \u001b[34mjsonlite\u001b[39m::flatten()\n",
      "\u001b[31m✖\u001b[39m \u001b[34mdplyr\u001b[39m::\u001b[32mlag()\u001b[39m     masks \u001b[34mstats\u001b[39m::lag()\n",
      "Warning message:\n",
      "“package ‘emmeans’ was built under R version 3.5.2”\n",
      "Attaching package: ‘rstatix’\n",
      "\n",
      "The following object is masked from ‘package:stats’:\n",
      "\n",
      "    filter\n",
      "\n"
     ]
    }
   ],
   "source": [
    "library(tidyverse)\n",
    "library(emmeans)\n",
    "library(rstatix)\n",
    "\n",
    "options(pillar.sigfig = 6, digits=6, warn=0, dplyr.summarise.inform = FALSE)"
   ]
  },
  {
   "cell_type": "markdown",
   "metadata": {
    "heading_collapsed": true
   },
   "source": [
    "# Section 2"
   ]
  },
  {
   "cell_type": "markdown",
   "metadata": {
    "ExecuteTime": {
     "end_time": "2021-01-09T13:18:43.305001Z",
     "start_time": "2021-01-09T13:18:43.224Z"
    },
    "heading_collapsed": true,
    "hidden": true
   },
   "source": [
    "## Comparisons of familiarization-stage performance between groups"
   ]
  },
  {
   "cell_type": "code",
   "execution_count": 72,
   "metadata": {
    "ExecuteTime": {
     "end_time": "2021-01-09T19:50:45.693508Z",
     "start_time": "2021-01-09T19:50:44.483Z"
    },
    "hidden": true
   },
   "outputs": [
    {
     "name": "stdout",
     "output_type": "stream",
     "text": [
      "\n",
      "Error: sid\n",
      "           Df Sum Sq Mean Sq F value Pr(>F)\n",
      "group       1   0.07  0.0657    2.26   0.13\n",
      "Residuals 328   9.55  0.0291               \n",
      "\n",
      "Error: Within\n",
      "                Df Sum Sq Mean Sq F value Pr(>F)    \n",
      "activity         3   9.83    3.28  141.10 <2e-16 ***\n",
      "group:activity   3   0.11    0.04    1.57   0.19    \n",
      "Residuals      984  22.84    0.02                   \n",
      "---\n",
      "Signif. codes:  0 ‘***’ 0.001 ‘**’ 0.01 ‘*’ 0.05 ‘.’ 0.1 ‘ ’ 1\n"
     ]
    },
    {
     "name": "stderr",
     "output_type": "stream",
     "text": [
      "NOTE: Results may be misleading due to involvement in interactions\n"
     ]
    },
    {
     "name": "stdout",
     "output_type": "stream",
     "text": [
      " contrast estimate     SE   df t.ratio p.value\n",
      " A1 - A2    0.0664 0.0123 1312  5.418  <.0001 \n",
      " A1 - A3    0.1473 0.0123 1312 12.015  <.0001 \n",
      " A1 - A4    0.2299 0.0123 1312 18.750  <.0001 \n",
      " A2 - A3    0.0809 0.0123 1312  6.597  <.0001 \n",
      " A2 - A4    0.1634 0.0123 1312 13.332  <.0001 \n",
      " A3 - A4    0.0826 0.0123 1312  6.736  <.0001 \n",
      "\n",
      "Results are averaged over the levels of: group \n",
      "P value adjustment: tukey method for comparing a family of 4 estimates \n"
     ]
    }
   ],
   "source": [
    "f <- function() { \n",
    "    # Prepare data\n",
    "    df <- tbl_df(read.csv('data/clean_data.csv')) %>%\n",
    "        dplyr::filter(stage=='train') %>%\n",
    "        dplyr::select(sid,group,activity,correct) %>%\n",
    "        dplyr::mutate(\n",
    "            correct = as.numeric(correct=='True'),\n",
    "            group = dplyr::recode(as.factor(group), '0'='IG', '1'='EG'),\n",
    "            sid = as.factor(sid)\n",
    "        )\n",
    "\n",
    "    # Calculate PC per task per subject\n",
    "    df <- group_by(df, sid , activity) %>% dplyr::summarize(group = head(group, 1), pc = mean(correct))\n",
    "\n",
    "    # Perform mixed ANOVA\n",
    "    AOV_results <- aov(pc ~ group * activity + Error(sid), df)\n",
    "    print(summary(AOV_results))\n",
    "    \n",
    "    # Post hoc analysis\n",
    "    linmod <- lm(pc ~ group * activity, data=df, contrasts=list(group=contr.treatment(2), activity=contr.treatment(4)))\n",
    "    posthoc <- emmeans(linmod, 'activity', adjust = \"tukey\")\n",
    "    print(pairs(posthoc))\n",
    "}\n",
    "\n",
    "f()"
   ]
  },
  {
   "cell_type": "markdown",
   "metadata": {
    "ExecuteTime": {
     "end_time": "2021-01-09T18:02:18.240026Z",
     "start_time": "2021-01-09T18:02:18.201Z"
    },
    "heading_collapsed": true,
    "hidden": true
   },
   "source": [
    "## Comparisons of activity preferences between groups"
   ]
  },
  {
   "cell_type": "code",
   "execution_count": 74,
   "metadata": {
    "ExecuteTime": {
     "end_time": "2021-01-09T19:51:46.245769Z",
     "start_time": "2021-01-09T19:51:45.234Z"
    },
    "hidden": true
   },
   "outputs": [
    {
     "name": "stdout",
     "output_type": "stream",
     "text": [
      "\n",
      "Call:\n",
      "lm(formula = relt ~ group * activity, data = df, contrasts = list(group = contr.treatment(2), \n",
      "    activity = contr.sum(4)))\n",
      "\n",
      "Residuals:\n",
      "       Min         1Q     Median         3Q        Max \n",
      "-0.3882955 -0.1256250 -0.0409740  0.0981161  0.7143864 \n",
      "\n",
      "Coefficients:\n",
      "                     Estimate   Std. Error  t value   Pr(>|t|)    \n",
      "(Intercept)       2.50000e-01  7.54760e-03 33.12313 < 2.22e-16 ***\n",
      "group2            1.18405e-16  1.03350e-02  0.00000  1.0000000    \n",
      "activity1         3.80779e-02  1.30728e-02  2.91276  0.0036432 ** \n",
      "activity2        -1.69870e-02  1.30728e-02 -1.29941  0.1940299    \n",
      "activity3        -2.10649e-02  1.30728e-02 -1.61135  0.1073432    \n",
      "group2:activity1 -1.26464e-01  1.79007e-02 -7.06477 2.6038e-12 ***\n",
      "group2:activity2 -3.53539e-02  1.79007e-02 -1.97500  0.0484773 *  \n",
      "group2:activity3  2.34968e-02  1.79007e-02  1.31262  0.1895416    \n",
      "---\n",
      "Signif. codes:  0 ‘***’ 0.001 ‘**’ 0.01 ‘*’ 0.05 ‘.’ 0.1 ‘ ’ 1\n",
      "\n",
      "Residual standard error: 0.187326 on 1312 degrees of freedom\n",
      "Multiple R-squared:  0.107758,\tAdjusted R-squared:  0.102998 \n",
      "F-statistic: 22.6362 on 7 and 1312 DF,  p-value: < 2.22e-16\n",
      "\n",
      "\n",
      "Error: sid\n",
      "           Df      Sum Sq     Mean Sq F value     Pr(>F)    \n",
      "group       1 2.77460e-29 2.77464e-29 20.6614 7.7185e-06 ***\n",
      "Residuals 328 4.40475e-28 1.34291e-30                       \n",
      "---\n",
      "Signif. codes:  0 ‘***’ 0.001 ‘**’ 0.01 ‘*’ 0.05 ‘.’ 0.1 ‘ ’ 1\n",
      "\n",
      "Error: Within\n",
      "                Df  Sum Sq  Mean Sq F value     Pr(>F)    \n",
      "activity         3  2.5273 0.842432 18.0052 2.2183e-11 ***\n",
      "group:activity   3  3.0330 1.011007 21.6082 1.4745e-13 ***\n",
      "Residuals      984 46.0396 0.046788                       \n",
      "---\n",
      "Signif. codes:  0 ‘***’ 0.001 ‘**’ 0.01 ‘*’ 0.05 ‘.’ 0.1 ‘ ’ 1\n"
     ]
    }
   ],
   "source": [
    "f <- function() { \n",
    "    # Prepare data\n",
    "    df <- read.csv('data/clean_data.csv') %>%\n",
    "        dplyr::filter(trial<=60+250) %>%\n",
    "        dplyr::select(sid,group,trial,activity) %>% \n",
    "        dplyr::group_by(group,sid,activity) %>% \n",
    "        dplyr::summarize(count=n()) %>%\n",
    "        dplyr::ungroup() %>%\n",
    "        dplyr::mutate(\n",
    "            relt=(count-15)/250,\n",
    "            group = dplyr::recode(as.factor(group), '0'='IG', '1'='EG'),\n",
    "            sid = as.factor(sid)\n",
    "        )\n",
    "\n",
    "    # Print stats\n",
    "    (dplyr::group_by(df, group, activity) %>% dplyr::summarize(mean=mean(relt), std=sd(relt)))\n",
    "\n",
    "    # Fit a linear mixed effects model\n",
    "    df <- within(df, activity <- relevel(activity, ref='A1'))\n",
    "    linmod <- lm(\n",
    "      relt ~ group * activity, \n",
    "      data = df, \n",
    "      contrasts = list(group=contr.treatment(2), activity=contr.sum(4))\n",
    "    )\n",
    "    print(summary(linmod), digits=6)\n",
    "\n",
    "    # Perform mixed ANOVA\n",
    "    AOV_results <- aov(relt ~ group * activity + Error(sid), df)\n",
    "    print(summary(AOV_results), digits=6)\n",
    "}\n",
    "\n",
    "f()"
   ]
  },
  {
   "cell_type": "markdown",
   "metadata": {
    "heading_collapsed": true,
    "hidden": true
   },
   "source": [
    "## Analyses of learning achievement"
   ]
  },
  {
   "cell_type": "markdown",
   "metadata": {
    "heading_collapsed": true,
    "hidden": true
   },
   "source": [
    "### Unweighted average score"
   ]
  },
  {
   "cell_type": "code",
   "execution_count": 75,
   "metadata": {
    "ExecuteTime": {
     "end_time": "2021-01-09T19:52:20.936781Z",
     "start_time": "2021-01-09T19:52:20.824Z"
    },
    "hidden": true
   },
   "outputs": [
    {
     "name": "stdout",
     "output_type": "stream",
     "text": [
      "\u001b[38;5;246m# A tibble: 2 x 3\u001b[39m\n",
      "  group  mean   std\n",
      "  \u001b[3m\u001b[38;5;246m<fct>\u001b[39m\u001b[23m \u001b[3m\u001b[38;5;246m<dbl>\u001b[39m\u001b[23m \u001b[3m\u001b[38;5;246m<dbl>\u001b[39m\u001b[23m\n",
      "\u001b[38;5;250m1\u001b[39m IG    0.769 0.120\n",
      "\u001b[38;5;250m2\u001b[39m EG    0.798 0.114\n"
     ]
    },
    {
     "data": {
      "text/plain": [
       "\n",
       "\tWelch Two Sample t-test\n",
       "\n",
       "data:  scores.IG and scores.EG\n",
       "t = -2.189, df = 316.8, p-value = 0.0293\n",
       "alternative hypothesis: true difference in means is not equal to 0\n",
       "95 percent confidence interval:\n",
       " -0.0537667 -0.0028711\n",
       "sample estimates:\n",
       "mean of x mean of y \n",
       " 0.769408  0.797727 \n"
      ]
     },
     "metadata": {},
     "output_type": "display_data"
    }
   ],
   "source": [
    "f <- function() {   \n",
    "    # Prepare data\n",
    "    df <- read.csv('data/learning_data.csv') %>% \n",
    "        dplyr::select(sid, group, fpc) %>%\n",
    "        dplyr::mutate(group=dplyr::recode(as.factor(group), '0'='IG', '1'='EG'))\n",
    "    \n",
    "    print(dplyr::group_by(df, group) %>% dplyr::summarize(mean=mean(fpc), std=sd(fpc)))\n",
    "    \n",
    "    # Compare combined scores in the two groups\n",
    "    scores.IG <- df[df$group=='IG', 'fpc']\n",
    "    scores.EG <- df[df$group=='EG', 'fpc']\n",
    "    t.test(scores.IG, scores.EG)\n",
    "}\n",
    "\n",
    "f()"
   ]
  },
  {
   "cell_type": "markdown",
   "metadata": {
    "heading_collapsed": true,
    "hidden": true
   },
   "source": [
    "### Weighted average score (dwfPC)"
   ]
  },
  {
   "cell_type": "code",
   "execution_count": 76,
   "metadata": {
    "ExecuteTime": {
     "end_time": "2021-01-09T19:52:41.730655Z",
     "start_time": "2021-01-09T19:52:41.618Z"
    },
    "hidden": true
   },
   "outputs": [
    {
     "name": "stdout",
     "output_type": "stream",
     "text": [
      "\u001b[38;5;246m# A tibble: 2 x 3\u001b[39m\n",
      "  group  mean   std\n",
      "  \u001b[3m\u001b[38;5;246m<fct>\u001b[39m\u001b[23m \u001b[3m\u001b[38;5;246m<dbl>\u001b[39m\u001b[23m \u001b[3m\u001b[38;5;246m<dbl>\u001b[39m\u001b[23m\n",
      "\u001b[38;5;250m1\u001b[39m IG    0.734 0.128\n",
      "\u001b[38;5;250m2\u001b[39m EG    0.767 0.124\n",
      "\n",
      "\tWelch Two Sample t-test\n",
      "\n",
      "data:  scores.IG and scores.EG\n",
      "t = -2.424, df = 319.2, p-value = 0.0159\n",
      "alternative hypothesis: true difference in means is not equal to 0\n",
      "95 percent confidence interval:\n",
      " -0.06109326 -0.00634902\n",
      "sample estimates:\n",
      "mean of x mean of y \n",
      " 0.733766  0.767487 \n",
      "\n"
     ]
    }
   ],
   "source": [
    "f <- function() {   \n",
    "    # Prepare data\n",
    "    df <- read.csv('data/learning_data.csv') %>%\n",
    "        dplyr::select(sid, group, dwfpc) %>%\n",
    "        dplyr::mutate(group=dplyr::recode(as.factor(group), '0'='IG', '1'='EG'))\n",
    "    \n",
    "    print(dplyr::group_by(df, group) %>% dplyr::summarize(mean=mean(dwfpc), std=sd(dwfpc)))\n",
    "    \n",
    "    # Compare combined scores in the two groups\n",
    "    scores.IG <- df[df$group=='IG', 'dwfpc']\n",
    "    scores.EG <- df[df$group=='EG', 'dwfpc']\n",
    "    print(t.test(scores.IG, scores.EG), digits=6)\n",
    "}\n",
    "\n",
    "f()"
   ]
  },
  {
   "cell_type": "markdown",
   "metadata": {
    "heading_collapsed": true,
    "hidden": true
   },
   "source": [
    "### Compare learning between groups at each level of NAM"
   ]
  },
  {
   "cell_type": "code",
   "execution_count": 53,
   "metadata": {
    "ExecuteTime": {
     "end_time": "2021-01-09T19:10:24.283720Z",
     "start_time": "2021-01-09T19:10:24.189Z"
    },
    "hidden": true
   },
   "outputs": [
    {
     "name": "stdout",
     "output_type": "stream",
     "text": [
      "             Df Sum Sq Mean Sq F value Pr(>F)    \n",
      "group         1  0.082   0.082    9.37 0.0024 ** \n",
      "nam           2  1.799   0.900  103.39 <2e-16 ***\n",
      "group:nam     2  0.015   0.007    0.85 0.4304    \n",
      "Residuals   314  2.732   0.009                   \n",
      "---\n",
      "Signif. codes:  0 ‘***’ 0.001 ‘**’ 0.01 ‘*’ 0.05 ‘.’ 0.1 ‘ ’ 1\n",
      "$emmeans\n",
      "nam = 1:\n",
      " group emmean      SE  df lower.CL upper.CL\n",
      " 0      0.623 0.01624 314    0.591    0.655\n",
      " 1      0.637 0.01829 314    0.601    0.673\n",
      "\n",
      "nam = 2:\n",
      " group emmean      SE  df lower.CL upper.CL\n",
      " 0      0.725 0.01157 314    0.703    0.748\n",
      " 1      0.747 0.01236 314    0.722    0.771\n",
      "\n",
      "nam = 3:\n",
      " group emmean      SE  df lower.CL upper.CL\n",
      " 0      0.841 0.01306 314    0.815    0.866\n",
      " 1      0.832 0.00994 314    0.813    0.852\n",
      "\n",
      "Confidence level used: 0.95 \n",
      "\n",
      "$contrasts\n",
      "nam = 1:\n",
      " contrast estimate     SE  df t.ratio p.value\n",
      " 0 - 1    -0.01462 0.0245 314 -0.598  0.5505 \n",
      "\n",
      "nam = 2:\n",
      " contrast estimate     SE  df t.ratio p.value\n",
      " 0 - 1    -0.02131 0.0169 314 -1.259  0.2089 \n",
      "\n",
      "nam = 3:\n",
      " contrast estimate     SE  df t.ratio p.value\n",
      " 0 - 1     0.00842 0.0164 314  0.513  0.6085 \n",
      "\n",
      "\n"
     ]
    }
   ],
   "source": [
    "f <- function() {   \n",
    "    # Prepare data\n",
    "    df <- read.csv('data/learning_data.csv') %>%\n",
    "        dplyr::select(sid,group,nam,dwfpc,fpc) %>%\n",
    "        dplyr::filter(nam > 0) %>%\n",
    "        dplyr::mutate(nam=as.factor(nam), group=as.factor(group))\n",
    "\n",
    "    # Fit linear model and perform get post hoc contrasts\n",
    "    linmod <- lm(dwfpc ~ group * nam, data=df)\n",
    "    print(summary(aov(dwfpc ~ group * nam, data=df)))\n",
    "    posthoc <- emmeans(linmod, pairwise ~ group | nam, adjust = \"tukey\")\n",
    "    print(posthoc)\n",
    "}\n",
    "\n",
    "f()"
   ]
  },
  {
   "cell_type": "markdown",
   "metadata": {
    "heading_collapsed": true,
    "hidden": true
   },
   "source": [
    "### Count NAMs in each group"
   ]
  },
  {
   "cell_type": "code",
   "execution_count": 77,
   "metadata": {
    "ExecuteTime": {
     "end_time": "2021-01-09T19:53:20.423946Z",
     "start_time": "2021-01-09T19:53:20.325Z"
    },
    "hidden": true
   },
   "outputs": [
    {
     "name": "stdout",
     "output_type": "stream",
     "text": [
      "\u001b[38;5;246m# A tibble: 8 x 4\u001b[39m\n",
      "  group nam   count percentage\n",
      "  \u001b[3m\u001b[38;5;246m<fct>\u001b[39m\u001b[23m \u001b[3m\u001b[38;5;246m<fct>\u001b[39m\u001b[23m \u001b[3m\u001b[38;5;246m<int>\u001b[39m\u001b[23m      \u001b[3m\u001b[38;5;246m<dbl>\u001b[39m\u001b[23m\n",
      "\u001b[38;5;250m1\u001b[39m IG    NAM-0     5       3.25\n",
      "\u001b[38;5;250m2\u001b[39m IG    NAM-1    33      21.4 \n",
      "\u001b[38;5;250m3\u001b[39m IG    NAM-2    65      42.2 \n",
      "\u001b[38;5;250m4\u001b[39m IG    NAM-3    51      33.1 \n",
      "\u001b[38;5;250m5\u001b[39m EG    NAM-0     5       2.84\n",
      "\u001b[38;5;250m6\u001b[39m EG    NAM-1    26      14.8 \n",
      "\u001b[38;5;250m7\u001b[39m EG    NAM-2    57      32.4 \n",
      "\u001b[38;5;250m8\u001b[39m EG    NAM-3    88      50   \n"
     ]
    }
   ],
   "source": [
    "f <- function() {   \n",
    "    # Get data\n",
    "    df <- read.csv('data/learning_data.csv') %>%\n",
    "        dplyr::select(sid,group,nam) %>%\n",
    "        dplyr::group_by(group, nam) %>%\n",
    "        dplyr::summarize(count=n()) %>%\n",
    "        dplyr::mutate(percentage=count/sum(count)*100) %>% \n",
    "        dplyr::ungroup() %>%\n",
    "        dplyr::mutate(\n",
    "            group=dplyr::recode(as.factor(group), '0'='IG', '1'='EG'),\n",
    "            nam=dplyr::recode(as.factor(nam), '0'='NAM-0', '1'='NAM-1', '2'='NAM-2', '3'='NAM-3')\n",
    "        )\n",
    "    \n",
    "    print(df)\n",
    "}\n",
    "\n",
    "f()"
   ]
  },
  {
   "cell_type": "markdown",
   "metadata": {
    "ExecuteTime": {
     "end_time": "2021-01-09T19:44:09.606713Z",
     "start_time": "2021-01-09T19:44:09.572Z"
    },
    "heading_collapsed": true,
    "hidden": true
   },
   "source": [
    "### Examine relationships between activity selection and NAM"
   ]
  },
  {
   "cell_type": "code",
   "execution_count": 81,
   "metadata": {
    "ExecuteTime": {
     "end_time": "2021-01-09T20:51:01.793568Z",
     "start_time": "2021-01-09T20:51:00.981Z"
    },
    "hidden": true
   },
   "outputs": [
    {
     "name": "stdout",
     "output_type": "stream",
     "text": [
      "\n",
      "Mixed ANOVA for group IG \n",
      "=======================================\n",
      "Error: sid\n",
      "           Df     Sum Sq     Mean Sq F value  Pr(>F)\n",
      "nam         1 2.0120e-31 2.01222e-31 0.32216 0.57118\n",
      "Residuals 147 9.1817e-29 6.24605e-31                \n",
      "\n",
      "Error: Within\n",
      "              Df   Sum Sq  Mean Sq  F value     Pr(>F)    \n",
      "activity       3  0.36757 0.122525  2.49552   0.059328 .  \n",
      "nam:activity   3  1.76659 0.588863 11.99363 1.4604e-07 ***\n",
      "Residuals    441 21.65219 0.049098                        \n",
      "---\n",
      "Signif. codes:  0 ‘***’ 0.001 ‘**’ 0.01 ‘*’ 0.05 ‘.’ 0.1 ‘ ’ 1\n",
      "\n",
      "Mixed ANOVA for group EG \n",
      "=======================================\n",
      "Error: sid\n",
      "           Df      Sum Sq     Mean Sq F value  Pr(>F)\n",
      "nam         1 2.77000e-31 2.76982e-31 0.57624 0.44885\n",
      "Residuals 169 8.12329e-29 4.80668e-31                \n",
      "\n",
      "Error: Within\n",
      "              Df   Sum Sq  Mean Sq  F value   Pr(>F)    \n",
      "activity       3  5.23931 1.746437 42.03967  < 2e-16 ***\n",
      "nam:activity   3  0.26296 0.087653  2.10995 0.098028 .  \n",
      "Residuals    507 21.06210 0.041543                      \n",
      "---\n",
      "Signif. codes:  0 ‘***’ 0.001 ‘**’ 0.01 ‘*’ 0.05 ‘.’ 0.1 ‘ ’ 1\n"
     ]
    }
   ],
   "source": [
    "f <- function() {\n",
    "    # Prepare data\n",
    "    df <- read.csv('data/clean_data.csv') %>%\n",
    "        dplyr::filter(trial<=60+250) %>%\n",
    "        dplyr::select(sid,group,trial,activity) %>% \n",
    "        dplyr::group_by(group,sid,activity) %>% \n",
    "        dplyr::summarize(count=n()) %>%\n",
    "        dplyr::ungroup() %>%\n",
    "        dplyr::mutate(\n",
    "            relt=(count-15)/250,\n",
    "            group = dplyr::recode(as.factor(group), '0'='IG', '1'='EG'),\n",
    "            sid = as.factor(sid)\n",
    "        )\n",
    "\n",
    "    # Get NAM labels\n",
    "    nam_df <- read.csv('data/nam_data.csv') %>%\n",
    "        dplyr::select(sid, nam) %>%\n",
    "        dplyr::mutate(\n",
    "            sid = as.factor(sid),\n",
    "            nam = as.factor(nam)\n",
    "        )\n",
    "\n",
    "    # Join datasets and exclude NAM0 cases\n",
    "    df <- dplyr::inner_join(df, nam_df, by='sid') %>%\n",
    "        dplyr::filter(nam != '0')\n",
    "    rm(nam_df)\n",
    "\n",
    "    # Join NAM1 and NAM2 groups\n",
    "    df$nam <- dplyr::recode(df$nam, '2'='1')\n",
    "\n",
    "    # Perform an ANOVA for each instruction group\n",
    "    for (i in c('IG','EG')) {\n",
    "        cat('\\nMixed ANOVA for group', i, '\\n=======================================')\n",
    "        subdf <- dplyr::filter(df, group==i)\n",
    "        print(summary(\n",
    "            aov(relt ~ nam * activity + Error(sid), data=subdf)\n",
    "        ), digits=6)\n",
    "    }\n",
    "}\n",
    "\n",
    "f()"
   ]
  },
  {
   "cell_type": "markdown",
   "metadata": {
    "heading_collapsed": true,
    "hidden": true
   },
   "source": [
    "## Relationships between learning and self-challenge (SC)"
   ]
  },
  {
   "cell_type": "markdown",
   "metadata": {
    "heading_collapsed": true,
    "hidden": true
   },
   "source": [
    "### Performance as a function of SC"
   ]
  },
  {
   "cell_type": "code",
   "execution_count": 18,
   "metadata": {
    "ExecuteTime": {
     "end_time": "2021-01-14T16:44:03.359200Z",
     "start_time": "2021-01-14T16:44:03.238Z"
    },
    "hidden": true,
    "run_control": {
     "marked": false
    }
   },
   "outputs": [
    {
     "name": "stdout",
     "output_type": "stream",
     "text": [
      "\n",
      "Call:\n",
      "lm(formula = dwfpc ~ dwipc + group + sc + sc2, data = df)\n",
      "\n",
      "Residuals:\n",
      "       Min         1Q     Median         3Q        Max \n",
      "-0.3256512 -0.0635611  0.0077414  0.0838477  0.2692800 \n",
      "\n",
      "Coefficients:\n",
      "               Estimate  Std. Error  t value   Pr(>|t|)    \n",
      "(Intercept)  0.56739207  0.03873727 14.64719 < 2.22e-16 ***\n",
      "dwipc        0.31032459  0.05979591  5.18973 3.7813e-07 ***\n",
      "groupEG      0.01788061  0.01354584  1.32001   0.187791    \n",
      "sc          -0.00171340  0.00731289 -0.23430   0.814905    \n",
      "sc2         -0.01576450  0.00549718 -2.86774   0.004413 ** \n",
      "---\n",
      "Signif. codes:  0 ‘***’ 0.001 ‘**’ 0.01 ‘*’ 0.05 ‘.’ 0.1 ‘ ’ 1\n",
      "\n",
      "Residual standard error: 0.113935 on 315 degrees of freedom\n",
      "Multiple R-squared:  0.116451,\tAdjusted R-squared:  0.105232 \n",
      "F-statistic: 10.3792 on 4 and 315 DF,  p-value: 6.57339e-08\n",
      "\n",
      "\n",
      "Call:\n",
      "lm(formula = fpc ~ ipc + group + sc + sc2, data = df)\n",
      "\n",
      "Residuals:\n",
      "       Min         1Q     Median         3Q        Max \n",
      "-0.3490687 -0.0569411  0.0074006  0.0717155  0.2142473 \n",
      "\n",
      "Coefficients:\n",
      "               Estimate  Std. Error  t value   Pr(>|t|)    \n",
      "(Intercept)  0.55231699  0.03765189 14.66904 < 2.22e-16 ***\n",
      "ipc          0.36958392  0.05601731  6.59767 1.7668e-10 ***\n",
      "groupEG      0.01631263  0.01191389  1.36921  0.1719087    \n",
      "sc          -0.00615343  0.00645213 -0.95370  0.3409644    \n",
      "sc2         -0.01315428  0.00484380 -2.71569  0.0069787 ** \n",
      "---\n",
      "Signif. codes:  0 ‘***’ 0.001 ‘**’ 0.01 ‘*’ 0.05 ‘.’ 0.1 ‘ ’ 1\n",
      "\n",
      "Residual standard error: 0.100401 on 315 degrees of freedom\n",
      "Multiple R-squared:  0.147651,\tAdjusted R-squared:  0.136827 \n",
      "F-statistic: 13.6417 on 4 and 315 DF,  p-value: 2.86473e-10\n",
      "\n",
      "Delta AIC = 6.24728"
     ]
    }
   ],
   "source": [
    "f <- function() {\n",
    "    # Prepare data\n",
    "    df <- read.csv('data/learning_data.csv') %>%\n",
    "        # we exclude people who did not master anything\n",
    "        dplyr::filter(nam > 0) %>%\n",
    "        dplyr::select(sid, group, nam, dwfpc, dwipc, fpc, ipc, sc_flat) %>%\n",
    "        dplyr::mutate(\n",
    "            group = dplyr::recode(as.factor(group), '0'='IG', '1'='EG'),\n",
    "            nam = as.factor(nam),\n",
    "            sid = as.factor(sid),\n",
    "            sc = (sc_flat-mean(sc_flat))/sd(sc_flat)\n",
    "        ) %>%\n",
    "        dplyr::mutate(sc2 = sc^2)\n",
    "\n",
    "    # Fit linear model\n",
    "    linmod.flat <-lm(dwfpc ~ dwipc + group + sc, data=df)\n",
    "    \n",
    "    # Fit linear-quadratic model\n",
    "    linmod.quad <-lm(dwfpc ~ dwipc + group + sc + sc2, data=df)\n",
    "    # Print quadratic model summary\n",
    "    print(summary(linmod.quad), digits=6)\n",
    "    \n",
    "    # Print quadratic model summary of unweighted scores for comparison\n",
    "    print(summary(lm(fpc ~ ipc + group + sc + sc2, data=df)), digits=6)\n",
    "    \n",
    "    # Compaire AIC\n",
    "    delta_aic <- AIC(linmod.flat) - AIC(linmod.quad)\n",
    "    cat('Delta AIC =', delta_aic)\n",
    "    \n",
    "}\n",
    "\n",
    "f()"
   ]
  },
  {
   "cell_type": "markdown",
   "metadata": {
    "heading_collapsed": true,
    "hidden": true
   },
   "source": [
    "### Model of SC as a function of instruction and NAM"
   ]
  },
  {
   "cell_type": "code",
   "execution_count": 93,
   "metadata": {
    "ExecuteTime": {
     "end_time": "2021-01-10T12:22:29.048395Z",
     "start_time": "2021-01-10T12:22:28.947Z"
    },
    "hidden": true
   },
   "outputs": [
    {
     "name": "stdout",
     "output_type": "stream",
     "text": [
      "\n",
      "Call:\n",
      "lm(formula = sc_lep ~ group * nam, data = df)\n",
      "\n",
      "Residuals:\n",
      "    Min      1Q  Median      3Q     Max \n",
      "-0.3132 -0.0849 -0.0033  0.0822  0.3257 \n",
      "\n",
      "Coefficients:\n",
      "             Estimate Std. Error t value Pr(>|t|)    \n",
      "(Intercept)    0.3355     0.0211   15.90   <2e-16 ***\n",
      "groupEG        0.0863     0.0318    2.72    0.007 ** \n",
      "nam2          -0.0146     0.0259   -0.56    0.573    \n",
      "nam3           0.0425     0.0271    1.57    0.118    \n",
      "groupEG:nam2   0.0093     0.0386    0.24    0.810    \n",
      "groupEG:nam3  -0.0624     0.0383   -1.63    0.104    \n",
      "---\n",
      "Signif. codes:  0 ‘***’ 0.001 ‘**’ 0.01 ‘*’ 0.05 ‘.’ 0.1 ‘ ’ 1\n",
      "\n",
      "Residual standard error: 0.121 on 314 degrees of freedom\n",
      "Multiple R-squared:  0.0899,\tAdjusted R-squared:  0.0754 \n",
      "F-statistic: 6.21 on 5 and 314 DF,  p-value: 1.67e-05\n",
      "\n"
     ]
    },
    {
     "data": {
      "text/plain": [
       "$emmeans\n",
       "nam = 1:\n",
       " group emmean     SE  df lower.CL upper.CL\n",
       " IG     0.335 0.0211 314    0.294    0.377\n",
       " EG     0.422 0.0238 314    0.375    0.469\n",
       "\n",
       "nam = 2:\n",
       " group emmean     SE  df lower.CL upper.CL\n",
       " IG     0.321 0.0150 314    0.291    0.350\n",
       " EG     0.416 0.0161 314    0.385    0.448\n",
       "\n",
       "nam = 3:\n",
       " group emmean     SE  df lower.CL upper.CL\n",
       " IG     0.378 0.0170 314    0.345    0.411\n",
       " EG     0.402 0.0129 314    0.376    0.427\n",
       "\n",
       "Confidence level used: 0.95 \n",
       "\n",
       "$contrasts\n",
       "nam = 1:\n",
       " contrast estimate     SE  df t.ratio p.value\n",
       " IG - EG   -0.0863 0.0318 314 -2.716  0.0070 \n",
       "\n",
       "nam = 2:\n",
       " contrast estimate     SE  df t.ratio p.value\n",
       " IG - EG   -0.0956 0.0220 314 -4.347  <.0001 \n",
       "\n",
       "nam = 3:\n",
       " contrast estimate     SE  df t.ratio p.value\n",
       " IG - EG   -0.0239 0.0213 314 -1.121  0.2632 \n",
       "\n"
      ]
     },
     "metadata": {},
     "output_type": "display_data"
    }
   ],
   "source": [
    "f <- function() {\n",
    "    # Prepare data\n",
    "    df <- read.csv('data/learning_data.csv') %>%\n",
    "        dplyr::filter(nam > 0) %>%\n",
    "        dplyr::select(sid, group, nam, sc_lep) %>%\n",
    "        dplyr::mutate(\n",
    "            group = dplyr::recode(as.factor(group), '0'='IG', '1'='EG'),\n",
    "            nam = as.factor(nam),\n",
    "            sid = as.factor(sid)\n",
    "        )\n",
    "\n",
    "    # Fit linear model\n",
    "    linmod <-lm(sc_lep ~ group * nam, data=df)\n",
    "    print(summary(linmod))\n",
    "    \n",
    "    # Compare SC between groups across different levels of NAM\n",
    "    emmeans(linmod, pairwise ~ group | nam, adjust='Tukey')\n",
    "\n",
    "}\n",
    "\n",
    "f()"
   ]
  },
  {
   "cell_type": "markdown",
   "metadata": {
    "ExecuteTime": {
     "end_time": "2020-12-13T20:14:03.173582Z",
     "start_time": "2020-12-13T20:14:03.157Z"
    },
    "heading_collapsed": true
   },
   "source": [
    "# Section 3"
   ]
  },
  {
   "cell_type": "markdown",
   "metadata": {
    "heading_collapsed": true,
    "hidden": true
   },
   "source": [
    "## Model comparisons"
   ]
  },
  {
   "cell_type": "markdown",
   "metadata": {
    "heading_collapsed": true,
    "hidden": true
   },
   "source": [
    "### Main analysis"
   ]
  },
  {
   "cell_type": "code",
   "execution_count": 11,
   "metadata": {
    "ExecuteTime": {
     "end_time": "2021-01-19T01:13:34.598075Z",
     "start_time": "2021-01-19T01:13:34.272Z"
    },
    "code_folding": [],
    "hidden": true
   },
   "outputs": [
    {
     "name": "stdout",
     "output_type": "stream",
     "text": [
      "Baseline AIC = 693.147"
     ]
    },
    {
     "name": "stderr",
     "output_type": "stream",
     "text": [
      "Average AIC scores per model form\n"
     ]
    },
    {
     "name": "stdout",
     "output_type": "stream",
     "text": [
      "\u001b[38;5;246m# A tibble: 6 x 4\u001b[39m\n",
      "  vars  group    mean      std\n",
      "  \u001b[3m\u001b[38;5;246m<fct>\u001b[39m\u001b[23m \u001b[3m\u001b[38;5;246m<fct>\u001b[39m\u001b[23m   \u001b[3m\u001b[38;5;246m<dbl>\u001b[39m\u001b[23m    \u001b[3m\u001b[38;5;246m<dbl>\u001b[39m\u001b[23m\n",
      "\u001b[38;5;250m1\u001b[39m rlp   IG    646.003  65.994\u001b[4m9\u001b[24m\n",
      "\u001b[38;5;250m2\u001b[39m rlp   EG    641.017  77.330\u001b[4m2\u001b[24m\n",
      "\u001b[38;5;250m3\u001b[39m rpc   IG    586.362 123.026 \n",
      "\u001b[38;5;250m4\u001b[39m rpc   EG    586.267 114.557 \n",
      "\u001b[38;5;250m5\u001b[39m biv   IG    554.616 129.178 \n",
      "\u001b[38;5;250m6\u001b[39m biv   EG    544.150 127.161 \n",
      "             Df   Sum Sq Mean Sq  F value  Pr(>F)    \n",
      "group         1     6415    6415  0.53919 0.46295    \n",
      "vars          2  1444046  722023 60.68428 < 2e-16 ***\n",
      "group:vars    2     4287    2143  0.18015 0.83517    \n",
      "Residuals   954 11350715   11898                     \n",
      "---\n",
      "Signif. codes:  0 ‘***’ 0.001 ‘**’ 0.01 ‘*’ 0.05 ‘.’ 0.1 ‘ ’ 1\n"
     ]
    },
    {
     "name": "stderr",
     "output_type": "stream",
     "text": [
      "Useful stats\n"
     ]
    },
    {
     "name": "stdout",
     "output_type": "stream",
     "text": [
      "\u001b[38;5;246m# A tibble: 1 x 4\u001b[39m\n",
      "  biv_best biv_two_points mean_diff std_diff\n",
      "     \u001b[3m\u001b[38;5;246m<dbl>\u001b[39m\u001b[23m          \u001b[3m\u001b[38;5;246m<dbl>\u001b[39m\u001b[23m     \u001b[3m\u001b[38;5;246m<dbl>\u001b[39m\u001b[23m    \u001b[3m\u001b[38;5;246m<dbl>\u001b[39m\u001b[23m\n",
      "\u001b[38;5;250m1\u001b[39m  0.756\u001b[4m2\u001b[24m\u001b[4m5\u001b[24m        0.631\u001b[4m2\u001b[24m\u001b[4m5\u001b[24m   21.017\u001b[4m6\u001b[24m  38.275\u001b[4m7\u001b[24m\n"
     ]
    },
    {
     "name": "stderr",
     "output_type": "stream",
     "text": [
      "Wilcoxon sign test (for testing hypothesis that difference in medians is 0)\n"
     ]
    },
    {
     "name": "stdout",
     "output_type": "stream",
     "text": [
      "\u001b[38;5;246m# A tibble: 1 x 9\u001b[39m\n",
      "  .y.   group1 group2    n1    n2 statistic    df           p p.signif\n",
      "  \u001b[3m\u001b[38;5;246m<chr>\u001b[39m\u001b[23m \u001b[3m\u001b[38;5;246m<chr>\u001b[39m\u001b[23m  \u001b[3m\u001b[38;5;246m<chr>\u001b[39m\u001b[23m  \u001b[3m\u001b[38;5;246m<int>\u001b[39m\u001b[23m \u001b[3m\u001b[38;5;246m<int>\u001b[39m\u001b[23m     \u001b[3m\u001b[38;5;246m<dbl>\u001b[39m\u001b[23m \u001b[3m\u001b[38;5;246m<dbl>\u001b[39m\u001b[23m       \u001b[3m\u001b[38;5;246m<dbl>\u001b[39m\u001b[23m \u001b[3m\u001b[38;5;246m<chr>\u001b[39m\u001b[23m   \n",
      "\u001b[38;5;250m1\u001b[39m aic   2      1        320   320        78   320 1.080\u001b[4m0\u001b[24m\u001b[4m0\u001b[24m\u001b[38;5;246me\u001b[39m\u001b[31m-20\u001b[39m ****    \n"
     ]
    }
   ],
   "source": [
    "f <- function() {\n",
    "    # Compute baseline (random-choice) model likelihood and AIC\n",
    "    log_lik <- rep(.25, times=250) %>% log() %>% sum()\n",
    "    n_params <- 0\n",
    "    baseline_AIC <- -2*log_lik + 2*n_params\n",
    "    options(digits=6)\n",
    "    cat('Baseline AIC =', baseline_AIC)\n",
    "\n",
    "    # Load data\n",
    "    df.long <- tbl_df(read.csv('data/model_results/param_fits_clean.csv')) %>%\n",
    "        dplyr::mutate(sid=as.factor(sid)) %>%\n",
    "        dplyr::filter(!stringr::str_detect(vars, 'abst')) %>%\n",
    "        dplyr::select(sid,vars,aic,group) %>%\n",
    "        dplyr::mutate(\n",
    "            vars=dplyr::recode(vars, 'rpc,rlp'='biv'),\n",
    "            group=dplyr::recode(as.factor(group), '0'='IG', '1'='EG')\n",
    "        )\n",
    "\n",
    "    # Get AIC means and SD per model form\n",
    "    message('Average AIC scores per model form')\n",
    "    stats_summary <- dplyr::select(df.long, vars, group, aic) %>%\n",
    "        dplyr::group_by(vars, group) %>%\n",
    "        dplyr::summarize(mean=mean(aic), std=sd(aic)) %>% ungroup()\n",
    "    print(stats_summary)\n",
    "    aov(lm(aic ~ group*vars, data=df.long)) %>% summary() %>% print(digits=6)\n",
    "\n",
    "    # Contrast bivariate models' AIC to the best univariate\n",
    "    df.wide <- tidyr::spread(df.long, vars, aic) %>%\n",
    "        dplyr::mutate(min_uni_aic=pmin(rpc, rlp)) %>%\n",
    "        dplyr::mutate(\n",
    "            biv_best = biv < min_uni_aic,\n",
    "            biv_adv = min_uni_aic - biv,\n",
    "        ) %>%\n",
    "        dplyr::mutate(two_points = biv_adv >= 2)\n",
    "\n",
    "    # Print summaries\n",
    "    message('Useful stats')\n",
    "    print(\n",
    "        dplyr::summarize(\n",
    "            df.wide, \n",
    "            biv_best = mean(biv_best), \n",
    "            biv_two_points = mean(two_points),\n",
    "            mean_diff = mean(biv_adv),\n",
    "            std_diff = sd(biv_adv)\n",
    "        )\n",
    "    )\n",
    "\n",
    "    # Compare bivariate to the best univariate model (Wilcoxon signed-rank test)\n",
    "    # The test is appropriate when the difference between repeated measures is asymmetrical and non-normal\n",
    "    message('Wilcoxon sign test (for testing hypothesis that difference in medians is 0)')\n",
    "    test_results <- dplyr::select(df.wide, sid, min_uni_aic, biv) %>%\n",
    "        tidyr::pivot_longer(cols=c('min_uni_aic', 'biv'), names_to='nvars', values_to='aic') %>%\n",
    "        dplyr::mutate(nvars=dplyr::recode(as.factor(nvars), 'min_uni_aic'='1', 'biv'='2')) %>%\n",
    "        rstatix::sign_test(aic~nvars) %>% add_significance() %>%\n",
    "        print(digits=6)\n",
    "\n",
    "    # Compare bivariate to the best univariate model (Mann-Whitney U)\n",
    "    # This test is less appropriate, because we have paired AIC scores (repeated measures)\n",
    "    test_results <- with(df.wide, wilcox.test(min_uni_aic, biv))\n",
    "}\n",
    "\n",
    "f()"
   ]
  },
  {
   "cell_type": "markdown",
   "metadata": {
    "heading_collapsed": true,
    "hidden": true
   },
   "source": [
    "## Analyses of fitted coefficients"
   ]
  },
  {
   "cell_type": "markdown",
   "metadata": {
    "heading_collapsed": true,
    "hidden": true
   },
   "source": [
    "### Descriptive stats"
   ]
  },
  {
   "cell_type": "code",
   "execution_count": 35,
   "metadata": {
    "ExecuteTime": {
     "end_time": "2021-01-11T17:23:52.609370Z",
     "start_time": "2021-01-11T17:23:52.344Z"
    },
    "hidden": true
   },
   "outputs": [
    {
     "name": "stderr",
     "output_type": "stream",
     "text": [
      "Descriptive stats\n"
     ]
    },
    {
     "name": "stdout",
     "output_type": "stream",
     "text": [
      "\u001b[38;5;246m# A tibble: 2 x 9\u001b[39m\n",
      "  group  rpc.mean  rpc.std  rlp.mean  rlp.std nrpc.mean nrpc.std nrlp.mean\n",
      "  \u001b[3m\u001b[38;5;246m<fct>\u001b[39m\u001b[23m     \u001b[3m\u001b[38;5;246m<dbl>\u001b[39m\u001b[23m    \u001b[3m\u001b[38;5;246m<dbl>\u001b[39m\u001b[23m     \u001b[3m\u001b[38;5;246m<dbl>\u001b[39m\u001b[23m    \u001b[3m\u001b[38;5;246m<dbl>\u001b[39m\u001b[23m     \u001b[3m\u001b[38;5;246m<dbl>\u001b[39m\u001b[23m    \u001b[3m\u001b[38;5;246m<dbl>\u001b[39m\u001b[23m     \u001b[3m\u001b[38;5;246m<dbl>\u001b[39m\u001b[23m\n",
      "\u001b[38;5;250m1\u001b[39m IG     0.108\u001b[4m8\u001b[24m\u001b[4m8\u001b[24m\u001b[4m6\u001b[24m 0.620\u001b[4m7\u001b[24m\u001b[4m8\u001b[24m\u001b[4m0\u001b[24m 0.025\u001b[4m9\u001b[24m\u001b[4m5\u001b[24m\u001b[4m7\u001b[24m0 0.555\u001b[4m5\u001b[24m\u001b[4m1\u001b[24m\u001b[4m5\u001b[24m  0.157\u001b[4m7\u001b[24m\u001b[4m6\u001b[24m\u001b[4m7\u001b[24m 0.729\u001b[4m5\u001b[24m\u001b[4m8\u001b[24m\u001b[4m4\u001b[24m 0.094\u001b[4m9\u001b[24m\u001b[4m8\u001b[24m\u001b[4m4\u001b[24m3\n",
      "\u001b[38;5;250m2\u001b[39m EG    -\u001b[31m0\u001b[39m\u001b[31m.\u001b[39m\u001b[31m200\u001b[4m5\u001b[24m\u001b[4m6\u001b[24m\u001b[4m2\u001b[24m\u001b[39m 0.587\u001b[4m8\u001b[24m\u001b[4m0\u001b[24m\u001b[4m9\u001b[24m 0.050\u001b[4m9\u001b[24m\u001b[4m7\u001b[24m\u001b[4m8\u001b[24m7 0.513\u001b[4m1\u001b[24m\u001b[4m8\u001b[24m\u001b[4m8\u001b[24m -\u001b[31m0\u001b[39m\u001b[31m.\u001b[39m\u001b[31m324\u001b[4m7\u001b[24m\u001b[4m9\u001b[24m\u001b[4m2\u001b[24m\u001b[39m 0.696\u001b[4m4\u001b[24m\u001b[4m8\u001b[24m\u001b[4m5\u001b[24m 0.075\u001b[4m2\u001b[24m\u001b[4m8\u001b[24m\u001b[4m8\u001b[24m2\n",
      "\u001b[38;5;246m# … with 1 more variable: nrlp.std \u001b[3m\u001b[38;5;246m<dbl>\u001b[38;5;246m\u001b[23m\u001b[39m\n"
     ]
    },
    {
     "name": "stderr",
     "output_type": "stream",
     "text": [
      "Correlations\n"
     ]
    },
    {
     "name": "stdout",
     "output_type": "stream",
     "text": [
      "Correlation analysis in IG \n",
      "\n",
      "\tPearson's product-moment correlation\n",
      "\n",
      "data:  nrpc and nrlp\n",
      "t = -0.6168, df = 147, p-value = 0.538\n",
      "alternative hypothesis: true correlation is not equal to 0\n",
      "95 percent confidence interval:\n",
      " -0.209894  0.110897\n",
      "sample estimates:\n",
      "       cor \n",
      "-0.0508091 \n",
      "\n",
      "Correlation analysis in EG \n",
      "\n",
      "\tPearson's product-moment correlation\n",
      "\n",
      "data:  nrpc and nrlp\n",
      "t = 1.575, df = 169, p-value = 0.117\n",
      "alternative hypothesis: true correlation is not equal to 0\n",
      "95 percent confidence interval:\n",
      " -0.030321  0.265577\n",
      "sample estimates:\n",
      "     cor \n",
      "0.120299 \n",
      "\n"
     ]
    },
    {
     "name": "stderr",
     "output_type": "stream",
     "text": [
      "ANOVA of PC between groups\n"
     ]
    },
    {
     "name": "stdout",
     "output_type": "stream",
     "text": [
      "             Df  Sum Sq  Mean Sq F value     Pr(>F)    \n",
      "group         1  18.541 18.54102 36.5658 4.1373e-09 ***\n",
      "Residuals   318 161.245  0.50706                       \n",
      "---\n",
      "Signif. codes:  0 ‘***’ 0.001 ‘**’ 0.01 ‘*’ 0.05 ‘.’ 0.1 ‘ ’ 1\n"
     ]
    },
    {
     "name": "stderr",
     "output_type": "stream",
     "text": [
      "ANOVA of LP between groups\n"
     ]
    },
    {
     "name": "stdout",
     "output_type": "stream",
     "text": [
      "             Df   Sum Sq  Mean Sq F value Pr(>F)\n",
      "group         1   0.0309 0.030888 0.07292 0.7873\n",
      "Residuals   318 134.6941 0.423566               \n"
     ]
    }
   ],
   "source": [
    "f <- function() {\n",
    "    # Prepare data\n",
    "    df <- tbl_df(read.csv('data/model_results/param_fits_clean.csv')) %>%\n",
    "        dplyr::filter(vars=='rpc,rlp') %>%\n",
    "        dplyr::select(sid,group,nam,rpc,rlp,tau) %>%\n",
    "        dplyr::mutate(\n",
    "            sid=as.factor(sid),\n",
    "            group=dplyr::recode(as.factor(group), '0'='IG', '1'='EG'),\n",
    "            nam=as.factor(nam)\n",
    "        ) %>%\n",
    "        # normalize by Euclidean norm\n",
    "        dplyr::mutate(norm=sqrt(rpc^2+rlp^2)) %>%\n",
    "        dplyr::mutate(\n",
    "            nrpc = rpc / norm,\n",
    "            nrlp = rlp / norm\n",
    "        )\n",
    "\n",
    "    # Print coefficient stats\n",
    "    message('Descriptive stats')\n",
    "    df.stats <- dplyr::group_by(df, group) %>%\n",
    "        dplyr::summarize(\n",
    "            dplyr::across(c(rpc,rlp,nrpc,nrlp), list(mean=mean, std=sd), .names='{.col}.{.fn}')\n",
    "        )\n",
    "    print(df.stats)\n",
    "\n",
    "    # Examine correlations\n",
    "    message('Correlations')\n",
    "    for (g in c('IG','EG')) {\n",
    "        cat('Correlation analysis in', g, '\\n')\n",
    "        print(\n",
    "            cor.test(data=dplyr::filter(df, group==g), ~ nrpc + nrlp, method = \"pearson\")\n",
    "        )\n",
    "    }\n",
    "\n",
    "    # Compare coefficients between groups with ANOVA\n",
    "    message('ANOVA of PC between groups')\n",
    "    lm(nrpc ~ group, data=df) %>% aov() %>% summary() %>% print(digits=6)\n",
    "    message('ANOVA of LP between groups')\n",
    "    lm(nrlp ~ group, data=df) %>% aov() %>% summary() %>% print(digits=6)\n",
    "}\n",
    "\n",
    "f()"
   ]
  },
  {
   "cell_type": "markdown",
   "metadata": {
    "heading_collapsed": true,
    "hidden": true
   },
   "source": [
    "### Relationships between behavior and coefficients"
   ]
  },
  {
   "cell_type": "code",
   "execution_count": 50,
   "metadata": {
    "ExecuteTime": {
     "end_time": "2021-01-20T15:05:13.267591Z",
     "start_time": "2021-01-20T15:05:12.415Z"
    },
    "hidden": true,
    "scrolled": false
   },
   "outputs": [
    {
     "name": "stderr",
     "output_type": "stream",
     "text": [
      "Linear models of coefficients as a function of activity preferences\n"
     ]
    },
    {
     "name": "stdout",
     "output_type": "stream",
     "text": [
      "\n",
      "Call:\n",
      "lm(formula = A3_A12 ~ group * nrpc, data = df)\n",
      "\n",
      "Residuals:\n",
      "     Min       1Q   Median       3Q      Max \n",
      "-99.3052 -30.1053 -11.5489  28.1005 124.3234 \n",
      "\n",
      "Coefficients:\n",
      "             Estimate Std. Error  t value   Pr(>|t|)    \n",
      "(Intercept)   61.9611    14.8086  4.18412 4.5009e-05 ***\n",
      "groupEG      -27.4649    17.8477 -1.53884    0.12563    \n",
      "nrpc          31.4356    19.7893  1.58852    0.11395    \n",
      "groupEG:nrpc -28.1850    23.6557 -1.19146    0.23507    \n",
      "---\n",
      "Signif. codes:  0 ‘***’ 0.001 ‘**’ 0.01 ‘*’ 0.05 ‘.’ 0.1 ‘ ’ 1\n",
      "\n",
      "Residual standard error: 43.4837 on 177 degrees of freedom\n",
      "Multiple R-squared:  0.0217674,\tAdjusted R-squared:  0.00518723 \n",
      "F-statistic: 1.31286 on 3 and 177 DF,  p-value: 0.271756\n",
      "\n",
      "\n",
      "Call:\n",
      "lm(formula = A4_A12 ~ group * nrpc, data = df)\n",
      "\n",
      "Residuals:\n",
      "       Min         1Q     Median         3Q        Max \n",
      "-133.10114  -42.96435   -9.05629   45.43990  128.90280 \n",
      "\n",
      "Coefficients:\n",
      "              Estimate Std. Error  t value Pr(>|t|)  \n",
      "(Intercept)   27.41215   20.21031  1.35635 0.176717  \n",
      "groupEG       12.12143   24.35795  0.49764 0.619357  \n",
      "nrpc         -67.10678   27.00773 -2.48472 0.013894 *\n",
      "groupEG:nrpc   6.03245   32.28451  0.18685 0.851990  \n",
      "---\n",
      "Signif. codes:  0 ‘***’ 0.001 ‘**’ 0.01 ‘*’ 0.05 ‘.’ 0.1 ‘ ’ 1\n",
      "\n",
      "Residual standard error: 59.345 on 177 degrees of freedom\n",
      "Multiple R-squared:  0.0969539,\tAdjusted R-squared:  0.081648 \n",
      "F-statistic: 6.33443 on 3 and 177 DF,  p-value: 0.000419209\n",
      "\n",
      "\n",
      "Call:\n",
      "lm(formula = A3_A12 ~ group * nrlp, data = df)\n",
      "\n",
      "Residuals:\n",
      "     Min       1Q   Median       3Q      Max \n",
      "-97.4392 -28.8833 -12.0583  28.6230 123.6308 \n",
      "\n",
      "Coefficients:\n",
      "              Estimate Std. Error  t value  Pr(>|t|)    \n",
      "(Intercept)   38.27298    5.80604  6.59193 4.816e-10 ***\n",
      "groupEG       -6.28560    6.99297 -0.89885  0.369956    \n",
      "nrlp          18.30608    8.75270  2.09148  0.037913 *  \n",
      "groupEG:nrlp -14.65460   10.66475 -1.37412  0.171143    \n",
      "---\n",
      "Signif. codes:  0 ‘***’ 0.001 ‘**’ 0.01 ‘*’ 0.05 ‘.’ 0.1 ‘ ’ 1\n",
      "\n",
      "Residual standard error: 43.226 on 177 degrees of freedom\n",
      "Multiple R-squared:  0.0333249,\tAdjusted R-squared:  0.0169406 \n",
      "F-statistic: 2.03395 on 3 and 177 DF,  p-value: 0.11084\n",
      "\n",
      "\n",
      "Call:\n",
      "lm(formula = A4_A12 ~ group * nrlp, data = df)\n",
      "\n",
      "Residuals:\n",
      "       Min         1Q     Median         3Q        Max \n",
      "-150.68906  -41.64072   -6.96486   44.03072  142.87592 \n",
      "\n",
      "Coefficients:\n",
      "             Estimate Std. Error t value   Pr(>|t|)    \n",
      "(Intercept)  73.51460    8.34334 8.81117 1.1259e-15 ***\n",
      "groupEG       8.68757   10.04896 0.86452    0.38847    \n",
      "nrlp          1.46015   12.57772 0.11609    0.90771    \n",
      "groupEG:nrlp  7.56612   15.32536 0.49370    0.62213    \n",
      "---\n",
      "Signif. codes:  0 ‘***’ 0.001 ‘**’ 0.01 ‘*’ 0.05 ‘.’ 0.1 ‘ ’ 1\n",
      "\n",
      "Residual standard error: 62.1162 on 177 degrees of freedom\n",
      "Multiple R-squared:  0.0106448,\tAdjusted R-squared:  -0.00612398 \n",
      "F-statistic: 0.634798 on 3 and 177 DF,  p-value: 0.593514\n",
      "\n"
     ]
    }
   ],
   "source": [
    "f <- function() {\n",
    "    # Prepare coefficients data\n",
    "    df <- tbl_df(read.csv('data/model_results/param_fits_clean.csv')) %>%\n",
    "        dplyr::filter(vars=='rpc,rlp') %>%\n",
    "        dplyr::select(sid,group,nam,rpc,rlp,tau) %>%\n",
    "        dplyr::mutate(\n",
    "            sid=as.factor(sid),\n",
    "            group=dplyr::recode(as.factor(group), '0'='IG', '1'='EG'),\n",
    "            nam=as.factor(nam)\n",
    "        ) %>%\n",
    "        # normalize by Euclidean norm\n",
    "        dplyr::mutate(norm=sqrt(rpc^2+rlp^2)) %>%\n",
    "        dplyr::mutate(\n",
    "            nrpc = rpc / norm,\n",
    "            nrlp = rlp / norm\n",
    "        )\n",
    "\n",
    "    df2 <- read.csv('data/clean_data.csv') %>%\n",
    "        dplyr::filter(trial <= 60+250) %>%\n",
    "        dplyr::select(sid, trial, activity) %>% \n",
    "        dplyr::group_by(sid, activity) %>% \n",
    "        dplyr::summarize(count=n()) %>%\n",
    "        dplyr::ungroup() %>%\n",
    "        dplyr::mutate(\n",
    "            relt = count-15,\n",
    "            sid = as.factor(sid)\n",
    "        ) %>%\n",
    "        dplyr::select(sid, activity, relt) %>%\n",
    "        tidyr::spread(activity, relt) %>%\n",
    "        dplyr::mutate(\n",
    "            A4_A3 = A4-A3, \n",
    "            A3_A1 = A3-A1,\n",
    "            A4_A1 = A4-A1,\n",
    "            A4_A12 = A4-(A1+A2)/2, \n",
    "            A3_A12 = A3-(A1+A2)/2)\n",
    "\n",
    "    # Join datasets\n",
    "    df <- dplyr::inner_join(df, df2, by='sid') %>%\n",
    "        dplyr::filter(nrpc <= 0)\n",
    "    rm(df2)\n",
    "\n",
    "    # Fit linear models\n",
    "    message('Linear models of coefficients as a function of activity preferences')\n",
    "    \n",
    "    lm(A3_A12 ~ group * nrpc, data=df) %>% summary() %>% print(digits=6)\n",
    "    lm(A4_A12 ~ group * nrpc, data=df) %>% summary() %>% print(digits=6)\n",
    "    \n",
    "    lm(A3_A12 ~ group * nrlp, data=df) %>% summary() %>% print(digits=6)\n",
    "    lm(A4_A12 ~ group * nrlp, data=df) %>% summary() %>% print(digits=6)\n",
    "    \n",
    "}\n",
    "\n",
    "f()"
   ]
  },
  {
   "cell_type": "markdown",
   "metadata": {
    "heading_collapsed": true
   },
   "source": [
    "# Supplementary analyses"
   ]
  },
  {
   "cell_type": "markdown",
   "metadata": {
    "heading_collapsed": true,
    "hidden": true
   },
   "source": [
    "## Demographics"
   ]
  },
  {
   "cell_type": "code",
   "execution_count": 5,
   "metadata": {
    "ExecuteTime": {
     "end_time": "2021-02-16T20:54:18.997983Z",
     "start_time": "2021-02-16T20:54:18.858Z"
    },
    "hidden": true
   },
   "outputs": [
    {
     "name": "stdout",
     "output_type": "stream",
     "text": [
      "\u001b[38;5;246m# A tibble: 8 x 2\u001b[39m\n",
      "\u001b[38;5;246m# Groups:   race [8]\u001b[39m\n",
      "  race      n\n",
      "  \u001b[3m\u001b[38;5;246m<fct>\u001b[39m\u001b[23m \u001b[3m\u001b[38;5;246m<int>\u001b[39m\u001b[23m\n",
      "\u001b[38;5;250m1\u001b[39m ai        1\n",
      "\u001b[38;5;250m2\u001b[39m asian    16\n",
      "\u001b[38;5;250m3\u001b[39m black    37\n",
      "\u001b[38;5;250m4\u001b[39m mult     12\n",
      "\u001b[38;5;250m5\u001b[39m opi       1\n",
      "\u001b[38;5;250m6\u001b[39m other     2\n",
      "\u001b[38;5;250m7\u001b[39m white   330\n",
      "\u001b[38;5;250m8\u001b[39m \u001b[31mNA\u001b[39m        1\n",
      "\u001b[38;5;246m# A tibble: 50 x 2\u001b[39m\n",
      "\u001b[38;5;246m# Groups:   age [50]\u001b[39m\n",
      "     age     n\n",
      "   \u001b[3m\u001b[38;5;246m<int>\u001b[39m\u001b[23m \u001b[3m\u001b[38;5;246m<int>\u001b[39m\u001b[23m\n",
      "\u001b[38;5;250m 1\u001b[39m    19     2\n",
      "\u001b[38;5;250m 2\u001b[39m    20     2\n",
      "\u001b[38;5;250m 3\u001b[39m    21     1\n",
      "\u001b[38;5;250m 4\u001b[39m    22     8\n",
      "\u001b[38;5;250m 5\u001b[39m    23    10\n",
      "\u001b[38;5;250m 6\u001b[39m    24    13\n",
      "\u001b[38;5;250m 7\u001b[39m    25    16\n",
      "\u001b[38;5;250m 8\u001b[39m    26    11\n",
      "\u001b[38;5;250m 9\u001b[39m    27    19\n",
      "\u001b[38;5;250m10\u001b[39m    28    23\n",
      "\u001b[38;5;246m# … with 40 more rows\u001b[39m\n"
     ]
    }
   ],
   "source": [
    "f <- function() {\n",
    "    dft <- rbind(tbl_df(read.csv('data/raw/ig_extra.csv')), tbl_df(read.csv('data/raw/eg_extra.csv'))) %>%\n",
    "      select(c(age, gender, race))\n",
    "\n",
    "    median(dft$age, na.rm = TRUE)\n",
    "    mean(dft$age, na.rm= TRUE)\n",
    "    range(dft$age, na.rm = TRUE)\n",
    "\n",
    "    group_by(dft, race) %>% count() %>% print()\n",
    "    group_by(dft, age) %>% count() %>% print()\n",
    "\n",
    "}\n",
    "\n",
    "f()"
   ]
  },
  {
   "cell_type": "markdown",
   "metadata": {
    "heading_collapsed": true,
    "hidden": true
   },
   "source": [
    "## Comparison of performance between excluded and retained participants"
   ]
  },
  {
   "cell_type": "code",
   "execution_count": 76,
   "metadata": {
    "ExecuteTime": {
     "end_time": "2021-01-20T21:34:45.375511Z",
     "start_time": "2021-01-20T21:34:44.388Z"
    },
    "hidden": true
   },
   "outputs": [
    {
     "name": "stdout",
     "output_type": "stream",
     "text": [
      "\u001b[38;5;246m# A tibble: 2 x 3\u001b[39m\n",
      "  outlier  pc.mean   pc.std\n",
      "  \u001b[3m\u001b[38;5;246m<fct>\u001b[39m\u001b[23m      \u001b[3m\u001b[38;5;246m<dbl>\u001b[39m\u001b[23m    \u001b[3m\u001b[38;5;246m<dbl>\u001b[39m\u001b[23m\n",
      "\u001b[38;5;250m1\u001b[39m FALSE   0.680\u001b[4m8\u001b[24m\u001b[4m3\u001b[24m\u001b[4m1\u001b[24m 0.109\u001b[4m3\u001b[24m\u001b[4m0\u001b[24m\u001b[4m7\u001b[24m\n",
      "\u001b[38;5;250m2\u001b[39m TRUE    0.797\u001b[4m3\u001b[24m\u001b[4m8\u001b[24m\u001b[4m5\u001b[24m 0.175\u001b[4m7\u001b[24m\u001b[4m7\u001b[24m\u001b[4m2\u001b[24m\n",
      "\n",
      "Call:\n",
      "lm(formula = pc ~ outlier, data = df)\n",
      "\n",
      "Residuals:\n",
      "       Min         1Q     Median         3Q        Max \n",
      "-0.3232810 -0.0848315 -0.0041860  0.0951685  0.2831685 \n",
      "\n",
      "Coefficients:\n",
      "              Estimate Std. Error   t value   Pr(>|t|)    \n",
      "(Intercept) 0.68083145 0.00679416 100.20833 < 2.22e-16 ***\n",
      "outlierTRUE 0.11655310 0.01624115   7.17641  3.528e-12 ***\n",
      "---\n",
      "Signif. codes:  0 ‘***’ 0.001 ‘**’ 0.01 ‘*’ 0.05 ‘.’ 0.1 ‘ ’ 1\n",
      "\n",
      "Residual standard error: 0.123422 on 398 degrees of freedom\n",
      "Multiple R-squared:  0.114573,\tAdjusted R-squared:  0.112349 \n",
      "F-statistic: 51.5008 on 1 and 398 DF,  p-value: 3.52798e-12\n",
      "\n"
     ]
    }
   ],
   "source": [
    "f <- function() {\n",
    "    # Load nam dataset\n",
    "    df <- tbl_df(read.csv('data/unclean_data.csv')) %>%\n",
    "    dplyr::mutate(\n",
    "        correct = as.numeric(correct=='True'),\n",
    "        sid = as.factor(sid), \n",
    "        group = dplyr::recode(as.factor(group), '0'='IG', '1'='EG')\n",
    "    ) %>%\n",
    "    dplyr::filter(stage=='free') %>%\n",
    "    dplyr::select(sid, correct, alloc_bias, resp_bias) %>%\n",
    "    dplyr::group_by(sid) %>%\n",
    "    dplyr::summarize(pc = mean(correct), ab=alloc_bias[1], rb=resp_bias[1]) %>% \n",
    "    dplyr::ungroup() %>%\n",
    "    dplyr::mutate(\n",
    "        high_ab = ab >= 100, \n",
    "        high_rb = rb > mean(rb) + 2*sd(rb)) %>%\n",
    "    dplyr::mutate(outlier = as.factor(high_ab | high_rb))\n",
    "    \n",
    "    # Print summaries\n",
    "    dplyr::group_by(df, outlier) %>% \n",
    "    dplyr::summarize(\n",
    "        pc.mean = mean(pc), \n",
    "        pc.std = sd(pc)\n",
    "    ) %>%\n",
    "    print()\n",
    "    \n",
    "    lm(pc ~ outlier, data=df) %>% summary() %>% print(digits=6)\n",
    "}\n",
    "\n",
    "f()"
   ]
  },
  {
   "cell_type": "markdown",
   "metadata": {
    "heading_collapsed": true,
    "hidden": true
   },
   "source": [
    "## Supplementary model comparisons"
   ]
  },
  {
   "cell_type": "code",
   "execution_count": null,
   "metadata": {
    "hidden": true
   },
   "outputs": [],
   "source": [
    "f <- function() {\n",
    "    # Compute baseline (random-choice) model likelihood and AIC\n",
    "    log_lik <- rep(.25, times=250) %>% log() %>% sum()\n",
    "    n_params <- 0\n",
    "    baseline_AIC <- -2*log_lik + 2*n_params\n",
    "    options(digits=6)\n",
    "    cat('Baseline AIC =', baseline_AIC)\n",
    "\n",
    "    # Load data\n",
    "    df.long <- tbl_df(read.csv('data/model_results/param_fits_clean.csv')) %>%\n",
    "        dplyr::mutate(sid=as.factor(sid)) %>%\n",
    "        dplyr::select(sid,vars,aic) %>%\n",
    "        dplyr::mutate(vars=dplyr::recode(vars,\n",
    "            'rpc,rlp'='rpc_rlp',\n",
    "            'rpc,abst'='rpc_abst',\n",
    "            'rlp,abst'='rlp_abst',\n",
    "            'rpc,rlp,abst'='triv',\n",
    "        ))\n",
    "\n",
    "    # Get AIC means and SD per model form\n",
    "    message('Average AIC scores per model form')\n",
    "    stats_summary <- dplyr::select(df.long, vars, aic) %>%\n",
    "        dplyr::group_by(vars) %>%\n",
    "        dplyr::summarize(mean=mean(aic), std=sd(aic)) %>% ungroup() %>%\n",
    "        dplyr::arrange(mean)\n",
    "    print(stats_summary)\n",
    "\n",
    "    # Contrast trivaraite models' AIC to next best model\n",
    "    df.wide <- tidyr::spread(df.long, vars, aic) %>%\n",
    "        dplyr::mutate(min_bivorless_aic=pmin(rpc, rlp, abst, rpc_rlp, rpc_abst, rlp_abst)) %>%\n",
    "        dplyr::mutate(min_uni_aic=pmin(rpc, rlp, abst)) %>%\n",
    "        dplyr::mutate(\n",
    "            triv_best = triv < min_bivorless_aic,\n",
    "            triv_adv = min_bivorless_aic - triv,\n",
    "            rpc_rlp_best = rpc_rlp < min_uni_aic,\n",
    "            rpc_rlp_adv = min_uni_aic - rpc_rlp\n",
    "        ) %>%\n",
    "        dplyr::mutate(\n",
    "            two_points = triv_adv >= 2,\n",
    "            two_points_ = rpc_rlp_adv >= 2\n",
    "        )\n",
    "\n",
    "    # Print summaries\n",
    "    message('Useful stats')\n",
    "    print(\n",
    "        dplyr::summarize(\n",
    "            df.wide, \n",
    "            triv_best = mean(triv_best), \n",
    "            triv_two_points = mean(two_points),\n",
    "            mean_diff = mean(triv_adv),\n",
    "            std_diff = sd(triv_adv),\n",
    "            rpc_rlp_best = mean(rpc_rlp_best), \n",
    "            two_points_2 = mean(two_points_),\n",
    "            mean_diff_2 = mean(rpc_rlp_adv),\n",
    "            std_diff_2 = sd(rpc_rlp_adv)\n",
    "        ), width=Inf\n",
    "    )\n",
    "\n",
    "    # Compare bivariate to the best univariate model (Wilcoxon signed-rank test)\n",
    "    # The test is appropriate when the difference between repeated measures is asymmetrical and non-normal\n",
    "    message('Wilcoxon sign test (for testing hypothesis that difference in medians is 0)')\n",
    "    test_results <- dplyr::select(df.wide, sid, min_bivorless_aic, triv) %>%\n",
    "        tidyr::pivot_longer(cols=c('min_bivorless_aic', 'triv'), names_to='nvars', values_to='aic') %>%\n",
    "        dplyr::mutate(nvars=dplyr::recode(as.factor(nvars), 'min_bivorless_aic'='1', 'triv'='2')) %>%\n",
    "        rstatix::sign_test(aic~nvars) %>% add_significance() %>%\n",
    "        print(digits=6)\n",
    "\n",
    "    message('Same test comparing PC+LP with other univariate models')\n",
    "    test_results <- dplyr::select(df.wide, sid, min_uni_aic, rpc_rlp) %>%\n",
    "        tidyr::pivot_longer(cols=c('min_uni_aic', 'rpc_rlp'), names_to='nvars', values_to='aic') %>%\n",
    "        dplyr::mutate(nvars=dplyr::recode(as.factor(nvars), 'min_uni_aic'='1', 'rpc_rlp'='2')) %>%\n",
    "        rstatix::sign_test(aic~nvars) %>% add_significance() %>%\n",
    "        print(digits=6)\n",
    "}\n",
    "\n",
    "f()"
   ]
  },
  {
   "cell_type": "markdown",
   "metadata": {
    "heading_collapsed": true,
    "hidden": true
   },
   "source": [
    "## Interest ratings analysis"
   ]
  },
  {
   "cell_type": "code",
   "execution_count": 54,
   "metadata": {
    "ExecuteTime": {
     "end_time": "2021-01-20T21:07:21.987192Z",
     "start_time": "2021-01-20T21:07:19.901Z"
    },
    "hidden": true,
    "scrolled": false
   },
   "outputs": [
    {
     "name": "stdout",
     "output_type": "stream",
     "text": [
      "\u001b[38;5;246m# A tibble: 8 x 5\u001b[39m\n",
      "\u001b[38;5;246m# Groups:   group, activity [8]\u001b[39m\n",
      "  group activity item     mean     std\n",
      "  \u001b[3m\u001b[38;5;246m<fct>\u001b[39m\u001b[23m \u001b[3m\u001b[38;5;246m<fct>\u001b[39m\u001b[23m    \u001b[3m\u001b[38;5;246m<fct>\u001b[39m\u001b[23m   \u001b[3m\u001b[38;5;246m<dbl>\u001b[39m\u001b[23m   \u001b[3m\u001b[38;5;246m<dbl>\u001b[39m\u001b[23m\n",
      "\u001b[38;5;250m1\u001b[39m IG    A1       int   6.123\u001b[4m3\u001b[24m\u001b[4m8\u001b[24m 3.294\u001b[4m5\u001b[24m\u001b[4m3\u001b[24m\n",
      "\u001b[38;5;250m2\u001b[39m IG    A2       int   5.948\u001b[4m0\u001b[24m\u001b[4m5\u001b[24m 2.996\u001b[4m2\u001b[24m\u001b[4m8\u001b[24m\n",
      "\u001b[38;5;250m3\u001b[39m IG    A3       int   5.987\u001b[4m0\u001b[24m\u001b[4m1\u001b[24m 2.784\u001b[4m1\u001b[24m\u001b[4m5\u001b[24m\n",
      "\u001b[38;5;250m4\u001b[39m IG    A4       int   5.746\u001b[4m7\u001b[24m\u001b[4m5\u001b[24m 3.344\u001b[4m2\u001b[24m\u001b[4m2\u001b[24m\n",
      "\u001b[38;5;250m5\u001b[39m EG    A1       int   5.812\u001b[4m5\u001b[24m  3.128\u001b[4m5\u001b[24m\u001b[4m0\u001b[24m\n",
      "\u001b[38;5;250m6\u001b[39m EG    A2       int   5.903\u001b[4m4\u001b[24m\u001b[4m1\u001b[24m 2.917\u001b[4m3\u001b[24m\u001b[4m0\u001b[24m\n",
      "\u001b[38;5;250m7\u001b[39m EG    A3       int   6.965\u001b[4m9\u001b[24m\u001b[4m1\u001b[24m 2.481\u001b[4m7\u001b[24m\u001b[4m0\u001b[24m\n",
      "\u001b[38;5;250m8\u001b[39m EG    A4       int   7.488\u001b[4m6\u001b[24m\u001b[4m4\u001b[24m 2.929\u001b[4m6\u001b[24m\u001b[4m3\u001b[24m\n",
      "\n",
      "Call:\n",
      "lm(formula = int ~ (relt + pc) * group, data = df)\n",
      "\n",
      "Residuals:\n",
      "      Min        1Q    Median        3Q       Max \n",
      "-8.405617 -2.028583  0.290327  2.081572  5.779950 \n",
      "\n",
      "Coefficients:\n",
      "               Estimate Std. Error  t value   Pr(>|t|)    \n",
      "(Intercept)  -2.2209032  0.4358185 -5.09594 3.9937e-07 ***\n",
      "relt          8.1785199  0.6987504 11.70449 < 2.22e-16 ***\n",
      "pc            0.0777334  0.6362554  0.12217 0.90278102    \n",
      "groupEG       2.3794277  0.7015384  3.39173 0.00071582 ***\n",
      "relt:groupEG -2.7725093  0.9751939 -2.84303 0.00453995 ** \n",
      "pc:groupEG   -1.8505745  0.9259657 -1.99853 0.04587093 *  \n",
      "---\n",
      "Signif. codes:  0 ‘***’ 0.001 ‘**’ 0.01 ‘*’ 0.05 ‘.’ 0.1 ‘ ’ 1\n",
      "\n",
      "Residual standard error: 2.66707 on 1274 degrees of freedom\n",
      "Multiple R-squared:  0.163306,\tAdjusted R-squared:  0.160023 \n",
      "F-statistic:  49.732 on 5 and 1274 DF,  p-value: < 2.22e-16\n",
      "\n"
     ]
    }
   ],
   "source": [
    "f <- function() {\n",
    "    # Load nam dataset\n",
    "    nam_df <- tbl_df(read.csv('data/nam_data.csv')) %>% \n",
    "        dplyr::select(nam,sid) %>% \n",
    "        dplyr::distinct() %>% \n",
    "        dplyr::mutate(\n",
    "            sid=as.factor(sid), \n",
    "            nam=as.factor(nam))\n",
    "\n",
    "    # Load self-reports dataset and merge with NAM data\n",
    "    df <- tbl_df(read.csv('data/combined_extra.csv')) %>% \n",
    "        dplyr::mutate(\n",
    "            sid = as.factor(sid), \n",
    "            group = dplyr::recode(as.factor(group), '0'='IG', '1'='EG')) %>% \n",
    "        dplyr::inner_join(nam_df, by='sid')\n",
    "\n",
    "    # Show group stats\n",
    "    dplyr::filter(df, item=='int') %>%\n",
    "        dplyr::group_by(group, activity, item) %>% \n",
    "        dplyr::summarize(\n",
    "            mean = mean(rating),\n",
    "            std = sd(rating)\n",
    "        ) %>%\n",
    "    print(digits=5)\n",
    "    \n",
    "    # Select normalized data for one questionnaire item (interest)\n",
    "    df <- dplyr::filter(df, item=='int', nam!=0) %>% \n",
    "        dplyr::rename(int = rating_norm)\n",
    "\n",
    "    # Load and join relative time on activities data\n",
    "    df2 <- tbl_df(read.csv('data/model_data.csv')) %>% \n",
    "        dplyr::select(sid, trial, relt1, relt2, relt3, relt4, pc1, pc2, pc3, pc4) %>%\n",
    "        dplyr::filter(trial==250) %>%\n",
    "        tidyr::pivot_longer(\n",
    "            cols = c(relt1, relt2, relt3, relt4, pc1, pc2, pc3, pc4),\n",
    "            names_to = c('.value', 'activity'),\n",
    "            names_sep = '(?=\\\\d)'\n",
    "        ) %>%\n",
    "        dplyr::mutate(\n",
    "            sid = as.factor(sid), \n",
    "            activity = dplyr::recode(as.factor(activity), '1'='A1', '2'='A2', '3'='A3', '4'='A4')\n",
    "        ) %>%\n",
    "        dplyr::select(sid,activity,relt,pc)\n",
    "    \n",
    "    # Join datasets\n",
    "    df <- dplyr::left_join(df, df2, by=c('sid'='sid', 'activity'='activity'))\n",
    "    df <- within(df, nam <- relevel(nam, ref = '2'))\n",
    "    \n",
    "    # Fit linear model\n",
    "    lm(int ~ (relt + pc) * group, data=df) %>% summary() %>% print(digits=6)\n",
    "}\n",
    "\n",
    "f()"
   ]
  },
  {
   "cell_type": "code",
   "execution_count": null,
   "metadata": {
    "hidden": true
   },
   "outputs": [],
   "source": []
  }
 ],
 "metadata": {
  "hide_input": false,
  "kernelspec": {
   "display_name": "R",
   "language": "R",
   "name": "ir"
  },
  "language_info": {
   "codemirror_mode": "r",
   "file_extension": ".r",
   "mimetype": "text/x-r-source",
   "name": "R",
   "pygments_lexer": "r",
   "version": "3.5.0"
  },
  "toc": {
   "base_numbering": 1,
   "nav_menu": {},
   "number_sections": true,
   "sideBar": true,
   "skip_h1_title": false,
   "title_cell": "Table of Contents",
   "title_sidebar": "Contents",
   "toc_cell": false,
   "toc_position": {},
   "toc_section_display": true,
   "toc_window_display": true
  },
  "varInspector": {
   "cols": {
    "lenName": 16,
    "lenType": 16,
    "lenVar": 40
   },
   "kernels_config": {
    "python": {
     "delete_cmd_postfix": "",
     "delete_cmd_prefix": "del ",
     "library": "var_list.py",
     "varRefreshCmd": "print(var_dic_list())"
    },
    "r": {
     "delete_cmd_postfix": ") ",
     "delete_cmd_prefix": "rm(",
     "library": "var_list.r",
     "varRefreshCmd": "cat(var_dic_list()) "
    }
   },
   "types_to_exclude": [
    "module",
    "function",
    "builtin_function_or_method",
    "instance",
    "_Feature"
   ],
   "window_display": false
  }
 },
 "nbformat": 4,
 "nbformat_minor": 4
}
