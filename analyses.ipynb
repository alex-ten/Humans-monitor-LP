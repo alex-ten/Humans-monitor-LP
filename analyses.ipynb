{
 "cells": [
  {
   "cell_type": "markdown",
   "metadata": {},
   "source": [
    "**Imports**"
   ]
  },
  {
   "cell_type": "code",
   "execution_count": 1,
   "metadata": {
    "ExecuteTime": {
     "end_time": "2020-12-14T20:03:53.607352Z",
     "start_time": "2020-12-14T20:03:51.745Z"
    }
   },
   "outputs": [
    {
     "name": "stderr",
     "output_type": "stream",
     "text": [
      "Warning message:\n",
      "“package ‘tidyverse’ was built under R version 3.5.2”── \u001b[1mAttaching packages\u001b[22m ─────────────────────────────────────── tidyverse 1.3.0 ──\n",
      "\u001b[32m✔\u001b[39m \u001b[34mggplot2\u001b[39m 3.3.0     \u001b[32m✔\u001b[39m \u001b[34mpurrr  \u001b[39m 0.3.4\n",
      "\u001b[32m✔\u001b[39m \u001b[34mtibble \u001b[39m 3.0.1     \u001b[32m✔\u001b[39m \u001b[34mdplyr  \u001b[39m 0.8.5\n",
      "\u001b[32m✔\u001b[39m \u001b[34mtidyr  \u001b[39m 1.0.3     \u001b[32m✔\u001b[39m \u001b[34mstringr\u001b[39m 1.4.0\n",
      "\u001b[32m✔\u001b[39m \u001b[34mreadr  \u001b[39m 1.3.1     \u001b[32m✔\u001b[39m \u001b[34mforcats\u001b[39m 0.5.0\n",
      "Warning message:\n",
      "“package ‘ggplot2’ was built under R version 3.5.2”Warning message:\n",
      "“package ‘dplyr’ was built under R version 3.5.2”Warning message:\n",
      "“package ‘stringr’ was built under R version 3.5.2”Warning message:\n",
      "“package ‘forcats’ was built under R version 3.5.2”── \u001b[1mConflicts\u001b[22m ────────────────────────────────────────── tidyverse_conflicts() ──\n",
      "\u001b[31m✖\u001b[39m \u001b[34mdplyr\u001b[39m::\u001b[32mfilter()\u001b[39m  masks \u001b[34mstats\u001b[39m::filter()\n",
      "\u001b[31m✖\u001b[39m \u001b[34mpurrr\u001b[39m::\u001b[32mflatten()\u001b[39m masks \u001b[34mjsonlite\u001b[39m::flatten()\n",
      "\u001b[31m✖\u001b[39m \u001b[34mdplyr\u001b[39m::\u001b[32mlag()\u001b[39m     masks \u001b[34mstats\u001b[39m::lag()\n"
     ]
    }
   ],
   "source": [
    "library(tidyverse)"
   ]
  },
  {
   "cell_type": "markdown",
   "metadata": {
    "ExecuteTime": {
     "end_time": "2020-12-13T20:14:03.173582Z",
     "start_time": "2020-12-13T20:14:03.157Z"
    }
   },
   "source": [
    "# Fitted coefficients and difficulty preferences"
   ]
  },
  {
   "cell_type": "code",
   "execution_count": 2,
   "metadata": {
    "ExecuteTime": {
     "end_time": "2020-12-14T20:03:57.253118Z",
     "start_time": "2020-12-14T20:03:55.568Z"
    }
   },
   "outputs": [
    {
     "name": "stderr",
     "output_type": "stream",
     "text": [
      "Warning message:\n",
      "“funs() is soft deprecated as of dplyr 0.8.0\n",
      "Please use a list of either functions or lambdas: \n",
      "\n",
      "  # Simple named list: \n",
      "  list(mean = mean, median = median)\n",
      "\n",
      "  # Auto named with `tibble::lst()`: \n",
      "  tibble::lst(mean, median)\n",
      "\n",
      "  # Using lambdas\n",
      "  list(~ mean(., trim = .2), ~ median(., na.rm = TRUE))\n",
      "\u001b[90mThis warning is displayed once per session.\u001b[39m”"
     ]
    },
    {
     "name": "stdout",
     "output_type": "stream",
     "text": [
      "\n",
      "Call:\n",
      "lm(formula = rpc_norm ~ group * (A3minusA1 + A4minusA3), data = df)\n",
      "\n",
      "Residuals:\n",
      "     Min       1Q   Median       3Q      Max \n",
      "-1.24241 -0.33406 -0.04356  0.33188  1.52479 \n",
      "\n",
      "Coefficients:\n",
      "                    Estimate Std. Error t value Pr(>|t|)    \n",
      "(Intercept)        0.0976458  0.0408726   2.389   0.0175 *  \n",
      "groupEG           -0.0896801  0.0611854  -1.466   0.1437    \n",
      "A3minusA1         -0.0055262  0.0004780 -11.560   <2e-16 ***\n",
      "A4minusA3         -0.0057868  0.0006642  -8.712   <2e-16 ***\n",
      "groupEG:A3minusA1 -0.0015969  0.0007961  -2.006   0.0457 *  \n",
      "groupEG:A4minusA3  0.0008581  0.0008340   1.029   0.3043    \n",
      "---\n",
      "Signif. codes:  0 ‘***’ 0.001 ‘**’ 0.01 ‘*’ 0.05 ‘.’ 0.1 ‘ ’ 1\n",
      "\n",
      "Residual standard error: 0.4903 on 314 degrees of freedom\n",
      "Multiple R-squared:  0.5802,\tAdjusted R-squared:  0.5735 \n",
      "F-statistic:  86.8 on 5 and 314 DF,  p-value: < 2.2e-16\n",
      "\n",
      "\n",
      "Call:\n",
      "lm(formula = rlp_norm ~ group * (A3minusA1 + A4minusA3), data = df)\n",
      "\n",
      "Residuals:\n",
      "     Min       1Q   Median       3Q      Max \n",
      "-1.34604 -0.52548  0.00207  0.61485  1.05709 \n",
      "\n",
      "Coefficients:\n",
      "                    Estimate Std. Error t value Pr(>|t|)  \n",
      "(Intercept)        0.1223575  0.0538220   2.273   0.0237 *\n",
      "groupEG           -0.0861154  0.0805703  -1.069   0.2860  \n",
      "A3minusA1          0.0015173  0.0006295   2.410   0.0165 *\n",
      "A4minusA3         -0.0008754  0.0008747  -1.001   0.3177  \n",
      "groupEG:A3minusA1 -0.0005346  0.0010483  -0.510   0.6104  \n",
      "groupEG:A4minusA3  0.0013638  0.0010982   1.242   0.2152  \n",
      "---\n",
      "Signif. codes:  0 ‘***’ 0.001 ‘**’ 0.01 ‘*’ 0.05 ‘.’ 0.1 ‘ ’ 1\n",
      "\n",
      "Residual standard error: 0.6456 on 314 degrees of freedom\n",
      "Multiple R-squared:  0.02861,\tAdjusted R-squared:  0.01314 \n",
      "F-statistic:  1.85 on 5 and 314 DF,  p-value: 0.1029\n",
      "\n"
     ]
    }
   ],
   "source": [
    "f <- function() { \n",
    "    # Load parameter data\n",
    "    df1 <- tbl_df(read.csv('data/model_results/param_fits_clean.csv')) %>%\n",
    "      dplyr::filter(vars=='rpc,rlp', nam > 0) %>%\n",
    "      dplyr::mutate(rpc_norm = rpc/sqrt(rpc^2+rlp^2), rlp_norm = rlp/sqrt(rpc^2+rlp^2)) #%>%\n",
    "      # dplyr::mutate(wPC = (wPC - mean(wPC))/sd(wPC),\n",
    "      #               wLP = (wLP - mean(wLP))/sd(wLP))\n",
    "\n",
    "    # Load RelT data\n",
    "    df2 <- tbl_df(read.csv('data/model_data.csv')) %>% \n",
    "      dplyr::select(sid, trial, abst1, abst2, abst3, abst4) %>%\n",
    "      dplyr::mutate(A4minusA3 = abst4-abst3, A3minusA1 = abst3-abst1) %>%\n",
    "      dplyr::filter(trial==250)\n",
    "\n",
    "    # Join datasets\n",
    "    df <- dplyr::inner_join(df1, df2, by='sid')\n",
    "    remove(df1, df2)\n",
    "\n",
    "    # Convert categorical variables to factors\n",
    "    df <- dplyr::mutate_at(df, vars(sid, group, nam), funs(factor))\n",
    "\n",
    "    # Set colors\n",
    "    df$group <- recode(df$group, '0' = 'IG', '1' = 'EG')\n",
    "\n",
    "#     # Fit linear models\n",
    "#     df <- within(df, group <- relevel(group, ref = 'IG'))\n",
    "#     lm_ <- lm(A3minusA1 ~ group*(rpc_norm+rlp_norm), data=df)\n",
    "#     print(summary(lm_))\n",
    "#     lm_ <- lm(A4minusA3 ~ group*(rpc_norm+rlp_norm), data=df)\n",
    "#     print(summary(lm_))\n",
    "    # Fit linear models\n",
    "    df <- within(df, group <- relevel(group, ref = 'IG'))\n",
    "    lm_ <- lm(rpc_norm ~ group*(A3minusA1+A4minusA3), data=df)\n",
    "    print(summary(lm_))\n",
    "    lm_ <- lm(rlp_norm ~ group*(A3minusA1+A4minusA3), data=df)\n",
    "    print(summary(lm_))\n",
    "}\n",
    "\n",
    "f()"
   ]
  },
  {
   "cell_type": "code",
   "execution_count": null,
   "metadata": {},
   "outputs": [],
   "source": []
  }
 ],
 "metadata": {
  "hide_input": false,
  "kernelspec": {
   "display_name": "R",
   "language": "R",
   "name": "ir"
  },
  "language_info": {
   "codemirror_mode": "r",
   "file_extension": ".r",
   "mimetype": "text/x-r-source",
   "name": "R",
   "pygments_lexer": "r",
   "version": "3.5.0"
  },
  "toc": {
   "base_numbering": 1,
   "nav_menu": {},
   "number_sections": true,
   "sideBar": true,
   "skip_h1_title": false,
   "title_cell": "Table of Contents",
   "title_sidebar": "Contents",
   "toc_cell": false,
   "toc_position": {},
   "toc_section_display": true,
   "toc_window_display": false
  },
  "varInspector": {
   "cols": {
    "lenName": 16,
    "lenType": 16,
    "lenVar": 40
   },
   "kernels_config": {
    "python": {
     "delete_cmd_postfix": "",
     "delete_cmd_prefix": "del ",
     "library": "var_list.py",
     "varRefreshCmd": "print(var_dic_list())"
    },
    "r": {
     "delete_cmd_postfix": ") ",
     "delete_cmd_prefix": "rm(",
     "library": "var_list.r",
     "varRefreshCmd": "cat(var_dic_list()) "
    }
   },
   "types_to_exclude": [
    "module",
    "function",
    "builtin_function_or_method",
    "instance",
    "_Feature"
   ],
   "window_display": false
  }
 },
 "nbformat": 4,
 "nbformat_minor": 4
}
