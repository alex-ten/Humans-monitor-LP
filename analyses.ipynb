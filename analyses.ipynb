{
 "cells": [
  {
   "cell_type": "markdown",
   "metadata": {},
   "source": [
    "**Imports**"
   ]
  },
  {
   "cell_type": "code",
   "execution_count": 13,
   "metadata": {
    "ExecuteTime": {
     "end_time": "2021-01-09T18:00:08.067901Z",
     "start_time": "2021-01-09T18:00:08.042Z"
    }
   },
   "outputs": [],
   "source": [
    "library(tidyverse)\n",
    "library(emmeans)\n",
    "\n",
    "options(pillar.sigfig = 4, digits=6)"
   ]
  },
  {
   "cell_type": "markdown",
   "metadata": {
    "ExecuteTime": {
     "end_time": "2021-01-09T13:18:43.305001Z",
     "start_time": "2021-01-09T13:18:43.224Z"
    }
   },
   "source": [
    "# Compare familiarization-stage performance between groups"
   ]
  },
  {
   "cell_type": "code",
   "execution_count": 9,
   "metadata": {
    "ExecuteTime": {
     "end_time": "2021-01-09T16:13:38.037799Z",
     "start_time": "2021-01-09T16:13:36.626Z"
    }
   },
   "outputs": [
    {
     "name": "stdout",
     "output_type": "stream",
     "text": [
      "\n",
      "Error: sid\n",
      "           Df Sum Sq Mean Sq F value Pr(>F)\n",
      "group       1  0.066 0.06566   2.256  0.134\n",
      "Residuals 328  9.547 0.02911               \n",
      "\n",
      "Error: Within\n",
      "                Df Sum Sq Mean Sq F value Pr(>F)    \n",
      "activity         3  9.827   3.276 141.098 <2e-16 ***\n",
      "group:activity   3  0.110   0.037   1.574  0.194    \n",
      "Residuals      984 22.844   0.023                   \n",
      "---\n",
      "Signif. codes:  0 ‘***’ 0.001 ‘**’ 0.01 ‘*’ 0.05 ‘.’ 0.1 ‘ ’ 1\n"
     ]
    },
    {
     "name": "stderr",
     "output_type": "stream",
     "text": [
      "NOTE: Results may be misleading due to involvement in interactions\n"
     ]
    },
    {
     "name": "stdout",
     "output_type": "stream",
     "text": [
      " contrast estimate     SE   df t.ratio p.value\n",
      " A1 - A2    0.0664 0.0123 1312  5.418  <.0001 \n",
      " A1 - A3    0.1473 0.0123 1312 12.015  <.0001 \n",
      " A1 - A4    0.2299 0.0123 1312 18.750  <.0001 \n",
      " A2 - A3    0.0809 0.0123 1312  6.597  <.0001 \n",
      " A2 - A4    0.1634 0.0123 1312 13.332  <.0001 \n",
      " A3 - A4    0.0826 0.0123 1312  6.736  <.0001 \n",
      "\n",
      "Results are averaged over the levels of: group \n",
      "P value adjustment: tukey method for comparing a family of 4 estimates \n"
     ]
    }
   ],
   "source": [
    "f <- function() { \n",
    "    # Prepare data\n",
    "    df <- tbl_df(read.csv('data/clean_data.csv')) %>%\n",
    "      dplyr::filter(stage=='train') %>%\n",
    "      dplyr::select(sid,group,activity,correct)\n",
    "    df$correct <- as.numeric(df$correct=='True')\n",
    "    df$group <- as.factor(df$group)\n",
    "    df$sid <- as.factor(df$sid)\n",
    "    df$group <- dplyr::recode(df$group, '0'='IG', '1'='EG')\n",
    "\n",
    "    # Calculate PC per task per subject\n",
    "    df <- group_by(df, sid , activity) %>% dplyr::summarize(group = head(group, 1), pc = mean(correct))\n",
    "\n",
    "    # Perform mixed ANOVA\n",
    "    AOV_results <- aov(pc ~ group * activity + Error(sid), df)\n",
    "    print(summary(AOV_results))\n",
    "    \n",
    "    # Post hoc analysis\n",
    "    linmod <- lm(pc ~ group * activity, data=df, contrasts=list(group=contr.treatment(2), activity=contr.treatment(4)))\n",
    "    posthoc <- emmeans(linmod, 'activity', adjust = \"tukey\")\n",
    "    print(pairs(posthoc))\n",
    "}\n",
    "\n",
    "f()"
   ]
  },
  {
   "cell_type": "markdown",
   "metadata": {},
   "source": [
    "# Compare activity preferences betwen groups"
   ]
  },
  {
   "cell_type": "code",
   "execution_count": 15,
   "metadata": {
    "ExecuteTime": {
     "end_time": "2021-01-09T18:00:28.861872Z",
     "start_time": "2021-01-09T18:00:27.996Z"
    }
   },
   "outputs": [
    {
     "name": "stdout",
     "output_type": "stream",
     "text": [
      "\n",
      "Call:\n",
      "lm(formula = relt ~ group * activity, data = df, contrasts = list(group = contr.treatment(2), \n",
      "    activity = contr.sum(4)))\n",
      "\n",
      "Residuals:\n",
      "       Min         1Q     Median         3Q        Max \n",
      "-0.3882955 -0.1256250 -0.0409740  0.0981161  0.7143864 \n",
      "\n",
      "Coefficients:\n",
      "                     Estimate   Std. Error  t value   Pr(>|t|)    \n",
      "(Intercept)       2.50000e-01  7.54760e-03 33.12313 < 2.22e-16 ***\n",
      "group2            1.18405e-16  1.03350e-02  0.00000  1.0000000    \n",
      "activity1         3.80779e-02  1.30728e-02  2.91276  0.0036432 ** \n",
      "activity2        -1.69870e-02  1.30728e-02 -1.29941  0.1940299    \n",
      "activity3        -2.10649e-02  1.30728e-02 -1.61135  0.1073432    \n",
      "group2:activity1 -1.26464e-01  1.79007e-02 -7.06477 2.6038e-12 ***\n",
      "group2:activity2 -3.53539e-02  1.79007e-02 -1.97500  0.0484773 *  \n",
      "group2:activity3  2.34968e-02  1.79007e-02  1.31262  0.1895416    \n",
      "---\n",
      "Signif. codes:  0 ‘***’ 0.001 ‘**’ 0.01 ‘*’ 0.05 ‘.’ 0.1 ‘ ’ 1\n",
      "\n",
      "Residual standard error: 0.187326 on 1312 degrees of freedom\n",
      "Multiple R-squared:  0.107758,\tAdjusted R-squared:  0.102998 \n",
      "F-statistic: 22.6362 on 7 and 1312 DF,  p-value: < 2.22e-16\n",
      "\n",
      "\n",
      "Error: sid\n",
      "           Df      Sum Sq     Mean Sq F value     Pr(>F)    \n",
      "group       1 2.77460e-29 2.77464e-29 20.6614 7.7185e-06 ***\n",
      "Residuals 328 4.40475e-28 1.34291e-30                       \n",
      "---\n",
      "Signif. codes:  0 ‘***’ 0.001 ‘**’ 0.01 ‘*’ 0.05 ‘.’ 0.1 ‘ ’ 1\n",
      "\n",
      "Error: Within\n",
      "                Df  Sum Sq  Mean Sq F value     Pr(>F)    \n",
      "activity         3  2.5273 0.842432 18.0052 2.2183e-11 ***\n",
      "group:activity   3  3.0330 1.011007 21.6082 1.4745e-13 ***\n",
      "Residuals      984 46.0396 0.046788                       \n",
      "---\n",
      "Signif. codes:  0 ‘***’ 0.001 ‘**’ 0.01 ‘*’ 0.05 ‘.’ 0.1 ‘ ’ 1\n"
     ]
    }
   ],
   "source": [
    "f <- function() { \n",
    "    # Prepare data\n",
    "    df <- read.csv('data/clean_data.csv') %>%\n",
    "      dplyr::filter(trial<=60+250) %>%\n",
    "      dplyr::select(sid,group,trial,activity) %>% \n",
    "      dplyr::group_by(group,sid,activity) %>% \n",
    "      dplyr::summarize(count=n()) %>%\n",
    "      dplyr::mutate(relt=(count-15)/250)\n",
    "    df$group <- dplyr::recode(factor(df$group), '0'='IG', '1'='EG')\n",
    "    df$sid <- as.factor(df$sid)\n",
    "\n",
    "    # Print stats\n",
    "    (dplyr::group_by(df, group, activity) %>% dplyr::summarize(mean=mean(relt), std=sd(relt)))\n",
    "\n",
    "    # Fit a linear mixed effects model\n",
    "    df <- within(df, activity <- relevel(activity, ref='A1'))\n",
    "    linmod <- lm(\n",
    "      relt ~ group * activity, \n",
    "      data = df, \n",
    "      contrasts = list(group=contr.treatment(2), activity=contr.sum(4))\n",
    "    )\n",
    "    print(summary(linmod), digits=6)\n",
    "\n",
    "    # Perform mixed ANOVA\n",
    "    AOV_results <- aov(relt ~ group * activity + Error(sid), df)\n",
    "    print(summary(AOV_results), digits=6)\n",
    "}\n",
    "\n",
    "f()"
   ]
  },
  {
   "cell_type": "markdown",
   "metadata": {
    "ExecuteTime": {
     "end_time": "2020-12-13T20:14:03.173582Z",
     "start_time": "2020-12-13T20:14:03.157Z"
    }
   },
   "source": [
    "# Fitted coefficients and difficulty preferences"
   ]
  },
  {
   "cell_type": "code",
   "execution_count": 2,
   "metadata": {
    "ExecuteTime": {
     "end_time": "2021-01-09T13:04:45.304616Z",
     "start_time": "2021-01-09T13:04:43.511Z"
    }
   },
   "outputs": [
    {
     "name": "stderr",
     "output_type": "stream",
     "text": [
      "Warning message:\n",
      "“funs() is soft deprecated as of dplyr 0.8.0\n",
      "Please use a list of either functions or lambdas: \n",
      "\n",
      "  # Simple named list: \n",
      "  list(mean = mean, median = median)\n",
      "\n",
      "  # Auto named with `tibble::lst()`: \n",
      "  tibble::lst(mean, median)\n",
      "\n",
      "  # Using lambdas\n",
      "  list(~ mean(., trim = .2), ~ median(., na.rm = TRUE))\n",
      "\u001b[90mThis warning is displayed once per session.\u001b[39m”"
     ]
    },
    {
     "name": "stdout",
     "output_type": "stream",
     "text": [
      "\n",
      "Call:\n",
      "lm(formula = rpc_norm ~ group * (A3minusA1 + A4minusA3), data = df)\n",
      "\n",
      "Residuals:\n",
      "     Min       1Q   Median       3Q      Max \n",
      "-1.24241 -0.33406 -0.04356  0.33188  1.52479 \n",
      "\n",
      "Coefficients:\n",
      "                    Estimate Std. Error t value Pr(>|t|)    \n",
      "(Intercept)        0.0976458  0.0408726   2.389   0.0175 *  \n",
      "groupEG           -0.0896801  0.0611854  -1.466   0.1437    \n",
      "A3minusA1         -0.0055262  0.0004780 -11.560   <2e-16 ***\n",
      "A4minusA3         -0.0057868  0.0006642  -8.712   <2e-16 ***\n",
      "groupEG:A3minusA1 -0.0015969  0.0007961  -2.006   0.0457 *  \n",
      "groupEG:A4minusA3  0.0008581  0.0008340   1.029   0.3043    \n",
      "---\n",
      "Signif. codes:  0 ‘***’ 0.001 ‘**’ 0.01 ‘*’ 0.05 ‘.’ 0.1 ‘ ’ 1\n",
      "\n",
      "Residual standard error: 0.4903 on 314 degrees of freedom\n",
      "Multiple R-squared:  0.5802,\tAdjusted R-squared:  0.5735 \n",
      "F-statistic:  86.8 on 5 and 314 DF,  p-value: < 2.2e-16\n",
      "\n",
      "\n",
      "Call:\n",
      "lm(formula = rlp_norm ~ group * (A3minusA1 + A4minusA3), data = df)\n",
      "\n",
      "Residuals:\n",
      "     Min       1Q   Median       3Q      Max \n",
      "-1.34604 -0.52548  0.00207  0.61485  1.05709 \n",
      "\n",
      "Coefficients:\n",
      "                    Estimate Std. Error t value Pr(>|t|)  \n",
      "(Intercept)        0.1223575  0.0538220   2.273   0.0237 *\n",
      "groupEG           -0.0861154  0.0805703  -1.069   0.2860  \n",
      "A3minusA1          0.0015173  0.0006295   2.410   0.0165 *\n",
      "A4minusA3         -0.0008754  0.0008747  -1.001   0.3177  \n",
      "groupEG:A3minusA1 -0.0005346  0.0010483  -0.510   0.6104  \n",
      "groupEG:A4minusA3  0.0013638  0.0010982   1.242   0.2152  \n",
      "---\n",
      "Signif. codes:  0 ‘***’ 0.001 ‘**’ 0.01 ‘*’ 0.05 ‘.’ 0.1 ‘ ’ 1\n",
      "\n",
      "Residual standard error: 0.6456 on 314 degrees of freedom\n",
      "Multiple R-squared:  0.02861,\tAdjusted R-squared:  0.01314 \n",
      "F-statistic:  1.85 on 5 and 314 DF,  p-value: 0.1029\n",
      "\n"
     ]
    }
   ],
   "source": [
    "f <- function() { \n",
    "    # Load parameter data\n",
    "    df1 <- tbl_df(read.csv('data/model_results/param_fits_clean.csv')) %>%\n",
    "      dplyr::filter(vars=='rpc,rlp', nam > 0) %>%\n",
    "      dplyr::mutate(rpc_norm = rpc/sqrt(rpc^2+rlp^2), rlp_norm = rlp/sqrt(rpc^2+rlp^2)) #%>%\n",
    "      # dplyr::mutate(wPC = (wPC - mean(wPC))/sd(wPC),\n",
    "      #               wLP = (wLP - mean(wLP))/sd(wLP))\n",
    "\n",
    "    # Load RelT data\n",
    "    df2 <- tbl_df(read.csv('data/model_data.csv')) %>% \n",
    "      dplyr::select(sid, trial, abst1, abst2, abst3, abst4) %>%\n",
    "      dplyr::mutate(A4minusA3 = abst4-abst3, A3minusA1 = abst3-abst1) %>%\n",
    "      dplyr::filter(trial==250)\n",
    "\n",
    "    # Join datasets\n",
    "    df <- dplyr::inner_join(df1, df2, by='sid')\n",
    "    remove(df1, df2)\n",
    "\n",
    "    # Convert categorical variables to factors\n",
    "    df <- dplyr::mutate_at(df, vars(sid, group, nam), funs(factor))\n",
    "\n",
    "    # Set colors\n",
    "    df$group <- recode(df$group, '0' = 'IG', '1' = 'EG')\n",
    "\n",
    "#     # Fit linear models\n",
    "#     df <- within(df, group <- relevel(group, ref = 'IG'))\n",
    "#     lm_ <- lm(A3minusA1 ~ group*(rpc_norm+rlp_norm), data=df)\n",
    "#     print(summary(lm_))\n",
    "#     lm_ <- lm(A4minusA3 ~ group*(rpc_norm+rlp_norm), data=df)\n",
    "#     print(summary(lm_))\n",
    "    # Fit linear models\n",
    "    df <- within(df, group <- relevel(group, ref = 'IG'))\n",
    "    lm_ <- lm(rpc_norm ~ group*(A3minusA1+A4minusA3), data=df)\n",
    "    print(summary(lm_))\n",
    "    lm_ <- lm(rlp_norm ~ group*(A3minusA1+A4minusA3), data=df)\n",
    "    print(summary(lm_))\n",
    "}\n",
    "\n",
    "f()"
   ]
  },
  {
   "cell_type": "code",
   "execution_count": null,
   "metadata": {},
   "outputs": [],
   "source": []
  }
 ],
 "metadata": {
  "hide_input": false,
  "kernelspec": {
   "display_name": "R",
   "language": "R",
   "name": "ir"
  },
  "language_info": {
   "codemirror_mode": "r",
   "file_extension": ".r",
   "mimetype": "text/x-r-source",
   "name": "R",
   "pygments_lexer": "r",
   "version": "3.5.0"
  },
  "toc": {
   "base_numbering": 1,
   "nav_menu": {},
   "number_sections": true,
   "sideBar": true,
   "skip_h1_title": false,
   "title_cell": "Table of Contents",
   "title_sidebar": "Contents",
   "toc_cell": false,
   "toc_position": {},
   "toc_section_display": true,
   "toc_window_display": false
  },
  "varInspector": {
   "cols": {
    "lenName": 16,
    "lenType": 16,
    "lenVar": 40
   },
   "kernels_config": {
    "python": {
     "delete_cmd_postfix": "",
     "delete_cmd_prefix": "del ",
     "library": "var_list.py",
     "varRefreshCmd": "print(var_dic_list())"
    },
    "r": {
     "delete_cmd_postfix": ") ",
     "delete_cmd_prefix": "rm(",
     "library": "var_list.r",
     "varRefreshCmd": "cat(var_dic_list()) "
    }
   },
   "types_to_exclude": [
    "module",
    "function",
    "builtin_function_or_method",
    "instance",
    "_Feature"
   ],
   "window_display": false
  }
 },
 "nbformat": 4,
 "nbformat_minor": 4
}
