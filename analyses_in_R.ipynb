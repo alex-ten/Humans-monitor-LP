{
 "cells": [
  {
   "cell_type": "markdown",
   "metadata": {
    "heading_collapsed": true
   },
   "source": [
    "# Tools"
   ]
  },
  {
   "cell_type": "code",
   "execution_count": 137,
   "metadata": {
    "ExecuteTime": {
     "end_time": "2020-03-09T05:03:27.801815Z",
     "start_time": "2020-03-09T05:03:27.193Z"
    },
    "hidden": true,
    "init_cell": true
   },
   "outputs": [],
   "source": [
    "library(reshape2)    # `melt` function to convert wide format to long\n",
    "library(dplyr)       # common data transformation functions\n",
    "library(lme4)        # `lmer` function to perform mixed linear estimation\n",
    "library(emmeans)     # `emmeans` function for performing pst hoc analyses on fitted models\n",
    "library(data.table)  # `setnames` function for changing column names"
   ]
  },
  {
   "cell_type": "markdown",
   "metadata": {
    "heading_collapsed": true
   },
   "source": [
    "# ANOVAs"
   ]
  },
  {
   "cell_type": "markdown",
   "metadata": {
    "heading_collapsed": true,
    "hidden": true
   },
   "source": [
    "## Compare performance during Familiarization"
   ]
  },
  {
   "cell_type": "code",
   "execution_count": 45,
   "metadata": {
    "ExecuteTime": {
     "end_time": "2020-03-05T15:27:25.209175Z",
     "start_time": "2020-03-05T15:27:24.884Z"
    },
    "hidden": true
   },
   "outputs": [
    {
     "name": "stdout",
     "output_type": "stream",
     "text": [
      "Analysis of Variance Table\n",
      "\n",
      "Response: pc\n",
      "            Df  Sum Sq Mean Sq  F value Pr(>F)    \n",
      "grp          1  0.0600 0.06004   2.4495 0.1178    \n",
      "tid          3  9.0812 3.02707 123.4869 <2e-16 ***\n",
      "grp:tid      3  0.1203 0.04010   1.6357 0.1793    \n",
      "Residuals 1200 29.4160 0.02451                    \n",
      "---\n",
      "Signif. codes:  0 ‘***’ 0.001 ‘**’ 0.01 ‘*’ 0.05 ‘.’ 0.1 ‘ ’ 1\n"
     ]
    },
    {
     "name": "stderr",
     "output_type": "stream",
     "text": [
      "NOTE: Results may be misleading due to involvement in interactions\n"
     ]
    },
    {
     "name": "stdout",
     "output_type": "stream",
     "text": [
      " contrast estimate     SE   df t.ratio p.value\n",
      " A1 - A2    0.0615 0.0128 1200  4.820  <.0001 \n",
      " A1 - A3    0.1419 0.0128 1200 11.115  <.0001 \n",
      " A1 - A4    0.2305 0.0128 1200 18.054  <.0001 \n",
      " A2 - A3    0.0804 0.0128 1200  6.295  <.0001 \n",
      " A2 - A4    0.1690 0.0128 1200 13.235  <.0001 \n",
      " A3 - A4    0.0886 0.0128 1200  6.940  <.0001 \n",
      "\n",
      "Results are averaged over the levels of: grp \n",
      "P value adjustment: tukey method for comparing a family of 4 estimates \n"
     ]
    }
   ],
   "source": [
    "df <- read.csv('data/long_ntm_data.csv')\n",
    "\n",
    "# Select data to work with and recode ugly labels\n",
    "df <- df[, c('sid','grp','tid','pc_first')]\n",
    "names(df)[4] <- 'pc'\n",
    "df$grp <- recode(df$grp, F=0, S=1)\n",
    "df$tid <- recode(df$tid, '1_1D'='A1', '2_I1D'='A2', '3_2D'='A3', '4_R'='A4')\n",
    "# df <- df[df$tid=='A4' | df$tid=='A1', ]\n",
    "\n",
    "# Factorize categorical variables\n",
    "df$sid <- factor(df$sid)\n",
    "df$grp <- factor(df$grp)\n",
    "df$tid <- factor(df$tid)\n",
    "\n",
    "# Fit a linear mixed effects model\n",
    "LM_model <- lm(pc ~ grp * tid, data=df)\n",
    "print(anova(LM_model))\n",
    "\n",
    "# Perform a post hoc analysis\n",
    "posthoc <- emmeans(LM_model, 'tid', adjust = \"tukey\")\n",
    "print(pairs(posthoc))"
   ]
  },
  {
   "cell_type": "markdown",
   "metadata": {
    "heading_collapsed": true,
    "hidden": true
   },
   "source": [
    "## Compare performance during first 25 trials of free play"
   ]
  },
  {
   "cell_type": "code",
   "execution_count": 120,
   "metadata": {
    "ExecuteTime": {
     "end_time": "2020-03-05T17:40:14.745460Z",
     "start_time": "2020-03-05T17:40:14.695Z"
    },
    "hidden": true
   },
   "outputs": [
    {
     "name": "stdout",
     "output_type": "stream",
     "text": [
      "[1] \"X\"   \"sid\" \"grp\" \"tid\" \"pc1\"\n"
     ]
    }
   ],
   "source": [
    "# df <- read.csv('data/long_ntm_data_freeplay.csv')\n",
    "# print(names(df))\n",
    "# # Factorize categorical variables\n",
    "# df$sid <- factor(df$sid)\n",
    "# df$grp <- factor(df$grp)\n",
    "# df$tid <- factor(df$tid)\n",
    "\n",
    "# # If you want to obtain type-III sums of squares set the default contrasts to effect coding:\n",
    "# options(contrasts=c('contr.sum', 'contr.poly'))\n",
    "\n",
    "# # For this 2-way mixed ANOVA we need to specify the `Error` term to indicate that `tid` varied within `sid`\n",
    "# linmod <- lme(pc1 ~ grp*tid, data=df, random=~1|sid, correlation=corCompSymm(form = ~1|sid))\n",
    "# aovmod <- anova(linmod, type='marginal')\n",
    "\n",
    "# print(aovmod)\n",
    "\n",
    "# summary(glht(linmod, linfct=mcp(tid = \"Tukey\", interaction_average=TRUE)), \n",
    "#         test = adjusted(type = \"bonferroni\"))"
   ]
  },
  {
   "cell_type": "markdown",
   "metadata": {
    "heading_collapsed": true,
    "hidden": true
   },
   "source": [
    "## Compare final performance"
   ]
  },
  {
   "cell_type": "code",
   "execution_count": 119,
   "metadata": {
    "ExecuteTime": {
     "end_time": "2020-03-05T17:32:55.584854Z",
     "start_time": "2020-03-05T17:32:55.479Z"
    },
    "hidden": true
   },
   "outputs": [
    {
     "name": "stdout",
     "output_type": "stream",
     "text": [
      " [1] \"X\"        \"sid\"      \"grp\"      \"cnd\"      \"fam\"      \"tid\"     \n",
      " [7] \"tord\"     \"pc_grand\" \"pc_first\" \"pc_last\"  \"dpc\"      \"alltime\" \n",
      "[13] \"freetime\" \"nblocks\"  \"avstreak\" \"lrn\"      \"int\"      \"comp\"    \n",
      "[19] \"time\"     \"prog\"     \"rule\"     \"lrn2\"     \"nlrn\"     \"nint\"    \n",
      "[25] \"ncomp\"    \"ntime\"    \"nprog\"    \"nrule\"    \"nlrn2\"    \"lp1\"     \n",
      "[31] \"lp2\"      \"lp3\"      \"ntm\"      \"good_ord\"\n",
      "            Estimate Std. Error   t value Pr(>|t|) Bonferroni\n",
      "(Intercept)  0.83369    0.00949  87.87653  0.00000    0.00000\n",
      "grp1        -0.01957    0.01299  -1.50644  0.13222    1.00000\n",
      "tidA2       -0.07710    0.01342  -5.74687  0.00000    0.00000\n",
      "tidA3       -0.21471    0.01342 -16.00324  0.00000    0.00000\n",
      "tidA4       -0.34434    0.01342 -25.66487  0.00000    0.00000\n",
      "grp1:tidA2   0.01705    0.01838   0.92770  0.35375    1.00000\n",
      "grp1:tidA3   0.06299    0.01838   3.42799  0.00063    0.00503\n",
      "grp1:tidA4   0.03075    0.01838   1.67331  0.09453    0.75621\n"
     ]
    }
   ],
   "source": [
    "df <- read.csv('data/long_ntm_data.csv')\n",
    "print(names(df))\n",
    "# Select data to work with and recode ugly labels\n",
    "df <- df[, c('sid','grp','tid','pc_grand')]\n",
    "names(df)[4] <- 'pc'\n",
    "df$grp <- recode(df$grp, F=0, S=1)\n",
    "df$tid <- recode(df$tid, '1_1D'='A1', '2_I1D'='A2', '3_2D'='A3', '4_R'='A4')\n",
    "# df <- df[df$tid=='A4' | df$tid=='A1', ]\n",
    "\n",
    "# Factorize categorical variables\n",
    "df$sid <- factor(df$sid)\n",
    "df$grp <- factor(df$grp)\n",
    "df$tid <- factor(df$tid)\n",
    "\n",
    "# Fit a linear mixed effects model\n",
    "LM_model <- lm(pc ~ grp * tid, data=df)\n",
    "res <- summary(LM_model)\n",
    "adjusted_pvals <- p.adjust(res$coefficients[, 'Pr(>|t|)'], method='bonferroni')\n",
    "\n",
    "options(scipen=999)\n",
    "print(round(cbind(res$coefficients, Bonferroni=adjusted_pvals),5))\n",
    "# Perform a post hoc analysis\n",
    "# posthoc <- emmeans(LM_model, 'tid', adjust = \"tukey\")\n",
    "# print(pairs(posthoc))"
   ]
  },
  {
   "cell_type": "markdown",
   "metadata": {
    "heading_collapsed": true
   },
   "source": [
    "# Compare task choices"
   ]
  },
  {
   "cell_type": "code",
   "execution_count": 95,
   "metadata": {
    "ExecuteTime": {
     "end_time": "2020-03-05T16:43:02.411588Z",
     "start_time": "2020-03-05T16:43:01.197Z"
    },
    "hidden": true
   },
   "outputs": [
    {
     "name": "stdout",
     "output_type": "stream",
     "text": [
      "            Estimate Std. Error  t value Pr(>|t|) Bonferroni\n",
      "(Intercept)  0.23301    0.01510 15.43624  0.00000    0.00000\n",
      "grp1        -0.03535    0.02067 -1.71040  0.08743    0.69942\n",
      "tid1         0.05506    0.02135  2.57942  0.01000    0.08004\n",
      "tid3        -0.00408    0.02135 -0.19102  0.84854    1.00000\n",
      "tid4         0.01696    0.02135  0.79451  0.42704    1.00000\n",
      "grp1:tid1   -0.09111    0.02923 -3.11683  0.00187    0.01494\n",
      "grp1:tid3    0.05885    0.02923  2.01325  0.04429    0.35434\n",
      "grp1:tid4    0.17368    0.02923  5.94133  0.00000    0.00000\n"
     ]
    }
   ],
   "source": [
    "# Load data\n",
    "df <- read.csv('data/ntm_data_freeplay.csv')[, c('sid','grp','trial','st1','st2','st3','st4')]\n",
    "\n",
    "# Factorize categorical variables\n",
    "df$sid <- factor(df$sid)\n",
    "df$grp <- factor(df$grp)\n",
    "\n",
    "# Aggregate \n",
    "relt <- function(vec){sum(vec)/250}\n",
    "cols_to_aggr <- list(relt1 = df$st1, relt2 = df$st2, \n",
    "                     relt3 = df$st3, relt4 = df$st4)\n",
    "groupings <- list(grp = df$grp, sid = df$sid)\n",
    "df <- aggregate(cols_to_aggr, by=groupings, FUN=relt)\n",
    "\n",
    "# Convert to long format\n",
    "setnames(df, old = c('relt1', 'relt2', 'relt3', 'relt4'), new = as.character(c(1:4)))\n",
    "df <- melt(data = df, \n",
    "           id.vars = c('grp', 'sid'), \n",
    "           measure.vars = , \n",
    "           variable.name = 'tid',\n",
    "           value.name = 'relt')\n",
    "\n",
    "# Fit a linear mixed effects model\n",
    "df <- within(df, tid <- relevel(tid, ref=2))\n",
    "LM_model <- lm(relt ~ grp * tid, data=df)\n",
    "res <- summary(LM_model)\n",
    "adjusted_pvals <- p.adjust(res$coefficients[, 'Pr(>|t|)'], method='bonferroni')\n",
    "\n",
    "options(scipen=999)\n",
    "print(round(cbind(res$coefficients, Bonferroni=adjusted_pvals),5))"
   ]
  },
  {
   "cell_type": "markdown",
   "metadata": {
    "heading_collapsed": true
   },
   "source": [
    "# Comparing numbers of switches in two groups"
   ]
  },
  {
   "cell_type": "code",
   "execution_count": 78,
   "metadata": {
    "ExecuteTime": {
     "end_time": "2020-02-27T12:18:58.783094Z",
     "start_time": "2020-02-27T12:18:52.220Z"
    },
    "hidden": true,
    "scrolled": false
   },
   "outputs": [
    {
     "name": "stdout",
     "output_type": "stream",
     "text": [
      "\n",
      "\tWilcoxon rank sum test with continuity correction\n",
      "\n",
      "data:  by_grp[by_grp$grp == 0, \"switch\"] and by_grp[by_grp$grp == 1, \"switch\"]\n",
      "W = 4254, p-value < 2.2e-16\n",
      "alternative hypothesis: true location shift is not equal to 0\n",
      "\n",
      "  grp    switch\n",
      "1   0  6.246753\n",
      "2   1 10.659091\n",
      "  grp    switch\n",
      "1   0 0.2941456\n",
      "2   1 0.2873720\n"
     ]
    }
   ],
   "source": [
    "df <- read.csv('data/joint_data.csv', check.names=FALSE)[, c('# group','sid','trial','switch')]\n",
    "names(df) <- c('grp','sid','trial','switch')\n",
    "df <- df[df$trial > 60, ]\n",
    "df[df$trial == 61, ] <- 0\n",
    "\n",
    "by_grp <- aggregate(switch ~ grp + sid, df, sum)\n",
    "res <- wilcox.test(\n",
    "    x = by_grp[by_grp$grp==0, 'switch'], \n",
    "    y = by_grp[by_grp$grp==1, 'switch'],\n",
    "    alternative = \"two.sided\"\n",
    ")\n",
    "\n",
    "print(res)\n",
    "\n",
    "sem <- function(x) sqrt(var(x)/length(x))\n",
    "print(aggregate(switch ~ grp, by_grp, mean))\n",
    "print(aggregate(switch ~ grp, by_grp, sem))"
   ]
  }
 ],
 "metadata": {
  "celltoolbar": "Initialization Cell",
  "hide_input": false,
  "kernelspec": {
   "display_name": "R",
   "language": "R",
   "name": "ir"
  },
  "language_info": {
   "codemirror_mode": "r",
   "file_extension": ".r",
   "mimetype": "text/x-r-source",
   "name": "R",
   "pygments_lexer": "r",
   "version": "3.5.0"
  },
  "toc": {
   "base_numbering": 1,
   "nav_menu": {},
   "number_sections": true,
   "sideBar": true,
   "skip_h1_title": false,
   "title_cell": "Table of Contents",
   "title_sidebar": "Contents",
   "toc_cell": false,
   "toc_position": {},
   "toc_section_display": true,
   "toc_window_display": false
  },
  "varInspector": {
   "cols": {
    "lenName": 16,
    "lenType": 16,
    "lenVar": 40
   },
   "kernels_config": {
    "python": {
     "delete_cmd_postfix": "",
     "delete_cmd_prefix": "del ",
     "library": "var_list.py",
     "varRefreshCmd": "print(var_dic_list())"
    },
    "r": {
     "delete_cmd_postfix": ") ",
     "delete_cmd_prefix": "rm(",
     "library": "var_list.r",
     "varRefreshCmd": "cat(var_dic_list()) "
    }
   },
   "types_to_exclude": [
    "module",
    "function",
    "builtin_function_or_method",
    "instance",
    "_Feature"
   ],
   "window_display": false
  }
 },
 "nbformat": 4,
 "nbformat_minor": 2
}
