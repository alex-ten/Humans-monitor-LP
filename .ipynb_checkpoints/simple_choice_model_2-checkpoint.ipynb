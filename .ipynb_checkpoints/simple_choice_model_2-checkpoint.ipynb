{
 "cells": [
  {
   "cell_type": "code",
   "execution_count": 11,
   "metadata": {
    "ExecuteTime": {
     "end_time": "2020-02-17T02:37:36.387479Z",
     "start_time": "2020-02-17T02:37:36.290348Z"
    },
    "init_cell": true
   },
   "outputs": [
    {
     "name": "stdout",
     "output_type": "stream",
     "text": [
      "The snakeviz extension is already loaded. To reload it, use:\n",
      "  %reload_ext snakeviz\n",
      "The autoreload extension is already loaded. To reload it, use:\n",
      "  %reload_ext autoreload\n"
     ]
    },
    {
     "ename": "ModuleNotFoundError",
     "evalue": "No module named 'supplementary'",
     "output_type": "error",
     "traceback": [
      "\u001b[0;31m---------------------------------------------------------------------------\u001b[0m",
      "\u001b[0;31mModuleNotFoundError\u001b[0m                       Traceback (most recent call last)",
      "\u001b[0;32m<ipython-input-11-6771aada7a23>\u001b[0m in \u001b[0;36m<module>\u001b[0;34m()\u001b[0m\n\u001b[1;32m      3\u001b[0m \u001b[0mget_ipython\u001b[0m\u001b[0;34m(\u001b[0m\u001b[0;34m)\u001b[0m\u001b[0;34m.\u001b[0m\u001b[0mrun_line_magic\u001b[0m\u001b[0;34m(\u001b[0m\u001b[0;34m'load_ext'\u001b[0m\u001b[0;34m,\u001b[0m \u001b[0;34m'autoreload'\u001b[0m\u001b[0;34m)\u001b[0m\u001b[0;34m\u001b[0m\u001b[0m\n\u001b[1;32m      4\u001b[0m \u001b[0mget_ipython\u001b[0m\u001b[0;34m(\u001b[0m\u001b[0;34m)\u001b[0m\u001b[0;34m.\u001b[0m\u001b[0mrun_line_magic\u001b[0m\u001b[0;34m(\u001b[0m\u001b[0;34m'autoreload'\u001b[0m\u001b[0;34m,\u001b[0m \u001b[0;34m'2'\u001b[0m\u001b[0;34m)\u001b[0m\u001b[0;34m\u001b[0m\u001b[0m\n\u001b[0;32m----> 5\u001b[0;31m \u001b[0;32mfrom\u001b[0m \u001b[0msupplementary\u001b[0m\u001b[0;34m.\u001b[0m\u001b[0msimple_choice_model\u001b[0m \u001b[0;32mimport\u001b[0m \u001b[0mhits_gen\u001b[0m \u001b[0;32mas\u001b[0m \u001b[0mhits\u001b[0m\u001b[0;34m\u001b[0m\u001b[0m\n\u001b[0m\u001b[1;32m      6\u001b[0m \u001b[0;32mfrom\u001b[0m \u001b[0msupplementary\u001b[0m\u001b[0;34m.\u001b[0m\u001b[0msimple_choice_model\u001b[0m \u001b[0;32mimport\u001b[0m \u001b[0msim_tools\u001b[0m\u001b[0;34m\u001b[0m\u001b[0m\n\u001b[1;32m      7\u001b[0m \u001b[0;32mimport\u001b[0m \u001b[0mipywidgets\u001b[0m \u001b[0;32mas\u001b[0m \u001b[0mwid\u001b[0m\u001b[0;34m\u001b[0m\u001b[0m\n",
      "\u001b[0;31mModuleNotFoundError\u001b[0m: No module named 'supplementary'"
     ]
    }
   ],
   "source": [
    "# %matplotlib notebook\n",
    "%load_ext snakeviz\n",
    "%load_ext autoreload\n",
    "%autoreload 2\n",
    "from supplementary.simple_choice_model import hits_gen as hits\n",
    "from supplementary.simple_choice_model import sim_tools\n",
    "import ipywidgets as wid\n",
    "import loc_utils as lut\n",
    "\n",
    "import vis_utils as vut\n",
    "import numpy as np\n",
    "import pandas as pd\n",
    "import scipy as sp\n",
    "import contextlib\n",
    "import matplotlib.pyplot as plt\n",
    "from matplotlib.gridspec import GridSpec\n",
    "import matplotlib as mpl\n",
    "mpl.use('Agg')\n",
    "from IPython.display import display\n",
    "from itertools import combinations\n",
    "from tqdm import tqdm_notebook\n",
    "import numdifftools as nd\n",
    "import statsmodels.api as sm\n",
    "from statsmodels.formula.api import ols, logit\n",
    "\n",
    "from collections import OrderedDict\n",
    "\n",
    "colors = ['#43799d', '#cc5b46', '#ffbb00', '#71bc78', '#43799d', '#cc5b46', '#ffbb00', '#71bc78']\n",
    "gcolors = ['#008fd5', '#fc4f30', '#e5ae38', '#6d904f']\n",
    "\n",
    "glabels = {0: 'F', 1: 'S'} \n",
    "fullglabels = {0: 'Free', 1: 'Strategic'}\n",
    "\n",
    "@contextlib.contextmanager\n",
    "def temp_seed(seed):\n",
    "    state = np.random.get_state()\n",
    "    np.random.seed(seed)\n",
    "    try:\n",
    "        yield\n",
    "    finally:\n",
    "        np.random.set_state(state)"
   ]
  },
  {
   "cell_type": "markdown",
   "metadata": {},
   "source": [
    "## Estimating population parameters from individual-level data (via negative log of trial-wise composite likelihood)"
   ]
  },
  {
   "cell_type": "code",
   "execution_count": 331,
   "metadata": {
    "ExecuteTime": {
     "end_time": "2020-02-11T14:20:20.043102Z",
     "start_time": "2020-02-11T14:20:19.441551Z"
    },
    "code_folding": [],
    "scrolled": false
   },
   "outputs": [
    {
     "name": "stdout",
     "output_type": "stream",
     "text": [
      "0 1 2 3 4 5 6 7 8 9 "
     ]
    },
    {
     "ename": "ValueError",
     "evalue": "need at least one array to stack",
     "output_type": "error",
     "traceback": [
      "\u001b[0;31m---------------------------------------------------------------------------\u001b[0m",
      "\u001b[0;31mValueError\u001b[0m                                Traceback (most recent call last)",
      "\u001b[0;32m<ipython-input-331-becc801f1724>\u001b[0m in \u001b[0;36m<module>\u001b[0;34m()\u001b[0m\n\u001b[1;32m     76\u001b[0m     \u001b[0marr\u001b[0m\u001b[0;34m.\u001b[0m\u001b[0mappend\u001b[0m\u001b[0;34m(\u001b[0m\u001b[0mpd\u001b[0m\u001b[0;34m.\u001b[0m\u001b[0mDataFrame\u001b[0m\u001b[0;34m(\u001b[0m\u001b[0mdata_dict\u001b[0m\u001b[0;34m)\u001b[0m\u001b[0;34m.\u001b[0m\u001b[0mvalues\u001b[0m\u001b[0;34m)\u001b[0m\u001b[0;34m\u001b[0m\u001b[0m\n\u001b[1;32m     77\u001b[0m \u001b[0;34m\u001b[0m\u001b[0m\n\u001b[0;32m---> 78\u001b[0;31m \u001b[0marr\u001b[0m \u001b[0;34m=\u001b[0m \u001b[0mnp\u001b[0m\u001b[0;34m.\u001b[0m\u001b[0mstack\u001b[0m\u001b[0;34m(\u001b[0m\u001b[0marr\u001b[0m\u001b[0;34m,\u001b[0m \u001b[0maxis\u001b[0m\u001b[0;34m=\u001b[0m\u001b[0;36m0\u001b[0m\u001b[0;34m)\u001b[0m\u001b[0;34m\u001b[0m\u001b[0m\n\u001b[0m\u001b[1;32m     79\u001b[0m \u001b[0;31m# lut.dopickle('/Users/alexten/Projects/Concept-Lab/mult_seeds_data_small_bounds_norm2.pkl', data=arr)\u001b[0m\u001b[0;34m\u001b[0m\u001b[0;34m\u001b[0m\u001b[0m\n\u001b[1;32m     80\u001b[0m     \u001b[0;31m#     data_dict['bic'].append(2*f + np.log(chs.shape[0])*len(bounds.keys()))\u001b[0m\u001b[0;34m\u001b[0m\u001b[0;34m\u001b[0m\u001b[0m\n",
      "\u001b[0;32m/Library/Frameworks/Python.framework/Versions/3.6/lib/python3.6/site-packages/numpy/core/shape_base.py\u001b[0m in \u001b[0;36mstack\u001b[0;34m(arrays, axis, out)\u001b[0m\n\u001b[1;32m    409\u001b[0m     \u001b[0marrays\u001b[0m \u001b[0;34m=\u001b[0m \u001b[0;34m[\u001b[0m\u001b[0masanyarray\u001b[0m\u001b[0;34m(\u001b[0m\u001b[0marr\u001b[0m\u001b[0;34m)\u001b[0m \u001b[0;32mfor\u001b[0m \u001b[0marr\u001b[0m \u001b[0;32min\u001b[0m \u001b[0marrays\u001b[0m\u001b[0;34m]\u001b[0m\u001b[0;34m\u001b[0m\u001b[0m\n\u001b[1;32m    410\u001b[0m     \u001b[0;32mif\u001b[0m \u001b[0;32mnot\u001b[0m \u001b[0marrays\u001b[0m\u001b[0;34m:\u001b[0m\u001b[0;34m\u001b[0m\u001b[0m\n\u001b[0;32m--> 411\u001b[0;31m         \u001b[0;32mraise\u001b[0m \u001b[0mValueError\u001b[0m\u001b[0;34m(\u001b[0m\u001b[0;34m'need at least one array to stack'\u001b[0m\u001b[0;34m)\u001b[0m\u001b[0;34m\u001b[0m\u001b[0m\n\u001b[0m\u001b[1;32m    412\u001b[0m \u001b[0;34m\u001b[0m\u001b[0m\n\u001b[1;32m    413\u001b[0m     \u001b[0mshapes\u001b[0m \u001b[0;34m=\u001b[0m \u001b[0;34m{\u001b[0m\u001b[0marr\u001b[0m\u001b[0;34m.\u001b[0m\u001b[0mshape\u001b[0m \u001b[0;32mfor\u001b[0m \u001b[0marr\u001b[0m \u001b[0;32min\u001b[0m \u001b[0marrays\u001b[0m\u001b[0;34m}\u001b[0m\u001b[0;34m\u001b[0m\u001b[0m\n",
      "\u001b[0;31mValueError\u001b[0m: need at least one array to stack"
     ]
    }
   ],
   "source": [
    "import warnings\n",
    "warnings.filterwarnings(\"ignore\")\n",
    "only_switch_trials = False\n",
    "apply_bounds = False\n",
    "\n",
    "bounds = OrderedDict({\n",
    "          'alpha':[-1, 1],\n",
    "          'beta':[-1, 1],\n",
    "#           'gamma':[-1, 1],\n",
    "#           'theta':[-1, 0],\n",
    "          'tau':[1,10]})\n",
    "\n",
    "def neg_log_likelihood(params, *args):\n",
    "    coeffs = np.array(params[:-1])\n",
    "    inps = np.stack(args[:-1], axis=0)\n",
    "    U = (coeffs[:, None, None] * inps).sum(axis=0)\n",
    "    exponent = np.exp(U * params[-1])\n",
    "    P = (exponent.T / np.sum(exponent, axis=1)).T\n",
    "    logP = np.log(P[args[-1].astype(bool)])\n",
    "    logL = np.sum(logP, axis=0)\n",
    "    return -logL\n",
    "\n",
    "# Estimate the params\n",
    "df = lut.unpickle('supplementary/simple_choice_model/data/fit_data.pkl')\n",
    "df = df.loc[df.ntm != 0, :]\n",
    "\n",
    "if only_switch_trials:\n",
    "    z = lut.unpickle('supplementary/simple_choice_model/data/trials_data_w15.pkl')\n",
    "    z.loc[:, 'trial'] = z.trial - 60\n",
    "    df = df.merge(z.loc[:, ('sid','trial','switch')], on=['sid','trial']).drop_duplicates()\n",
    "    df = df.loc[df.switch==1]\n",
    "\n",
    "arr = []\n",
    "for seed in range(10):\n",
    "    print(seed, end=' ')\n",
    "    np.random.seed(seed)\n",
    "    data_dict = {'sid': [], 'grp': [], 'ntm': [], 'loss': [], \n",
    "             'aic': [], 'aic_0': [], 'aic_diff': []}\n",
    "    for k in bounds.keys(): data_dict[k] = []\n",
    "    continue\n",
    "    init_guess = sim_tools.rand_params([bound for bound in bounds.values()])\n",
    "    for i, sdf in df.groupby('sid'):\n",
    "        sid, grp, ntm = sdf.sid.values[0], sdf.grp.values[0], sdf.ntm.values[0]\n",
    "        lps = sdf.loc[:, 'lp1':'lp4'].values[1:, :] - sdf.loc[:, 'lp1':'lp4'].values[1:, :].mean(axis=1)[:,np.newaxis]\n",
    "        pcs = sdf.loc[:, 'pc1':'pc4'].values[1:, :] - sdf.loc[:, 'pc1':'pc4'].values[1:, :].mean(axis=1)[:,np.newaxis]\n",
    "        ins = sdf.loc[:, 'in1':'in4'].values[1:, :]\n",
    "        chs = sdf.loc[:, 'ch1':'ch4'].values[1:, :]\n",
    "        time_alloc = (sdf.loc[:, 'ch1':'ch4'].values[1:, :].cumsum(axis=0) + 15)\n",
    "        trs = (time_alloc.T / time_alloc.sum(axis=1)).T\n",
    "\n",
    "        data = {'alpha':lps, 'beta':pcs, 'gamma':ins, 'theta':trs, 'tau':chs}\n",
    "        data = tuple([data[k] for k in bounds.keys()])\n",
    "        data_arr = np.stack(data, axis=0)\n",
    "\n",
    "        if apply_bounds:\n",
    "            x, f, d = sp.optimize.fmin_l_bfgs_b(func=neg_log_likelihood, x0=init_guess, args=data,\n",
    "                                            approx_grad=True, disp=False, bounds=tuple(bounds.values()))\n",
    "        else:\n",
    "            res = sp.optimize.minimize(neg_log_likelihood, x0=init_guess, args=data)\n",
    "            x, f = res.x, res.fun\n",
    "            if np.isnan(f): f = 10e5\n",
    "\n",
    "        baseline = neg_log_likelihood([0 for k in bounds.keys()], *data)\n",
    "        \n",
    "        # Store params   \n",
    "        data_dict['sid'].append(sid)\n",
    "        data_dict['grp'].append(grp)\n",
    "        data_dict['ntm'].append(ntm)\n",
    "        data_dict['loss'].append(f)\n",
    "        for i, k in enumerate(bounds.keys()):\n",
    "            data_dict[k].append(x[i])\n",
    "        data_dict['aic'].append(2*f + 2*len(bounds.keys()))\n",
    "        data_dict['aic_0'].append(2*baseline + 2*len(bounds.keys()))\n",
    "        data_dict['aic_diff'].append(data_dict['aic_0'][-1] - data_dict['aic'][-1])\n",
    "    \n",
    "    arr.append(pd.DataFrame(data_dict).values)\n",
    "    \n",
    "arr = np.stack(arr, axis=0)\n",
    "# lut.dopickle('/Users/alexten/Projects/Concept-Lab/mult_seeds_data_small_bounds_norm2.pkl', data=arr)\n",
    "    #     data_dict['bic'].append(2*f + np.log(chs.shape[0])*len(bounds.keys()))\n",
    "    #     data_dict['bic_0'].append(2*baseline + np.log(chs.shape[0])*len(bounds.keys()))\n",
    "    #     data_dict['bic_diff'].append(data_dict['bic_0'][-1] - data_dict['bic'][-1])"
   ]
  },
  {
   "cell_type": "markdown",
   "metadata": {},
   "source": [
    "## Visualize individual-level parameter distributions"
   ]
  },
  {
   "cell_type": "code",
   "execution_count": 345,
   "metadata": {
    "ExecuteTime": {
     "end_time": "2020-02-11T19:42:57.258375Z",
     "start_time": "2020-02-11T19:42:55.888448Z"
    },
    "scrolled": false
   },
   "outputs": [
    {
     "name": "stdout",
     "output_type": "stream",
     "text": [
      "317 / 320 = 0.990625\n"
     ]
    },
    {
     "data": {
      "text/html": [
       "<div>\n",
       "<style scoped>\n",
       "    .dataframe tbody tr th:only-of-type {\n",
       "        vertical-align: middle;\n",
       "    }\n",
       "\n",
       "    .dataframe tbody tr th {\n",
       "        vertical-align: top;\n",
       "    }\n",
       "\n",
       "    .dataframe thead th {\n",
       "        text-align: right;\n",
       "    }\n",
       "</style>\n",
       "<table border=\"1\" class=\"dataframe\">\n",
       "  <thead>\n",
       "    <tr style=\"text-align: right;\">\n",
       "      <th></th>\n",
       "      <th>loss</th>\n",
       "      <th>aic</th>\n",
       "      <th>aic_0</th>\n",
       "      <th>aic_diff</th>\n",
       "      <th>alpha</th>\n",
       "      <th>beta</th>\n",
       "      <th>tau</th>\n",
       "    </tr>\n",
       "    <tr>\n",
       "      <th>grp</th>\n",
       "      <th></th>\n",
       "      <th></th>\n",
       "      <th></th>\n",
       "      <th></th>\n",
       "      <th></th>\n",
       "      <th></th>\n",
       "      <th></th>\n",
       "    </tr>\n",
       "  </thead>\n",
       "  <tbody>\n",
       "    <tr>\n",
       "      <th>0.00000</th>\n",
       "      <td>273.10321</td>\n",
       "      <td>552.20641</td>\n",
       "      <td>693.60200</td>\n",
       "      <td>141.39559</td>\n",
       "      <td>0.14916</td>\n",
       "      <td>0.19184</td>\n",
       "      <td>6.67414</td>\n",
       "    </tr>\n",
       "    <tr>\n",
       "      <th>1.00000</th>\n",
       "      <td>272.48269</td>\n",
       "      <td>550.96538</td>\n",
       "      <td>693.60200</td>\n",
       "      <td>142.63662</td>\n",
       "      <td>0.01991</td>\n",
       "      <td>-0.40760</td>\n",
       "      <td>6.61986</td>\n",
       "    </tr>\n",
       "  </tbody>\n",
       "</table>\n",
       "</div>"
      ],
      "text/plain": [
       "             loss       aic     aic_0  aic_diff   alpha     beta     tau\n",
       "grp                                                                     \n",
       "0.00000 273.10321 552.20641 693.60200 141.39559 0.14916  0.19184 6.67414\n",
       "1.00000 272.48269 550.96538 693.60200 142.63662 0.01991 -0.40760 6.61986"
      ]
     },
     "metadata": {},
     "output_type": "display_data"
    },
    {
     "data": {
      "text/html": [
       "<div>\n",
       "<style scoped>\n",
       "    .dataframe tbody tr th:only-of-type {\n",
       "        vertical-align: middle;\n",
       "    }\n",
       "\n",
       "    .dataframe tbody tr th {\n",
       "        vertical-align: top;\n",
       "    }\n",
       "\n",
       "    .dataframe thead th {\n",
       "        text-align: right;\n",
       "    }\n",
       "</style>\n",
       "<table border=\"1\" class=\"dataframe\">\n",
       "  <thead>\n",
       "    <tr style=\"text-align: right;\">\n",
       "      <th></th>\n",
       "      <th>loss</th>\n",
       "      <th>aic</th>\n",
       "      <th>aic_0</th>\n",
       "      <th>aic_diff</th>\n",
       "      <th>alpha</th>\n",
       "      <th>beta</th>\n",
       "      <th>tau</th>\n",
       "    </tr>\n",
       "    <tr>\n",
       "      <th>ntm</th>\n",
       "      <th></th>\n",
       "      <th></th>\n",
       "      <th></th>\n",
       "      <th></th>\n",
       "      <th></th>\n",
       "      <th></th>\n",
       "      <th></th>\n",
       "    </tr>\n",
       "  </thead>\n",
       "  <tbody>\n",
       "    <tr>\n",
       "      <th>1.00000</th>\n",
       "      <td>234.61393</td>\n",
       "      <td>475.22785</td>\n",
       "      <td>693.60200</td>\n",
       "      <td>218.37415</td>\n",
       "      <td>0.15304</td>\n",
       "      <td>0.14378</td>\n",
       "      <td>7.19542</td>\n",
       "    </tr>\n",
       "    <tr>\n",
       "      <th>2.00000</th>\n",
       "      <td>277.21323</td>\n",
       "      <td>560.42647</td>\n",
       "      <td>693.60200</td>\n",
       "      <td>133.17554</td>\n",
       "      <td>0.01386</td>\n",
       "      <td>-0.02073</td>\n",
       "      <td>6.28313</td>\n",
       "    </tr>\n",
       "    <tr>\n",
       "      <th>3.00000</th>\n",
       "      <td>285.33818</td>\n",
       "      <td>576.67636</td>\n",
       "      <td>693.60200</td>\n",
       "      <td>116.92564</td>\n",
       "      <td>0.10728</td>\n",
       "      <td>-0.34592</td>\n",
       "      <td>6.73090</td>\n",
       "    </tr>\n",
       "  </tbody>\n",
       "</table>\n",
       "</div>"
      ],
      "text/plain": [
       "             loss       aic     aic_0  aic_diff   alpha     beta     tau\n",
       "ntm                                                                     \n",
       "1.00000 234.61393 475.22785 693.60200 218.37415 0.15304  0.14378 7.19542\n",
       "2.00000 277.21323 560.42647 693.60200 133.17554 0.01386 -0.02073 6.28313\n",
       "3.00000 285.33818 576.67636 693.60200 116.92564 0.10728 -0.34592 6.73090"
      ]
     },
     "metadata": {},
     "output_type": "display_data"
    },
    {
     "data": {
      "text/html": [
       "<div>\n",
       "<style scoped>\n",
       "    .dataframe tbody tr th:only-of-type {\n",
       "        vertical-align: middle;\n",
       "    }\n",
       "\n",
       "    .dataframe tbody tr th {\n",
       "        vertical-align: top;\n",
       "    }\n",
       "\n",
       "    .dataframe thead th {\n",
       "        text-align: right;\n",
       "    }\n",
       "</style>\n",
       "<table border=\"1\" class=\"dataframe\">\n",
       "  <thead>\n",
       "    <tr style=\"text-align: right;\">\n",
       "      <th></th>\n",
       "      <th></th>\n",
       "      <th>loss</th>\n",
       "      <th>aic</th>\n",
       "      <th>aic_0</th>\n",
       "      <th>aic_diff</th>\n",
       "      <th>alpha</th>\n",
       "      <th>beta</th>\n",
       "      <th>tau</th>\n",
       "    </tr>\n",
       "    <tr>\n",
       "      <th>grp</th>\n",
       "      <th>ntm</th>\n",
       "      <th></th>\n",
       "      <th></th>\n",
       "      <th></th>\n",
       "      <th></th>\n",
       "      <th></th>\n",
       "      <th></th>\n",
       "      <th></th>\n",
       "    </tr>\n",
       "  </thead>\n",
       "  <tbody>\n",
       "    <tr>\n",
       "      <th rowspan=\"3\" valign=\"top\">0.00000</th>\n",
       "      <th>1.00000</th>\n",
       "      <td>239.77271</td>\n",
       "      <td>485.54542</td>\n",
       "      <td>693.60200</td>\n",
       "      <td>208.05659</td>\n",
       "      <td>0.26436</td>\n",
       "      <td>0.52876</td>\n",
       "      <td>7.04136</td>\n",
       "    </tr>\n",
       "    <tr>\n",
       "      <th>2.00000</th>\n",
       "      <td>280.63783</td>\n",
       "      <td>567.27566</td>\n",
       "      <td>693.60200</td>\n",
       "      <td>126.32634</td>\n",
       "      <td>0.08604</td>\n",
       "      <td>0.31122</td>\n",
       "      <td>6.53631</td>\n",
       "    </tr>\n",
       "    <tr>\n",
       "      <th>3.00000</th>\n",
       "      <td>285.55536</td>\n",
       "      <td>577.11073</td>\n",
       "      <td>693.60200</td>\n",
       "      <td>116.49127</td>\n",
       "      <td>0.15530</td>\n",
       "      <td>-0.19343</td>\n",
       "      <td>6.60965</td>\n",
       "    </tr>\n",
       "    <tr>\n",
       "      <th rowspan=\"3\" valign=\"top\">1.00000</th>\n",
       "      <th>1.00000</th>\n",
       "      <td>228.06624</td>\n",
       "      <td>462.13248</td>\n",
       "      <td>693.60200</td>\n",
       "      <td>231.46952</td>\n",
       "      <td>0.01174</td>\n",
       "      <td>-0.34485</td>\n",
       "      <td>7.39096</td>\n",
       "    </tr>\n",
       "    <tr>\n",
       "      <th>2.00000</th>\n",
       "      <td>273.30799</td>\n",
       "      <td>552.61598</td>\n",
       "      <td>693.60200</td>\n",
       "      <td>140.98602</td>\n",
       "      <td>-0.06845</td>\n",
       "      <td>-0.39928</td>\n",
       "      <td>5.99441</td>\n",
       "    </tr>\n",
       "    <tr>\n",
       "      <th>3.00000</th>\n",
       "      <td>285.21586</td>\n",
       "      <td>576.43171</td>\n",
       "      <td>693.60200</td>\n",
       "      <td>117.17029</td>\n",
       "      <td>0.08024</td>\n",
       "      <td>-0.43180</td>\n",
       "      <td>6.79919</td>\n",
       "    </tr>\n",
       "  </tbody>\n",
       "</table>\n",
       "</div>"
      ],
      "text/plain": [
       "                     loss       aic     aic_0  aic_diff    alpha     beta  \\\n",
       "grp     ntm                                                                 \n",
       "0.00000 1.00000 239.77271 485.54542 693.60200 208.05659  0.26436  0.52876   \n",
       "        2.00000 280.63783 567.27566 693.60200 126.32634  0.08604  0.31122   \n",
       "        3.00000 285.55536 577.11073 693.60200 116.49127  0.15530 -0.19343   \n",
       "1.00000 1.00000 228.06624 462.13248 693.60200 231.46952  0.01174 -0.34485   \n",
       "        2.00000 273.30799 552.61598 693.60200 140.98602 -0.06845 -0.39928   \n",
       "        3.00000 285.21586 576.43171 693.60200 117.17029  0.08024 -0.43180   \n",
       "\n",
       "                    tau  \n",
       "grp     ntm              \n",
       "0.00000 1.00000 7.04136  \n",
       "        2.00000 6.53631  \n",
       "        3.00000 6.60965  \n",
       "1.00000 1.00000 7.39096  \n",
       "        2.00000 5.99441  \n",
       "        3.00000 6.79919  "
      ]
     },
     "metadata": {},
     "output_type": "display_data"
    },
    {
     "data": {
      "application/javascript": [
       "/* Put everything inside the global mpl namespace */\n",
       "window.mpl = {};\n",
       "\n",
       "\n",
       "mpl.get_websocket_type = function() {\n",
       "    if (typeof(WebSocket) !== 'undefined') {\n",
       "        return WebSocket;\n",
       "    } else if (typeof(MozWebSocket) !== 'undefined') {\n",
       "        return MozWebSocket;\n",
       "    } else {\n",
       "        alert('Your browser does not have WebSocket support.' +\n",
       "              'Please try Chrome, Safari or Firefox ≥ 6. ' +\n",
       "              'Firefox 4 and 5 are also supported but you ' +\n",
       "              'have to enable WebSockets in about:config.');\n",
       "    };\n",
       "}\n",
       "\n",
       "mpl.figure = function(figure_id, websocket, ondownload, parent_element) {\n",
       "    this.id = figure_id;\n",
       "\n",
       "    this.ws = websocket;\n",
       "\n",
       "    this.supports_binary = (this.ws.binaryType != undefined);\n",
       "\n",
       "    if (!this.supports_binary) {\n",
       "        var warnings = document.getElementById(\"mpl-warnings\");\n",
       "        if (warnings) {\n",
       "            warnings.style.display = 'block';\n",
       "            warnings.textContent = (\n",
       "                \"This browser does not support binary websocket messages. \" +\n",
       "                    \"Performance may be slow.\");\n",
       "        }\n",
       "    }\n",
       "\n",
       "    this.imageObj = new Image();\n",
       "\n",
       "    this.context = undefined;\n",
       "    this.message = undefined;\n",
       "    this.canvas = undefined;\n",
       "    this.rubberband_canvas = undefined;\n",
       "    this.rubberband_context = undefined;\n",
       "    this.format_dropdown = undefined;\n",
       "\n",
       "    this.image_mode = 'full';\n",
       "\n",
       "    this.root = $('<div/>');\n",
       "    this._root_extra_style(this.root)\n",
       "    this.root.attr('style', 'display: inline-block');\n",
       "\n",
       "    $(parent_element).append(this.root);\n",
       "\n",
       "    this._init_header(this);\n",
       "    this._init_canvas(this);\n",
       "    this._init_toolbar(this);\n",
       "\n",
       "    var fig = this;\n",
       "\n",
       "    this.waiting = false;\n",
       "\n",
       "    this.ws.onopen =  function () {\n",
       "            fig.send_message(\"supports_binary\", {value: fig.supports_binary});\n",
       "            fig.send_message(\"send_image_mode\", {});\n",
       "            if (mpl.ratio != 1) {\n",
       "                fig.send_message(\"set_dpi_ratio\", {'dpi_ratio': mpl.ratio});\n",
       "            }\n",
       "            fig.send_message(\"refresh\", {});\n",
       "        }\n",
       "\n",
       "    this.imageObj.onload = function() {\n",
       "            if (fig.image_mode == 'full') {\n",
       "                // Full images could contain transparency (where diff images\n",
       "                // almost always do), so we need to clear the canvas so that\n",
       "                // there is no ghosting.\n",
       "                fig.context.clearRect(0, 0, fig.canvas.width, fig.canvas.height);\n",
       "            }\n",
       "            fig.context.drawImage(fig.imageObj, 0, 0);\n",
       "        };\n",
       "\n",
       "    this.imageObj.onunload = function() {\n",
       "        fig.ws.close();\n",
       "    }\n",
       "\n",
       "    this.ws.onmessage = this._make_on_message_function(this);\n",
       "\n",
       "    this.ondownload = ondownload;\n",
       "}\n",
       "\n",
       "mpl.figure.prototype._init_header = function() {\n",
       "    var titlebar = $(\n",
       "        '<div class=\"ui-dialog-titlebar ui-widget-header ui-corner-all ' +\n",
       "        'ui-helper-clearfix\"/>');\n",
       "    var titletext = $(\n",
       "        '<div class=\"ui-dialog-title\" style=\"width: 100%; ' +\n",
       "        'text-align: center; padding: 3px;\"/>');\n",
       "    titlebar.append(titletext)\n",
       "    this.root.append(titlebar);\n",
       "    this.header = titletext[0];\n",
       "}\n",
       "\n",
       "\n",
       "\n",
       "mpl.figure.prototype._canvas_extra_style = function(canvas_div) {\n",
       "\n",
       "}\n",
       "\n",
       "\n",
       "mpl.figure.prototype._root_extra_style = function(canvas_div) {\n",
       "\n",
       "}\n",
       "\n",
       "mpl.figure.prototype._init_canvas = function() {\n",
       "    var fig = this;\n",
       "\n",
       "    var canvas_div = $('<div/>');\n",
       "\n",
       "    canvas_div.attr('style', 'position: relative; clear: both; outline: 0');\n",
       "\n",
       "    function canvas_keyboard_event(event) {\n",
       "        return fig.key_event(event, event['data']);\n",
       "    }\n",
       "\n",
       "    canvas_div.keydown('key_press', canvas_keyboard_event);\n",
       "    canvas_div.keyup('key_release', canvas_keyboard_event);\n",
       "    this.canvas_div = canvas_div\n",
       "    this._canvas_extra_style(canvas_div)\n",
       "    this.root.append(canvas_div);\n",
       "\n",
       "    var canvas = $('<canvas/>');\n",
       "    canvas.addClass('mpl-canvas');\n",
       "    canvas.attr('style', \"left: 0; top: 0; z-index: 0; outline: 0\")\n",
       "\n",
       "    this.canvas = canvas[0];\n",
       "    this.context = canvas[0].getContext(\"2d\");\n",
       "\n",
       "    var backingStore = this.context.backingStorePixelRatio ||\n",
       "\tthis.context.webkitBackingStorePixelRatio ||\n",
       "\tthis.context.mozBackingStorePixelRatio ||\n",
       "\tthis.context.msBackingStorePixelRatio ||\n",
       "\tthis.context.oBackingStorePixelRatio ||\n",
       "\tthis.context.backingStorePixelRatio || 1;\n",
       "\n",
       "    mpl.ratio = (window.devicePixelRatio || 1) / backingStore;\n",
       "\n",
       "    var rubberband = $('<canvas/>');\n",
       "    rubberband.attr('style', \"position: absolute; left: 0; top: 0; z-index: 1;\")\n",
       "\n",
       "    var pass_mouse_events = true;\n",
       "\n",
       "    canvas_div.resizable({\n",
       "        start: function(event, ui) {\n",
       "            pass_mouse_events = false;\n",
       "        },\n",
       "        resize: function(event, ui) {\n",
       "            fig.request_resize(ui.size.width, ui.size.height);\n",
       "        },\n",
       "        stop: function(event, ui) {\n",
       "            pass_mouse_events = true;\n",
       "            fig.request_resize(ui.size.width, ui.size.height);\n",
       "        },\n",
       "    });\n",
       "\n",
       "    function mouse_event_fn(event) {\n",
       "        if (pass_mouse_events)\n",
       "            return fig.mouse_event(event, event['data']);\n",
       "    }\n",
       "\n",
       "    rubberband.mousedown('button_press', mouse_event_fn);\n",
       "    rubberband.mouseup('button_release', mouse_event_fn);\n",
       "    // Throttle sequential mouse events to 1 every 20ms.\n",
       "    rubberband.mousemove('motion_notify', mouse_event_fn);\n",
       "\n",
       "    rubberband.mouseenter('figure_enter', mouse_event_fn);\n",
       "    rubberband.mouseleave('figure_leave', mouse_event_fn);\n",
       "\n",
       "    canvas_div.on(\"wheel\", function (event) {\n",
       "        event = event.originalEvent;\n",
       "        event['data'] = 'scroll'\n",
       "        if (event.deltaY < 0) {\n",
       "            event.step = 1;\n",
       "        } else {\n",
       "            event.step = -1;\n",
       "        }\n",
       "        mouse_event_fn(event);\n",
       "    });\n",
       "\n",
       "    canvas_div.append(canvas);\n",
       "    canvas_div.append(rubberband);\n",
       "\n",
       "    this.rubberband = rubberband;\n",
       "    this.rubberband_canvas = rubberband[0];\n",
       "    this.rubberband_context = rubberband[0].getContext(\"2d\");\n",
       "    this.rubberband_context.strokeStyle = \"#000000\";\n",
       "\n",
       "    this._resize_canvas = function(width, height) {\n",
       "        // Keep the size of the canvas, canvas container, and rubber band\n",
       "        // canvas in synch.\n",
       "        canvas_div.css('width', width)\n",
       "        canvas_div.css('height', height)\n",
       "\n",
       "        canvas.attr('width', width * mpl.ratio);\n",
       "        canvas.attr('height', height * mpl.ratio);\n",
       "        canvas.attr('style', 'width: ' + width + 'px; height: ' + height + 'px;');\n",
       "\n",
       "        rubberband.attr('width', width);\n",
       "        rubberband.attr('height', height);\n",
       "    }\n",
       "\n",
       "    // Set the figure to an initial 600x600px, this will subsequently be updated\n",
       "    // upon first draw.\n",
       "    this._resize_canvas(600, 600);\n",
       "\n",
       "    // Disable right mouse context menu.\n",
       "    $(this.rubberband_canvas).bind(\"contextmenu\",function(e){\n",
       "        return false;\n",
       "    });\n",
       "\n",
       "    function set_focus () {\n",
       "        canvas.focus();\n",
       "        canvas_div.focus();\n",
       "    }\n",
       "\n",
       "    window.setTimeout(set_focus, 100);\n",
       "}\n",
       "\n",
       "mpl.figure.prototype._init_toolbar = function() {\n",
       "    var fig = this;\n",
       "\n",
       "    var nav_element = $('<div/>')\n",
       "    nav_element.attr('style', 'width: 100%');\n",
       "    this.root.append(nav_element);\n",
       "\n",
       "    // Define a callback function for later on.\n",
       "    function toolbar_event(event) {\n",
       "        return fig.toolbar_button_onclick(event['data']);\n",
       "    }\n",
       "    function toolbar_mouse_event(event) {\n",
       "        return fig.toolbar_button_onmouseover(event['data']);\n",
       "    }\n",
       "\n",
       "    for(var toolbar_ind in mpl.toolbar_items) {\n",
       "        var name = mpl.toolbar_items[toolbar_ind][0];\n",
       "        var tooltip = mpl.toolbar_items[toolbar_ind][1];\n",
       "        var image = mpl.toolbar_items[toolbar_ind][2];\n",
       "        var method_name = mpl.toolbar_items[toolbar_ind][3];\n",
       "\n",
       "        if (!name) {\n",
       "            // put a spacer in here.\n",
       "            continue;\n",
       "        }\n",
       "        var button = $('<button/>');\n",
       "        button.addClass('ui-button ui-widget ui-state-default ui-corner-all ' +\n",
       "                        'ui-button-icon-only');\n",
       "        button.attr('role', 'button');\n",
       "        button.attr('aria-disabled', 'false');\n",
       "        button.click(method_name, toolbar_event);\n",
       "        button.mouseover(tooltip, toolbar_mouse_event);\n",
       "\n",
       "        var icon_img = $('<span/>');\n",
       "        icon_img.addClass('ui-button-icon-primary ui-icon');\n",
       "        icon_img.addClass(image);\n",
       "        icon_img.addClass('ui-corner-all');\n",
       "\n",
       "        var tooltip_span = $('<span/>');\n",
       "        tooltip_span.addClass('ui-button-text');\n",
       "        tooltip_span.html(tooltip);\n",
       "\n",
       "        button.append(icon_img);\n",
       "        button.append(tooltip_span);\n",
       "\n",
       "        nav_element.append(button);\n",
       "    }\n",
       "\n",
       "    var fmt_picker_span = $('<span/>');\n",
       "\n",
       "    var fmt_picker = $('<select/>');\n",
       "    fmt_picker.addClass('mpl-toolbar-option ui-widget ui-widget-content');\n",
       "    fmt_picker_span.append(fmt_picker);\n",
       "    nav_element.append(fmt_picker_span);\n",
       "    this.format_dropdown = fmt_picker[0];\n",
       "\n",
       "    for (var ind in mpl.extensions) {\n",
       "        var fmt = mpl.extensions[ind];\n",
       "        var option = $(\n",
       "            '<option/>', {selected: fmt === mpl.default_extension}).html(fmt);\n",
       "        fmt_picker.append(option)\n",
       "    }\n",
       "\n",
       "    // Add hover states to the ui-buttons\n",
       "    $( \".ui-button\" ).hover(\n",
       "        function() { $(this).addClass(\"ui-state-hover\");},\n",
       "        function() { $(this).removeClass(\"ui-state-hover\");}\n",
       "    );\n",
       "\n",
       "    var status_bar = $('<span class=\"mpl-message\"/>');\n",
       "    nav_element.append(status_bar);\n",
       "    this.message = status_bar[0];\n",
       "}\n",
       "\n",
       "mpl.figure.prototype.request_resize = function(x_pixels, y_pixels) {\n",
       "    // Request matplotlib to resize the figure. Matplotlib will then trigger a resize in the client,\n",
       "    // which will in turn request a refresh of the image.\n",
       "    this.send_message('resize', {'width': x_pixels, 'height': y_pixels});\n",
       "}\n",
       "\n",
       "mpl.figure.prototype.send_message = function(type, properties) {\n",
       "    properties['type'] = type;\n",
       "    properties['figure_id'] = this.id;\n",
       "    this.ws.send(JSON.stringify(properties));\n",
       "}\n",
       "\n",
       "mpl.figure.prototype.send_draw_message = function() {\n",
       "    if (!this.waiting) {\n",
       "        this.waiting = true;\n",
       "        this.ws.send(JSON.stringify({type: \"draw\", figure_id: this.id}));\n",
       "    }\n",
       "}\n",
       "\n",
       "\n",
       "mpl.figure.prototype.handle_save = function(fig, msg) {\n",
       "    var format_dropdown = fig.format_dropdown;\n",
       "    var format = format_dropdown.options[format_dropdown.selectedIndex].value;\n",
       "    fig.ondownload(fig, format);\n",
       "}\n",
       "\n",
       "\n",
       "mpl.figure.prototype.handle_resize = function(fig, msg) {\n",
       "    var size = msg['size'];\n",
       "    if (size[0] != fig.canvas.width || size[1] != fig.canvas.height) {\n",
       "        fig._resize_canvas(size[0], size[1]);\n",
       "        fig.send_message(\"refresh\", {});\n",
       "    };\n",
       "}\n",
       "\n",
       "mpl.figure.prototype.handle_rubberband = function(fig, msg) {\n",
       "    var x0 = msg['x0'] / mpl.ratio;\n",
       "    var y0 = (fig.canvas.height - msg['y0']) / mpl.ratio;\n",
       "    var x1 = msg['x1'] / mpl.ratio;\n",
       "    var y1 = (fig.canvas.height - msg['y1']) / mpl.ratio;\n",
       "    x0 = Math.floor(x0) + 0.5;\n",
       "    y0 = Math.floor(y0) + 0.5;\n",
       "    x1 = Math.floor(x1) + 0.5;\n",
       "    y1 = Math.floor(y1) + 0.5;\n",
       "    var min_x = Math.min(x0, x1);\n",
       "    var min_y = Math.min(y0, y1);\n",
       "    var width = Math.abs(x1 - x0);\n",
       "    var height = Math.abs(y1 - y0);\n",
       "\n",
       "    fig.rubberband_context.clearRect(\n",
       "        0, 0, fig.canvas.width, fig.canvas.height);\n",
       "\n",
       "    fig.rubberband_context.strokeRect(min_x, min_y, width, height);\n",
       "}\n",
       "\n",
       "mpl.figure.prototype.handle_figure_label = function(fig, msg) {\n",
       "    // Updates the figure title.\n",
       "    fig.header.textContent = msg['label'];\n",
       "}\n",
       "\n",
       "mpl.figure.prototype.handle_cursor = function(fig, msg) {\n",
       "    var cursor = msg['cursor'];\n",
       "    switch(cursor)\n",
       "    {\n",
       "    case 0:\n",
       "        cursor = 'pointer';\n",
       "        break;\n",
       "    case 1:\n",
       "        cursor = 'default';\n",
       "        break;\n",
       "    case 2:\n",
       "        cursor = 'crosshair';\n",
       "        break;\n",
       "    case 3:\n",
       "        cursor = 'move';\n",
       "        break;\n",
       "    }\n",
       "    fig.rubberband_canvas.style.cursor = cursor;\n",
       "}\n",
       "\n",
       "mpl.figure.prototype.handle_message = function(fig, msg) {\n",
       "    fig.message.textContent = msg['message'];\n",
       "}\n",
       "\n",
       "mpl.figure.prototype.handle_draw = function(fig, msg) {\n",
       "    // Request the server to send over a new figure.\n",
       "    fig.send_draw_message();\n",
       "}\n",
       "\n",
       "mpl.figure.prototype.handle_image_mode = function(fig, msg) {\n",
       "    fig.image_mode = msg['mode'];\n",
       "}\n",
       "\n",
       "mpl.figure.prototype.updated_canvas_event = function() {\n",
       "    // Called whenever the canvas gets updated.\n",
       "    this.send_message(\"ack\", {});\n",
       "}\n",
       "\n",
       "// A function to construct a web socket function for onmessage handling.\n",
       "// Called in the figure constructor.\n",
       "mpl.figure.prototype._make_on_message_function = function(fig) {\n",
       "    return function socket_on_message(evt) {\n",
       "        if (evt.data instanceof Blob) {\n",
       "            /* FIXME: We get \"Resource interpreted as Image but\n",
       "             * transferred with MIME type text/plain:\" errors on\n",
       "             * Chrome.  But how to set the MIME type?  It doesn't seem\n",
       "             * to be part of the websocket stream */\n",
       "            evt.data.type = \"image/png\";\n",
       "\n",
       "            /* Free the memory for the previous frames */\n",
       "            if (fig.imageObj.src) {\n",
       "                (window.URL || window.webkitURL).revokeObjectURL(\n",
       "                    fig.imageObj.src);\n",
       "            }\n",
       "\n",
       "            fig.imageObj.src = (window.URL || window.webkitURL).createObjectURL(\n",
       "                evt.data);\n",
       "            fig.updated_canvas_event();\n",
       "            fig.waiting = false;\n",
       "            return;\n",
       "        }\n",
       "        else if (typeof evt.data === 'string' && evt.data.slice(0, 21) == \"data:image/png;base64\") {\n",
       "            fig.imageObj.src = evt.data;\n",
       "            fig.updated_canvas_event();\n",
       "            fig.waiting = false;\n",
       "            return;\n",
       "        }\n",
       "\n",
       "        var msg = JSON.parse(evt.data);\n",
       "        var msg_type = msg['type'];\n",
       "\n",
       "        // Call the  \"handle_{type}\" callback, which takes\n",
       "        // the figure and JSON message as its only arguments.\n",
       "        try {\n",
       "            var callback = fig[\"handle_\" + msg_type];\n",
       "        } catch (e) {\n",
       "            console.log(\"No handler for the '\" + msg_type + \"' message type: \", msg);\n",
       "            return;\n",
       "        }\n",
       "\n",
       "        if (callback) {\n",
       "            try {\n",
       "                // console.log(\"Handling '\" + msg_type + \"' message: \", msg);\n",
       "                callback(fig, msg);\n",
       "            } catch (e) {\n",
       "                console.log(\"Exception inside the 'handler_\" + msg_type + \"' callback:\", e, e.stack, msg);\n",
       "            }\n",
       "        }\n",
       "    };\n",
       "}\n",
       "\n",
       "// from http://stackoverflow.com/questions/1114465/getting-mouse-location-in-canvas\n",
       "mpl.findpos = function(e) {\n",
       "    //this section is from http://www.quirksmode.org/js/events_properties.html\n",
       "    var targ;\n",
       "    if (!e)\n",
       "        e = window.event;\n",
       "    if (e.target)\n",
       "        targ = e.target;\n",
       "    else if (e.srcElement)\n",
       "        targ = e.srcElement;\n",
       "    if (targ.nodeType == 3) // defeat Safari bug\n",
       "        targ = targ.parentNode;\n",
       "\n",
       "    // jQuery normalizes the pageX and pageY\n",
       "    // pageX,Y are the mouse positions relative to the document\n",
       "    // offset() returns the position of the element relative to the document\n",
       "    var x = e.pageX - $(targ).offset().left;\n",
       "    var y = e.pageY - $(targ).offset().top;\n",
       "\n",
       "    return {\"x\": x, \"y\": y};\n",
       "};\n",
       "\n",
       "/*\n",
       " * return a copy of an object with only non-object keys\n",
       " * we need this to avoid circular references\n",
       " * http://stackoverflow.com/a/24161582/3208463\n",
       " */\n",
       "function simpleKeys (original) {\n",
       "  return Object.keys(original).reduce(function (obj, key) {\n",
       "    if (typeof original[key] !== 'object')\n",
       "        obj[key] = original[key]\n",
       "    return obj;\n",
       "  }, {});\n",
       "}\n",
       "\n",
       "mpl.figure.prototype.mouse_event = function(event, name) {\n",
       "    var canvas_pos = mpl.findpos(event)\n",
       "\n",
       "    if (name === 'button_press')\n",
       "    {\n",
       "        this.canvas.focus();\n",
       "        this.canvas_div.focus();\n",
       "    }\n",
       "\n",
       "    var x = canvas_pos.x * mpl.ratio;\n",
       "    var y = canvas_pos.y * mpl.ratio;\n",
       "\n",
       "    this.send_message(name, {x: x, y: y, button: event.button,\n",
       "                             step: event.step,\n",
       "                             guiEvent: simpleKeys(event)});\n",
       "\n",
       "    /* This prevents the web browser from automatically changing to\n",
       "     * the text insertion cursor when the button is pressed.  We want\n",
       "     * to control all of the cursor setting manually through the\n",
       "     * 'cursor' event from matplotlib */\n",
       "    event.preventDefault();\n",
       "    return false;\n",
       "}\n",
       "\n",
       "mpl.figure.prototype._key_event_extra = function(event, name) {\n",
       "    // Handle any extra behaviour associated with a key event\n",
       "}\n",
       "\n",
       "mpl.figure.prototype.key_event = function(event, name) {\n",
       "\n",
       "    // Prevent repeat events\n",
       "    if (name == 'key_press')\n",
       "    {\n",
       "        if (event.which === this._key)\n",
       "            return;\n",
       "        else\n",
       "            this._key = event.which;\n",
       "    }\n",
       "    if (name == 'key_release')\n",
       "        this._key = null;\n",
       "\n",
       "    var value = '';\n",
       "    if (event.ctrlKey && event.which != 17)\n",
       "        value += \"ctrl+\";\n",
       "    if (event.altKey && event.which != 18)\n",
       "        value += \"alt+\";\n",
       "    if (event.shiftKey && event.which != 16)\n",
       "        value += \"shift+\";\n",
       "\n",
       "    value += 'k';\n",
       "    value += event.which.toString();\n",
       "\n",
       "    this._key_event_extra(event, name);\n",
       "\n",
       "    this.send_message(name, {key: value,\n",
       "                             guiEvent: simpleKeys(event)});\n",
       "    return false;\n",
       "}\n",
       "\n",
       "mpl.figure.prototype.toolbar_button_onclick = function(name) {\n",
       "    if (name == 'download') {\n",
       "        this.handle_save(this, null);\n",
       "    } else {\n",
       "        this.send_message(\"toolbar_button\", {name: name});\n",
       "    }\n",
       "};\n",
       "\n",
       "mpl.figure.prototype.toolbar_button_onmouseover = function(tooltip) {\n",
       "    this.message.textContent = tooltip;\n",
       "};\n",
       "mpl.toolbar_items = [[\"Home\", \"Reset original view\", \"fa fa-home icon-home\", \"home\"], [\"Back\", \"Back to previous view\", \"fa fa-arrow-left icon-arrow-left\", \"back\"], [\"Forward\", \"Forward to next view\", \"fa fa-arrow-right icon-arrow-right\", \"forward\"], [\"\", \"\", \"\", \"\"], [\"Pan\", \"Pan axes with left mouse, zoom with right\", \"fa fa-arrows icon-move\", \"pan\"], [\"Zoom\", \"Zoom to rectangle\", \"fa fa-square-o icon-check-empty\", \"zoom\"], [\"\", \"\", \"\", \"\"], [\"Download\", \"Download plot\", \"fa fa-floppy-o icon-save\", \"download\"]];\n",
       "\n",
       "mpl.extensions = [\"eps\", \"jpeg\", \"pdf\", \"png\", \"ps\", \"raw\", \"svg\", \"tif\"];\n",
       "\n",
       "mpl.default_extension = \"png\";var comm_websocket_adapter = function(comm) {\n",
       "    // Create a \"websocket\"-like object which calls the given IPython comm\n",
       "    // object with the appropriate methods. Currently this is a non binary\n",
       "    // socket, so there is still some room for performance tuning.\n",
       "    var ws = {};\n",
       "\n",
       "    ws.close = function() {\n",
       "        comm.close()\n",
       "    };\n",
       "    ws.send = function(m) {\n",
       "        //console.log('sending', m);\n",
       "        comm.send(m);\n",
       "    };\n",
       "    // Register the callback with on_msg.\n",
       "    comm.on_msg(function(msg) {\n",
       "        //console.log('receiving', msg['content']['data'], msg);\n",
       "        // Pass the mpl event to the overridden (by mpl) onmessage function.\n",
       "        ws.onmessage(msg['content']['data'])\n",
       "    });\n",
       "    return ws;\n",
       "}\n",
       "\n",
       "mpl.mpl_figure_comm = function(comm, msg) {\n",
       "    // This is the function which gets called when the mpl process\n",
       "    // starts-up an IPython Comm through the \"matplotlib\" channel.\n",
       "\n",
       "    var id = msg.content.data.id;\n",
       "    // Get hold of the div created by the display call when the Comm\n",
       "    // socket was opened in Python.\n",
       "    var element = $(\"#\" + id);\n",
       "    var ws_proxy = comm_websocket_adapter(comm)\n",
       "\n",
       "    function ondownload(figure, format) {\n",
       "        window.open(figure.imageObj.src);\n",
       "    }\n",
       "\n",
       "    var fig = new mpl.figure(id, ws_proxy,\n",
       "                           ondownload,\n",
       "                           element.get(0));\n",
       "\n",
       "    // Call onopen now - mpl needs it, as it is assuming we've passed it a real\n",
       "    // web socket which is closed, not our websocket->open comm proxy.\n",
       "    ws_proxy.onopen();\n",
       "\n",
       "    fig.parent_element = element.get(0);\n",
       "    fig.cell_info = mpl.find_output_cell(\"<div id='\" + id + \"'></div>\");\n",
       "    if (!fig.cell_info) {\n",
       "        console.error(\"Failed to find cell for figure\", id, fig);\n",
       "        return;\n",
       "    }\n",
       "\n",
       "    var output_index = fig.cell_info[2]\n",
       "    var cell = fig.cell_info[0];\n",
       "\n",
       "};\n",
       "\n",
       "mpl.figure.prototype.handle_close = function(fig, msg) {\n",
       "    var width = fig.canvas.width/mpl.ratio\n",
       "    fig.root.unbind('remove')\n",
       "\n",
       "    // Update the output cell to use the data from the current canvas.\n",
       "    fig.push_to_output();\n",
       "    var dataURL = fig.canvas.toDataURL();\n",
       "    // Re-enable the keyboard manager in IPython - without this line, in FF,\n",
       "    // the notebook keyboard shortcuts fail.\n",
       "    IPython.keyboard_manager.enable()\n",
       "    $(fig.parent_element).html('<img src=\"' + dataURL + '\" width=\"' + width + '\">');\n",
       "    fig.close_ws(fig, msg);\n",
       "}\n",
       "\n",
       "mpl.figure.prototype.close_ws = function(fig, msg){\n",
       "    fig.send_message('closing', msg);\n",
       "    // fig.ws.close()\n",
       "}\n",
       "\n",
       "mpl.figure.prototype.push_to_output = function(remove_interactive) {\n",
       "    // Turn the data on the canvas into data in the output cell.\n",
       "    var width = this.canvas.width/mpl.ratio\n",
       "    var dataURL = this.canvas.toDataURL();\n",
       "    this.cell_info[1]['text/html'] = '<img src=\"' + dataURL + '\" width=\"' + width + '\">';\n",
       "}\n",
       "\n",
       "mpl.figure.prototype.updated_canvas_event = function() {\n",
       "    // Tell IPython that the notebook contents must change.\n",
       "    IPython.notebook.set_dirty(true);\n",
       "    this.send_message(\"ack\", {});\n",
       "    var fig = this;\n",
       "    // Wait a second, then push the new image to the DOM so\n",
       "    // that it is saved nicely (might be nice to debounce this).\n",
       "    setTimeout(function () { fig.push_to_output() }, 1000);\n",
       "}\n",
       "\n",
       "mpl.figure.prototype._init_toolbar = function() {\n",
       "    var fig = this;\n",
       "\n",
       "    var nav_element = $('<div/>')\n",
       "    nav_element.attr('style', 'width: 100%');\n",
       "    this.root.append(nav_element);\n",
       "\n",
       "    // Define a callback function for later on.\n",
       "    function toolbar_event(event) {\n",
       "        return fig.toolbar_button_onclick(event['data']);\n",
       "    }\n",
       "    function toolbar_mouse_event(event) {\n",
       "        return fig.toolbar_button_onmouseover(event['data']);\n",
       "    }\n",
       "\n",
       "    for(var toolbar_ind in mpl.toolbar_items){\n",
       "        var name = mpl.toolbar_items[toolbar_ind][0];\n",
       "        var tooltip = mpl.toolbar_items[toolbar_ind][1];\n",
       "        var image = mpl.toolbar_items[toolbar_ind][2];\n",
       "        var method_name = mpl.toolbar_items[toolbar_ind][3];\n",
       "\n",
       "        if (!name) { continue; };\n",
       "\n",
       "        var button = $('<button class=\"btn btn-default\" href=\"#\" title=\"' + name + '\"><i class=\"fa ' + image + ' fa-lg\"></i></button>');\n",
       "        button.click(method_name, toolbar_event);\n",
       "        button.mouseover(tooltip, toolbar_mouse_event);\n",
       "        nav_element.append(button);\n",
       "    }\n",
       "\n",
       "    // Add the status bar.\n",
       "    var status_bar = $('<span class=\"mpl-message\" style=\"text-align:right; float: right;\"/>');\n",
       "    nav_element.append(status_bar);\n",
       "    this.message = status_bar[0];\n",
       "\n",
       "    // Add the close button to the window.\n",
       "    var buttongrp = $('<div class=\"btn-group inline pull-right\"></div>');\n",
       "    var button = $('<button class=\"btn btn-mini btn-primary\" href=\"#\" title=\"Stop Interaction\"><i class=\"fa fa-power-off icon-remove icon-large\"></i></button>');\n",
       "    button.click(function (evt) { fig.handle_close(fig, {}); } );\n",
       "    button.mouseover('Stop Interaction', toolbar_mouse_event);\n",
       "    buttongrp.append(button);\n",
       "    var titlebar = this.root.find($('.ui-dialog-titlebar'));\n",
       "    titlebar.prepend(buttongrp);\n",
       "}\n",
       "\n",
       "mpl.figure.prototype._root_extra_style = function(el){\n",
       "    var fig = this\n",
       "    el.on(\"remove\", function(){\n",
       "\tfig.close_ws(fig, {});\n",
       "    });\n",
       "}\n",
       "\n",
       "mpl.figure.prototype._canvas_extra_style = function(el){\n",
       "    // this is important to make the div 'focusable\n",
       "    el.attr('tabindex', 0)\n",
       "    // reach out to IPython and tell the keyboard manager to turn it's self\n",
       "    // off when our div gets focus\n",
       "\n",
       "    // location in version 3\n",
       "    if (IPython.notebook.keyboard_manager) {\n",
       "        IPython.notebook.keyboard_manager.register_events(el);\n",
       "    }\n",
       "    else {\n",
       "        // location in version 2\n",
       "        IPython.keyboard_manager.register_events(el);\n",
       "    }\n",
       "\n",
       "}\n",
       "\n",
       "mpl.figure.prototype._key_event_extra = function(event, name) {\n",
       "    var manager = IPython.notebook.keyboard_manager;\n",
       "    if (!manager)\n",
       "        manager = IPython.keyboard_manager;\n",
       "\n",
       "    // Check for shift+enter\n",
       "    if (event.shiftKey && event.which == 13) {\n",
       "        this.canvas_div.blur();\n",
       "        event.shiftKey = false;\n",
       "        // Send a \"J\" for go to next cell\n",
       "        event.which = 74;\n",
       "        event.keyCode = 74;\n",
       "        manager.command_mode();\n",
       "        manager.handle_keydown(event);\n",
       "    }\n",
       "}\n",
       "\n",
       "mpl.figure.prototype.handle_save = function(fig, msg) {\n",
       "    fig.ondownload(fig, null);\n",
       "}\n",
       "\n",
       "\n",
       "mpl.find_output_cell = function(html_output) {\n",
       "    // Return the cell and output element which can be found *uniquely* in the notebook.\n",
       "    // Note - this is a bit hacky, but it is done because the \"notebook_saving.Notebook\"\n",
       "    // IPython event is triggered only after the cells have been serialised, which for\n",
       "    // our purposes (turning an active figure into a static one), is too late.\n",
       "    var cells = IPython.notebook.get_cells();\n",
       "    var ncells = cells.length;\n",
       "    for (var i=0; i<ncells; i++) {\n",
       "        var cell = cells[i];\n",
       "        if (cell.cell_type === 'code'){\n",
       "            for (var j=0; j<cell.output_area.outputs.length; j++) {\n",
       "                var data = cell.output_area.outputs[j];\n",
       "                if (data.data) {\n",
       "                    // IPython >= 3 moved mimebundle to data attribute of output\n",
       "                    data = data.data;\n",
       "                }\n",
       "                if (data['text/html'] == html_output) {\n",
       "                    return [cell, data, j];\n",
       "                }\n",
       "            }\n",
       "        }\n",
       "    }\n",
       "}\n",
       "\n",
       "// Register the function which deals with the matplotlib target/channel.\n",
       "// The kernel may be null if the page has been refreshed.\n",
       "if (IPython.notebook.kernel != null) {\n",
       "    IPython.notebook.kernel.comm_manager.register_target('matplotlib', mpl.mpl_figure_comm);\n",
       "}\n"
      ],
      "text/plain": [
       "<IPython.core.display.Javascript object>"
      ]
     },
     "metadata": {},
     "output_type": "display_data"
    },
    {
     "data": {
      "text/html": [
       "<img src=\"data:image/png;base64,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\" width=\"600\">"
      ],
      "text/plain": [
       "<IPython.core.display.HTML object>"
      ]
     },
     "metadata": {},
     "output_type": "display_data"
    },
    {
     "name": "stdout",
     "output_type": "stream",
     "text": [
      "0 1 (0.17855269386890063, 0.3201370354727633)\n",
      "0 2 (0.1316172487361844, 0.2959778701288128)\n",
      "0 3 (0.3319251066013348, 0.01980717205481202)\n",
      "1 1 (0.02339802393309319, 0.9096702036667454)\n",
      "1 2 (0.39197389256284537, 0.0025659807887352276)\n",
      "1 3 (0.14849554038883198, 0.1698566765416507)\n"
     ]
    }
   ],
   "source": [
    "# Calculate parameter stats\n",
    "arr = lut.unpickle('mult_seeds_data_small_bounds.pkl')\n",
    "best = np.nanargmin(arr[:, :, 3], axis=0)\n",
    "arr = arr[best, np.arange(320), :]\n",
    "fdf = pd.DataFrame(data=arr, columns=data_dict.keys())\n",
    "good_fit = (fdf.aic_diff>=2)# & (np.abs(fdf.alpha) <=5) & (np.abs(fdf.beta) <=5)\n",
    "print('{} / {} = {}'.format(np.sum(good_fit),fdf.shape[0],np.sum(good_fit)/fdf.shape[0]))\n",
    "fdf = fdf.loc[good_fit]\n",
    "# fdf.loc[fdf.ntm<=2, 'ntm'] = 1\n",
    "\n",
    "gfdf = fdf.groupby(['grp','ntm']).mean().drop(columns=['sid'])\n",
    "gfdf_se = fdf.groupby(['grp','ntm']).sem().drop(columns=['sid'])\n",
    "\n",
    "display(fdf.groupby(['grp']).mean().drop(columns=['sid','ntm']))\n",
    "display(fdf.groupby(['ntm']).mean().drop(columns=['sid','grp']))\n",
    "display(gfdf)\n",
    "\n",
    "# ================================\n",
    "\n",
    "fig = plt.figure('Estimation', figsize=[6, 5])\n",
    "gs = GridSpec(3, 3)\n",
    "    \n",
    "# Figure (scatter plot and histograms)\n",
    "# ====================================\n",
    "ax = vut.pretty(fig.add_subplot(gs[1:, :2]))\n",
    "ax2 = vut.pretty(fig.add_subplot(gs[0, :2], sharex=ax))\n",
    "ax3 = vut.pretty(fig.add_subplot(gs[1:, 2], sharey=ax))\n",
    "ax_leg = vut.pretty(fig.add_subplot(gs[0, 2]))\n",
    "\n",
    "bins = np.linspace(-3,3,15)\n",
    "# labels = {'ntm': ['NTM '+str(i) for i in (0,1,2,3)], 'grp': fullglabels}\n",
    "for grp in [0, 1]:\n",
    "    for ntm in [1, 2, 3]:\n",
    "        filt = (fdf.grp==grp) & (fdf.ntm==ntm) #& (fdf.alpha<15)\n",
    "#         (~((fdf.alpha-fdf.alpha.mean()).abs() > 2*fdf.alpha.std()))# & \\\n",
    "#         (~((fdf.beta-fdf.beta.mean()).abs() > 2*fdf.beta.std())) \n",
    "        \n",
    "        x = fdf.loc[filt, 'alpha']\n",
    "        y = fdf.loc[filt, 'beta']\n",
    "        print(grp, ntm, sp.stats.pearsonr(x,y))\n",
    "        ax.scatter(x, y, s=10, alpha=1, facecolors=gcolors[ntm-1] if grp else 'w', edgecolors=gcolors[ntm-1],  \n",
    "                   label='NTM-{}'.format(ntm) if grp else None)\n",
    "\n",
    "        rf, _ = np.histogram(x, bins=bins, weights=np.zeros_like(x) + 1. / x.size)\n",
    "        ax2.plot(bins[:-1]+.05, rf, c=gcolors[ntm-1], lw=1.5, alpha=.8,\n",
    "                 ls = '-' if grp else '--',\n",
    "                 label='{} / NTM-{}'.format(glabels[grp], ntm))\n",
    "        ax2.axvline(x.mean(), ymin=0, ymax=.2, color=gcolors[ntm-1], lw=2,\n",
    "                    ls = '-' if grp else '--',)\n",
    "\n",
    "        rf, _ = np.histogram(y, bins=bins, weights=np.zeros_like(y) + 1. / y.size)\n",
    "        ax3.plot(rf, bins[:-1]+.05, c=gcolors[ntm-1], lw=1.5, alpha=.8,\n",
    "                 ls = '-' if grp else '--',\n",
    "                 label='{} / NTM-{}'.format(glabels[grp], ntm))\n",
    "        ax3.axhline(y.mean(), xmin=0, xmax=.2, color=gcolors[ntm-1], lw=2,\n",
    "                        ls = '-' if grp else '--',)\n",
    "    \n",
    "    ax.set_xlim(-2.5, 2.5); ax.set_ylim(-2.5, 2.5)\n",
    "    ax.set_xlabel(r'$\\beta$', fontsize=14)\n",
    "    ax2.set_ylabel('Relative\\nfrequency', fontsize=14)\n",
    "    ax.set_ylabel(r'$\\alpha$', fontsize=14)\n",
    "    \n",
    "    ax_leg.axis('off')\n",
    "    solid = mpl.lines.Line2D([0],[0], color='k', lw=2, label='Strategic')\n",
    "    solid_ = mpl.lines.Line2D([0],[0], color='k', ls='', marker='o', label='Strategic')\n",
    "    \n",
    "    dashed = mpl.lines.Line2D([0],[0], color='k', lw=2, label='Free', ls='--', dashes=(2, 1))\n",
    "    dashed_ = mpl.lines.Line2D([0],[0], ls='', marker='o', label='Free', markerfacecolor='w', markeredgecolor='k')\n",
    "    \n",
    "    blue = mpl.lines.Line2D([0],[0], color=gcolors[0], lw=2, label='NTM-1')\n",
    "    blue_ = mpl.lines.Line2D([0],[0], color=gcolors[0], ls='', marker='o', label='NTM-1')\n",
    "    \n",
    "    red = mpl.lines.Line2D([0],[0], color=gcolors[1], lw=2, label='NTM-2')\n",
    "    red_ = mpl.lines.Line2D([0],[0], color=gcolors[1], ls='', marker='o', label='NTM-1')\n",
    "    \n",
    "    yellow = mpl.lines.Line2D([0],[0], color=gcolors[2], lw=2, label='NTM-3')\n",
    "    yellow_ = mpl.lines.Line2D([0],[0], color=gcolors[2], ls='', marker='o', label='NTM-1')\n",
    "    \n",
    "    ax_leg.legend([(blue, blue_), (red, red_), (yellow, yellow_), (dashed, dashed_), (solid, solid_)], \n",
    "                  ['NTM-1', 'NTM-2', 'NTM-3', 'Free', 'Strategic'],\n",
    "                  bbox_to_anchor=(-.1, 1.5), loc='upper left', fontsize=12,\n",
    "                  handler_map={tuple: mpl.legend_handler.HandlerTuple(ndivide=None)})\n",
    "\n",
    "    ax3.set_xlabel('Relative\\nfrequency', fontsize=14)\n",
    "    \n",
    "fig.tight_layout()\n",
    "fig.savefig('/Users/alexten/Desktop/fitted_params.png')"
   ]
  },
  {
   "cell_type": "markdown",
   "metadata": {
    "ExecuteTime": {
     "end_time": "2019-11-05T14:26:39.673258Z",
     "start_time": "2019-11-05T14:26:39.263325Z"
    },
    "heading_collapsed": true,
    "scrolled": false
   },
   "source": [
    "## Visualize individual-level parameter distributions 2"
   ]
  },
  {
   "cell_type": "code",
   "execution_count": null,
   "metadata": {
    "ExecuteTime": {
     "end_time": "2020-01-06T13:15:22.689169Z",
     "start_time": "2020-01-06T13:15:21.705Z"
    },
    "hidden": true,
    "scrolled": false
   },
   "outputs": [],
   "source": [
    "# param_names = ['alpha','beta','gamma','theta','tau']\n",
    "param_names = ['alpha','beta','tau']\n",
    "\n",
    "plt.close()\n",
    "fig = plt.figure('Parameters', figsize=[4,8])\n",
    "\n",
    "for i, p in enumerate(param_names, 1):\n",
    "    ax = vut.pretty(fig.add_subplot(len(param_names),1,i))\n",
    "    ax.set_ylabel(p, fontsize=14)\n",
    "    ax.set_xlabel('Number of tasks mastered', fontsize=14)\n",
    "    ax.set_xlim([0.5,3.5])\n",
    "    ax.set_xticks([1,2,3])\n",
    "    ax.set_xticklabels(['1','2','3'])\n",
    "    inds = np.array([1,2,3])\n",
    "    \n",
    "    for grp in [0, 1]:\n",
    "        M = gfdf.loc[(grp, slice(None)), p].values\n",
    "        SE =  gfdf_se.loc[(grp, slice(None)), p].values\n",
    "        ax.errorbar(inds+grp*.05, M, yerr=SE, color=gcolors[grp], capsize=4)\n",
    "        \n",
    "fig.tight_layout()\n",
    "# fig.savefig('/Users/alexten/Desktop/fitted_params_ver2.png')"
   ]
  },
  {
   "cell_type": "markdown",
   "metadata": {},
   "source": [
    "## Model comparison"
   ]
  },
  {
   "cell_type": "code",
   "execution_count": 302,
   "metadata": {
    "ExecuteTime": {
     "end_time": "2020-02-11T12:44:21.631834Z",
     "start_time": "2020-02-11T12:16:10.745556Z"
    },
    "scrolled": false
   },
   "outputs": [
    {
     "data": {
      "application/vnd.jupyter.widget-view+json": {
       "model_id": "ebbdc081d87a4d409e7baef77065baad",
       "version_major": 2,
       "version_minor": 0
      },
      "text/plain": [
       "HBox(children=(IntProgress(value=0, max=320), HTML(value='')))"
      ]
     },
     "metadata": {},
     "output_type": "display_data"
    },
    {
     "data": {
      "application/vnd.jupyter.widget-view+json": {
       "model_id": "",
       "version_major": 2,
       "version_minor": 0
      },
      "text/plain": [
       "HBox(children=(IntProgress(value=0, max=300), HTML(value='')))"
      ]
     },
     "metadata": {},
     "output_type": "display_data"
    },
    {
     "data": {
      "application/vnd.jupyter.widget-view+json": {
       "model_id": "",
       "version_major": 2,
       "version_minor": 0
      },
      "text/plain": [
       "HBox(children=(IntProgress(value=0, max=300), HTML(value='')))"
      ]
     },
     "metadata": {},
     "output_type": "display_data"
    },
    {
     "data": {
      "application/vnd.jupyter.widget-view+json": {
       "model_id": "",
       "version_major": 2,
       "version_minor": 0
      },
      "text/plain": [
       "HBox(children=(IntProgress(value=0, max=300), HTML(value='')))"
      ]
     },
     "metadata": {},
     "output_type": "display_data"
    },
    {
     "data": {
      "application/vnd.jupyter.widget-view+json": {
       "model_id": "",
       "version_major": 2,
       "version_minor": 0
      },
      "text/plain": [
       "HBox(children=(IntProgress(value=0, max=300), HTML(value='')))"
      ]
     },
     "metadata": {},
     "output_type": "display_data"
    },
    {
     "data": {
      "application/vnd.jupyter.widget-view+json": {
       "model_id": "",
       "version_major": 2,
       "version_minor": 0
      },
      "text/plain": [
       "HBox(children=(IntProgress(value=0, max=300), HTML(value='')))"
      ]
     },
     "metadata": {},
     "output_type": "display_data"
    },
    {
     "data": {
      "application/vnd.jupyter.widget-view+json": {
       "model_id": "",
       "version_major": 2,
       "version_minor": 0
      },
      "text/plain": [
       "HBox(children=(IntProgress(value=0, max=300), HTML(value='')))"
      ]
     },
     "metadata": {},
     "output_type": "display_data"
    },
    {
     "data": {
      "application/vnd.jupyter.widget-view+json": {
       "model_id": "",
       "version_major": 2,
       "version_minor": 0
      },
      "text/plain": [
       "HBox(children=(IntProgress(value=0, max=300), HTML(value='')))"
      ]
     },
     "metadata": {},
     "output_type": "display_data"
    },
    {
     "data": {
      "application/vnd.jupyter.widget-view+json": {
       "model_id": "",
       "version_major": 2,
       "version_minor": 0
      },
      "text/plain": [
       "HBox(children=(IntProgress(value=0, max=300), HTML(value='')))"
      ]
     },
     "metadata": {},
     "output_type": "display_data"
    },
    {
     "data": {
      "application/vnd.jupyter.widget-view+json": {
       "model_id": "",
       "version_major": 2,
       "version_minor": 0
      },
      "text/plain": [
       "HBox(children=(IntProgress(value=0, max=300), HTML(value='')))"
      ]
     },
     "metadata": {},
     "output_type": "display_data"
    },
    {
     "data": {
      "application/vnd.jupyter.widget-view+json": {
       "model_id": "",
       "version_major": 2,
       "version_minor": 0
      },
      "text/plain": [
       "HBox(children=(IntProgress(value=0, max=300), HTML(value='')))"
      ]
     },
     "metadata": {},
     "output_type": "display_data"
    },
    {
     "data": {
      "application/vnd.jupyter.widget-view+json": {
       "model_id": "",
       "version_major": 2,
       "version_minor": 0
      },
      "text/plain": [
       "HBox(children=(IntProgress(value=0, max=300), HTML(value='')))"
      ]
     },
     "metadata": {},
     "output_type": "display_data"
    },
    {
     "data": {
      "application/vnd.jupyter.widget-view+json": {
       "model_id": "",
       "version_major": 2,
       "version_minor": 0
      },
      "text/plain": [
       "HBox(children=(IntProgress(value=0, max=300), HTML(value='')))"
      ]
     },
     "metadata": {},
     "output_type": "display_data"
    },
    {
     "data": {
      "application/vnd.jupyter.widget-view+json": {
       "model_id": "",
       "version_major": 2,
       "version_minor": 0
      },
      "text/plain": [
       "HBox(children=(IntProgress(value=0, max=300), HTML(value='')))"
      ]
     },
     "metadata": {},
     "output_type": "display_data"
    },
    {
     "data": {
      "application/vnd.jupyter.widget-view+json": {
       "model_id": "",
       "version_major": 2,
       "version_minor": 0
      },
      "text/plain": [
       "HBox(children=(IntProgress(value=0, max=300), HTML(value='')))"
      ]
     },
     "metadata": {},
     "output_type": "display_data"
    },
    {
     "data": {
      "application/vnd.jupyter.widget-view+json": {
       "model_id": "",
       "version_major": 2,
       "version_minor": 0
      },
      "text/plain": [
       "HBox(children=(IntProgress(value=0, max=300), HTML(value='')))"
      ]
     },
     "metadata": {},
     "output_type": "display_data"
    },
    {
     "data": {
      "application/vnd.jupyter.widget-view+json": {
       "model_id": "",
       "version_major": 2,
       "version_minor": 0
      },
      "text/plain": [
       "HBox(children=(IntProgress(value=0, max=300), HTML(value='')))"
      ]
     },
     "metadata": {},
     "output_type": "display_data"
    },
    {
     "data": {
      "application/vnd.jupyter.widget-view+json": {
       "model_id": "",
       "version_major": 2,
       "version_minor": 0
      },
      "text/plain": [
       "HBox(children=(IntProgress(value=0, max=300), HTML(value='')))"
      ]
     },
     "metadata": {},
     "output_type": "display_data"
    },
    {
     "data": {
      "application/vnd.jupyter.widget-view+json": {
       "model_id": "",
       "version_major": 2,
       "version_minor": 0
      },
      "text/plain": [
       "HBox(children=(IntProgress(value=0, max=300), HTML(value='')))"
      ]
     },
     "metadata": {},
     "output_type": "display_data"
    },
    {
     "data": {
      "application/vnd.jupyter.widget-view+json": {
       "model_id": "",
       "version_major": 2,
       "version_minor": 0
      },
      "text/plain": [
       "HBox(children=(IntProgress(value=0, max=300), HTML(value='')))"
      ]
     },
     "metadata": {},
     "output_type": "display_data"
    },
    {
     "data": {
      "application/vnd.jupyter.widget-view+json": {
       "model_id": "",
       "version_major": 2,
       "version_minor": 0
      },
      "text/plain": [
       "HBox(children=(IntProgress(value=0, max=300), HTML(value='')))"
      ]
     },
     "metadata": {},
     "output_type": "display_data"
    },
    {
     "data": {
      "application/vnd.jupyter.widget-view+json": {
       "model_id": "",
       "version_major": 2,
       "version_minor": 0
      },
      "text/plain": [
       "HBox(children=(IntProgress(value=0, max=300), HTML(value='')))"
      ]
     },
     "metadata": {},
     "output_type": "display_data"
    },
    {
     "data": {
      "application/vnd.jupyter.widget-view+json": {
       "model_id": "",
       "version_major": 2,
       "version_minor": 0
      },
      "text/plain": [
       "HBox(children=(IntProgress(value=0, max=300), HTML(value='')))"
      ]
     },
     "metadata": {},
     "output_type": "display_data"
    },
    {
     "data": {
      "application/vnd.jupyter.widget-view+json": {
       "model_id": "",
       "version_major": 2,
       "version_minor": 0
      },
      "text/plain": [
       "HBox(children=(IntProgress(value=0, max=300), HTML(value='')))"
      ]
     },
     "metadata": {},
     "output_type": "display_data"
    },
    {
     "data": {
      "application/vnd.jupyter.widget-view+json": {
       "model_id": "",
       "version_major": 2,
       "version_minor": 0
      },
      "text/plain": [
       "HBox(children=(IntProgress(value=0, max=300), HTML(value='')))"
      ]
     },
     "metadata": {},
     "output_type": "display_data"
    },
    {
     "data": {
      "application/vnd.jupyter.widget-view+json": {
       "model_id": "",
       "version_major": 2,
       "version_minor": 0
      },
      "text/plain": [
       "HBox(children=(IntProgress(value=0, max=300), HTML(value='')))"
      ]
     },
     "metadata": {},
     "output_type": "display_data"
    },
    {
     "data": {
      "application/vnd.jupyter.widget-view+json": {
       "model_id": "",
       "version_major": 2,
       "version_minor": 0
      },
      "text/plain": [
       "HBox(children=(IntProgress(value=0, max=300), HTML(value='')))"
      ]
     },
     "metadata": {},
     "output_type": "display_data"
    },
    {
     "data": {
      "application/vnd.jupyter.widget-view+json": {
       "model_id": "",
       "version_major": 2,
       "version_minor": 0
      },
      "text/plain": [
       "HBox(children=(IntProgress(value=0, max=300), HTML(value='')))"
      ]
     },
     "metadata": {},
     "output_type": "display_data"
    },
    {
     "data": {
      "application/vnd.jupyter.widget-view+json": {
       "model_id": "",
       "version_major": 2,
       "version_minor": 0
      },
      "text/plain": [
       "HBox(children=(IntProgress(value=0, max=300), HTML(value='')))"
      ]
     },
     "metadata": {},
     "output_type": "display_data"
    },
    {
     "data": {
      "application/vnd.jupyter.widget-view+json": {
       "model_id": "",
       "version_major": 2,
       "version_minor": 0
      },
      "text/plain": [
       "HBox(children=(IntProgress(value=0, max=300), HTML(value='')))"
      ]
     },
     "metadata": {},
     "output_type": "display_data"
    },
    {
     "data": {
      "application/vnd.jupyter.widget-view+json": {
       "model_id": "",
       "version_major": 2,
       "version_minor": 0
      },
      "text/plain": [
       "HBox(children=(IntProgress(value=0, max=300), HTML(value='')))"
      ]
     },
     "metadata": {},
     "output_type": "display_data"
    },
    {
     "data": {
      "application/vnd.jupyter.widget-view+json": {
       "model_id": "",
       "version_major": 2,
       "version_minor": 0
      },
      "text/plain": [
       "HBox(children=(IntProgress(value=0, max=300), HTML(value='')))"
      ]
     },
     "metadata": {},
     "output_type": "display_data"
    },
    {
     "data": {
      "application/vnd.jupyter.widget-view+json": {
       "model_id": "",
       "version_major": 2,
       "version_minor": 0
      },
      "text/plain": [
       "HBox(children=(IntProgress(value=0, max=300), HTML(value='')))"
      ]
     },
     "metadata": {},
     "output_type": "display_data"
    },
    {
     "data": {
      "application/vnd.jupyter.widget-view+json": {
       "model_id": "",
       "version_major": 2,
       "version_minor": 0
      },
      "text/plain": [
       "HBox(children=(IntProgress(value=0, max=300), HTML(value='')))"
      ]
     },
     "metadata": {},
     "output_type": "display_data"
    },
    {
     "data": {
      "application/vnd.jupyter.widget-view+json": {
       "model_id": "",
       "version_major": 2,
       "version_minor": 0
      },
      "text/plain": [
       "HBox(children=(IntProgress(value=0, max=300), HTML(value='')))"
      ]
     },
     "metadata": {},
     "output_type": "display_data"
    },
    {
     "data": {
      "application/vnd.jupyter.widget-view+json": {
       "model_id": "",
       "version_major": 2,
       "version_minor": 0
      },
      "text/plain": [
       "HBox(children=(IntProgress(value=0, max=300), HTML(value='')))"
      ]
     },
     "metadata": {},
     "output_type": "display_data"
    },
    {
     "data": {
      "application/vnd.jupyter.widget-view+json": {
       "model_id": "",
       "version_major": 2,
       "version_minor": 0
      },
      "text/plain": [
       "HBox(children=(IntProgress(value=0, max=300), HTML(value='')))"
      ]
     },
     "metadata": {},
     "output_type": "display_data"
    },
    {
     "data": {
      "application/vnd.jupyter.widget-view+json": {
       "model_id": "",
       "version_major": 2,
       "version_minor": 0
      },
      "text/plain": [
       "HBox(children=(IntProgress(value=0, max=300), HTML(value='')))"
      ]
     },
     "metadata": {},
     "output_type": "display_data"
    },
    {
     "data": {
      "application/vnd.jupyter.widget-view+json": {
       "model_id": "",
       "version_major": 2,
       "version_minor": 0
      },
      "text/plain": [
       "HBox(children=(IntProgress(value=0, max=300), HTML(value='')))"
      ]
     },
     "metadata": {},
     "output_type": "display_data"
    },
    {
     "data": {
      "application/vnd.jupyter.widget-view+json": {
       "model_id": "",
       "version_major": 2,
       "version_minor": 0
      },
      "text/plain": [
       "HBox(children=(IntProgress(value=0, max=300), HTML(value='')))"
      ]
     },
     "metadata": {},
     "output_type": "display_data"
    },
    {
     "data": {
      "application/vnd.jupyter.widget-view+json": {
       "model_id": "",
       "version_major": 2,
       "version_minor": 0
      },
      "text/plain": [
       "HBox(children=(IntProgress(value=0, max=300), HTML(value='')))"
      ]
     },
     "metadata": {},
     "output_type": "display_data"
    },
    {
     "data": {
      "application/vnd.jupyter.widget-view+json": {
       "model_id": "",
       "version_major": 2,
       "version_minor": 0
      },
      "text/plain": [
       "HBox(children=(IntProgress(value=0, max=300), HTML(value='')))"
      ]
     },
     "metadata": {},
     "output_type": "display_data"
    },
    {
     "data": {
      "application/vnd.jupyter.widget-view+json": {
       "model_id": "",
       "version_major": 2,
       "version_minor": 0
      },
      "text/plain": [
       "HBox(children=(IntProgress(value=0, max=300), HTML(value='')))"
      ]
     },
     "metadata": {},
     "output_type": "display_data"
    },
    {
     "data": {
      "application/vnd.jupyter.widget-view+json": {
       "model_id": "",
       "version_major": 2,
       "version_minor": 0
      },
      "text/plain": [
       "HBox(children=(IntProgress(value=0, max=300), HTML(value='')))"
      ]
     },
     "metadata": {},
     "output_type": "display_data"
    },
    {
     "data": {
      "application/vnd.jupyter.widget-view+json": {
       "model_id": "",
       "version_major": 2,
       "version_minor": 0
      },
      "text/plain": [
       "HBox(children=(IntProgress(value=0, max=300), HTML(value='')))"
      ]
     },
     "metadata": {},
     "output_type": "display_data"
    },
    {
     "data": {
      "application/vnd.jupyter.widget-view+json": {
       "model_id": "",
       "version_major": 2,
       "version_minor": 0
      },
      "text/plain": [
       "HBox(children=(IntProgress(value=0, max=300), HTML(value='')))"
      ]
     },
     "metadata": {},
     "output_type": "display_data"
    },
    {
     "data": {
      "application/vnd.jupyter.widget-view+json": {
       "model_id": "",
       "version_major": 2,
       "version_minor": 0
      },
      "text/plain": [
       "HBox(children=(IntProgress(value=0, max=300), HTML(value='')))"
      ]
     },
     "metadata": {},
     "output_type": "display_data"
    },
    {
     "data": {
      "application/vnd.jupyter.widget-view+json": {
       "model_id": "",
       "version_major": 2,
       "version_minor": 0
      },
      "text/plain": [
       "HBox(children=(IntProgress(value=0, max=300), HTML(value='')))"
      ]
     },
     "metadata": {},
     "output_type": "display_data"
    },
    {
     "data": {
      "application/vnd.jupyter.widget-view+json": {
       "model_id": "",
       "version_major": 2,
       "version_minor": 0
      },
      "text/plain": [
       "HBox(children=(IntProgress(value=0, max=300), HTML(value='')))"
      ]
     },
     "metadata": {},
     "output_type": "display_data"
    },
    {
     "data": {
      "application/vnd.jupyter.widget-view+json": {
       "model_id": "",
       "version_major": 2,
       "version_minor": 0
      },
      "text/plain": [
       "HBox(children=(IntProgress(value=0, max=300), HTML(value='')))"
      ]
     },
     "metadata": {},
     "output_type": "display_data"
    },
    {
     "data": {
      "application/vnd.jupyter.widget-view+json": {
       "model_id": "",
       "version_major": 2,
       "version_minor": 0
      },
      "text/plain": [
       "HBox(children=(IntProgress(value=0, max=300), HTML(value='')))"
      ]
     },
     "metadata": {},
     "output_type": "display_data"
    },
    {
     "data": {
      "application/vnd.jupyter.widget-view+json": {
       "model_id": "",
       "version_major": 2,
       "version_minor": 0
      },
      "text/plain": [
       "HBox(children=(IntProgress(value=0, max=300), HTML(value='')))"
      ]
     },
     "metadata": {},
     "output_type": "display_data"
    },
    {
     "data": {
      "application/vnd.jupyter.widget-view+json": {
       "model_id": "",
       "version_major": 2,
       "version_minor": 0
      },
      "text/plain": [
       "HBox(children=(IntProgress(value=0, max=300), HTML(value='')))"
      ]
     },
     "metadata": {},
     "output_type": "display_data"
    },
    {
     "data": {
      "application/vnd.jupyter.widget-view+json": {
       "model_id": "",
       "version_major": 2,
       "version_minor": 0
      },
      "text/plain": [
       "HBox(children=(IntProgress(value=0, max=300), HTML(value='')))"
      ]
     },
     "metadata": {},
     "output_type": "display_data"
    },
    {
     "data": {
      "application/vnd.jupyter.widget-view+json": {
       "model_id": "",
       "version_major": 2,
       "version_minor": 0
      },
      "text/plain": [
       "HBox(children=(IntProgress(value=0, max=300), HTML(value='')))"
      ]
     },
     "metadata": {},
     "output_type": "display_data"
    },
    {
     "data": {
      "application/vnd.jupyter.widget-view+json": {
       "model_id": "",
       "version_major": 2,
       "version_minor": 0
      },
      "text/plain": [
       "HBox(children=(IntProgress(value=0, max=300), HTML(value='')))"
      ]
     },
     "metadata": {},
     "output_type": "display_data"
    },
    {
     "data": {
      "application/vnd.jupyter.widget-view+json": {
       "model_id": "",
       "version_major": 2,
       "version_minor": 0
      },
      "text/plain": [
       "HBox(children=(IntProgress(value=0, max=300), HTML(value='')))"
      ]
     },
     "metadata": {},
     "output_type": "display_data"
    },
    {
     "data": {
      "application/vnd.jupyter.widget-view+json": {
       "model_id": "",
       "version_major": 2,
       "version_minor": 0
      },
      "text/plain": [
       "HBox(children=(IntProgress(value=0, max=300), HTML(value='')))"
      ]
     },
     "metadata": {},
     "output_type": "display_data"
    },
    {
     "data": {
      "application/vnd.jupyter.widget-view+json": {
       "model_id": "",
       "version_major": 2,
       "version_minor": 0
      },
      "text/plain": [
       "HBox(children=(IntProgress(value=0, max=300), HTML(value='')))"
      ]
     },
     "metadata": {},
     "output_type": "display_data"
    },
    {
     "data": {
      "application/vnd.jupyter.widget-view+json": {
       "model_id": "",
       "version_major": 2,
       "version_minor": 0
      },
      "text/plain": [
       "HBox(children=(IntProgress(value=0, max=300), HTML(value='')))"
      ]
     },
     "metadata": {},
     "output_type": "display_data"
    },
    {
     "data": {
      "application/vnd.jupyter.widget-view+json": {
       "model_id": "",
       "version_major": 2,
       "version_minor": 0
      },
      "text/plain": [
       "HBox(children=(IntProgress(value=0, max=300), HTML(value='')))"
      ]
     },
     "metadata": {},
     "output_type": "display_data"
    },
    {
     "data": {
      "application/vnd.jupyter.widget-view+json": {
       "model_id": "",
       "version_major": 2,
       "version_minor": 0
      },
      "text/plain": [
       "HBox(children=(IntProgress(value=0, max=300), HTML(value='')))"
      ]
     },
     "metadata": {},
     "output_type": "display_data"
    },
    {
     "data": {
      "application/vnd.jupyter.widget-view+json": {
       "model_id": "",
       "version_major": 2,
       "version_minor": 0
      },
      "text/plain": [
       "HBox(children=(IntProgress(value=0, max=300), HTML(value='')))"
      ]
     },
     "metadata": {},
     "output_type": "display_data"
    },
    {
     "data": {
      "application/vnd.jupyter.widget-view+json": {
       "model_id": "",
       "version_major": 2,
       "version_minor": 0
      },
      "text/plain": [
       "HBox(children=(IntProgress(value=0, max=300), HTML(value='')))"
      ]
     },
     "metadata": {},
     "output_type": "display_data"
    },
    {
     "data": {
      "application/vnd.jupyter.widget-view+json": {
       "model_id": "",
       "version_major": 2,
       "version_minor": 0
      },
      "text/plain": [
       "HBox(children=(IntProgress(value=0, max=300), HTML(value='')))"
      ]
     },
     "metadata": {},
     "output_type": "display_data"
    },
    {
     "data": {
      "application/vnd.jupyter.widget-view+json": {
       "model_id": "",
       "version_major": 2,
       "version_minor": 0
      },
      "text/plain": [
       "HBox(children=(IntProgress(value=0, max=300), HTML(value='')))"
      ]
     },
     "metadata": {},
     "output_type": "display_data"
    },
    {
     "data": {
      "application/vnd.jupyter.widget-view+json": {
       "model_id": "",
       "version_major": 2,
       "version_minor": 0
      },
      "text/plain": [
       "HBox(children=(IntProgress(value=0, max=300), HTML(value='')))"
      ]
     },
     "metadata": {},
     "output_type": "display_data"
    },
    {
     "data": {
      "application/vnd.jupyter.widget-view+json": {
       "model_id": "",
       "version_major": 2,
       "version_minor": 0
      },
      "text/plain": [
       "HBox(children=(IntProgress(value=0, max=300), HTML(value='')))"
      ]
     },
     "metadata": {},
     "output_type": "display_data"
    },
    {
     "data": {
      "application/vnd.jupyter.widget-view+json": {
       "model_id": "",
       "version_major": 2,
       "version_minor": 0
      },
      "text/plain": [
       "HBox(children=(IntProgress(value=0, max=300), HTML(value='')))"
      ]
     },
     "metadata": {},
     "output_type": "display_data"
    },
    {
     "data": {
      "application/vnd.jupyter.widget-view+json": {
       "model_id": "",
       "version_major": 2,
       "version_minor": 0
      },
      "text/plain": [
       "HBox(children=(IntProgress(value=0, max=300), HTML(value='')))"
      ]
     },
     "metadata": {},
     "output_type": "display_data"
    },
    {
     "data": {
      "application/vnd.jupyter.widget-view+json": {
       "model_id": "",
       "version_major": 2,
       "version_minor": 0
      },
      "text/plain": [
       "HBox(children=(IntProgress(value=0, max=300), HTML(value='')))"
      ]
     },
     "metadata": {},
     "output_type": "display_data"
    },
    {
     "data": {
      "application/vnd.jupyter.widget-view+json": {
       "model_id": "",
       "version_major": 2,
       "version_minor": 0
      },
      "text/plain": [
       "HBox(children=(IntProgress(value=0, max=300), HTML(value='')))"
      ]
     },
     "metadata": {},
     "output_type": "display_data"
    },
    {
     "data": {
      "application/vnd.jupyter.widget-view+json": {
       "model_id": "",
       "version_major": 2,
       "version_minor": 0
      },
      "text/plain": [
       "HBox(children=(IntProgress(value=0, max=300), HTML(value='')))"
      ]
     },
     "metadata": {},
     "output_type": "display_data"
    },
    {
     "data": {
      "application/vnd.jupyter.widget-view+json": {
       "model_id": "",
       "version_major": 2,
       "version_minor": 0
      },
      "text/plain": [
       "HBox(children=(IntProgress(value=0, max=300), HTML(value='')))"
      ]
     },
     "metadata": {},
     "output_type": "display_data"
    },
    {
     "data": {
      "application/vnd.jupyter.widget-view+json": {
       "model_id": "",
       "version_major": 2,
       "version_minor": 0
      },
      "text/plain": [
       "HBox(children=(IntProgress(value=0, max=300), HTML(value='')))"
      ]
     },
     "metadata": {},
     "output_type": "display_data"
    },
    {
     "data": {
      "application/vnd.jupyter.widget-view+json": {
       "model_id": "",
       "version_major": 2,
       "version_minor": 0
      },
      "text/plain": [
       "HBox(children=(IntProgress(value=0, max=300), HTML(value='')))"
      ]
     },
     "metadata": {},
     "output_type": "display_data"
    },
    {
     "data": {
      "application/vnd.jupyter.widget-view+json": {
       "model_id": "",
       "version_major": 2,
       "version_minor": 0
      },
      "text/plain": [
       "HBox(children=(IntProgress(value=0, max=300), HTML(value='')))"
      ]
     },
     "metadata": {},
     "output_type": "display_data"
    },
    {
     "data": {
      "application/vnd.jupyter.widget-view+json": {
       "model_id": "",
       "version_major": 2,
       "version_minor": 0
      },
      "text/plain": [
       "HBox(children=(IntProgress(value=0, max=300), HTML(value='')))"
      ]
     },
     "metadata": {},
     "output_type": "display_data"
    },
    {
     "data": {
      "application/vnd.jupyter.widget-view+json": {
       "model_id": "",
       "version_major": 2,
       "version_minor": 0
      },
      "text/plain": [
       "HBox(children=(IntProgress(value=0, max=300), HTML(value='')))"
      ]
     },
     "metadata": {},
     "output_type": "display_data"
    },
    {
     "data": {
      "application/vnd.jupyter.widget-view+json": {
       "model_id": "",
       "version_major": 2,
       "version_minor": 0
      },
      "text/plain": [
       "HBox(children=(IntProgress(value=0, max=300), HTML(value='')))"
      ]
     },
     "metadata": {},
     "output_type": "display_data"
    },
    {
     "data": {
      "application/vnd.jupyter.widget-view+json": {
       "model_id": "",
       "version_major": 2,
       "version_minor": 0
      },
      "text/plain": [
       "HBox(children=(IntProgress(value=0, max=300), HTML(value='')))"
      ]
     },
     "metadata": {},
     "output_type": "display_data"
    },
    {
     "data": {
      "application/vnd.jupyter.widget-view+json": {
       "model_id": "",
       "version_major": 2,
       "version_minor": 0
      },
      "text/plain": [
       "HBox(children=(IntProgress(value=0, max=300), HTML(value='')))"
      ]
     },
     "metadata": {},
     "output_type": "display_data"
    },
    {
     "data": {
      "application/vnd.jupyter.widget-view+json": {
       "model_id": "",
       "version_major": 2,
       "version_minor": 0
      },
      "text/plain": [
       "HBox(children=(IntProgress(value=0, max=300), HTML(value='')))"
      ]
     },
     "metadata": {},
     "output_type": "display_data"
    },
    {
     "data": {
      "application/vnd.jupyter.widget-view+json": {
       "model_id": "",
       "version_major": 2,
       "version_minor": 0
      },
      "text/plain": [
       "HBox(children=(IntProgress(value=0, max=300), HTML(value='')))"
      ]
     },
     "metadata": {},
     "output_type": "display_data"
    },
    {
     "data": {
      "application/vnd.jupyter.widget-view+json": {
       "model_id": "",
       "version_major": 2,
       "version_minor": 0
      },
      "text/plain": [
       "HBox(children=(IntProgress(value=0, max=300), HTML(value='')))"
      ]
     },
     "metadata": {},
     "output_type": "display_data"
    },
    {
     "data": {
      "application/vnd.jupyter.widget-view+json": {
       "model_id": "",
       "version_major": 2,
       "version_minor": 0
      },
      "text/plain": [
       "HBox(children=(IntProgress(value=0, max=300), HTML(value='')))"
      ]
     },
     "metadata": {},
     "output_type": "display_data"
    },
    {
     "data": {
      "application/vnd.jupyter.widget-view+json": {
       "model_id": "",
       "version_major": 2,
       "version_minor": 0
      },
      "text/plain": [
       "HBox(children=(IntProgress(value=0, max=300), HTML(value='')))"
      ]
     },
     "metadata": {},
     "output_type": "display_data"
    },
    {
     "data": {
      "application/vnd.jupyter.widget-view+json": {
       "model_id": "",
       "version_major": 2,
       "version_minor": 0
      },
      "text/plain": [
       "HBox(children=(IntProgress(value=0, max=300), HTML(value='')))"
      ]
     },
     "metadata": {},
     "output_type": "display_data"
    },
    {
     "data": {
      "application/vnd.jupyter.widget-view+json": {
       "model_id": "",
       "version_major": 2,
       "version_minor": 0
      },
      "text/plain": [
       "HBox(children=(IntProgress(value=0, max=300), HTML(value='')))"
      ]
     },
     "metadata": {},
     "output_type": "display_data"
    },
    {
     "data": {
      "application/vnd.jupyter.widget-view+json": {
       "model_id": "",
       "version_major": 2,
       "version_minor": 0
      },
      "text/plain": [
       "HBox(children=(IntProgress(value=0, max=300), HTML(value='')))"
      ]
     },
     "metadata": {},
     "output_type": "display_data"
    },
    {
     "data": {
      "application/vnd.jupyter.widget-view+json": {
       "model_id": "",
       "version_major": 2,
       "version_minor": 0
      },
      "text/plain": [
       "HBox(children=(IntProgress(value=0, max=300), HTML(value='')))"
      ]
     },
     "metadata": {},
     "output_type": "display_data"
    },
    {
     "data": {
      "application/vnd.jupyter.widget-view+json": {
       "model_id": "",
       "version_major": 2,
       "version_minor": 0
      },
      "text/plain": [
       "HBox(children=(IntProgress(value=0, max=300), HTML(value='')))"
      ]
     },
     "metadata": {},
     "output_type": "display_data"
    },
    {
     "data": {
      "application/vnd.jupyter.widget-view+json": {
       "model_id": "",
       "version_major": 2,
       "version_minor": 0
      },
      "text/plain": [
       "HBox(children=(IntProgress(value=0, max=300), HTML(value='')))"
      ]
     },
     "metadata": {},
     "output_type": "display_data"
    },
    {
     "data": {
      "application/vnd.jupyter.widget-view+json": {
       "model_id": "",
       "version_major": 2,
       "version_minor": 0
      },
      "text/plain": [
       "HBox(children=(IntProgress(value=0, max=300), HTML(value='')))"
      ]
     },
     "metadata": {},
     "output_type": "display_data"
    },
    {
     "data": {
      "application/vnd.jupyter.widget-view+json": {
       "model_id": "",
       "version_major": 2,
       "version_minor": 0
      },
      "text/plain": [
       "HBox(children=(IntProgress(value=0, max=300), HTML(value='')))"
      ]
     },
     "metadata": {},
     "output_type": "display_data"
    },
    {
     "data": {
      "application/vnd.jupyter.widget-view+json": {
       "model_id": "",
       "version_major": 2,
       "version_minor": 0
      },
      "text/plain": [
       "HBox(children=(IntProgress(value=0, max=300), HTML(value='')))"
      ]
     },
     "metadata": {},
     "output_type": "display_data"
    },
    {
     "data": {
      "application/vnd.jupyter.widget-view+json": {
       "model_id": "",
       "version_major": 2,
       "version_minor": 0
      },
      "text/plain": [
       "HBox(children=(IntProgress(value=0, max=300), HTML(value='')))"
      ]
     },
     "metadata": {},
     "output_type": "display_data"
    },
    {
     "data": {
      "application/vnd.jupyter.widget-view+json": {
       "model_id": "",
       "version_major": 2,
       "version_minor": 0
      },
      "text/plain": [
       "HBox(children=(IntProgress(value=0, max=300), HTML(value='')))"
      ]
     },
     "metadata": {},
     "output_type": "display_data"
    },
    {
     "data": {
      "application/vnd.jupyter.widget-view+json": {
       "model_id": "",
       "version_major": 2,
       "version_minor": 0
      },
      "text/plain": [
       "HBox(children=(IntProgress(value=0, max=300), HTML(value='')))"
      ]
     },
     "metadata": {},
     "output_type": "display_data"
    },
    {
     "data": {
      "application/vnd.jupyter.widget-view+json": {
       "model_id": "",
       "version_major": 2,
       "version_minor": 0
      },
      "text/plain": [
       "HBox(children=(IntProgress(value=0, max=300), HTML(value='')))"
      ]
     },
     "metadata": {},
     "output_type": "display_data"
    },
    {
     "data": {
      "application/vnd.jupyter.widget-view+json": {
       "model_id": "",
       "version_major": 2,
       "version_minor": 0
      },
      "text/plain": [
       "HBox(children=(IntProgress(value=0, max=300), HTML(value='')))"
      ]
     },
     "metadata": {},
     "output_type": "display_data"
    },
    {
     "data": {
      "application/vnd.jupyter.widget-view+json": {
       "model_id": "",
       "version_major": 2,
       "version_minor": 0
      },
      "text/plain": [
       "HBox(children=(IntProgress(value=0, max=300), HTML(value='')))"
      ]
     },
     "metadata": {},
     "output_type": "display_data"
    },
    {
     "data": {
      "application/vnd.jupyter.widget-view+json": {
       "model_id": "",
       "version_major": 2,
       "version_minor": 0
      },
      "text/plain": [
       "HBox(children=(IntProgress(value=0, max=300), HTML(value='')))"
      ]
     },
     "metadata": {},
     "output_type": "display_data"
    },
    {
     "data": {
      "application/vnd.jupyter.widget-view+json": {
       "model_id": "",
       "version_major": 2,
       "version_minor": 0
      },
      "text/plain": [
       "HBox(children=(IntProgress(value=0, max=300), HTML(value='')))"
      ]
     },
     "metadata": {},
     "output_type": "display_data"
    },
    {
     "data": {
      "application/vnd.jupyter.widget-view+json": {
       "model_id": "",
       "version_major": 2,
       "version_minor": 0
      },
      "text/plain": [
       "HBox(children=(IntProgress(value=0, max=300), HTML(value='')))"
      ]
     },
     "metadata": {},
     "output_type": "display_data"
    },
    {
     "data": {
      "application/vnd.jupyter.widget-view+json": {
       "model_id": "",
       "version_major": 2,
       "version_minor": 0
      },
      "text/plain": [
       "HBox(children=(IntProgress(value=0, max=300), HTML(value='')))"
      ]
     },
     "metadata": {},
     "output_type": "display_data"
    },
    {
     "data": {
      "application/vnd.jupyter.widget-view+json": {
       "model_id": "",
       "version_major": 2,
       "version_minor": 0
      },
      "text/plain": [
       "HBox(children=(IntProgress(value=0, max=300), HTML(value='')))"
      ]
     },
     "metadata": {},
     "output_type": "display_data"
    },
    {
     "data": {
      "application/vnd.jupyter.widget-view+json": {
       "model_id": "",
       "version_major": 2,
       "version_minor": 0
      },
      "text/plain": [
       "HBox(children=(IntProgress(value=0, max=300), HTML(value='')))"
      ]
     },
     "metadata": {},
     "output_type": "display_data"
    },
    {
     "data": {
      "application/vnd.jupyter.widget-view+json": {
       "model_id": "",
       "version_major": 2,
       "version_minor": 0
      },
      "text/plain": [
       "HBox(children=(IntProgress(value=0, max=300), HTML(value='')))"
      ]
     },
     "metadata": {},
     "output_type": "display_data"
    },
    {
     "data": {
      "application/vnd.jupyter.widget-view+json": {
       "model_id": "",
       "version_major": 2,
       "version_minor": 0
      },
      "text/plain": [
       "HBox(children=(IntProgress(value=0, max=300), HTML(value='')))"
      ]
     },
     "metadata": {},
     "output_type": "display_data"
    },
    {
     "data": {
      "application/vnd.jupyter.widget-view+json": {
       "model_id": "",
       "version_major": 2,
       "version_minor": 0
      },
      "text/plain": [
       "HBox(children=(IntProgress(value=0, max=300), HTML(value='')))"
      ]
     },
     "metadata": {},
     "output_type": "display_data"
    },
    {
     "data": {
      "application/vnd.jupyter.widget-view+json": {
       "model_id": "",
       "version_major": 2,
       "version_minor": 0
      },
      "text/plain": [
       "HBox(children=(IntProgress(value=0, max=300), HTML(value='')))"
      ]
     },
     "metadata": {},
     "output_type": "display_data"
    },
    {
     "data": {
      "application/vnd.jupyter.widget-view+json": {
       "model_id": "",
       "version_major": 2,
       "version_minor": 0
      },
      "text/plain": [
       "HBox(children=(IntProgress(value=0, max=300), HTML(value='')))"
      ]
     },
     "metadata": {},
     "output_type": "display_data"
    },
    {
     "data": {
      "application/vnd.jupyter.widget-view+json": {
       "model_id": "",
       "version_major": 2,
       "version_minor": 0
      },
      "text/plain": [
       "HBox(children=(IntProgress(value=0, max=300), HTML(value='')))"
      ]
     },
     "metadata": {},
     "output_type": "display_data"
    },
    {
     "data": {
      "application/vnd.jupyter.widget-view+json": {
       "model_id": "",
       "version_major": 2,
       "version_minor": 0
      },
      "text/plain": [
       "HBox(children=(IntProgress(value=0, max=300), HTML(value='')))"
      ]
     },
     "metadata": {},
     "output_type": "display_data"
    },
    {
     "data": {
      "application/vnd.jupyter.widget-view+json": {
       "model_id": "",
       "version_major": 2,
       "version_minor": 0
      },
      "text/plain": [
       "HBox(children=(IntProgress(value=0, max=300), HTML(value='')))"
      ]
     },
     "metadata": {},
     "output_type": "display_data"
    },
    {
     "data": {
      "application/vnd.jupyter.widget-view+json": {
       "model_id": "",
       "version_major": 2,
       "version_minor": 0
      },
      "text/plain": [
       "HBox(children=(IntProgress(value=0, max=300), HTML(value='')))"
      ]
     },
     "metadata": {},
     "output_type": "display_data"
    },
    {
     "data": {
      "application/vnd.jupyter.widget-view+json": {
       "model_id": "",
       "version_major": 2,
       "version_minor": 0
      },
      "text/plain": [
       "HBox(children=(IntProgress(value=0, max=300), HTML(value='')))"
      ]
     },
     "metadata": {},
     "output_type": "display_data"
    },
    {
     "data": {
      "application/vnd.jupyter.widget-view+json": {
       "model_id": "",
       "version_major": 2,
       "version_minor": 0
      },
      "text/plain": [
       "HBox(children=(IntProgress(value=0, max=300), HTML(value='')))"
      ]
     },
     "metadata": {},
     "output_type": "display_data"
    },
    {
     "data": {
      "application/vnd.jupyter.widget-view+json": {
       "model_id": "",
       "version_major": 2,
       "version_minor": 0
      },
      "text/plain": [
       "HBox(children=(IntProgress(value=0, max=300), HTML(value='')))"
      ]
     },
     "metadata": {},
     "output_type": "display_data"
    },
    {
     "data": {
      "application/vnd.jupyter.widget-view+json": {
       "model_id": "",
       "version_major": 2,
       "version_minor": 0
      },
      "text/plain": [
       "HBox(children=(IntProgress(value=0, max=300), HTML(value='')))"
      ]
     },
     "metadata": {},
     "output_type": "display_data"
    },
    {
     "data": {
      "application/vnd.jupyter.widget-view+json": {
       "model_id": "",
       "version_major": 2,
       "version_minor": 0
      },
      "text/plain": [
       "HBox(children=(IntProgress(value=0, max=300), HTML(value='')))"
      ]
     },
     "metadata": {},
     "output_type": "display_data"
    },
    {
     "data": {
      "application/vnd.jupyter.widget-view+json": {
       "model_id": "",
       "version_major": 2,
       "version_minor": 0
      },
      "text/plain": [
       "HBox(children=(IntProgress(value=0, max=300), HTML(value='')))"
      ]
     },
     "metadata": {},
     "output_type": "display_data"
    },
    {
     "data": {
      "application/vnd.jupyter.widget-view+json": {
       "model_id": "",
       "version_major": 2,
       "version_minor": 0
      },
      "text/plain": [
       "HBox(children=(IntProgress(value=0, max=300), HTML(value='')))"
      ]
     },
     "metadata": {},
     "output_type": "display_data"
    },
    {
     "data": {
      "application/vnd.jupyter.widget-view+json": {
       "model_id": "",
       "version_major": 2,
       "version_minor": 0
      },
      "text/plain": [
       "HBox(children=(IntProgress(value=0, max=300), HTML(value='')))"
      ]
     },
     "metadata": {},
     "output_type": "display_data"
    },
    {
     "data": {
      "application/vnd.jupyter.widget-view+json": {
       "model_id": "",
       "version_major": 2,
       "version_minor": 0
      },
      "text/plain": [
       "HBox(children=(IntProgress(value=0, max=300), HTML(value='')))"
      ]
     },
     "metadata": {},
     "output_type": "display_data"
    },
    {
     "data": {
      "application/vnd.jupyter.widget-view+json": {
       "model_id": "",
       "version_major": 2,
       "version_minor": 0
      },
      "text/plain": [
       "HBox(children=(IntProgress(value=0, max=300), HTML(value='')))"
      ]
     },
     "metadata": {},
     "output_type": "display_data"
    },
    {
     "data": {
      "application/vnd.jupyter.widget-view+json": {
       "model_id": "",
       "version_major": 2,
       "version_minor": 0
      },
      "text/plain": [
       "HBox(children=(IntProgress(value=0, max=300), HTML(value='')))"
      ]
     },
     "metadata": {},
     "output_type": "display_data"
    },
    {
     "data": {
      "application/vnd.jupyter.widget-view+json": {
       "model_id": "",
       "version_major": 2,
       "version_minor": 0
      },
      "text/plain": [
       "HBox(children=(IntProgress(value=0, max=300), HTML(value='')))"
      ]
     },
     "metadata": {},
     "output_type": "display_data"
    },
    {
     "data": {
      "application/vnd.jupyter.widget-view+json": {
       "model_id": "",
       "version_major": 2,
       "version_minor": 0
      },
      "text/plain": [
       "HBox(children=(IntProgress(value=0, max=300), HTML(value='')))"
      ]
     },
     "metadata": {},
     "output_type": "display_data"
    },
    {
     "data": {
      "application/vnd.jupyter.widget-view+json": {
       "model_id": "",
       "version_major": 2,
       "version_minor": 0
      },
      "text/plain": [
       "HBox(children=(IntProgress(value=0, max=300), HTML(value='')))"
      ]
     },
     "metadata": {},
     "output_type": "display_data"
    },
    {
     "data": {
      "application/vnd.jupyter.widget-view+json": {
       "model_id": "",
       "version_major": 2,
       "version_minor": 0
      },
      "text/plain": [
       "HBox(children=(IntProgress(value=0, max=300), HTML(value='')))"
      ]
     },
     "metadata": {},
     "output_type": "display_data"
    },
    {
     "data": {
      "application/vnd.jupyter.widget-view+json": {
       "model_id": "",
       "version_major": 2,
       "version_minor": 0
      },
      "text/plain": [
       "HBox(children=(IntProgress(value=0, max=300), HTML(value='')))"
      ]
     },
     "metadata": {},
     "output_type": "display_data"
    },
    {
     "data": {
      "application/vnd.jupyter.widget-view+json": {
       "model_id": "",
       "version_major": 2,
       "version_minor": 0
      },
      "text/plain": [
       "HBox(children=(IntProgress(value=0, max=300), HTML(value='')))"
      ]
     },
     "metadata": {},
     "output_type": "display_data"
    },
    {
     "data": {
      "application/vnd.jupyter.widget-view+json": {
       "model_id": "",
       "version_major": 2,
       "version_minor": 0
      },
      "text/plain": [
       "HBox(children=(IntProgress(value=0, max=300), HTML(value='')))"
      ]
     },
     "metadata": {},
     "output_type": "display_data"
    },
    {
     "data": {
      "application/vnd.jupyter.widget-view+json": {
       "model_id": "",
       "version_major": 2,
       "version_minor": 0
      },
      "text/plain": [
       "HBox(children=(IntProgress(value=0, max=300), HTML(value='')))"
      ]
     },
     "metadata": {},
     "output_type": "display_data"
    },
    {
     "data": {
      "application/vnd.jupyter.widget-view+json": {
       "model_id": "",
       "version_major": 2,
       "version_minor": 0
      },
      "text/plain": [
       "HBox(children=(IntProgress(value=0, max=300), HTML(value='')))"
      ]
     },
     "metadata": {},
     "output_type": "display_data"
    },
    {
     "data": {
      "application/vnd.jupyter.widget-view+json": {
       "model_id": "",
       "version_major": 2,
       "version_minor": 0
      },
      "text/plain": [
       "HBox(children=(IntProgress(value=0, max=300), HTML(value='')))"
      ]
     },
     "metadata": {},
     "output_type": "display_data"
    },
    {
     "data": {
      "application/vnd.jupyter.widget-view+json": {
       "model_id": "",
       "version_major": 2,
       "version_minor": 0
      },
      "text/plain": [
       "HBox(children=(IntProgress(value=0, max=300), HTML(value='')))"
      ]
     },
     "metadata": {},
     "output_type": "display_data"
    },
    {
     "data": {
      "application/vnd.jupyter.widget-view+json": {
       "model_id": "",
       "version_major": 2,
       "version_minor": 0
      },
      "text/plain": [
       "HBox(children=(IntProgress(value=0, max=300), HTML(value='')))"
      ]
     },
     "metadata": {},
     "output_type": "display_data"
    },
    {
     "data": {
      "application/vnd.jupyter.widget-view+json": {
       "model_id": "",
       "version_major": 2,
       "version_minor": 0
      },
      "text/plain": [
       "HBox(children=(IntProgress(value=0, max=300), HTML(value='')))"
      ]
     },
     "metadata": {},
     "output_type": "display_data"
    },
    {
     "data": {
      "application/vnd.jupyter.widget-view+json": {
       "model_id": "",
       "version_major": 2,
       "version_minor": 0
      },
      "text/plain": [
       "HBox(children=(IntProgress(value=0, max=300), HTML(value='')))"
      ]
     },
     "metadata": {},
     "output_type": "display_data"
    },
    {
     "data": {
      "application/vnd.jupyter.widget-view+json": {
       "model_id": "",
       "version_major": 2,
       "version_minor": 0
      },
      "text/plain": [
       "HBox(children=(IntProgress(value=0, max=300), HTML(value='')))"
      ]
     },
     "metadata": {},
     "output_type": "display_data"
    },
    {
     "data": {
      "application/vnd.jupyter.widget-view+json": {
       "model_id": "",
       "version_major": 2,
       "version_minor": 0
      },
      "text/plain": [
       "HBox(children=(IntProgress(value=0, max=300), HTML(value='')))"
      ]
     },
     "metadata": {},
     "output_type": "display_data"
    },
    {
     "data": {
      "application/vnd.jupyter.widget-view+json": {
       "model_id": "",
       "version_major": 2,
       "version_minor": 0
      },
      "text/plain": [
       "HBox(children=(IntProgress(value=0, max=300), HTML(value='')))"
      ]
     },
     "metadata": {},
     "output_type": "display_data"
    },
    {
     "data": {
      "application/vnd.jupyter.widget-view+json": {
       "model_id": "",
       "version_major": 2,
       "version_minor": 0
      },
      "text/plain": [
       "HBox(children=(IntProgress(value=0, max=300), HTML(value='')))"
      ]
     },
     "metadata": {},
     "output_type": "display_data"
    },
    {
     "data": {
      "application/vnd.jupyter.widget-view+json": {
       "model_id": "",
       "version_major": 2,
       "version_minor": 0
      },
      "text/plain": [
       "HBox(children=(IntProgress(value=0, max=300), HTML(value='')))"
      ]
     },
     "metadata": {},
     "output_type": "display_data"
    },
    {
     "data": {
      "application/vnd.jupyter.widget-view+json": {
       "model_id": "",
       "version_major": 2,
       "version_minor": 0
      },
      "text/plain": [
       "HBox(children=(IntProgress(value=0, max=300), HTML(value='')))"
      ]
     },
     "metadata": {},
     "output_type": "display_data"
    },
    {
     "data": {
      "application/vnd.jupyter.widget-view+json": {
       "model_id": "",
       "version_major": 2,
       "version_minor": 0
      },
      "text/plain": [
       "HBox(children=(IntProgress(value=0, max=300), HTML(value='')))"
      ]
     },
     "metadata": {},
     "output_type": "display_data"
    },
    {
     "data": {
      "application/vnd.jupyter.widget-view+json": {
       "model_id": "",
       "version_major": 2,
       "version_minor": 0
      },
      "text/plain": [
       "HBox(children=(IntProgress(value=0, max=300), HTML(value='')))"
      ]
     },
     "metadata": {},
     "output_type": "display_data"
    },
    {
     "data": {
      "application/vnd.jupyter.widget-view+json": {
       "model_id": "",
       "version_major": 2,
       "version_minor": 0
      },
      "text/plain": [
       "HBox(children=(IntProgress(value=0, max=300), HTML(value='')))"
      ]
     },
     "metadata": {},
     "output_type": "display_data"
    },
    {
     "data": {
      "application/vnd.jupyter.widget-view+json": {
       "model_id": "",
       "version_major": 2,
       "version_minor": 0
      },
      "text/plain": [
       "HBox(children=(IntProgress(value=0, max=300), HTML(value='')))"
      ]
     },
     "metadata": {},
     "output_type": "display_data"
    },
    {
     "data": {
      "application/vnd.jupyter.widget-view+json": {
       "model_id": "",
       "version_major": 2,
       "version_minor": 0
      },
      "text/plain": [
       "HBox(children=(IntProgress(value=0, max=300), HTML(value='')))"
      ]
     },
     "metadata": {},
     "output_type": "display_data"
    },
    {
     "data": {
      "application/vnd.jupyter.widget-view+json": {
       "model_id": "",
       "version_major": 2,
       "version_minor": 0
      },
      "text/plain": [
       "HBox(children=(IntProgress(value=0, max=300), HTML(value='')))"
      ]
     },
     "metadata": {},
     "output_type": "display_data"
    },
    {
     "data": {
      "application/vnd.jupyter.widget-view+json": {
       "model_id": "",
       "version_major": 2,
       "version_minor": 0
      },
      "text/plain": [
       "HBox(children=(IntProgress(value=0, max=300), HTML(value='')))"
      ]
     },
     "metadata": {},
     "output_type": "display_data"
    },
    {
     "data": {
      "application/vnd.jupyter.widget-view+json": {
       "model_id": "",
       "version_major": 2,
       "version_minor": 0
      },
      "text/plain": [
       "HBox(children=(IntProgress(value=0, max=300), HTML(value='')))"
      ]
     },
     "metadata": {},
     "output_type": "display_data"
    },
    {
     "data": {
      "application/vnd.jupyter.widget-view+json": {
       "model_id": "",
       "version_major": 2,
       "version_minor": 0
      },
      "text/plain": [
       "HBox(children=(IntProgress(value=0, max=300), HTML(value='')))"
      ]
     },
     "metadata": {},
     "output_type": "display_data"
    },
    {
     "data": {
      "application/vnd.jupyter.widget-view+json": {
       "model_id": "",
       "version_major": 2,
       "version_minor": 0
      },
      "text/plain": [
       "HBox(children=(IntProgress(value=0, max=300), HTML(value='')))"
      ]
     },
     "metadata": {},
     "output_type": "display_data"
    },
    {
     "data": {
      "application/vnd.jupyter.widget-view+json": {
       "model_id": "",
       "version_major": 2,
       "version_minor": 0
      },
      "text/plain": [
       "HBox(children=(IntProgress(value=0, max=300), HTML(value='')))"
      ]
     },
     "metadata": {},
     "output_type": "display_data"
    },
    {
     "data": {
      "application/vnd.jupyter.widget-view+json": {
       "model_id": "",
       "version_major": 2,
       "version_minor": 0
      },
      "text/plain": [
       "HBox(children=(IntProgress(value=0, max=300), HTML(value='')))"
      ]
     },
     "metadata": {},
     "output_type": "display_data"
    },
    {
     "data": {
      "application/vnd.jupyter.widget-view+json": {
       "model_id": "",
       "version_major": 2,
       "version_minor": 0
      },
      "text/plain": [
       "HBox(children=(IntProgress(value=0, max=300), HTML(value='')))"
      ]
     },
     "metadata": {},
     "output_type": "display_data"
    },
    {
     "data": {
      "application/vnd.jupyter.widget-view+json": {
       "model_id": "",
       "version_major": 2,
       "version_minor": 0
      },
      "text/plain": [
       "HBox(children=(IntProgress(value=0, max=300), HTML(value='')))"
      ]
     },
     "metadata": {},
     "output_type": "display_data"
    },
    {
     "data": {
      "application/vnd.jupyter.widget-view+json": {
       "model_id": "",
       "version_major": 2,
       "version_minor": 0
      },
      "text/plain": [
       "HBox(children=(IntProgress(value=0, max=300), HTML(value='')))"
      ]
     },
     "metadata": {},
     "output_type": "display_data"
    },
    {
     "data": {
      "application/vnd.jupyter.widget-view+json": {
       "model_id": "",
       "version_major": 2,
       "version_minor": 0
      },
      "text/plain": [
       "HBox(children=(IntProgress(value=0, max=300), HTML(value='')))"
      ]
     },
     "metadata": {},
     "output_type": "display_data"
    },
    {
     "data": {
      "application/vnd.jupyter.widget-view+json": {
       "model_id": "",
       "version_major": 2,
       "version_minor": 0
      },
      "text/plain": [
       "HBox(children=(IntProgress(value=0, max=300), HTML(value='')))"
      ]
     },
     "metadata": {},
     "output_type": "display_data"
    },
    {
     "data": {
      "application/vnd.jupyter.widget-view+json": {
       "model_id": "",
       "version_major": 2,
       "version_minor": 0
      },
      "text/plain": [
       "HBox(children=(IntProgress(value=0, max=300), HTML(value='')))"
      ]
     },
     "metadata": {},
     "output_type": "display_data"
    },
    {
     "data": {
      "application/vnd.jupyter.widget-view+json": {
       "model_id": "",
       "version_major": 2,
       "version_minor": 0
      },
      "text/plain": [
       "HBox(children=(IntProgress(value=0, max=300), HTML(value='')))"
      ]
     },
     "metadata": {},
     "output_type": "display_data"
    },
    {
     "data": {
      "application/vnd.jupyter.widget-view+json": {
       "model_id": "",
       "version_major": 2,
       "version_minor": 0
      },
      "text/plain": [
       "HBox(children=(IntProgress(value=0, max=300), HTML(value='')))"
      ]
     },
     "metadata": {},
     "output_type": "display_data"
    },
    {
     "data": {
      "application/vnd.jupyter.widget-view+json": {
       "model_id": "",
       "version_major": 2,
       "version_minor": 0
      },
      "text/plain": [
       "HBox(children=(IntProgress(value=0, max=300), HTML(value='')))"
      ]
     },
     "metadata": {},
     "output_type": "display_data"
    },
    {
     "data": {
      "application/vnd.jupyter.widget-view+json": {
       "model_id": "",
       "version_major": 2,
       "version_minor": 0
      },
      "text/plain": [
       "HBox(children=(IntProgress(value=0, max=300), HTML(value='')))"
      ]
     },
     "metadata": {},
     "output_type": "display_data"
    },
    {
     "data": {
      "application/vnd.jupyter.widget-view+json": {
       "model_id": "",
       "version_major": 2,
       "version_minor": 0
      },
      "text/plain": [
       "HBox(children=(IntProgress(value=0, max=300), HTML(value='')))"
      ]
     },
     "metadata": {},
     "output_type": "display_data"
    },
    {
     "data": {
      "application/vnd.jupyter.widget-view+json": {
       "model_id": "",
       "version_major": 2,
       "version_minor": 0
      },
      "text/plain": [
       "HBox(children=(IntProgress(value=0, max=300), HTML(value='')))"
      ]
     },
     "metadata": {},
     "output_type": "display_data"
    },
    {
     "data": {
      "application/vnd.jupyter.widget-view+json": {
       "model_id": "",
       "version_major": 2,
       "version_minor": 0
      },
      "text/plain": [
       "HBox(children=(IntProgress(value=0, max=300), HTML(value='')))"
      ]
     },
     "metadata": {},
     "output_type": "display_data"
    },
    {
     "data": {
      "application/vnd.jupyter.widget-view+json": {
       "model_id": "",
       "version_major": 2,
       "version_minor": 0
      },
      "text/plain": [
       "HBox(children=(IntProgress(value=0, max=300), HTML(value='')))"
      ]
     },
     "metadata": {},
     "output_type": "display_data"
    },
    {
     "data": {
      "application/vnd.jupyter.widget-view+json": {
       "model_id": "",
       "version_major": 2,
       "version_minor": 0
      },
      "text/plain": [
       "HBox(children=(IntProgress(value=0, max=300), HTML(value='')))"
      ]
     },
     "metadata": {},
     "output_type": "display_data"
    },
    {
     "data": {
      "application/vnd.jupyter.widget-view+json": {
       "model_id": "",
       "version_major": 2,
       "version_minor": 0
      },
      "text/plain": [
       "HBox(children=(IntProgress(value=0, max=300), HTML(value='')))"
      ]
     },
     "metadata": {},
     "output_type": "display_data"
    },
    {
     "data": {
      "application/vnd.jupyter.widget-view+json": {
       "model_id": "",
       "version_major": 2,
       "version_minor": 0
      },
      "text/plain": [
       "HBox(children=(IntProgress(value=0, max=300), HTML(value='')))"
      ]
     },
     "metadata": {},
     "output_type": "display_data"
    },
    {
     "data": {
      "application/vnd.jupyter.widget-view+json": {
       "model_id": "",
       "version_major": 2,
       "version_minor": 0
      },
      "text/plain": [
       "HBox(children=(IntProgress(value=0, max=300), HTML(value='')))"
      ]
     },
     "metadata": {},
     "output_type": "display_data"
    },
    {
     "data": {
      "application/vnd.jupyter.widget-view+json": {
       "model_id": "",
       "version_major": 2,
       "version_minor": 0
      },
      "text/plain": [
       "HBox(children=(IntProgress(value=0, max=300), HTML(value='')))"
      ]
     },
     "metadata": {},
     "output_type": "display_data"
    },
    {
     "data": {
      "application/vnd.jupyter.widget-view+json": {
       "model_id": "",
       "version_major": 2,
       "version_minor": 0
      },
      "text/plain": [
       "HBox(children=(IntProgress(value=0, max=300), HTML(value='')))"
      ]
     },
     "metadata": {},
     "output_type": "display_data"
    },
    {
     "data": {
      "application/vnd.jupyter.widget-view+json": {
       "model_id": "",
       "version_major": 2,
       "version_minor": 0
      },
      "text/plain": [
       "HBox(children=(IntProgress(value=0, max=300), HTML(value='')))"
      ]
     },
     "metadata": {},
     "output_type": "display_data"
    },
    {
     "data": {
      "application/vnd.jupyter.widget-view+json": {
       "model_id": "",
       "version_major": 2,
       "version_minor": 0
      },
      "text/plain": [
       "HBox(children=(IntProgress(value=0, max=300), HTML(value='')))"
      ]
     },
     "metadata": {},
     "output_type": "display_data"
    },
    {
     "data": {
      "application/vnd.jupyter.widget-view+json": {
       "model_id": "",
       "version_major": 2,
       "version_minor": 0
      },
      "text/plain": [
       "HBox(children=(IntProgress(value=0, max=300), HTML(value='')))"
      ]
     },
     "metadata": {},
     "output_type": "display_data"
    },
    {
     "data": {
      "application/vnd.jupyter.widget-view+json": {
       "model_id": "",
       "version_major": 2,
       "version_minor": 0
      },
      "text/plain": [
       "HBox(children=(IntProgress(value=0, max=300), HTML(value='')))"
      ]
     },
     "metadata": {},
     "output_type": "display_data"
    },
    {
     "data": {
      "application/vnd.jupyter.widget-view+json": {
       "model_id": "",
       "version_major": 2,
       "version_minor": 0
      },
      "text/plain": [
       "HBox(children=(IntProgress(value=0, max=300), HTML(value='')))"
      ]
     },
     "metadata": {},
     "output_type": "display_data"
    },
    {
     "data": {
      "application/vnd.jupyter.widget-view+json": {
       "model_id": "",
       "version_major": 2,
       "version_minor": 0
      },
      "text/plain": [
       "HBox(children=(IntProgress(value=0, max=300), HTML(value='')))"
      ]
     },
     "metadata": {},
     "output_type": "display_data"
    },
    {
     "data": {
      "application/vnd.jupyter.widget-view+json": {
       "model_id": "",
       "version_major": 2,
       "version_minor": 0
      },
      "text/plain": [
       "HBox(children=(IntProgress(value=0, max=300), HTML(value='')))"
      ]
     },
     "metadata": {},
     "output_type": "display_data"
    },
    {
     "data": {
      "application/vnd.jupyter.widget-view+json": {
       "model_id": "",
       "version_major": 2,
       "version_minor": 0
      },
      "text/plain": [
       "HBox(children=(IntProgress(value=0, max=300), HTML(value='')))"
      ]
     },
     "metadata": {},
     "output_type": "display_data"
    },
    {
     "data": {
      "application/vnd.jupyter.widget-view+json": {
       "model_id": "",
       "version_major": 2,
       "version_minor": 0
      },
      "text/plain": [
       "HBox(children=(IntProgress(value=0, max=300), HTML(value='')))"
      ]
     },
     "metadata": {},
     "output_type": "display_data"
    },
    {
     "data": {
      "application/vnd.jupyter.widget-view+json": {
       "model_id": "",
       "version_major": 2,
       "version_minor": 0
      },
      "text/plain": [
       "HBox(children=(IntProgress(value=0, max=300), HTML(value='')))"
      ]
     },
     "metadata": {},
     "output_type": "display_data"
    },
    {
     "data": {
      "application/vnd.jupyter.widget-view+json": {
       "model_id": "",
       "version_major": 2,
       "version_minor": 0
      },
      "text/plain": [
       "HBox(children=(IntProgress(value=0, max=300), HTML(value='')))"
      ]
     },
     "metadata": {},
     "output_type": "display_data"
    },
    {
     "data": {
      "application/vnd.jupyter.widget-view+json": {
       "model_id": "",
       "version_major": 2,
       "version_minor": 0
      },
      "text/plain": [
       "HBox(children=(IntProgress(value=0, max=300), HTML(value='')))"
      ]
     },
     "metadata": {},
     "output_type": "display_data"
    },
    {
     "data": {
      "application/vnd.jupyter.widget-view+json": {
       "model_id": "",
       "version_major": 2,
       "version_minor": 0
      },
      "text/plain": [
       "HBox(children=(IntProgress(value=0, max=300), HTML(value='')))"
      ]
     },
     "metadata": {},
     "output_type": "display_data"
    },
    {
     "data": {
      "application/vnd.jupyter.widget-view+json": {
       "model_id": "",
       "version_major": 2,
       "version_minor": 0
      },
      "text/plain": [
       "HBox(children=(IntProgress(value=0, max=300), HTML(value='')))"
      ]
     },
     "metadata": {},
     "output_type": "display_data"
    },
    {
     "data": {
      "application/vnd.jupyter.widget-view+json": {
       "model_id": "",
       "version_major": 2,
       "version_minor": 0
      },
      "text/plain": [
       "HBox(children=(IntProgress(value=0, max=300), HTML(value='')))"
      ]
     },
     "metadata": {},
     "output_type": "display_data"
    },
    {
     "data": {
      "application/vnd.jupyter.widget-view+json": {
       "model_id": "",
       "version_major": 2,
       "version_minor": 0
      },
      "text/plain": [
       "HBox(children=(IntProgress(value=0, max=300), HTML(value='')))"
      ]
     },
     "metadata": {},
     "output_type": "display_data"
    },
    {
     "data": {
      "application/vnd.jupyter.widget-view+json": {
       "model_id": "",
       "version_major": 2,
       "version_minor": 0
      },
      "text/plain": [
       "HBox(children=(IntProgress(value=0, max=300), HTML(value='')))"
      ]
     },
     "metadata": {},
     "output_type": "display_data"
    },
    {
     "data": {
      "application/vnd.jupyter.widget-view+json": {
       "model_id": "",
       "version_major": 2,
       "version_minor": 0
      },
      "text/plain": [
       "HBox(children=(IntProgress(value=0, max=300), HTML(value='')))"
      ]
     },
     "metadata": {},
     "output_type": "display_data"
    },
    {
     "data": {
      "application/vnd.jupyter.widget-view+json": {
       "model_id": "",
       "version_major": 2,
       "version_minor": 0
      },
      "text/plain": [
       "HBox(children=(IntProgress(value=0, max=300), HTML(value='')))"
      ]
     },
     "metadata": {},
     "output_type": "display_data"
    },
    {
     "data": {
      "application/vnd.jupyter.widget-view+json": {
       "model_id": "",
       "version_major": 2,
       "version_minor": 0
      },
      "text/plain": [
       "HBox(children=(IntProgress(value=0, max=300), HTML(value='')))"
      ]
     },
     "metadata": {},
     "output_type": "display_data"
    },
    {
     "data": {
      "application/vnd.jupyter.widget-view+json": {
       "model_id": "",
       "version_major": 2,
       "version_minor": 0
      },
      "text/plain": [
       "HBox(children=(IntProgress(value=0, max=300), HTML(value='')))"
      ]
     },
     "metadata": {},
     "output_type": "display_data"
    },
    {
     "data": {
      "application/vnd.jupyter.widget-view+json": {
       "model_id": "",
       "version_major": 2,
       "version_minor": 0
      },
      "text/plain": [
       "HBox(children=(IntProgress(value=0, max=300), HTML(value='')))"
      ]
     },
     "metadata": {},
     "output_type": "display_data"
    },
    {
     "data": {
      "application/vnd.jupyter.widget-view+json": {
       "model_id": "",
       "version_major": 2,
       "version_minor": 0
      },
      "text/plain": [
       "HBox(children=(IntProgress(value=0, max=300), HTML(value='')))"
      ]
     },
     "metadata": {},
     "output_type": "display_data"
    },
    {
     "data": {
      "application/vnd.jupyter.widget-view+json": {
       "model_id": "",
       "version_major": 2,
       "version_minor": 0
      },
      "text/plain": [
       "HBox(children=(IntProgress(value=0, max=300), HTML(value='')))"
      ]
     },
     "metadata": {},
     "output_type": "display_data"
    },
    {
     "data": {
      "application/vnd.jupyter.widget-view+json": {
       "model_id": "",
       "version_major": 2,
       "version_minor": 0
      },
      "text/plain": [
       "HBox(children=(IntProgress(value=0, max=300), HTML(value='')))"
      ]
     },
     "metadata": {},
     "output_type": "display_data"
    },
    {
     "data": {
      "application/vnd.jupyter.widget-view+json": {
       "model_id": "",
       "version_major": 2,
       "version_minor": 0
      },
      "text/plain": [
       "HBox(children=(IntProgress(value=0, max=300), HTML(value='')))"
      ]
     },
     "metadata": {},
     "output_type": "display_data"
    },
    {
     "data": {
      "application/vnd.jupyter.widget-view+json": {
       "model_id": "",
       "version_major": 2,
       "version_minor": 0
      },
      "text/plain": [
       "HBox(children=(IntProgress(value=0, max=300), HTML(value='')))"
      ]
     },
     "metadata": {},
     "output_type": "display_data"
    },
    {
     "data": {
      "application/vnd.jupyter.widget-view+json": {
       "model_id": "",
       "version_major": 2,
       "version_minor": 0
      },
      "text/plain": [
       "HBox(children=(IntProgress(value=0, max=300), HTML(value='')))"
      ]
     },
     "metadata": {},
     "output_type": "display_data"
    },
    {
     "data": {
      "application/vnd.jupyter.widget-view+json": {
       "model_id": "",
       "version_major": 2,
       "version_minor": 0
      },
      "text/plain": [
       "HBox(children=(IntProgress(value=0, max=300), HTML(value='')))"
      ]
     },
     "metadata": {},
     "output_type": "display_data"
    },
    {
     "data": {
      "application/vnd.jupyter.widget-view+json": {
       "model_id": "",
       "version_major": 2,
       "version_minor": 0
      },
      "text/plain": [
       "HBox(children=(IntProgress(value=0, max=300), HTML(value='')))"
      ]
     },
     "metadata": {},
     "output_type": "display_data"
    },
    {
     "data": {
      "application/vnd.jupyter.widget-view+json": {
       "model_id": "",
       "version_major": 2,
       "version_minor": 0
      },
      "text/plain": [
       "HBox(children=(IntProgress(value=0, max=300), HTML(value='')))"
      ]
     },
     "metadata": {},
     "output_type": "display_data"
    },
    {
     "data": {
      "application/vnd.jupyter.widget-view+json": {
       "model_id": "",
       "version_major": 2,
       "version_minor": 0
      },
      "text/plain": [
       "HBox(children=(IntProgress(value=0, max=300), HTML(value='')))"
      ]
     },
     "metadata": {},
     "output_type": "display_data"
    },
    {
     "data": {
      "application/vnd.jupyter.widget-view+json": {
       "model_id": "",
       "version_major": 2,
       "version_minor": 0
      },
      "text/plain": [
       "HBox(children=(IntProgress(value=0, max=300), HTML(value='')))"
      ]
     },
     "metadata": {},
     "output_type": "display_data"
    },
    {
     "data": {
      "application/vnd.jupyter.widget-view+json": {
       "model_id": "",
       "version_major": 2,
       "version_minor": 0
      },
      "text/plain": [
       "HBox(children=(IntProgress(value=0, max=300), HTML(value='')))"
      ]
     },
     "metadata": {},
     "output_type": "display_data"
    },
    {
     "data": {
      "application/vnd.jupyter.widget-view+json": {
       "model_id": "",
       "version_major": 2,
       "version_minor": 0
      },
      "text/plain": [
       "HBox(children=(IntProgress(value=0, max=300), HTML(value='')))"
      ]
     },
     "metadata": {},
     "output_type": "display_data"
    },
    {
     "data": {
      "application/vnd.jupyter.widget-view+json": {
       "model_id": "",
       "version_major": 2,
       "version_minor": 0
      },
      "text/plain": [
       "HBox(children=(IntProgress(value=0, max=300), HTML(value='')))"
      ]
     },
     "metadata": {},
     "output_type": "display_data"
    },
    {
     "data": {
      "application/vnd.jupyter.widget-view+json": {
       "model_id": "",
       "version_major": 2,
       "version_minor": 0
      },
      "text/plain": [
       "HBox(children=(IntProgress(value=0, max=300), HTML(value='')))"
      ]
     },
     "metadata": {},
     "output_type": "display_data"
    },
    {
     "data": {
      "application/vnd.jupyter.widget-view+json": {
       "model_id": "",
       "version_major": 2,
       "version_minor": 0
      },
      "text/plain": [
       "HBox(children=(IntProgress(value=0, max=300), HTML(value='')))"
      ]
     },
     "metadata": {},
     "output_type": "display_data"
    },
    {
     "data": {
      "application/vnd.jupyter.widget-view+json": {
       "model_id": "",
       "version_major": 2,
       "version_minor": 0
      },
      "text/plain": [
       "HBox(children=(IntProgress(value=0, max=300), HTML(value='')))"
      ]
     },
     "metadata": {},
     "output_type": "display_data"
    },
    {
     "data": {
      "application/vnd.jupyter.widget-view+json": {
       "model_id": "",
       "version_major": 2,
       "version_minor": 0
      },
      "text/plain": [
       "HBox(children=(IntProgress(value=0, max=300), HTML(value='')))"
      ]
     },
     "metadata": {},
     "output_type": "display_data"
    },
    {
     "data": {
      "application/vnd.jupyter.widget-view+json": {
       "model_id": "",
       "version_major": 2,
       "version_minor": 0
      },
      "text/plain": [
       "HBox(children=(IntProgress(value=0, max=300), HTML(value='')))"
      ]
     },
     "metadata": {},
     "output_type": "display_data"
    },
    {
     "data": {
      "application/vnd.jupyter.widget-view+json": {
       "model_id": "",
       "version_major": 2,
       "version_minor": 0
      },
      "text/plain": [
       "HBox(children=(IntProgress(value=0, max=300), HTML(value='')))"
      ]
     },
     "metadata": {},
     "output_type": "display_data"
    },
    {
     "data": {
      "application/vnd.jupyter.widget-view+json": {
       "model_id": "",
       "version_major": 2,
       "version_minor": 0
      },
      "text/plain": [
       "HBox(children=(IntProgress(value=0, max=300), HTML(value='')))"
      ]
     },
     "metadata": {},
     "output_type": "display_data"
    },
    {
     "data": {
      "application/vnd.jupyter.widget-view+json": {
       "model_id": "",
       "version_major": 2,
       "version_minor": 0
      },
      "text/plain": [
       "HBox(children=(IntProgress(value=0, max=300), HTML(value='')))"
      ]
     },
     "metadata": {},
     "output_type": "display_data"
    },
    {
     "data": {
      "application/vnd.jupyter.widget-view+json": {
       "model_id": "",
       "version_major": 2,
       "version_minor": 0
      },
      "text/plain": [
       "HBox(children=(IntProgress(value=0, max=300), HTML(value='')))"
      ]
     },
     "metadata": {},
     "output_type": "display_data"
    },
    {
     "data": {
      "application/vnd.jupyter.widget-view+json": {
       "model_id": "",
       "version_major": 2,
       "version_minor": 0
      },
      "text/plain": [
       "HBox(children=(IntProgress(value=0, max=300), HTML(value='')))"
      ]
     },
     "metadata": {},
     "output_type": "display_data"
    },
    {
     "data": {
      "application/vnd.jupyter.widget-view+json": {
       "model_id": "",
       "version_major": 2,
       "version_minor": 0
      },
      "text/plain": [
       "HBox(children=(IntProgress(value=0, max=300), HTML(value='')))"
      ]
     },
     "metadata": {},
     "output_type": "display_data"
    },
    {
     "data": {
      "application/vnd.jupyter.widget-view+json": {
       "model_id": "",
       "version_major": 2,
       "version_minor": 0
      },
      "text/plain": [
       "HBox(children=(IntProgress(value=0, max=300), HTML(value='')))"
      ]
     },
     "metadata": {},
     "output_type": "display_data"
    },
    {
     "data": {
      "application/vnd.jupyter.widget-view+json": {
       "model_id": "",
       "version_major": 2,
       "version_minor": 0
      },
      "text/plain": [
       "HBox(children=(IntProgress(value=0, max=300), HTML(value='')))"
      ]
     },
     "metadata": {},
     "output_type": "display_data"
    },
    {
     "data": {
      "application/vnd.jupyter.widget-view+json": {
       "model_id": "",
       "version_major": 2,
       "version_minor": 0
      },
      "text/plain": [
       "HBox(children=(IntProgress(value=0, max=300), HTML(value='')))"
      ]
     },
     "metadata": {},
     "output_type": "display_data"
    },
    {
     "data": {
      "application/vnd.jupyter.widget-view+json": {
       "model_id": "",
       "version_major": 2,
       "version_minor": 0
      },
      "text/plain": [
       "HBox(children=(IntProgress(value=0, max=300), HTML(value='')))"
      ]
     },
     "metadata": {},
     "output_type": "display_data"
    },
    {
     "data": {
      "application/vnd.jupyter.widget-view+json": {
       "model_id": "",
       "version_major": 2,
       "version_minor": 0
      },
      "text/plain": [
       "HBox(children=(IntProgress(value=0, max=300), HTML(value='')))"
      ]
     },
     "metadata": {},
     "output_type": "display_data"
    },
    {
     "data": {
      "application/vnd.jupyter.widget-view+json": {
       "model_id": "",
       "version_major": 2,
       "version_minor": 0
      },
      "text/plain": [
       "HBox(children=(IntProgress(value=0, max=300), HTML(value='')))"
      ]
     },
     "metadata": {},
     "output_type": "display_data"
    },
    {
     "data": {
      "application/vnd.jupyter.widget-view+json": {
       "model_id": "",
       "version_major": 2,
       "version_minor": 0
      },
      "text/plain": [
       "HBox(children=(IntProgress(value=0, max=300), HTML(value='')))"
      ]
     },
     "metadata": {},
     "output_type": "display_data"
    },
    {
     "data": {
      "application/vnd.jupyter.widget-view+json": {
       "model_id": "",
       "version_major": 2,
       "version_minor": 0
      },
      "text/plain": [
       "HBox(children=(IntProgress(value=0, max=300), HTML(value='')))"
      ]
     },
     "metadata": {},
     "output_type": "display_data"
    },
    {
     "data": {
      "application/vnd.jupyter.widget-view+json": {
       "model_id": "",
       "version_major": 2,
       "version_minor": 0
      },
      "text/plain": [
       "HBox(children=(IntProgress(value=0, max=300), HTML(value='')))"
      ]
     },
     "metadata": {},
     "output_type": "display_data"
    },
    {
     "data": {
      "application/vnd.jupyter.widget-view+json": {
       "model_id": "",
       "version_major": 2,
       "version_minor": 0
      },
      "text/plain": [
       "HBox(children=(IntProgress(value=0, max=300), HTML(value='')))"
      ]
     },
     "metadata": {},
     "output_type": "display_data"
    },
    {
     "data": {
      "application/vnd.jupyter.widget-view+json": {
       "model_id": "",
       "version_major": 2,
       "version_minor": 0
      },
      "text/plain": [
       "HBox(children=(IntProgress(value=0, max=300), HTML(value='')))"
      ]
     },
     "metadata": {},
     "output_type": "display_data"
    },
    {
     "data": {
      "application/vnd.jupyter.widget-view+json": {
       "model_id": "",
       "version_major": 2,
       "version_minor": 0
      },
      "text/plain": [
       "HBox(children=(IntProgress(value=0, max=300), HTML(value='')))"
      ]
     },
     "metadata": {},
     "output_type": "display_data"
    },
    {
     "data": {
      "application/vnd.jupyter.widget-view+json": {
       "model_id": "",
       "version_major": 2,
       "version_minor": 0
      },
      "text/plain": [
       "HBox(children=(IntProgress(value=0, max=300), HTML(value='')))"
      ]
     },
     "metadata": {},
     "output_type": "display_data"
    },
    {
     "data": {
      "application/vnd.jupyter.widget-view+json": {
       "model_id": "",
       "version_major": 2,
       "version_minor": 0
      },
      "text/plain": [
       "HBox(children=(IntProgress(value=0, max=300), HTML(value='')))"
      ]
     },
     "metadata": {},
     "output_type": "display_data"
    },
    {
     "data": {
      "application/vnd.jupyter.widget-view+json": {
       "model_id": "",
       "version_major": 2,
       "version_minor": 0
      },
      "text/plain": [
       "HBox(children=(IntProgress(value=0, max=300), HTML(value='')))"
      ]
     },
     "metadata": {},
     "output_type": "display_data"
    },
    {
     "data": {
      "application/vnd.jupyter.widget-view+json": {
       "model_id": "",
       "version_major": 2,
       "version_minor": 0
      },
      "text/plain": [
       "HBox(children=(IntProgress(value=0, max=300), HTML(value='')))"
      ]
     },
     "metadata": {},
     "output_type": "display_data"
    },
    {
     "data": {
      "application/vnd.jupyter.widget-view+json": {
       "model_id": "",
       "version_major": 2,
       "version_minor": 0
      },
      "text/plain": [
       "HBox(children=(IntProgress(value=0, max=300), HTML(value='')))"
      ]
     },
     "metadata": {},
     "output_type": "display_data"
    },
    {
     "data": {
      "application/vnd.jupyter.widget-view+json": {
       "model_id": "",
       "version_major": 2,
       "version_minor": 0
      },
      "text/plain": [
       "HBox(children=(IntProgress(value=0, max=300), HTML(value='')))"
      ]
     },
     "metadata": {},
     "output_type": "display_data"
    },
    {
     "data": {
      "application/vnd.jupyter.widget-view+json": {
       "model_id": "",
       "version_major": 2,
       "version_minor": 0
      },
      "text/plain": [
       "HBox(children=(IntProgress(value=0, max=300), HTML(value='')))"
      ]
     },
     "metadata": {},
     "output_type": "display_data"
    },
    {
     "data": {
      "application/vnd.jupyter.widget-view+json": {
       "model_id": "",
       "version_major": 2,
       "version_minor": 0
      },
      "text/plain": [
       "HBox(children=(IntProgress(value=0, max=300), HTML(value='')))"
      ]
     },
     "metadata": {},
     "output_type": "display_data"
    },
    {
     "data": {
      "application/vnd.jupyter.widget-view+json": {
       "model_id": "",
       "version_major": 2,
       "version_minor": 0
      },
      "text/plain": [
       "HBox(children=(IntProgress(value=0, max=300), HTML(value='')))"
      ]
     },
     "metadata": {},
     "output_type": "display_data"
    },
    {
     "data": {
      "application/vnd.jupyter.widget-view+json": {
       "model_id": "",
       "version_major": 2,
       "version_minor": 0
      },
      "text/plain": [
       "HBox(children=(IntProgress(value=0, max=300), HTML(value='')))"
      ]
     },
     "metadata": {},
     "output_type": "display_data"
    },
    {
     "data": {
      "application/vnd.jupyter.widget-view+json": {
       "model_id": "",
       "version_major": 2,
       "version_minor": 0
      },
      "text/plain": [
       "HBox(children=(IntProgress(value=0, max=300), HTML(value='')))"
      ]
     },
     "metadata": {},
     "output_type": "display_data"
    },
    {
     "data": {
      "application/vnd.jupyter.widget-view+json": {
       "model_id": "",
       "version_major": 2,
       "version_minor": 0
      },
      "text/plain": [
       "HBox(children=(IntProgress(value=0, max=300), HTML(value='')))"
      ]
     },
     "metadata": {},
     "output_type": "display_data"
    },
    {
     "data": {
      "application/vnd.jupyter.widget-view+json": {
       "model_id": "",
       "version_major": 2,
       "version_minor": 0
      },
      "text/plain": [
       "HBox(children=(IntProgress(value=0, max=300), HTML(value='')))"
      ]
     },
     "metadata": {},
     "output_type": "display_data"
    },
    {
     "data": {
      "application/vnd.jupyter.widget-view+json": {
       "model_id": "",
       "version_major": 2,
       "version_minor": 0
      },
      "text/plain": [
       "HBox(children=(IntProgress(value=0, max=300), HTML(value='')))"
      ]
     },
     "metadata": {},
     "output_type": "display_data"
    },
    {
     "data": {
      "application/vnd.jupyter.widget-view+json": {
       "model_id": "",
       "version_major": 2,
       "version_minor": 0
      },
      "text/plain": [
       "HBox(children=(IntProgress(value=0, max=300), HTML(value='')))"
      ]
     },
     "metadata": {},
     "output_type": "display_data"
    },
    {
     "data": {
      "application/vnd.jupyter.widget-view+json": {
       "model_id": "",
       "version_major": 2,
       "version_minor": 0
      },
      "text/plain": [
       "HBox(children=(IntProgress(value=0, max=300), HTML(value='')))"
      ]
     },
     "metadata": {},
     "output_type": "display_data"
    },
    {
     "data": {
      "application/vnd.jupyter.widget-view+json": {
       "model_id": "",
       "version_major": 2,
       "version_minor": 0
      },
      "text/plain": [
       "HBox(children=(IntProgress(value=0, max=300), HTML(value='')))"
      ]
     },
     "metadata": {},
     "output_type": "display_data"
    },
    {
     "data": {
      "application/vnd.jupyter.widget-view+json": {
       "model_id": "",
       "version_major": 2,
       "version_minor": 0
      },
      "text/plain": [
       "HBox(children=(IntProgress(value=0, max=300), HTML(value='')))"
      ]
     },
     "metadata": {},
     "output_type": "display_data"
    },
    {
     "data": {
      "application/vnd.jupyter.widget-view+json": {
       "model_id": "",
       "version_major": 2,
       "version_minor": 0
      },
      "text/plain": [
       "HBox(children=(IntProgress(value=0, max=300), HTML(value='')))"
      ]
     },
     "metadata": {},
     "output_type": "display_data"
    },
    {
     "data": {
      "application/vnd.jupyter.widget-view+json": {
       "model_id": "",
       "version_major": 2,
       "version_minor": 0
      },
      "text/plain": [
       "HBox(children=(IntProgress(value=0, max=300), HTML(value='')))"
      ]
     },
     "metadata": {},
     "output_type": "display_data"
    },
    {
     "data": {
      "application/vnd.jupyter.widget-view+json": {
       "model_id": "",
       "version_major": 2,
       "version_minor": 0
      },
      "text/plain": [
       "HBox(children=(IntProgress(value=0, max=300), HTML(value='')))"
      ]
     },
     "metadata": {},
     "output_type": "display_data"
    },
    {
     "data": {
      "application/vnd.jupyter.widget-view+json": {
       "model_id": "",
       "version_major": 2,
       "version_minor": 0
      },
      "text/plain": [
       "HBox(children=(IntProgress(value=0, max=300), HTML(value='')))"
      ]
     },
     "metadata": {},
     "output_type": "display_data"
    },
    {
     "data": {
      "application/vnd.jupyter.widget-view+json": {
       "model_id": "",
       "version_major": 2,
       "version_minor": 0
      },
      "text/plain": [
       "HBox(children=(IntProgress(value=0, max=300), HTML(value='')))"
      ]
     },
     "metadata": {},
     "output_type": "display_data"
    },
    {
     "data": {
      "application/vnd.jupyter.widget-view+json": {
       "model_id": "",
       "version_major": 2,
       "version_minor": 0
      },
      "text/plain": [
       "HBox(children=(IntProgress(value=0, max=300), HTML(value='')))"
      ]
     },
     "metadata": {},
     "output_type": "display_data"
    },
    {
     "data": {
      "application/vnd.jupyter.widget-view+json": {
       "model_id": "",
       "version_major": 2,
       "version_minor": 0
      },
      "text/plain": [
       "HBox(children=(IntProgress(value=0, max=300), HTML(value='')))"
      ]
     },
     "metadata": {},
     "output_type": "display_data"
    },
    {
     "data": {
      "application/vnd.jupyter.widget-view+json": {
       "model_id": "",
       "version_major": 2,
       "version_minor": 0
      },
      "text/plain": [
       "HBox(children=(IntProgress(value=0, max=300), HTML(value='')))"
      ]
     },
     "metadata": {},
     "output_type": "display_data"
    },
    {
     "data": {
      "application/vnd.jupyter.widget-view+json": {
       "model_id": "",
       "version_major": 2,
       "version_minor": 0
      },
      "text/plain": [
       "HBox(children=(IntProgress(value=0, max=300), HTML(value='')))"
      ]
     },
     "metadata": {},
     "output_type": "display_data"
    },
    {
     "data": {
      "application/vnd.jupyter.widget-view+json": {
       "model_id": "",
       "version_major": 2,
       "version_minor": 0
      },
      "text/plain": [
       "HBox(children=(IntProgress(value=0, max=300), HTML(value='')))"
      ]
     },
     "metadata": {},
     "output_type": "display_data"
    },
    {
     "data": {
      "application/vnd.jupyter.widget-view+json": {
       "model_id": "",
       "version_major": 2,
       "version_minor": 0
      },
      "text/plain": [
       "HBox(children=(IntProgress(value=0, max=300), HTML(value='')))"
      ]
     },
     "metadata": {},
     "output_type": "display_data"
    },
    {
     "data": {
      "application/vnd.jupyter.widget-view+json": {
       "model_id": "",
       "version_major": 2,
       "version_minor": 0
      },
      "text/plain": [
       "HBox(children=(IntProgress(value=0, max=300), HTML(value='')))"
      ]
     },
     "metadata": {},
     "output_type": "display_data"
    },
    {
     "data": {
      "application/vnd.jupyter.widget-view+json": {
       "model_id": "",
       "version_major": 2,
       "version_minor": 0
      },
      "text/plain": [
       "HBox(children=(IntProgress(value=0, max=300), HTML(value='')))"
      ]
     },
     "metadata": {},
     "output_type": "display_data"
    },
    {
     "data": {
      "application/vnd.jupyter.widget-view+json": {
       "model_id": "",
       "version_major": 2,
       "version_minor": 0
      },
      "text/plain": [
       "HBox(children=(IntProgress(value=0, max=300), HTML(value='')))"
      ]
     },
     "metadata": {},
     "output_type": "display_data"
    },
    {
     "data": {
      "application/vnd.jupyter.widget-view+json": {
       "model_id": "",
       "version_major": 2,
       "version_minor": 0
      },
      "text/plain": [
       "HBox(children=(IntProgress(value=0, max=300), HTML(value='')))"
      ]
     },
     "metadata": {},
     "output_type": "display_data"
    },
    {
     "data": {
      "application/vnd.jupyter.widget-view+json": {
       "model_id": "",
       "version_major": 2,
       "version_minor": 0
      },
      "text/plain": [
       "HBox(children=(IntProgress(value=0, max=300), HTML(value='')))"
      ]
     },
     "metadata": {},
     "output_type": "display_data"
    },
    {
     "data": {
      "application/vnd.jupyter.widget-view+json": {
       "model_id": "",
       "version_major": 2,
       "version_minor": 0
      },
      "text/plain": [
       "HBox(children=(IntProgress(value=0, max=300), HTML(value='')))"
      ]
     },
     "metadata": {},
     "output_type": "display_data"
    },
    {
     "data": {
      "application/vnd.jupyter.widget-view+json": {
       "model_id": "",
       "version_major": 2,
       "version_minor": 0
      },
      "text/plain": [
       "HBox(children=(IntProgress(value=0, max=300), HTML(value='')))"
      ]
     },
     "metadata": {},
     "output_type": "display_data"
    },
    {
     "data": {
      "application/vnd.jupyter.widget-view+json": {
       "model_id": "",
       "version_major": 2,
       "version_minor": 0
      },
      "text/plain": [
       "HBox(children=(IntProgress(value=0, max=300), HTML(value='')))"
      ]
     },
     "metadata": {},
     "output_type": "display_data"
    },
    {
     "data": {
      "application/vnd.jupyter.widget-view+json": {
       "model_id": "",
       "version_major": 2,
       "version_minor": 0
      },
      "text/plain": [
       "HBox(children=(IntProgress(value=0, max=300), HTML(value='')))"
      ]
     },
     "metadata": {},
     "output_type": "display_data"
    },
    {
     "data": {
      "application/vnd.jupyter.widget-view+json": {
       "model_id": "",
       "version_major": 2,
       "version_minor": 0
      },
      "text/plain": [
       "HBox(children=(IntProgress(value=0, max=300), HTML(value='')))"
      ]
     },
     "metadata": {},
     "output_type": "display_data"
    },
    {
     "data": {
      "application/vnd.jupyter.widget-view+json": {
       "model_id": "",
       "version_major": 2,
       "version_minor": 0
      },
      "text/plain": [
       "HBox(children=(IntProgress(value=0, max=300), HTML(value='')))"
      ]
     },
     "metadata": {},
     "output_type": "display_data"
    },
    {
     "data": {
      "application/vnd.jupyter.widget-view+json": {
       "model_id": "",
       "version_major": 2,
       "version_minor": 0
      },
      "text/plain": [
       "HBox(children=(IntProgress(value=0, max=300), HTML(value='')))"
      ]
     },
     "metadata": {},
     "output_type": "display_data"
    },
    {
     "data": {
      "application/vnd.jupyter.widget-view+json": {
       "model_id": "",
       "version_major": 2,
       "version_minor": 0
      },
      "text/plain": [
       "HBox(children=(IntProgress(value=0, max=300), HTML(value='')))"
      ]
     },
     "metadata": {},
     "output_type": "display_data"
    },
    {
     "data": {
      "application/vnd.jupyter.widget-view+json": {
       "model_id": "",
       "version_major": 2,
       "version_minor": 0
      },
      "text/plain": [
       "HBox(children=(IntProgress(value=0, max=300), HTML(value='')))"
      ]
     },
     "metadata": {},
     "output_type": "display_data"
    },
    {
     "data": {
      "application/vnd.jupyter.widget-view+json": {
       "model_id": "",
       "version_major": 2,
       "version_minor": 0
      },
      "text/plain": [
       "HBox(children=(IntProgress(value=0, max=300), HTML(value='')))"
      ]
     },
     "metadata": {},
     "output_type": "display_data"
    },
    {
     "data": {
      "application/vnd.jupyter.widget-view+json": {
       "model_id": "",
       "version_major": 2,
       "version_minor": 0
      },
      "text/plain": [
       "HBox(children=(IntProgress(value=0, max=300), HTML(value='')))"
      ]
     },
     "metadata": {},
     "output_type": "display_data"
    },
    {
     "data": {
      "application/vnd.jupyter.widget-view+json": {
       "model_id": "",
       "version_major": 2,
       "version_minor": 0
      },
      "text/plain": [
       "HBox(children=(IntProgress(value=0, max=300), HTML(value='')))"
      ]
     },
     "metadata": {},
     "output_type": "display_data"
    },
    {
     "data": {
      "application/vnd.jupyter.widget-view+json": {
       "model_id": "",
       "version_major": 2,
       "version_minor": 0
      },
      "text/plain": [
       "HBox(children=(IntProgress(value=0, max=300), HTML(value='')))"
      ]
     },
     "metadata": {},
     "output_type": "display_data"
    },
    {
     "data": {
      "application/vnd.jupyter.widget-view+json": {
       "model_id": "",
       "version_major": 2,
       "version_minor": 0
      },
      "text/plain": [
       "HBox(children=(IntProgress(value=0, max=300), HTML(value='')))"
      ]
     },
     "metadata": {},
     "output_type": "display_data"
    },
    {
     "data": {
      "application/vnd.jupyter.widget-view+json": {
       "model_id": "",
       "version_major": 2,
       "version_minor": 0
      },
      "text/plain": [
       "HBox(children=(IntProgress(value=0, max=300), HTML(value='')))"
      ]
     },
     "metadata": {},
     "output_type": "display_data"
    },
    {
     "data": {
      "application/vnd.jupyter.widget-view+json": {
       "model_id": "",
       "version_major": 2,
       "version_minor": 0
      },
      "text/plain": [
       "HBox(children=(IntProgress(value=0, max=300), HTML(value='')))"
      ]
     },
     "metadata": {},
     "output_type": "display_data"
    },
    {
     "data": {
      "application/vnd.jupyter.widget-view+json": {
       "model_id": "",
       "version_major": 2,
       "version_minor": 0
      },
      "text/plain": [
       "HBox(children=(IntProgress(value=0, max=300), HTML(value='')))"
      ]
     },
     "metadata": {},
     "output_type": "display_data"
    },
    {
     "data": {
      "application/vnd.jupyter.widget-view+json": {
       "model_id": "",
       "version_major": 2,
       "version_minor": 0
      },
      "text/plain": [
       "HBox(children=(IntProgress(value=0, max=300), HTML(value='')))"
      ]
     },
     "metadata": {},
     "output_type": "display_data"
    },
    {
     "data": {
      "application/vnd.jupyter.widget-view+json": {
       "model_id": "",
       "version_major": 2,
       "version_minor": 0
      },
      "text/plain": [
       "HBox(children=(IntProgress(value=0, max=300), HTML(value='')))"
      ]
     },
     "metadata": {},
     "output_type": "display_data"
    },
    {
     "data": {
      "application/vnd.jupyter.widget-view+json": {
       "model_id": "",
       "version_major": 2,
       "version_minor": 0
      },
      "text/plain": [
       "HBox(children=(IntProgress(value=0, max=300), HTML(value='')))"
      ]
     },
     "metadata": {},
     "output_type": "display_data"
    },
    {
     "data": {
      "application/vnd.jupyter.widget-view+json": {
       "model_id": "",
       "version_major": 2,
       "version_minor": 0
      },
      "text/plain": [
       "HBox(children=(IntProgress(value=0, max=300), HTML(value='')))"
      ]
     },
     "metadata": {},
     "output_type": "display_data"
    },
    {
     "data": {
      "application/vnd.jupyter.widget-view+json": {
       "model_id": "",
       "version_major": 2,
       "version_minor": 0
      },
      "text/plain": [
       "HBox(children=(IntProgress(value=0, max=300), HTML(value='')))"
      ]
     },
     "metadata": {},
     "output_type": "display_data"
    },
    {
     "data": {
      "application/vnd.jupyter.widget-view+json": {
       "model_id": "",
       "version_major": 2,
       "version_minor": 0
      },
      "text/plain": [
       "HBox(children=(IntProgress(value=0, max=300), HTML(value='')))"
      ]
     },
     "metadata": {},
     "output_type": "display_data"
    },
    {
     "data": {
      "application/vnd.jupyter.widget-view+json": {
       "model_id": "",
       "version_major": 2,
       "version_minor": 0
      },
      "text/plain": [
       "HBox(children=(IntProgress(value=0, max=300), HTML(value='')))"
      ]
     },
     "metadata": {},
     "output_type": "display_data"
    },
    {
     "data": {
      "application/vnd.jupyter.widget-view+json": {
       "model_id": "",
       "version_major": 2,
       "version_minor": 0
      },
      "text/plain": [
       "HBox(children=(IntProgress(value=0, max=300), HTML(value='')))"
      ]
     },
     "metadata": {},
     "output_type": "display_data"
    },
    {
     "data": {
      "application/vnd.jupyter.widget-view+json": {
       "model_id": "",
       "version_major": 2,
       "version_minor": 0
      },
      "text/plain": [
       "HBox(children=(IntProgress(value=0, max=300), HTML(value='')))"
      ]
     },
     "metadata": {},
     "output_type": "display_data"
    },
    {
     "data": {
      "application/vnd.jupyter.widget-view+json": {
       "model_id": "",
       "version_major": 2,
       "version_minor": 0
      },
      "text/plain": [
       "HBox(children=(IntProgress(value=0, max=300), HTML(value='')))"
      ]
     },
     "metadata": {},
     "output_type": "display_data"
    },
    {
     "data": {
      "application/vnd.jupyter.widget-view+json": {
       "model_id": "",
       "version_major": 2,
       "version_minor": 0
      },
      "text/plain": [
       "HBox(children=(IntProgress(value=0, max=300), HTML(value='')))"
      ]
     },
     "metadata": {},
     "output_type": "display_data"
    },
    {
     "data": {
      "application/vnd.jupyter.widget-view+json": {
       "model_id": "",
       "version_major": 2,
       "version_minor": 0
      },
      "text/plain": [
       "HBox(children=(IntProgress(value=0, max=300), HTML(value='')))"
      ]
     },
     "metadata": {},
     "output_type": "display_data"
    },
    {
     "data": {
      "application/vnd.jupyter.widget-view+json": {
       "model_id": "",
       "version_major": 2,
       "version_minor": 0
      },
      "text/plain": [
       "HBox(children=(IntProgress(value=0, max=300), HTML(value='')))"
      ]
     },
     "metadata": {},
     "output_type": "display_data"
    },
    {
     "data": {
      "application/vnd.jupyter.widget-view+json": {
       "model_id": "",
       "version_major": 2,
       "version_minor": 0
      },
      "text/plain": [
       "HBox(children=(IntProgress(value=0, max=300), HTML(value='')))"
      ]
     },
     "metadata": {},
     "output_type": "display_data"
    },
    {
     "data": {
      "application/vnd.jupyter.widget-view+json": {
       "model_id": "",
       "version_major": 2,
       "version_minor": 0
      },
      "text/plain": [
       "HBox(children=(IntProgress(value=0, max=300), HTML(value='')))"
      ]
     },
     "metadata": {},
     "output_type": "display_data"
    },
    {
     "data": {
      "application/vnd.jupyter.widget-view+json": {
       "model_id": "",
       "version_major": 2,
       "version_minor": 0
      },
      "text/plain": [
       "HBox(children=(IntProgress(value=0, max=300), HTML(value='')))"
      ]
     },
     "metadata": {},
     "output_type": "display_data"
    },
    {
     "data": {
      "application/vnd.jupyter.widget-view+json": {
       "model_id": "",
       "version_major": 2,
       "version_minor": 0
      },
      "text/plain": [
       "HBox(children=(IntProgress(value=0, max=300), HTML(value='')))"
      ]
     },
     "metadata": {},
     "output_type": "display_data"
    },
    {
     "data": {
      "application/vnd.jupyter.widget-view+json": {
       "model_id": "",
       "version_major": 2,
       "version_minor": 0
      },
      "text/plain": [
       "HBox(children=(IntProgress(value=0, max=300), HTML(value='')))"
      ]
     },
     "metadata": {},
     "output_type": "display_data"
    },
    {
     "data": {
      "application/vnd.jupyter.widget-view+json": {
       "model_id": "",
       "version_major": 2,
       "version_minor": 0
      },
      "text/plain": [
       "HBox(children=(IntProgress(value=0, max=300), HTML(value='')))"
      ]
     },
     "metadata": {},
     "output_type": "display_data"
    },
    {
     "data": {
      "application/vnd.jupyter.widget-view+json": {
       "model_id": "",
       "version_major": 2,
       "version_minor": 0
      },
      "text/plain": [
       "HBox(children=(IntProgress(value=0, max=300), HTML(value='')))"
      ]
     },
     "metadata": {},
     "output_type": "display_data"
    },
    {
     "data": {
      "application/vnd.jupyter.widget-view+json": {
       "model_id": "",
       "version_major": 2,
       "version_minor": 0
      },
      "text/plain": [
       "HBox(children=(IntProgress(value=0, max=300), HTML(value='')))"
      ]
     },
     "metadata": {},
     "output_type": "display_data"
    },
    {
     "data": {
      "application/vnd.jupyter.widget-view+json": {
       "model_id": "",
       "version_major": 2,
       "version_minor": 0
      },
      "text/plain": [
       "HBox(children=(IntProgress(value=0, max=300), HTML(value='')))"
      ]
     },
     "metadata": {},
     "output_type": "display_data"
    },
    {
     "data": {
      "application/vnd.jupyter.widget-view+json": {
       "model_id": "",
       "version_major": 2,
       "version_minor": 0
      },
      "text/plain": [
       "HBox(children=(IntProgress(value=0, max=300), HTML(value='')))"
      ]
     },
     "metadata": {},
     "output_type": "display_data"
    },
    {
     "data": {
      "application/vnd.jupyter.widget-view+json": {
       "model_id": "",
       "version_major": 2,
       "version_minor": 0
      },
      "text/plain": [
       "HBox(children=(IntProgress(value=0, max=300), HTML(value='')))"
      ]
     },
     "metadata": {},
     "output_type": "display_data"
    },
    {
     "data": {
      "application/vnd.jupyter.widget-view+json": {
       "model_id": "",
       "version_major": 2,
       "version_minor": 0
      },
      "text/plain": [
       "HBox(children=(IntProgress(value=0, max=300), HTML(value='')))"
      ]
     },
     "metadata": {},
     "output_type": "display_data"
    },
    {
     "data": {
      "application/vnd.jupyter.widget-view+json": {
       "model_id": "",
       "version_major": 2,
       "version_minor": 0
      },
      "text/plain": [
       "HBox(children=(IntProgress(value=0, max=300), HTML(value='')))"
      ]
     },
     "metadata": {},
     "output_type": "display_data"
    },
    {
     "data": {
      "application/vnd.jupyter.widget-view+json": {
       "model_id": "",
       "version_major": 2,
       "version_minor": 0
      },
      "text/plain": [
       "HBox(children=(IntProgress(value=0, max=300), HTML(value='')))"
      ]
     },
     "metadata": {},
     "output_type": "display_data"
    },
    {
     "data": {
      "application/vnd.jupyter.widget-view+json": {
       "model_id": "",
       "version_major": 2,
       "version_minor": 0
      },
      "text/plain": [
       "HBox(children=(IntProgress(value=0, max=300), HTML(value='')))"
      ]
     },
     "metadata": {},
     "output_type": "display_data"
    },
    {
     "data": {
      "application/vnd.jupyter.widget-view+json": {
       "model_id": "",
       "version_major": 2,
       "version_minor": 0
      },
      "text/plain": [
       "HBox(children=(IntProgress(value=0, max=300), HTML(value='')))"
      ]
     },
     "metadata": {},
     "output_type": "display_data"
    },
    {
     "data": {
      "application/vnd.jupyter.widget-view+json": {
       "model_id": "",
       "version_major": 2,
       "version_minor": 0
      },
      "text/plain": [
       "HBox(children=(IntProgress(value=0, max=300), HTML(value='')))"
      ]
     },
     "metadata": {},
     "output_type": "display_data"
    },
    {
     "data": {
      "application/vnd.jupyter.widget-view+json": {
       "model_id": "",
       "version_major": 2,
       "version_minor": 0
      },
      "text/plain": [
       "HBox(children=(IntProgress(value=0, max=300), HTML(value='')))"
      ]
     },
     "metadata": {},
     "output_type": "display_data"
    },
    {
     "data": {
      "application/vnd.jupyter.widget-view+json": {
       "model_id": "",
       "version_major": 2,
       "version_minor": 0
      },
      "text/plain": [
       "HBox(children=(IntProgress(value=0, max=300), HTML(value='')))"
      ]
     },
     "metadata": {},
     "output_type": "display_data"
    },
    {
     "data": {
      "application/vnd.jupyter.widget-view+json": {
       "model_id": "",
       "version_major": 2,
       "version_minor": 0
      },
      "text/plain": [
       "HBox(children=(IntProgress(value=0, max=300), HTML(value='')))"
      ]
     },
     "metadata": {},
     "output_type": "display_data"
    },
    {
     "data": {
      "application/vnd.jupyter.widget-view+json": {
       "model_id": "",
       "version_major": 2,
       "version_minor": 0
      },
      "text/plain": [
       "HBox(children=(IntProgress(value=0, max=300), HTML(value='')))"
      ]
     },
     "metadata": {},
     "output_type": "display_data"
    },
    {
     "data": {
      "application/vnd.jupyter.widget-view+json": {
       "model_id": "",
       "version_major": 2,
       "version_minor": 0
      },
      "text/plain": [
       "HBox(children=(IntProgress(value=0, max=300), HTML(value='')))"
      ]
     },
     "metadata": {},
     "output_type": "display_data"
    },
    {
     "data": {
      "application/vnd.jupyter.widget-view+json": {
       "model_id": "",
       "version_major": 2,
       "version_minor": 0
      },
      "text/plain": [
       "HBox(children=(IntProgress(value=0, max=300), HTML(value='')))"
      ]
     },
     "metadata": {},
     "output_type": "display_data"
    },
    {
     "data": {
      "application/vnd.jupyter.widget-view+json": {
       "model_id": "",
       "version_major": 2,
       "version_minor": 0
      },
      "text/plain": [
       "HBox(children=(IntProgress(value=0, max=300), HTML(value='')))"
      ]
     },
     "metadata": {},
     "output_type": "display_data"
    },
    {
     "data": {
      "application/vnd.jupyter.widget-view+json": {
       "model_id": "",
       "version_major": 2,
       "version_minor": 0
      },
      "text/plain": [
       "HBox(children=(IntProgress(value=0, max=300), HTML(value='')))"
      ]
     },
     "metadata": {},
     "output_type": "display_data"
    },
    {
     "data": {
      "application/vnd.jupyter.widget-view+json": {
       "model_id": "",
       "version_major": 2,
       "version_minor": 0
      },
      "text/plain": [
       "HBox(children=(IntProgress(value=0, max=300), HTML(value='')))"
      ]
     },
     "metadata": {},
     "output_type": "display_data"
    },
    {
     "data": {
      "application/vnd.jupyter.widget-view+json": {
       "model_id": "",
       "version_major": 2,
       "version_minor": 0
      },
      "text/plain": [
       "HBox(children=(IntProgress(value=0, max=300), HTML(value='')))"
      ]
     },
     "metadata": {},
     "output_type": "display_data"
    },
    {
     "data": {
      "application/vnd.jupyter.widget-view+json": {
       "model_id": "",
       "version_major": 2,
       "version_minor": 0
      },
      "text/plain": [
       "HBox(children=(IntProgress(value=0, max=300), HTML(value='')))"
      ]
     },
     "metadata": {},
     "output_type": "display_data"
    },
    {
     "data": {
      "application/vnd.jupyter.widget-view+json": {
       "model_id": "",
       "version_major": 2,
       "version_minor": 0
      },
      "text/plain": [
       "HBox(children=(IntProgress(value=0, max=300), HTML(value='')))"
      ]
     },
     "metadata": {},
     "output_type": "display_data"
    },
    {
     "data": {
      "application/vnd.jupyter.widget-view+json": {
       "model_id": "",
       "version_major": 2,
       "version_minor": 0
      },
      "text/plain": [
       "HBox(children=(IntProgress(value=0, max=300), HTML(value='')))"
      ]
     },
     "metadata": {},
     "output_type": "display_data"
    },
    {
     "data": {
      "application/vnd.jupyter.widget-view+json": {
       "model_id": "",
       "version_major": 2,
       "version_minor": 0
      },
      "text/plain": [
       "HBox(children=(IntProgress(value=0, max=300), HTML(value='')))"
      ]
     },
     "metadata": {},
     "output_type": "display_data"
    },
    {
     "data": {
      "application/vnd.jupyter.widget-view+json": {
       "model_id": "",
       "version_major": 2,
       "version_minor": 0
      },
      "text/plain": [
       "HBox(children=(IntProgress(value=0, max=300), HTML(value='')))"
      ]
     },
     "metadata": {},
     "output_type": "display_data"
    },
    {
     "data": {
      "application/vnd.jupyter.widget-view+json": {
       "model_id": "",
       "version_major": 2,
       "version_minor": 0
      },
      "text/plain": [
       "HBox(children=(IntProgress(value=0, max=300), HTML(value='')))"
      ]
     },
     "metadata": {},
     "output_type": "display_data"
    },
    {
     "data": {
      "application/vnd.jupyter.widget-view+json": {
       "model_id": "",
       "version_major": 2,
       "version_minor": 0
      },
      "text/plain": [
       "HBox(children=(IntProgress(value=0, max=300), HTML(value='')))"
      ]
     },
     "metadata": {},
     "output_type": "display_data"
    },
    {
     "data": {
      "application/vnd.jupyter.widget-view+json": {
       "model_id": "",
       "version_major": 2,
       "version_minor": 0
      },
      "text/plain": [
       "HBox(children=(IntProgress(value=0, max=300), HTML(value='')))"
      ]
     },
     "metadata": {},
     "output_type": "display_data"
    },
    {
     "data": {
      "application/vnd.jupyter.widget-view+json": {
       "model_id": "",
       "version_major": 2,
       "version_minor": 0
      },
      "text/plain": [
       "HBox(children=(IntProgress(value=0, max=300), HTML(value='')))"
      ]
     },
     "metadata": {},
     "output_type": "display_data"
    },
    {
     "data": {
      "application/vnd.jupyter.widget-view+json": {
       "model_id": "",
       "version_major": 2,
       "version_minor": 0
      },
      "text/plain": [
       "HBox(children=(IntProgress(value=0, max=300), HTML(value='')))"
      ]
     },
     "metadata": {},
     "output_type": "display_data"
    },
    {
     "data": {
      "application/vnd.jupyter.widget-view+json": {
       "model_id": "",
       "version_major": 2,
       "version_minor": 0
      },
      "text/plain": [
       "HBox(children=(IntProgress(value=0, max=300), HTML(value='')))"
      ]
     },
     "metadata": {},
     "output_type": "display_data"
    },
    {
     "data": {
      "application/vnd.jupyter.widget-view+json": {
       "model_id": "",
       "version_major": 2,
       "version_minor": 0
      },
      "text/plain": [
       "HBox(children=(IntProgress(value=0, max=300), HTML(value='')))"
      ]
     },
     "metadata": {},
     "output_type": "display_data"
    },
    {
     "data": {
      "application/vnd.jupyter.widget-view+json": {
       "model_id": "",
       "version_major": 2,
       "version_minor": 0
      },
      "text/plain": [
       "HBox(children=(IntProgress(value=0, max=300), HTML(value='')))"
      ]
     },
     "metadata": {},
     "output_type": "display_data"
    },
    {
     "data": {
      "application/vnd.jupyter.widget-view+json": {
       "model_id": "",
       "version_major": 2,
       "version_minor": 0
      },
      "text/plain": [
       "HBox(children=(IntProgress(value=0, max=300), HTML(value='')))"
      ]
     },
     "metadata": {},
     "output_type": "display_data"
    },
    {
     "data": {
      "application/vnd.jupyter.widget-view+json": {
       "model_id": "",
       "version_major": 2,
       "version_minor": 0
      },
      "text/plain": [
       "HBox(children=(IntProgress(value=0, max=300), HTML(value='')))"
      ]
     },
     "metadata": {},
     "output_type": "display_data"
    },
    {
     "data": {
      "application/vnd.jupyter.widget-view+json": {
       "model_id": "",
       "version_major": 2,
       "version_minor": 0
      },
      "text/plain": [
       "HBox(children=(IntProgress(value=0, max=300), HTML(value='')))"
      ]
     },
     "metadata": {},
     "output_type": "display_data"
    },
    {
     "data": {
      "application/vnd.jupyter.widget-view+json": {
       "model_id": "",
       "version_major": 2,
       "version_minor": 0
      },
      "text/plain": [
       "HBox(children=(IntProgress(value=0, max=300), HTML(value='')))"
      ]
     },
     "metadata": {},
     "output_type": "display_data"
    },
    {
     "data": {
      "application/vnd.jupyter.widget-view+json": {
       "model_id": "",
       "version_major": 2,
       "version_minor": 0
      },
      "text/plain": [
       "HBox(children=(IntProgress(value=0, max=300), HTML(value='')))"
      ]
     },
     "metadata": {},
     "output_type": "display_data"
    },
    {
     "data": {
      "application/vnd.jupyter.widget-view+json": {
       "model_id": "",
       "version_major": 2,
       "version_minor": 0
      },
      "text/plain": [
       "HBox(children=(IntProgress(value=0, max=300), HTML(value='')))"
      ]
     },
     "metadata": {},
     "output_type": "display_data"
    },
    {
     "data": {
      "application/vnd.jupyter.widget-view+json": {
       "model_id": "",
       "version_major": 2,
       "version_minor": 0
      },
      "text/plain": [
       "HBox(children=(IntProgress(value=0, max=300), HTML(value='')))"
      ]
     },
     "metadata": {},
     "output_type": "display_data"
    },
    {
     "data": {
      "application/vnd.jupyter.widget-view+json": {
       "model_id": "",
       "version_major": 2,
       "version_minor": 0
      },
      "text/plain": [
       "HBox(children=(IntProgress(value=0, max=300), HTML(value='')))"
      ]
     },
     "metadata": {},
     "output_type": "display_data"
    },
    {
     "data": {
      "application/vnd.jupyter.widget-view+json": {
       "model_id": "",
       "version_major": 2,
       "version_minor": 0
      },
      "text/plain": [
       "HBox(children=(IntProgress(value=0, max=300), HTML(value='')))"
      ]
     },
     "metadata": {},
     "output_type": "display_data"
    },
    {
     "data": {
      "application/vnd.jupyter.widget-view+json": {
       "model_id": "",
       "version_major": 2,
       "version_minor": 0
      },
      "text/plain": [
       "HBox(children=(IntProgress(value=0, max=300), HTML(value='')))"
      ]
     },
     "metadata": {},
     "output_type": "display_data"
    },
    {
     "data": {
      "application/vnd.jupyter.widget-view+json": {
       "model_id": "",
       "version_major": 2,
       "version_minor": 0
      },
      "text/plain": [
       "HBox(children=(IntProgress(value=0, max=300), HTML(value='')))"
      ]
     },
     "metadata": {},
     "output_type": "display_data"
    },
    {
     "data": {
      "application/vnd.jupyter.widget-view+json": {
       "model_id": "",
       "version_major": 2,
       "version_minor": 0
      },
      "text/plain": [
       "HBox(children=(IntProgress(value=0, max=300), HTML(value='')))"
      ]
     },
     "metadata": {},
     "output_type": "display_data"
    },
    {
     "data": {
      "application/vnd.jupyter.widget-view+json": {
       "model_id": "",
       "version_major": 2,
       "version_minor": 0
      },
      "text/plain": [
       "HBox(children=(IntProgress(value=0, max=300), HTML(value='')))"
      ]
     },
     "metadata": {},
     "output_type": "display_data"
    },
    {
     "data": {
      "application/vnd.jupyter.widget-view+json": {
       "model_id": "",
       "version_major": 2,
       "version_minor": 0
      },
      "text/plain": [
       "HBox(children=(IntProgress(value=0, max=300), HTML(value='')))"
      ]
     },
     "metadata": {},
     "output_type": "display_data"
    },
    {
     "data": {
      "application/vnd.jupyter.widget-view+json": {
       "model_id": "",
       "version_major": 2,
       "version_minor": 0
      },
      "text/plain": [
       "HBox(children=(IntProgress(value=0, max=300), HTML(value='')))"
      ]
     },
     "metadata": {},
     "output_type": "display_data"
    },
    {
     "data": {
      "application/vnd.jupyter.widget-view+json": {
       "model_id": "",
       "version_major": 2,
       "version_minor": 0
      },
      "text/plain": [
       "HBox(children=(IntProgress(value=0, max=300), HTML(value='')))"
      ]
     },
     "metadata": {},
     "output_type": "display_data"
    },
    {
     "data": {
      "application/vnd.jupyter.widget-view+json": {
       "model_id": "",
       "version_major": 2,
       "version_minor": 0
      },
      "text/plain": [
       "HBox(children=(IntProgress(value=0, max=300), HTML(value='')))"
      ]
     },
     "metadata": {},
     "output_type": "display_data"
    },
    {
     "data": {
      "application/vnd.jupyter.widget-view+json": {
       "model_id": "",
       "version_major": 2,
       "version_minor": 0
      },
      "text/plain": [
       "HBox(children=(IntProgress(value=0, max=300), HTML(value='')))"
      ]
     },
     "metadata": {},
     "output_type": "display_data"
    },
    {
     "data": {
      "application/vnd.jupyter.widget-view+json": {
       "model_id": "",
       "version_major": 2,
       "version_minor": 0
      },
      "text/plain": [
       "HBox(children=(IntProgress(value=0, max=300), HTML(value='')))"
      ]
     },
     "metadata": {},
     "output_type": "display_data"
    },
    {
     "data": {
      "application/vnd.jupyter.widget-view+json": {
       "model_id": "",
       "version_major": 2,
       "version_minor": 0
      },
      "text/plain": [
       "HBox(children=(IntProgress(value=0, max=300), HTML(value='')))"
      ]
     },
     "metadata": {},
     "output_type": "display_data"
    },
    {
     "data": {
      "application/vnd.jupyter.widget-view+json": {
       "model_id": "",
       "version_major": 2,
       "version_minor": 0
      },
      "text/plain": [
       "HBox(children=(IntProgress(value=0, max=300), HTML(value='')))"
      ]
     },
     "metadata": {},
     "output_type": "display_data"
    },
    {
     "data": {
      "application/vnd.jupyter.widget-view+json": {
       "model_id": "",
       "version_major": 2,
       "version_minor": 0
      },
      "text/plain": [
       "HBox(children=(IntProgress(value=0, max=300), HTML(value='')))"
      ]
     },
     "metadata": {},
     "output_type": "display_data"
    },
    {
     "data": {
      "application/vnd.jupyter.widget-view+json": {
       "model_id": "",
       "version_major": 2,
       "version_minor": 0
      },
      "text/plain": [
       "HBox(children=(IntProgress(value=0, max=300), HTML(value='')))"
      ]
     },
     "metadata": {},
     "output_type": "display_data"
    },
    {
     "data": {
      "application/vnd.jupyter.widget-view+json": {
       "model_id": "",
       "version_major": 2,
       "version_minor": 0
      },
      "text/plain": [
       "HBox(children=(IntProgress(value=0, max=300), HTML(value='')))"
      ]
     },
     "metadata": {},
     "output_type": "display_data"
    },
    {
     "data": {
      "application/vnd.jupyter.widget-view+json": {
       "model_id": "",
       "version_major": 2,
       "version_minor": 0
      },
      "text/plain": [
       "HBox(children=(IntProgress(value=0, max=300), HTML(value='')))"
      ]
     },
     "metadata": {},
     "output_type": "display_data"
    },
    {
     "data": {
      "application/vnd.jupyter.widget-view+json": {
       "model_id": "",
       "version_major": 2,
       "version_minor": 0
      },
      "text/plain": [
       "HBox(children=(IntProgress(value=0, max=300), HTML(value='')))"
      ]
     },
     "metadata": {},
     "output_type": "display_data"
    },
    {
     "data": {
      "application/vnd.jupyter.widget-view+json": {
       "model_id": "",
       "version_major": 2,
       "version_minor": 0
      },
      "text/plain": [
       "HBox(children=(IntProgress(value=0, max=300), HTML(value='')))"
      ]
     },
     "metadata": {},
     "output_type": "display_data"
    },
    {
     "data": {
      "application/vnd.jupyter.widget-view+json": {
       "model_id": "",
       "version_major": 2,
       "version_minor": 0
      },
      "text/plain": [
       "HBox(children=(IntProgress(value=0, max=300), HTML(value='')))"
      ]
     },
     "metadata": {},
     "output_type": "display_data"
    },
    {
     "data": {
      "application/vnd.jupyter.widget-view+json": {
       "model_id": "",
       "version_major": 2,
       "version_minor": 0
      },
      "text/plain": [
       "HBox(children=(IntProgress(value=0, max=300), HTML(value='')))"
      ]
     },
     "metadata": {},
     "output_type": "display_data"
    },
    {
     "data": {
      "application/vnd.jupyter.widget-view+json": {
       "model_id": "",
       "version_major": 2,
       "version_minor": 0
      },
      "text/plain": [
       "HBox(children=(IntProgress(value=0, max=300), HTML(value='')))"
      ]
     },
     "metadata": {},
     "output_type": "display_data"
    },
    {
     "data": {
      "application/vnd.jupyter.widget-view+json": {
       "model_id": "",
       "version_major": 2,
       "version_minor": 0
      },
      "text/plain": [
       "HBox(children=(IntProgress(value=0, max=300), HTML(value='')))"
      ]
     },
     "metadata": {},
     "output_type": "display_data"
    },
    {
     "data": {
      "application/vnd.jupyter.widget-view+json": {
       "model_id": "",
       "version_major": 2,
       "version_minor": 0
      },
      "text/plain": [
       "HBox(children=(IntProgress(value=0, max=300), HTML(value='')))"
      ]
     },
     "metadata": {},
     "output_type": "display_data"
    },
    {
     "data": {
      "application/vnd.jupyter.widget-view+json": {
       "model_id": "",
       "version_major": 2,
       "version_minor": 0
      },
      "text/plain": [
       "HBox(children=(IntProgress(value=0, max=300), HTML(value='')))"
      ]
     },
     "metadata": {},
     "output_type": "display_data"
    },
    {
     "data": {
      "application/vnd.jupyter.widget-view+json": {
       "model_id": "",
       "version_major": 2,
       "version_minor": 0
      },
      "text/plain": [
       "HBox(children=(IntProgress(value=0, max=300), HTML(value='')))"
      ]
     },
     "metadata": {},
     "output_type": "display_data"
    },
    {
     "data": {
      "application/vnd.jupyter.widget-view+json": {
       "model_id": "",
       "version_major": 2,
       "version_minor": 0
      },
      "text/plain": [
       "HBox(children=(IntProgress(value=0, max=300), HTML(value='')))"
      ]
     },
     "metadata": {},
     "output_type": "display_data"
    },
    {
     "data": {
      "application/vnd.jupyter.widget-view+json": {
       "model_id": "",
       "version_major": 2,
       "version_minor": 0
      },
      "text/plain": [
       "HBox(children=(IntProgress(value=0, max=300), HTML(value='')))"
      ]
     },
     "metadata": {},
     "output_type": "display_data"
    },
    {
     "data": {
      "application/vnd.jupyter.widget-view+json": {
       "model_id": "",
       "version_major": 2,
       "version_minor": 0
      },
      "text/plain": [
       "HBox(children=(IntProgress(value=0, max=300), HTML(value='')))"
      ]
     },
     "metadata": {},
     "output_type": "display_data"
    },
    {
     "data": {
      "application/vnd.jupyter.widget-view+json": {
       "model_id": "",
       "version_major": 2,
       "version_minor": 0
      },
      "text/plain": [
       "HBox(children=(IntProgress(value=0, max=300), HTML(value='')))"
      ]
     },
     "metadata": {},
     "output_type": "display_data"
    },
    {
     "data": {
      "application/vnd.jupyter.widget-view+json": {
       "model_id": "",
       "version_major": 2,
       "version_minor": 0
      },
      "text/plain": [
       "HBox(children=(IntProgress(value=0, max=300), HTML(value='')))"
      ]
     },
     "metadata": {},
     "output_type": "display_data"
    },
    {
     "data": {
      "application/vnd.jupyter.widget-view+json": {
       "model_id": "",
       "version_major": 2,
       "version_minor": 0
      },
      "text/plain": [
       "HBox(children=(IntProgress(value=0, max=300), HTML(value='')))"
      ]
     },
     "metadata": {},
     "output_type": "display_data"
    },
    {
     "data": {
      "application/vnd.jupyter.widget-view+json": {
       "model_id": "",
       "version_major": 2,
       "version_minor": 0
      },
      "text/plain": [
       "HBox(children=(IntProgress(value=0, max=300), HTML(value='')))"
      ]
     },
     "metadata": {},
     "output_type": "display_data"
    },
    {
     "data": {
      "application/vnd.jupyter.widget-view+json": {
       "model_id": "",
       "version_major": 2,
       "version_minor": 0
      },
      "text/plain": [
       "HBox(children=(IntProgress(value=0, max=300), HTML(value='')))"
      ]
     },
     "metadata": {},
     "output_type": "display_data"
    },
    {
     "data": {
      "application/vnd.jupyter.widget-view+json": {
       "model_id": "",
       "version_major": 2,
       "version_minor": 0
      },
      "text/plain": [
       "HBox(children=(IntProgress(value=0, max=300), HTML(value='')))"
      ]
     },
     "metadata": {},
     "output_type": "display_data"
    },
    {
     "data": {
      "application/vnd.jupyter.widget-view+json": {
       "model_id": "",
       "version_major": 2,
       "version_minor": 0
      },
      "text/plain": [
       "HBox(children=(IntProgress(value=0, max=300), HTML(value='')))"
      ]
     },
     "metadata": {},
     "output_type": "display_data"
    },
    {
     "data": {
      "application/vnd.jupyter.widget-view+json": {
       "model_id": "",
       "version_major": 2,
       "version_minor": 0
      },
      "text/plain": [
       "HBox(children=(IntProgress(value=0, max=300), HTML(value='')))"
      ]
     },
     "metadata": {},
     "output_type": "display_data"
    },
    {
     "data": {
      "application/vnd.jupyter.widget-view+json": {
       "model_id": "",
       "version_major": 2,
       "version_minor": 0
      },
      "text/plain": [
       "HBox(children=(IntProgress(value=0, max=300), HTML(value='')))"
      ]
     },
     "metadata": {},
     "output_type": "display_data"
    },
    {
     "data": {
      "application/vnd.jupyter.widget-view+json": {
       "model_id": "",
       "version_major": 2,
       "version_minor": 0
      },
      "text/plain": [
       "HBox(children=(IntProgress(value=0, max=300), HTML(value='')))"
      ]
     },
     "metadata": {},
     "output_type": "display_data"
    },
    {
     "data": {
      "application/vnd.jupyter.widget-view+json": {
       "model_id": "",
       "version_major": 2,
       "version_minor": 0
      },
      "text/plain": [
       "HBox(children=(IntProgress(value=0, max=300), HTML(value='')))"
      ]
     },
     "metadata": {},
     "output_type": "display_data"
    },
    {
     "data": {
      "application/vnd.jupyter.widget-view+json": {
       "model_id": "",
       "version_major": 2,
       "version_minor": 0
      },
      "text/plain": [
       "HBox(children=(IntProgress(value=0, max=300), HTML(value='')))"
      ]
     },
     "metadata": {},
     "output_type": "display_data"
    },
    {
     "data": {
      "application/vnd.jupyter.widget-view+json": {
       "model_id": "",
       "version_major": 2,
       "version_minor": 0
      },
      "text/plain": [
       "HBox(children=(IntProgress(value=0, max=300), HTML(value='')))"
      ]
     },
     "metadata": {},
     "output_type": "display_data"
    },
    {
     "data": {
      "application/vnd.jupyter.widget-view+json": {
       "model_id": "",
       "version_major": 2,
       "version_minor": 0
      },
      "text/plain": [
       "HBox(children=(IntProgress(value=0, max=300), HTML(value='')))"
      ]
     },
     "metadata": {},
     "output_type": "display_data"
    },
    {
     "data": {
      "application/vnd.jupyter.widget-view+json": {
       "model_id": "",
       "version_major": 2,
       "version_minor": 0
      },
      "text/plain": [
       "HBox(children=(IntProgress(value=0, max=300), HTML(value='')))"
      ]
     },
     "metadata": {},
     "output_type": "display_data"
    },
    {
     "data": {
      "application/vnd.jupyter.widget-view+json": {
       "model_id": "",
       "version_major": 2,
       "version_minor": 0
      },
      "text/plain": [
       "HBox(children=(IntProgress(value=0, max=300), HTML(value='')))"
      ]
     },
     "metadata": {},
     "output_type": "display_data"
    },
    {
     "data": {
      "application/vnd.jupyter.widget-view+json": {
       "model_id": "",
       "version_major": 2,
       "version_minor": 0
      },
      "text/plain": [
       "HBox(children=(IntProgress(value=0, max=300), HTML(value='')))"
      ]
     },
     "metadata": {},
     "output_type": "display_data"
    },
    {
     "data": {
      "application/vnd.jupyter.widget-view+json": {
       "model_id": "",
       "version_major": 2,
       "version_minor": 0
      },
      "text/plain": [
       "HBox(children=(IntProgress(value=0, max=300), HTML(value='')))"
      ]
     },
     "metadata": {},
     "output_type": "display_data"
    },
    {
     "data": {
      "application/vnd.jupyter.widget-view+json": {
       "model_id": "",
       "version_major": 2,
       "version_minor": 0
      },
      "text/plain": [
       "HBox(children=(IntProgress(value=0, max=300), HTML(value='')))"
      ]
     },
     "metadata": {},
     "output_type": "display_data"
    },
    {
     "data": {
      "application/vnd.jupyter.widget-view+json": {
       "model_id": "",
       "version_major": 2,
       "version_minor": 0
      },
      "text/plain": [
       "HBox(children=(IntProgress(value=0, max=300), HTML(value='')))"
      ]
     },
     "metadata": {},
     "output_type": "display_data"
    },
    {
     "data": {
      "application/vnd.jupyter.widget-view+json": {
       "model_id": "",
       "version_major": 2,
       "version_minor": 0
      },
      "text/plain": [
       "HBox(children=(IntProgress(value=0, max=300), HTML(value='')))"
      ]
     },
     "metadata": {},
     "output_type": "display_data"
    },
    {
     "data": {
      "application/vnd.jupyter.widget-view+json": {
       "model_id": "",
       "version_major": 2,
       "version_minor": 0
      },
      "text/plain": [
       "HBox(children=(IntProgress(value=0, max=300), HTML(value='')))"
      ]
     },
     "metadata": {},
     "output_type": "display_data"
    },
    {
     "data": {
      "application/vnd.jupyter.widget-view+json": {
       "model_id": "",
       "version_major": 2,
       "version_minor": 0
      },
      "text/plain": [
       "HBox(children=(IntProgress(value=0, max=300), HTML(value='')))"
      ]
     },
     "metadata": {},
     "output_type": "display_data"
    },
    {
     "data": {
      "application/vnd.jupyter.widget-view+json": {
       "model_id": "",
       "version_major": 2,
       "version_minor": 0
      },
      "text/plain": [
       "HBox(children=(IntProgress(value=0, max=300), HTML(value='')))"
      ]
     },
     "metadata": {},
     "output_type": "display_data"
    },
    {
     "data": {
      "application/vnd.jupyter.widget-view+json": {
       "model_id": "",
       "version_major": 2,
       "version_minor": 0
      },
      "text/plain": [
       "HBox(children=(IntProgress(value=0, max=300), HTML(value='')))"
      ]
     },
     "metadata": {},
     "output_type": "display_data"
    },
    {
     "data": {
      "application/vnd.jupyter.widget-view+json": {
       "model_id": "",
       "version_major": 2,
       "version_minor": 0
      },
      "text/plain": [
       "HBox(children=(IntProgress(value=0, max=300), HTML(value='')))"
      ]
     },
     "metadata": {},
     "output_type": "display_data"
    },
    {
     "data": {
      "application/vnd.jupyter.widget-view+json": {
       "model_id": "",
       "version_major": 2,
       "version_minor": 0
      },
      "text/plain": [
       "HBox(children=(IntProgress(value=0, max=300), HTML(value='')))"
      ]
     },
     "metadata": {},
     "output_type": "display_data"
    },
    {
     "data": {
      "application/vnd.jupyter.widget-view+json": {
       "model_id": "",
       "version_major": 2,
       "version_minor": 0
      },
      "text/plain": [
       "HBox(children=(IntProgress(value=0, max=300), HTML(value='')))"
      ]
     },
     "metadata": {},
     "output_type": "display_data"
    },
    {
     "data": {
      "application/vnd.jupyter.widget-view+json": {
       "model_id": "",
       "version_major": 2,
       "version_minor": 0
      },
      "text/plain": [
       "HBox(children=(IntProgress(value=0, max=300), HTML(value='')))"
      ]
     },
     "metadata": {},
     "output_type": "display_data"
    },
    {
     "data": {
      "application/vnd.jupyter.widget-view+json": {
       "model_id": "",
       "version_major": 2,
       "version_minor": 0
      },
      "text/plain": [
       "HBox(children=(IntProgress(value=0, max=300), HTML(value='')))"
      ]
     },
     "metadata": {},
     "output_type": "display_data"
    },
    {
     "data": {
      "application/vnd.jupyter.widget-view+json": {
       "model_id": "",
       "version_major": 2,
       "version_minor": 0
      },
      "text/plain": [
       "HBox(children=(IntProgress(value=0, max=300), HTML(value='')))"
      ]
     },
     "metadata": {},
     "output_type": "display_data"
    },
    {
     "data": {
      "application/vnd.jupyter.widget-view+json": {
       "model_id": "",
       "version_major": 2,
       "version_minor": 0
      },
      "text/plain": [
       "HBox(children=(IntProgress(value=0, max=300), HTML(value='')))"
      ]
     },
     "metadata": {},
     "output_type": "display_data"
    },
    {
     "data": {
      "application/vnd.jupyter.widget-view+json": {
       "model_id": "",
       "version_major": 2,
       "version_minor": 0
      },
      "text/plain": [
       "HBox(children=(IntProgress(value=0, max=300), HTML(value='')))"
      ]
     },
     "metadata": {},
     "output_type": "display_data"
    },
    {
     "data": {
      "application/vnd.jupyter.widget-view+json": {
       "model_id": "",
       "version_major": 2,
       "version_minor": 0
      },
      "text/plain": [
       "HBox(children=(IntProgress(value=0, max=300), HTML(value='')))"
      ]
     },
     "metadata": {},
     "output_type": "display_data"
    },
    {
     "data": {
      "application/vnd.jupyter.widget-view+json": {
       "model_id": "",
       "version_major": 2,
       "version_minor": 0
      },
      "text/plain": [
       "HBox(children=(IntProgress(value=0, max=300), HTML(value='')))"
      ]
     },
     "metadata": {},
     "output_type": "display_data"
    },
    {
     "data": {
      "application/vnd.jupyter.widget-view+json": {
       "model_id": "",
       "version_major": 2,
       "version_minor": 0
      },
      "text/plain": [
       "HBox(children=(IntProgress(value=0, max=300), HTML(value='')))"
      ]
     },
     "metadata": {},
     "output_type": "display_data"
    },
    {
     "data": {
      "application/vnd.jupyter.widget-view+json": {
       "model_id": "",
       "version_major": 2,
       "version_minor": 0
      },
      "text/plain": [
       "HBox(children=(IntProgress(value=0, max=300), HTML(value='')))"
      ]
     },
     "metadata": {},
     "output_type": "display_data"
    },
    {
     "data": {
      "application/vnd.jupyter.widget-view+json": {
       "model_id": "",
       "version_major": 2,
       "version_minor": 0
      },
      "text/plain": [
       "HBox(children=(IntProgress(value=0, max=300), HTML(value='')))"
      ]
     },
     "metadata": {},
     "output_type": "display_data"
    },
    {
     "data": {
      "application/vnd.jupyter.widget-view+json": {
       "model_id": "",
       "version_major": 2,
       "version_minor": 0
      },
      "text/plain": [
       "HBox(children=(IntProgress(value=0, max=300), HTML(value='')))"
      ]
     },
     "metadata": {},
     "output_type": "display_data"
    },
    {
     "data": {
      "application/vnd.jupyter.widget-view+json": {
       "model_id": "",
       "version_major": 2,
       "version_minor": 0
      },
      "text/plain": [
       "HBox(children=(IntProgress(value=0, max=300), HTML(value='')))"
      ]
     },
     "metadata": {},
     "output_type": "display_data"
    },
    {
     "data": {
      "application/vnd.jupyter.widget-view+json": {
       "model_id": "",
       "version_major": 2,
       "version_minor": 0
      },
      "text/plain": [
       "HBox(children=(IntProgress(value=0, max=300), HTML(value='')))"
      ]
     },
     "metadata": {},
     "output_type": "display_data"
    },
    {
     "data": {
      "application/vnd.jupyter.widget-view+json": {
       "model_id": "",
       "version_major": 2,
       "version_minor": 0
      },
      "text/plain": [
       "HBox(children=(IntProgress(value=0, max=300), HTML(value='')))"
      ]
     },
     "metadata": {},
     "output_type": "display_data"
    },
    {
     "data": {
      "application/vnd.jupyter.widget-view+json": {
       "model_id": "",
       "version_major": 2,
       "version_minor": 0
      },
      "text/plain": [
       "HBox(children=(IntProgress(value=0, max=300), HTML(value='')))"
      ]
     },
     "metadata": {},
     "output_type": "display_data"
    },
    {
     "data": {
      "application/vnd.jupyter.widget-view+json": {
       "model_id": "",
       "version_major": 2,
       "version_minor": 0
      },
      "text/plain": [
       "HBox(children=(IntProgress(value=0, max=300), HTML(value='')))"
      ]
     },
     "metadata": {},
     "output_type": "display_data"
    },
    {
     "data": {
      "application/vnd.jupyter.widget-view+json": {
       "model_id": "",
       "version_major": 2,
       "version_minor": 0
      },
      "text/plain": [
       "HBox(children=(IntProgress(value=0, max=300), HTML(value='')))"
      ]
     },
     "metadata": {},
     "output_type": "display_data"
    },
    {
     "data": {
      "application/vnd.jupyter.widget-view+json": {
       "model_id": "",
       "version_major": 2,
       "version_minor": 0
      },
      "text/plain": [
       "HBox(children=(IntProgress(value=0, max=300), HTML(value='')))"
      ]
     },
     "metadata": {},
     "output_type": "display_data"
    },
    {
     "data": {
      "application/vnd.jupyter.widget-view+json": {
       "model_id": "",
       "version_major": 2,
       "version_minor": 0
      },
      "text/plain": [
       "HBox(children=(IntProgress(value=0, max=300), HTML(value='')))"
      ]
     },
     "metadata": {},
     "output_type": "display_data"
    },
    {
     "data": {
      "application/vnd.jupyter.widget-view+json": {
       "model_id": "",
       "version_major": 2,
       "version_minor": 0
      },
      "text/plain": [
       "HBox(children=(IntProgress(value=0, max=300), HTML(value='')))"
      ]
     },
     "metadata": {},
     "output_type": "display_data"
    },
    {
     "data": {
      "application/vnd.jupyter.widget-view+json": {
       "model_id": "",
       "version_major": 2,
       "version_minor": 0
      },
      "text/plain": [
       "HBox(children=(IntProgress(value=0, max=300), HTML(value='')))"
      ]
     },
     "metadata": {},
     "output_type": "display_data"
    },
    {
     "data": {
      "application/vnd.jupyter.widget-view+json": {
       "model_id": "",
       "version_major": 2,
       "version_minor": 0
      },
      "text/plain": [
       "HBox(children=(IntProgress(value=0, max=300), HTML(value='')))"
      ]
     },
     "metadata": {},
     "output_type": "display_data"
    },
    {
     "data": {
      "application/vnd.jupyter.widget-view+json": {
       "model_id": "",
       "version_major": 2,
       "version_minor": 0
      },
      "text/plain": [
       "HBox(children=(IntProgress(value=0, max=300), HTML(value='')))"
      ]
     },
     "metadata": {},
     "output_type": "display_data"
    },
    {
     "data": {
      "application/vnd.jupyter.widget-view+json": {
       "model_id": "",
       "version_major": 2,
       "version_minor": 0
      },
      "text/plain": [
       "HBox(children=(IntProgress(value=0, max=300), HTML(value='')))"
      ]
     },
     "metadata": {},
     "output_type": "display_data"
    },
    {
     "data": {
      "application/vnd.jupyter.widget-view+json": {
       "model_id": "",
       "version_major": 2,
       "version_minor": 0
      },
      "text/plain": [
       "HBox(children=(IntProgress(value=0, max=300), HTML(value='')))"
      ]
     },
     "metadata": {},
     "output_type": "display_data"
    },
    {
     "data": {
      "application/vnd.jupyter.widget-view+json": {
       "model_id": "",
       "version_major": 2,
       "version_minor": 0
      },
      "text/plain": [
       "HBox(children=(IntProgress(value=0, max=300), HTML(value='')))"
      ]
     },
     "metadata": {},
     "output_type": "display_data"
    },
    {
     "data": {
      "application/vnd.jupyter.widget-view+json": {
       "model_id": "",
       "version_major": 2,
       "version_minor": 0
      },
      "text/plain": [
       "HBox(children=(IntProgress(value=0, max=300), HTML(value='')))"
      ]
     },
     "metadata": {},
     "output_type": "display_data"
    },
    {
     "data": {
      "application/vnd.jupyter.widget-view+json": {
       "model_id": "",
       "version_major": 2,
       "version_minor": 0
      },
      "text/plain": [
       "HBox(children=(IntProgress(value=0, max=300), HTML(value='')))"
      ]
     },
     "metadata": {},
     "output_type": "display_data"
    },
    {
     "data": {
      "application/vnd.jupyter.widget-view+json": {
       "model_id": "",
       "version_major": 2,
       "version_minor": 0
      },
      "text/plain": [
       "HBox(children=(IntProgress(value=0, max=300), HTML(value='')))"
      ]
     },
     "metadata": {},
     "output_type": "display_data"
    },
    {
     "data": {
      "application/vnd.jupyter.widget-view+json": {
       "model_id": "",
       "version_major": 2,
       "version_minor": 0
      },
      "text/plain": [
       "HBox(children=(IntProgress(value=0, max=300), HTML(value='')))"
      ]
     },
     "metadata": {},
     "output_type": "display_data"
    },
    {
     "data": {
      "application/vnd.jupyter.widget-view+json": {
       "model_id": "",
       "version_major": 2,
       "version_minor": 0
      },
      "text/plain": [
       "HBox(children=(IntProgress(value=0, max=300), HTML(value='')))"
      ]
     },
     "metadata": {},
     "output_type": "display_data"
    },
    {
     "data": {
      "application/vnd.jupyter.widget-view+json": {
       "model_id": "",
       "version_major": 2,
       "version_minor": 0
      },
      "text/plain": [
       "HBox(children=(IntProgress(value=0, max=300), HTML(value='')))"
      ]
     },
     "metadata": {},
     "output_type": "display_data"
    },
    {
     "data": {
      "application/vnd.jupyter.widget-view+json": {
       "model_id": "",
       "version_major": 2,
       "version_minor": 0
      },
      "text/plain": [
       "HBox(children=(IntProgress(value=0, max=300), HTML(value='')))"
      ]
     },
     "metadata": {},
     "output_type": "display_data"
    },
    {
     "data": {
      "application/vnd.jupyter.widget-view+json": {
       "model_id": "",
       "version_major": 2,
       "version_minor": 0
      },
      "text/plain": [
       "HBox(children=(IntProgress(value=0, max=300), HTML(value='')))"
      ]
     },
     "metadata": {},
     "output_type": "display_data"
    },
    {
     "data": {
      "application/vnd.jupyter.widget-view+json": {
       "model_id": "",
       "version_major": 2,
       "version_minor": 0
      },
      "text/plain": [
       "HBox(children=(IntProgress(value=0, max=300), HTML(value='')))"
      ]
     },
     "metadata": {},
     "output_type": "display_data"
    },
    {
     "data": {
      "application/vnd.jupyter.widget-view+json": {
       "model_id": "",
       "version_major": 2,
       "version_minor": 0
      },
      "text/plain": [
       "HBox(children=(IntProgress(value=0, max=300), HTML(value='')))"
      ]
     },
     "metadata": {},
     "output_type": "display_data"
    },
    {
     "data": {
      "application/vnd.jupyter.widget-view+json": {
       "model_id": "",
       "version_major": 2,
       "version_minor": 0
      },
      "text/plain": [
       "HBox(children=(IntProgress(value=0, max=300), HTML(value='')))"
      ]
     },
     "metadata": {},
     "output_type": "display_data"
    },
    {
     "data": {
      "application/vnd.jupyter.widget-view+json": {
       "model_id": "",
       "version_major": 2,
       "version_minor": 0
      },
      "text/plain": [
       "HBox(children=(IntProgress(value=0, max=300), HTML(value='')))"
      ]
     },
     "metadata": {},
     "output_type": "display_data"
    },
    {
     "data": {
      "application/vnd.jupyter.widget-view+json": {
       "model_id": "",
       "version_major": 2,
       "version_minor": 0
      },
      "text/plain": [
       "HBox(children=(IntProgress(value=0, max=300), HTML(value='')))"
      ]
     },
     "metadata": {},
     "output_type": "display_data"
    },
    {
     "data": {
      "application/vnd.jupyter.widget-view+json": {
       "model_id": "",
       "version_major": 2,
       "version_minor": 0
      },
      "text/plain": [
       "HBox(children=(IntProgress(value=0, max=300), HTML(value='')))"
      ]
     },
     "metadata": {},
     "output_type": "display_data"
    },
    {
     "data": {
      "application/vnd.jupyter.widget-view+json": {
       "model_id": "",
       "version_major": 2,
       "version_minor": 0
      },
      "text/plain": [
       "HBox(children=(IntProgress(value=0, max=300), HTML(value='')))"
      ]
     },
     "metadata": {},
     "output_type": "display_data"
    },
    {
     "data": {
      "application/vnd.jupyter.widget-view+json": {
       "model_id": "",
       "version_major": 2,
       "version_minor": 0
      },
      "text/plain": [
       "HBox(children=(IntProgress(value=0, max=300), HTML(value='')))"
      ]
     },
     "metadata": {},
     "output_type": "display_data"
    },
    {
     "data": {
      "application/vnd.jupyter.widget-view+json": {
       "model_id": "",
       "version_major": 2,
       "version_minor": 0
      },
      "text/plain": [
       "HBox(children=(IntProgress(value=0, max=300), HTML(value='')))"
      ]
     },
     "metadata": {},
     "output_type": "display_data"
    },
    {
     "data": {
      "application/vnd.jupyter.widget-view+json": {
       "model_id": "",
       "version_major": 2,
       "version_minor": 0
      },
      "text/plain": [
       "HBox(children=(IntProgress(value=0, max=300), HTML(value='')))"
      ]
     },
     "metadata": {},
     "output_type": "display_data"
    },
    {
     "data": {
      "application/vnd.jupyter.widget-view+json": {
       "model_id": "",
       "version_major": 2,
       "version_minor": 0
      },
      "text/plain": [
       "HBox(children=(IntProgress(value=0, max=300), HTML(value='')))"
      ]
     },
     "metadata": {},
     "output_type": "display_data"
    },
    {
     "data": {
      "application/vnd.jupyter.widget-view+json": {
       "model_id": "",
       "version_major": 2,
       "version_minor": 0
      },
      "text/plain": [
       "HBox(children=(IntProgress(value=0, max=300), HTML(value='')))"
      ]
     },
     "metadata": {},
     "output_type": "display_data"
    },
    {
     "data": {
      "application/vnd.jupyter.widget-view+json": {
       "model_id": "",
       "version_major": 2,
       "version_minor": 0
      },
      "text/plain": [
       "HBox(children=(IntProgress(value=0, max=300), HTML(value='')))"
      ]
     },
     "metadata": {},
     "output_type": "display_data"
    },
    {
     "data": {
      "application/vnd.jupyter.widget-view+json": {
       "model_id": "",
       "version_major": 2,
       "version_minor": 0
      },
      "text/plain": [
       "HBox(children=(IntProgress(value=0, max=300), HTML(value='')))"
      ]
     },
     "metadata": {},
     "output_type": "display_data"
    },
    {
     "data": {
      "application/vnd.jupyter.widget-view+json": {
       "model_id": "",
       "version_major": 2,
       "version_minor": 0
      },
      "text/plain": [
       "HBox(children=(IntProgress(value=0, max=300), HTML(value='')))"
      ]
     },
     "metadata": {},
     "output_type": "display_data"
    },
    {
     "data": {
      "application/vnd.jupyter.widget-view+json": {
       "model_id": "",
       "version_major": 2,
       "version_minor": 0
      },
      "text/plain": [
       "HBox(children=(IntProgress(value=0, max=300), HTML(value='')))"
      ]
     },
     "metadata": {},
     "output_type": "display_data"
    },
    {
     "data": {
      "application/vnd.jupyter.widget-view+json": {
       "model_id": "",
       "version_major": 2,
       "version_minor": 0
      },
      "text/plain": [
       "HBox(children=(IntProgress(value=0, max=300), HTML(value='')))"
      ]
     },
     "metadata": {},
     "output_type": "display_data"
    },
    {
     "data": {
      "application/vnd.jupyter.widget-view+json": {
       "model_id": "",
       "version_major": 2,
       "version_minor": 0
      },
      "text/plain": [
       "HBox(children=(IntProgress(value=0, max=300), HTML(value='')))"
      ]
     },
     "metadata": {},
     "output_type": "display_data"
    },
    {
     "data": {
      "application/vnd.jupyter.widget-view+json": {
       "model_id": "",
       "version_major": 2,
       "version_minor": 0
      },
      "text/plain": [
       "HBox(children=(IntProgress(value=0, max=300), HTML(value='')))"
      ]
     },
     "metadata": {},
     "output_type": "display_data"
    },
    {
     "data": {
      "application/vnd.jupyter.widget-view+json": {
       "model_id": "",
       "version_major": 2,
       "version_minor": 0
      },
      "text/plain": [
       "HBox(children=(IntProgress(value=0, max=300), HTML(value='')))"
      ]
     },
     "metadata": {},
     "output_type": "display_data"
    },
    {
     "data": {
      "application/vnd.jupyter.widget-view+json": {
       "model_id": "",
       "version_major": 2,
       "version_minor": 0
      },
      "text/plain": [
       "HBox(children=(IntProgress(value=0, max=300), HTML(value='')))"
      ]
     },
     "metadata": {},
     "output_type": "display_data"
    },
    {
     "data": {
      "application/vnd.jupyter.widget-view+json": {
       "model_id": "",
       "version_major": 2,
       "version_minor": 0
      },
      "text/plain": [
       "HBox(children=(IntProgress(value=0, max=300), HTML(value='')))"
      ]
     },
     "metadata": {},
     "output_type": "display_data"
    },
    {
     "data": {
      "application/vnd.jupyter.widget-view+json": {
       "model_id": "",
       "version_major": 2,
       "version_minor": 0
      },
      "text/plain": [
       "HBox(children=(IntProgress(value=0, max=300), HTML(value='')))"
      ]
     },
     "metadata": {},
     "output_type": "display_data"
    },
    {
     "data": {
      "application/vnd.jupyter.widget-view+json": {
       "model_id": "",
       "version_major": 2,
       "version_minor": 0
      },
      "text/plain": [
       "HBox(children=(IntProgress(value=0, max=300), HTML(value='')))"
      ]
     },
     "metadata": {},
     "output_type": "display_data"
    },
    {
     "data": {
      "application/vnd.jupyter.widget-view+json": {
       "model_id": "",
       "version_major": 2,
       "version_minor": 0
      },
      "text/plain": [
       "HBox(children=(IntProgress(value=0, max=300), HTML(value='')))"
      ]
     },
     "metadata": {},
     "output_type": "display_data"
    },
    {
     "data": {
      "application/vnd.jupyter.widget-view+json": {
       "model_id": "",
       "version_major": 2,
       "version_minor": 0
      },
      "text/plain": [
       "HBox(children=(IntProgress(value=0, max=300), HTML(value='')))"
      ]
     },
     "metadata": {},
     "output_type": "display_data"
    },
    {
     "data": {
      "application/vnd.jupyter.widget-view+json": {
       "model_id": "",
       "version_major": 2,
       "version_minor": 0
      },
      "text/plain": [
       "HBox(children=(IntProgress(value=0, max=300), HTML(value='')))"
      ]
     },
     "metadata": {},
     "output_type": "display_data"
    },
    {
     "data": {
      "application/vnd.jupyter.widget-view+json": {
       "model_id": "",
       "version_major": 2,
       "version_minor": 0
      },
      "text/plain": [
       "HBox(children=(IntProgress(value=0, max=300), HTML(value='')))"
      ]
     },
     "metadata": {},
     "output_type": "display_data"
    },
    {
     "data": {
      "application/vnd.jupyter.widget-view+json": {
       "model_id": "",
       "version_major": 2,
       "version_minor": 0
      },
      "text/plain": [
       "HBox(children=(IntProgress(value=0, max=300), HTML(value='')))"
      ]
     },
     "metadata": {},
     "output_type": "display_data"
    },
    {
     "data": {
      "application/vnd.jupyter.widget-view+json": {
       "model_id": "",
       "version_major": 2,
       "version_minor": 0
      },
      "text/plain": [
       "HBox(children=(IntProgress(value=0, max=300), HTML(value='')))"
      ]
     },
     "metadata": {},
     "output_type": "display_data"
    },
    {
     "data": {
      "application/vnd.jupyter.widget-view+json": {
       "model_id": "",
       "version_major": 2,
       "version_minor": 0
      },
      "text/plain": [
       "HBox(children=(IntProgress(value=0, max=300), HTML(value='')))"
      ]
     },
     "metadata": {},
     "output_type": "display_data"
    },
    {
     "data": {
      "application/vnd.jupyter.widget-view+json": {
       "model_id": "",
       "version_major": 2,
       "version_minor": 0
      },
      "text/plain": [
       "HBox(children=(IntProgress(value=0, max=300), HTML(value='')))"
      ]
     },
     "metadata": {},
     "output_type": "display_data"
    },
    {
     "data": {
      "application/vnd.jupyter.widget-view+json": {
       "model_id": "",
       "version_major": 2,
       "version_minor": 0
      },
      "text/plain": [
       "HBox(children=(IntProgress(value=0, max=300), HTML(value='')))"
      ]
     },
     "metadata": {},
     "output_type": "display_data"
    },
    {
     "data": {
      "application/vnd.jupyter.widget-view+json": {
       "model_id": "",
       "version_major": 2,
       "version_minor": 0
      },
      "text/plain": [
       "HBox(children=(IntProgress(value=0, max=300), HTML(value='')))"
      ]
     },
     "metadata": {},
     "output_type": "display_data"
    },
    {
     "data": {
      "application/vnd.jupyter.widget-view+json": {
       "model_id": "",
       "version_major": 2,
       "version_minor": 0
      },
      "text/plain": [
       "HBox(children=(IntProgress(value=0, max=300), HTML(value='')))"
      ]
     },
     "metadata": {},
     "output_type": "display_data"
    },
    {
     "data": {
      "application/vnd.jupyter.widget-view+json": {
       "model_id": "",
       "version_major": 2,
       "version_minor": 0
      },
      "text/plain": [
       "HBox(children=(IntProgress(value=0, max=300), HTML(value='')))"
      ]
     },
     "metadata": {},
     "output_type": "display_data"
    },
    {
     "data": {
      "application/vnd.jupyter.widget-view+json": {
       "model_id": "",
       "version_major": 2,
       "version_minor": 0
      },
      "text/plain": [
       "HBox(children=(IntProgress(value=0, max=300), HTML(value='')))"
      ]
     },
     "metadata": {},
     "output_type": "display_data"
    },
    {
     "data": {
      "application/vnd.jupyter.widget-view+json": {
       "model_id": "",
       "version_major": 2,
       "version_minor": 0
      },
      "text/plain": [
       "HBox(children=(IntProgress(value=0, max=300), HTML(value='')))"
      ]
     },
     "metadata": {},
     "output_type": "display_data"
    },
    {
     "data": {
      "application/vnd.jupyter.widget-view+json": {
       "model_id": "",
       "version_major": 2,
       "version_minor": 0
      },
      "text/plain": [
       "HBox(children=(IntProgress(value=0, max=300), HTML(value='')))"
      ]
     },
     "metadata": {},
     "output_type": "display_data"
    },
    {
     "data": {
      "application/vnd.jupyter.widget-view+json": {
       "model_id": "",
       "version_major": 2,
       "version_minor": 0
      },
      "text/plain": [
       "HBox(children=(IntProgress(value=0, max=300), HTML(value='')))"
      ]
     },
     "metadata": {},
     "output_type": "display_data"
    },
    {
     "data": {
      "application/vnd.jupyter.widget-view+json": {
       "model_id": "",
       "version_major": 2,
       "version_minor": 0
      },
      "text/plain": [
       "HBox(children=(IntProgress(value=0, max=300), HTML(value='')))"
      ]
     },
     "metadata": {},
     "output_type": "display_data"
    },
    {
     "data": {
      "application/vnd.jupyter.widget-view+json": {
       "model_id": "",
       "version_major": 2,
       "version_minor": 0
      },
      "text/plain": [
       "HBox(children=(IntProgress(value=0, max=300), HTML(value='')))"
      ]
     },
     "metadata": {},
     "output_type": "display_data"
    },
    {
     "data": {
      "application/vnd.jupyter.widget-view+json": {
       "model_id": "",
       "version_major": 2,
       "version_minor": 0
      },
      "text/plain": [
       "HBox(children=(IntProgress(value=0, max=300), HTML(value='')))"
      ]
     },
     "metadata": {},
     "output_type": "display_data"
    },
    {
     "data": {
      "application/vnd.jupyter.widget-view+json": {
       "model_id": "",
       "version_major": 2,
       "version_minor": 0
      },
      "text/plain": [
       "HBox(children=(IntProgress(value=0, max=300), HTML(value='')))"
      ]
     },
     "metadata": {},
     "output_type": "display_data"
    },
    {
     "data": {
      "application/vnd.jupyter.widget-view+json": {
       "model_id": "",
       "version_major": 2,
       "version_minor": 0
      },
      "text/plain": [
       "HBox(children=(IntProgress(value=0, max=300), HTML(value='')))"
      ]
     },
     "metadata": {},
     "output_type": "display_data"
    },
    {
     "data": {
      "application/vnd.jupyter.widget-view+json": {
       "model_id": "",
       "version_major": 2,
       "version_minor": 0
      },
      "text/plain": [
       "HBox(children=(IntProgress(value=0, max=300), HTML(value='')))"
      ]
     },
     "metadata": {},
     "output_type": "display_data"
    },
    {
     "data": {
      "application/vnd.jupyter.widget-view+json": {
       "model_id": "",
       "version_major": 2,
       "version_minor": 0
      },
      "text/plain": [
       "HBox(children=(IntProgress(value=0, max=300), HTML(value='')))"
      ]
     },
     "metadata": {},
     "output_type": "display_data"
    },
    {
     "data": {
      "application/vnd.jupyter.widget-view+json": {
       "model_id": "",
       "version_major": 2,
       "version_minor": 0
      },
      "text/plain": [
       "HBox(children=(IntProgress(value=0, max=300), HTML(value='')))"
      ]
     },
     "metadata": {},
     "output_type": "display_data"
    },
    {
     "data": {
      "application/vnd.jupyter.widget-view+json": {
       "model_id": "",
       "version_major": 2,
       "version_minor": 0
      },
      "text/plain": [
       "HBox(children=(IntProgress(value=0, max=300), HTML(value='')))"
      ]
     },
     "metadata": {},
     "output_type": "display_data"
    },
    {
     "data": {
      "application/vnd.jupyter.widget-view+json": {
       "model_id": "",
       "version_major": 2,
       "version_minor": 0
      },
      "text/plain": [
       "HBox(children=(IntProgress(value=0, max=300), HTML(value='')))"
      ]
     },
     "metadata": {},
     "output_type": "display_data"
    },
    {
     "data": {
      "application/vnd.jupyter.widget-view+json": {
       "model_id": "",
       "version_major": 2,
       "version_minor": 0
      },
      "text/plain": [
       "HBox(children=(IntProgress(value=0, max=300), HTML(value='')))"
      ]
     },
     "metadata": {},
     "output_type": "display_data"
    },
    {
     "data": {
      "application/vnd.jupyter.widget-view+json": {
       "model_id": "",
       "version_major": 2,
       "version_minor": 0
      },
      "text/plain": [
       "HBox(children=(IntProgress(value=0, max=300), HTML(value='')))"
      ]
     },
     "metadata": {},
     "output_type": "display_data"
    },
    {
     "data": {
      "application/vnd.jupyter.widget-view+json": {
       "model_id": "",
       "version_major": 2,
       "version_minor": 0
      },
      "text/plain": [
       "HBox(children=(IntProgress(value=0, max=300), HTML(value='')))"
      ]
     },
     "metadata": {},
     "output_type": "display_data"
    },
    {
     "data": {
      "application/vnd.jupyter.widget-view+json": {
       "model_id": "",
       "version_major": 2,
       "version_minor": 0
      },
      "text/plain": [
       "HBox(children=(IntProgress(value=0, max=300), HTML(value='')))"
      ]
     },
     "metadata": {},
     "output_type": "display_data"
    },
    {
     "data": {
      "application/vnd.jupyter.widget-view+json": {
       "model_id": "",
       "version_major": 2,
       "version_minor": 0
      },
      "text/plain": [
       "HBox(children=(IntProgress(value=0, max=300), HTML(value='')))"
      ]
     },
     "metadata": {},
     "output_type": "display_data"
    },
    {
     "data": {
      "application/vnd.jupyter.widget-view+json": {
       "model_id": "",
       "version_major": 2,
       "version_minor": 0
      },
      "text/plain": [
       "HBox(children=(IntProgress(value=0, max=300), HTML(value='')))"
      ]
     },
     "metadata": {},
     "output_type": "display_data"
    },
    {
     "data": {
      "application/vnd.jupyter.widget-view+json": {
       "model_id": "",
       "version_major": 2,
       "version_minor": 0
      },
      "text/plain": [
       "HBox(children=(IntProgress(value=0, max=300), HTML(value='')))"
      ]
     },
     "metadata": {},
     "output_type": "display_data"
    },
    {
     "data": {
      "application/vnd.jupyter.widget-view+json": {
       "model_id": "",
       "version_major": 2,
       "version_minor": 0
      },
      "text/plain": [
       "HBox(children=(IntProgress(value=0, max=300), HTML(value='')))"
      ]
     },
     "metadata": {},
     "output_type": "display_data"
    },
    {
     "data": {
      "application/vnd.jupyter.widget-view+json": {
       "model_id": "",
       "version_major": 2,
       "version_minor": 0
      },
      "text/plain": [
       "HBox(children=(IntProgress(value=0, max=300), HTML(value='')))"
      ]
     },
     "metadata": {},
     "output_type": "display_data"
    },
    {
     "data": {
      "application/vnd.jupyter.widget-view+json": {
       "model_id": "",
       "version_major": 2,
       "version_minor": 0
      },
      "text/plain": [
       "HBox(children=(IntProgress(value=0, max=300), HTML(value='')))"
      ]
     },
     "metadata": {},
     "output_type": "display_data"
    },
    {
     "data": {
      "application/vnd.jupyter.widget-view+json": {
       "model_id": "",
       "version_major": 2,
       "version_minor": 0
      },
      "text/plain": [
       "HBox(children=(IntProgress(value=0, max=300), HTML(value='')))"
      ]
     },
     "metadata": {},
     "output_type": "display_data"
    },
    {
     "data": {
      "application/vnd.jupyter.widget-view+json": {
       "model_id": "",
       "version_major": 2,
       "version_minor": 0
      },
      "text/plain": [
       "HBox(children=(IntProgress(value=0, max=300), HTML(value='')))"
      ]
     },
     "metadata": {},
     "output_type": "display_data"
    },
    {
     "data": {
      "application/vnd.jupyter.widget-view+json": {
       "model_id": "",
       "version_major": 2,
       "version_minor": 0
      },
      "text/plain": [
       "HBox(children=(IntProgress(value=0, max=300), HTML(value='')))"
      ]
     },
     "metadata": {},
     "output_type": "display_data"
    },
    {
     "data": {
      "application/vnd.jupyter.widget-view+json": {
       "model_id": "",
       "version_major": 2,
       "version_minor": 0
      },
      "text/plain": [
       "HBox(children=(IntProgress(value=0, max=300), HTML(value='')))"
      ]
     },
     "metadata": {},
     "output_type": "display_data"
    },
    {
     "data": {
      "application/vnd.jupyter.widget-view+json": {
       "model_id": "",
       "version_major": 2,
       "version_minor": 0
      },
      "text/plain": [
       "HBox(children=(IntProgress(value=0, max=300), HTML(value='')))"
      ]
     },
     "metadata": {},
     "output_type": "display_data"
    },
    {
     "data": {
      "application/vnd.jupyter.widget-view+json": {
       "model_id": "",
       "version_major": 2,
       "version_minor": 0
      },
      "text/plain": [
       "HBox(children=(IntProgress(value=0, max=300), HTML(value='')))"
      ]
     },
     "metadata": {},
     "output_type": "display_data"
    },
    {
     "data": {
      "application/vnd.jupyter.widget-view+json": {
       "model_id": "",
       "version_major": 2,
       "version_minor": 0
      },
      "text/plain": [
       "HBox(children=(IntProgress(value=0, max=300), HTML(value='')))"
      ]
     },
     "metadata": {},
     "output_type": "display_data"
    },
    {
     "data": {
      "application/vnd.jupyter.widget-view+json": {
       "model_id": "",
       "version_major": 2,
       "version_minor": 0
      },
      "text/plain": [
       "HBox(children=(IntProgress(value=0, max=300), HTML(value='')))"
      ]
     },
     "metadata": {},
     "output_type": "display_data"
    },
    {
     "data": {
      "application/vnd.jupyter.widget-view+json": {
       "model_id": "",
       "version_major": 2,
       "version_minor": 0
      },
      "text/plain": [
       "HBox(children=(IntProgress(value=0, max=300), HTML(value='')))"
      ]
     },
     "metadata": {},
     "output_type": "display_data"
    },
    {
     "data": {
      "application/vnd.jupyter.widget-view+json": {
       "model_id": "",
       "version_major": 2,
       "version_minor": 0
      },
      "text/plain": [
       "HBox(children=(IntProgress(value=0, max=300), HTML(value='')))"
      ]
     },
     "metadata": {},
     "output_type": "display_data"
    },
    {
     "data": {
      "application/vnd.jupyter.widget-view+json": {
       "model_id": "",
       "version_major": 2,
       "version_minor": 0
      },
      "text/plain": [
       "HBox(children=(IntProgress(value=0, max=300), HTML(value='')))"
      ]
     },
     "metadata": {},
     "output_type": "display_data"
    },
    {
     "data": {
      "application/vnd.jupyter.widget-view+json": {
       "model_id": "",
       "version_major": 2,
       "version_minor": 0
      },
      "text/plain": [
       "HBox(children=(IntProgress(value=0, max=300), HTML(value='')))"
      ]
     },
     "metadata": {},
     "output_type": "display_data"
    },
    {
     "data": {
      "application/vnd.jupyter.widget-view+json": {
       "model_id": "",
       "version_major": 2,
       "version_minor": 0
      },
      "text/plain": [
       "HBox(children=(IntProgress(value=0, max=300), HTML(value='')))"
      ]
     },
     "metadata": {},
     "output_type": "display_data"
    },
    {
     "data": {
      "application/vnd.jupyter.widget-view+json": {
       "model_id": "",
       "version_major": 2,
       "version_minor": 0
      },
      "text/plain": [
       "HBox(children=(IntProgress(value=0, max=300), HTML(value='')))"
      ]
     },
     "metadata": {},
     "output_type": "display_data"
    },
    {
     "data": {
      "application/vnd.jupyter.widget-view+json": {
       "model_id": "",
       "version_major": 2,
       "version_minor": 0
      },
      "text/plain": [
       "HBox(children=(IntProgress(value=0, max=300), HTML(value='')))"
      ]
     },
     "metadata": {},
     "output_type": "display_data"
    },
    {
     "data": {
      "application/vnd.jupyter.widget-view+json": {
       "model_id": "",
       "version_major": 2,
       "version_minor": 0
      },
      "text/plain": [
       "HBox(children=(IntProgress(value=0, max=300), HTML(value='')))"
      ]
     },
     "metadata": {},
     "output_type": "display_data"
    },
    {
     "data": {
      "application/vnd.jupyter.widget-view+json": {
       "model_id": "",
       "version_major": 2,
       "version_minor": 0
      },
      "text/plain": [
       "HBox(children=(IntProgress(value=0, max=300), HTML(value='')))"
      ]
     },
     "metadata": {},
     "output_type": "display_data"
    },
    {
     "data": {
      "application/vnd.jupyter.widget-view+json": {
       "model_id": "",
       "version_major": 2,
       "version_minor": 0
      },
      "text/plain": [
       "HBox(children=(IntProgress(value=0, max=300), HTML(value='')))"
      ]
     },
     "metadata": {},
     "output_type": "display_data"
    },
    {
     "data": {
      "application/vnd.jupyter.widget-view+json": {
       "model_id": "",
       "version_major": 2,
       "version_minor": 0
      },
      "text/plain": [
       "HBox(children=(IntProgress(value=0, max=300), HTML(value='')))"
      ]
     },
     "metadata": {},
     "output_type": "display_data"
    },
    {
     "data": {
      "application/vnd.jupyter.widget-view+json": {
       "model_id": "",
       "version_major": 2,
       "version_minor": 0
      },
      "text/plain": [
       "HBox(children=(IntProgress(value=0, max=300), HTML(value='')))"
      ]
     },
     "metadata": {},
     "output_type": "display_data"
    },
    {
     "data": {
      "application/vnd.jupyter.widget-view+json": {
       "model_id": "",
       "version_major": 2,
       "version_minor": 0
      },
      "text/plain": [
       "HBox(children=(IntProgress(value=0, max=300), HTML(value='')))"
      ]
     },
     "metadata": {},
     "output_type": "display_data"
    },
    {
     "data": {
      "application/vnd.jupyter.widget-view+json": {
       "model_id": "",
       "version_major": 2,
       "version_minor": 0
      },
      "text/plain": [
       "HBox(children=(IntProgress(value=0, max=300), HTML(value='')))"
      ]
     },
     "metadata": {},
     "output_type": "display_data"
    },
    {
     "data": {
      "application/vnd.jupyter.widget-view+json": {
       "model_id": "",
       "version_major": 2,
       "version_minor": 0
      },
      "text/plain": [
       "HBox(children=(IntProgress(value=0, max=300), HTML(value='')))"
      ]
     },
     "metadata": {},
     "output_type": "display_data"
    },
    {
     "data": {
      "application/vnd.jupyter.widget-view+json": {
       "model_id": "",
       "version_major": 2,
       "version_minor": 0
      },
      "text/plain": [
       "HBox(children=(IntProgress(value=0, max=300), HTML(value='')))"
      ]
     },
     "metadata": {},
     "output_type": "display_data"
    },
    {
     "data": {
      "application/vnd.jupyter.widget-view+json": {
       "model_id": "",
       "version_major": 2,
       "version_minor": 0
      },
      "text/plain": [
       "HBox(children=(IntProgress(value=0, max=300), HTML(value='')))"
      ]
     },
     "metadata": {},
     "output_type": "display_data"
    },
    {
     "data": {
      "application/vnd.jupyter.widget-view+json": {
       "model_id": "",
       "version_major": 2,
       "version_minor": 0
      },
      "text/plain": [
       "HBox(children=(IntProgress(value=0, max=300), HTML(value='')))"
      ]
     },
     "metadata": {},
     "output_type": "display_data"
    },
    {
     "data": {
      "application/vnd.jupyter.widget-view+json": {
       "model_id": "",
       "version_major": 2,
       "version_minor": 0
      },
      "text/plain": [
       "HBox(children=(IntProgress(value=0, max=300), HTML(value='')))"
      ]
     },
     "metadata": {},
     "output_type": "display_data"
    },
    {
     "data": {
      "application/vnd.jupyter.widget-view+json": {
       "model_id": "",
       "version_major": 2,
       "version_minor": 0
      },
      "text/plain": [
       "HBox(children=(IntProgress(value=0, max=300), HTML(value='')))"
      ]
     },
     "metadata": {},
     "output_type": "display_data"
    },
    {
     "data": {
      "application/vnd.jupyter.widget-view+json": {
       "model_id": "",
       "version_major": 2,
       "version_minor": 0
      },
      "text/plain": [
       "HBox(children=(IntProgress(value=0, max=300), HTML(value='')))"
      ]
     },
     "metadata": {},
     "output_type": "display_data"
    },
    {
     "data": {
      "application/vnd.jupyter.widget-view+json": {
       "model_id": "",
       "version_major": 2,
       "version_minor": 0
      },
      "text/plain": [
       "HBox(children=(IntProgress(value=0, max=300), HTML(value='')))"
      ]
     },
     "metadata": {},
     "output_type": "display_data"
    },
    {
     "data": {
      "application/vnd.jupyter.widget-view+json": {
       "model_id": "",
       "version_major": 2,
       "version_minor": 0
      },
      "text/plain": [
       "HBox(children=(IntProgress(value=0, max=300), HTML(value='')))"
      ]
     },
     "metadata": {},
     "output_type": "display_data"
    },
    {
     "data": {
      "application/vnd.jupyter.widget-view+json": {
       "model_id": "",
       "version_major": 2,
       "version_minor": 0
      },
      "text/plain": [
       "HBox(children=(IntProgress(value=0, max=300), HTML(value='')))"
      ]
     },
     "metadata": {},
     "output_type": "display_data"
    },
    {
     "data": {
      "application/vnd.jupyter.widget-view+json": {
       "model_id": "",
       "version_major": 2,
       "version_minor": 0
      },
      "text/plain": [
       "HBox(children=(IntProgress(value=0, max=300), HTML(value='')))"
      ]
     },
     "metadata": {},
     "output_type": "display_data"
    },
    {
     "data": {
      "application/vnd.jupyter.widget-view+json": {
       "model_id": "",
       "version_major": 2,
       "version_minor": 0
      },
      "text/plain": [
       "HBox(children=(IntProgress(value=0, max=300), HTML(value='')))"
      ]
     },
     "metadata": {},
     "output_type": "display_data"
    },
    {
     "data": {
      "application/vnd.jupyter.widget-view+json": {
       "model_id": "",
       "version_major": 2,
       "version_minor": 0
      },
      "text/plain": [
       "HBox(children=(IntProgress(value=0, max=300), HTML(value='')))"
      ]
     },
     "metadata": {},
     "output_type": "display_data"
    },
    {
     "data": {
      "application/vnd.jupyter.widget-view+json": {
       "model_id": "",
       "version_major": 2,
       "version_minor": 0
      },
      "text/plain": [
       "HBox(children=(IntProgress(value=0, max=300), HTML(value='')))"
      ]
     },
     "metadata": {},
     "output_type": "display_data"
    },
    {
     "data": {
      "application/vnd.jupyter.widget-view+json": {
       "model_id": "",
       "version_major": 2,
       "version_minor": 0
      },
      "text/plain": [
       "HBox(children=(IntProgress(value=0, max=300), HTML(value='')))"
      ]
     },
     "metadata": {},
     "output_type": "display_data"
    },
    {
     "data": {
      "application/vnd.jupyter.widget-view+json": {
       "model_id": "",
       "version_major": 2,
       "version_minor": 0
      },
      "text/plain": [
       "HBox(children=(IntProgress(value=0, max=300), HTML(value='')))"
      ]
     },
     "metadata": {},
     "output_type": "display_data"
    },
    {
     "data": {
      "application/vnd.jupyter.widget-view+json": {
       "model_id": "",
       "version_major": 2,
       "version_minor": 0
      },
      "text/plain": [
       "HBox(children=(IntProgress(value=0, max=300), HTML(value='')))"
      ]
     },
     "metadata": {},
     "output_type": "display_data"
    },
    {
     "data": {
      "application/vnd.jupyter.widget-view+json": {
       "model_id": "",
       "version_major": 2,
       "version_minor": 0
      },
      "text/plain": [
       "HBox(children=(IntProgress(value=0, max=300), HTML(value='')))"
      ]
     },
     "metadata": {},
     "output_type": "display_data"
    },
    {
     "data": {
      "application/vnd.jupyter.widget-view+json": {
       "model_id": "",
       "version_major": 2,
       "version_minor": 0
      },
      "text/plain": [
       "HBox(children=(IntProgress(value=0, max=300), HTML(value='')))"
      ]
     },
     "metadata": {},
     "output_type": "display_data"
    },
    {
     "data": {
      "application/vnd.jupyter.widget-view+json": {
       "model_id": "",
       "version_major": 2,
       "version_minor": 0
      },
      "text/plain": [
       "HBox(children=(IntProgress(value=0, max=300), HTML(value='')))"
      ]
     },
     "metadata": {},
     "output_type": "display_data"
    },
    {
     "data": {
      "application/vnd.jupyter.widget-view+json": {
       "model_id": "",
       "version_major": 2,
       "version_minor": 0
      },
      "text/plain": [
       "HBox(children=(IntProgress(value=0, max=300), HTML(value='')))"
      ]
     },
     "metadata": {},
     "output_type": "display_data"
    },
    {
     "data": {
      "application/vnd.jupyter.widget-view+json": {
       "model_id": "",
       "version_major": 2,
       "version_minor": 0
      },
      "text/plain": [
       "HBox(children=(IntProgress(value=0, max=300), HTML(value='')))"
      ]
     },
     "metadata": {},
     "output_type": "display_data"
    },
    {
     "data": {
      "application/vnd.jupyter.widget-view+json": {
       "model_id": "",
       "version_major": 2,
       "version_minor": 0
      },
      "text/plain": [
       "HBox(children=(IntProgress(value=0, max=300), HTML(value='')))"
      ]
     },
     "metadata": {},
     "output_type": "display_data"
    },
    {
     "data": {
      "application/vnd.jupyter.widget-view+json": {
       "model_id": "",
       "version_major": 2,
       "version_minor": 0
      },
      "text/plain": [
       "HBox(children=(IntProgress(value=0, max=300), HTML(value='')))"
      ]
     },
     "metadata": {},
     "output_type": "display_data"
    },
    {
     "data": {
      "application/vnd.jupyter.widget-view+json": {
       "model_id": "",
       "version_major": 2,
       "version_minor": 0
      },
      "text/plain": [
       "HBox(children=(IntProgress(value=0, max=300), HTML(value='')))"
      ]
     },
     "metadata": {},
     "output_type": "display_data"
    },
    {
     "data": {
      "application/vnd.jupyter.widget-view+json": {
       "model_id": "",
       "version_major": 2,
       "version_minor": 0
      },
      "text/plain": [
       "HBox(children=(IntProgress(value=0, max=300), HTML(value='')))"
      ]
     },
     "metadata": {},
     "output_type": "display_data"
    },
    {
     "data": {
      "application/vnd.jupyter.widget-view+json": {
       "model_id": "",
       "version_major": 2,
       "version_minor": 0
      },
      "text/plain": [
       "HBox(children=(IntProgress(value=0, max=300), HTML(value='')))"
      ]
     },
     "metadata": {},
     "output_type": "display_data"
    },
    {
     "data": {
      "application/vnd.jupyter.widget-view+json": {
       "model_id": "",
       "version_major": 2,
       "version_minor": 0
      },
      "text/plain": [
       "HBox(children=(IntProgress(value=0, max=300), HTML(value='')))"
      ]
     },
     "metadata": {},
     "output_type": "display_data"
    },
    {
     "data": {
      "application/vnd.jupyter.widget-view+json": {
       "model_id": "",
       "version_major": 2,
       "version_minor": 0
      },
      "text/plain": [
       "HBox(children=(IntProgress(value=0, max=300), HTML(value='')))"
      ]
     },
     "metadata": {},
     "output_type": "display_data"
    },
    {
     "data": {
      "application/vnd.jupyter.widget-view+json": {
       "model_id": "",
       "version_major": 2,
       "version_minor": 0
      },
      "text/plain": [
       "HBox(children=(IntProgress(value=0, max=300), HTML(value='')))"
      ]
     },
     "metadata": {},
     "output_type": "display_data"
    },
    {
     "data": {
      "application/vnd.jupyter.widget-view+json": {
       "model_id": "",
       "version_major": 2,
       "version_minor": 0
      },
      "text/plain": [
       "HBox(children=(IntProgress(value=0, max=300), HTML(value='')))"
      ]
     },
     "metadata": {},
     "output_type": "display_data"
    },
    {
     "data": {
      "application/vnd.jupyter.widget-view+json": {
       "model_id": "",
       "version_major": 2,
       "version_minor": 0
      },
      "text/plain": [
       "HBox(children=(IntProgress(value=0, max=300), HTML(value='')))"
      ]
     },
     "metadata": {},
     "output_type": "display_data"
    },
    {
     "data": {
      "application/vnd.jupyter.widget-view+json": {
       "model_id": "",
       "version_major": 2,
       "version_minor": 0
      },
      "text/plain": [
       "HBox(children=(IntProgress(value=0, max=300), HTML(value='')))"
      ]
     },
     "metadata": {},
     "output_type": "display_data"
    },
    {
     "data": {
      "application/vnd.jupyter.widget-view+json": {
       "model_id": "",
       "version_major": 2,
       "version_minor": 0
      },
      "text/plain": [
       "HBox(children=(IntProgress(value=0, max=300), HTML(value='')))"
      ]
     },
     "metadata": {},
     "output_type": "display_data"
    },
    {
     "data": {
      "application/vnd.jupyter.widget-view+json": {
       "model_id": "",
       "version_major": 2,
       "version_minor": 0
      },
      "text/plain": [
       "HBox(children=(IntProgress(value=0, max=300), HTML(value='')))"
      ]
     },
     "metadata": {},
     "output_type": "display_data"
    },
    {
     "data": {
      "application/vnd.jupyter.widget-view+json": {
       "model_id": "",
       "version_major": 2,
       "version_minor": 0
      },
      "text/plain": [
       "HBox(children=(IntProgress(value=0, max=300), HTML(value='')))"
      ]
     },
     "metadata": {},
     "output_type": "display_data"
    },
    {
     "data": {
      "application/vnd.jupyter.widget-view+json": {
       "model_id": "",
       "version_major": 2,
       "version_minor": 0
      },
      "text/plain": [
       "HBox(children=(IntProgress(value=0, max=300), HTML(value='')))"
      ]
     },
     "metadata": {},
     "output_type": "display_data"
    },
    {
     "data": {
      "application/vnd.jupyter.widget-view+json": {
       "model_id": "",
       "version_major": 2,
       "version_minor": 0
      },
      "text/plain": [
       "HBox(children=(IntProgress(value=0, max=300), HTML(value='')))"
      ]
     },
     "metadata": {},
     "output_type": "display_data"
    },
    {
     "data": {
      "application/vnd.jupyter.widget-view+json": {
       "model_id": "",
       "version_major": 2,
       "version_minor": 0
      },
      "text/plain": [
       "HBox(children=(IntProgress(value=0, max=300), HTML(value='')))"
      ]
     },
     "metadata": {},
     "output_type": "display_data"
    },
    {
     "data": {
      "application/vnd.jupyter.widget-view+json": {
       "model_id": "",
       "version_major": 2,
       "version_minor": 0
      },
      "text/plain": [
       "HBox(children=(IntProgress(value=0, max=300), HTML(value='')))"
      ]
     },
     "metadata": {},
     "output_type": "display_data"
    },
    {
     "data": {
      "application/vnd.jupyter.widget-view+json": {
       "model_id": "",
       "version_major": 2,
       "version_minor": 0
      },
      "text/plain": [
       "HBox(children=(IntProgress(value=0, max=300), HTML(value='')))"
      ]
     },
     "metadata": {},
     "output_type": "display_data"
    },
    {
     "data": {
      "application/vnd.jupyter.widget-view+json": {
       "model_id": "",
       "version_major": 2,
       "version_minor": 0
      },
      "text/plain": [
       "HBox(children=(IntProgress(value=0, max=300), HTML(value='')))"
      ]
     },
     "metadata": {},
     "output_type": "display_data"
    },
    {
     "data": {
      "application/vnd.jupyter.widget-view+json": {
       "model_id": "",
       "version_major": 2,
       "version_minor": 0
      },
      "text/plain": [
       "HBox(children=(IntProgress(value=0, max=300), HTML(value='')))"
      ]
     },
     "metadata": {},
     "output_type": "display_data"
    },
    {
     "data": {
      "application/vnd.jupyter.widget-view+json": {
       "model_id": "",
       "version_major": 2,
       "version_minor": 0
      },
      "text/plain": [
       "HBox(children=(IntProgress(value=0, max=300), HTML(value='')))"
      ]
     },
     "metadata": {},
     "output_type": "display_data"
    },
    {
     "data": {
      "application/vnd.jupyter.widget-view+json": {
       "model_id": "",
       "version_major": 2,
       "version_minor": 0
      },
      "text/plain": [
       "HBox(children=(IntProgress(value=0, max=300), HTML(value='')))"
      ]
     },
     "metadata": {},
     "output_type": "display_data"
    },
    {
     "data": {
      "application/vnd.jupyter.widget-view+json": {
       "model_id": "",
       "version_major": 2,
       "version_minor": 0
      },
      "text/plain": [
       "HBox(children=(IntProgress(value=0, max=300), HTML(value='')))"
      ]
     },
     "metadata": {},
     "output_type": "display_data"
    },
    {
     "data": {
      "application/vnd.jupyter.widget-view+json": {
       "model_id": "",
       "version_major": 2,
       "version_minor": 0
      },
      "text/plain": [
       "HBox(children=(IntProgress(value=0, max=300), HTML(value='')))"
      ]
     },
     "metadata": {},
     "output_type": "display_data"
    },
    {
     "data": {
      "application/vnd.jupyter.widget-view+json": {
       "model_id": "",
       "version_major": 2,
       "version_minor": 0
      },
      "text/plain": [
       "HBox(children=(IntProgress(value=0, max=300), HTML(value='')))"
      ]
     },
     "metadata": {},
     "output_type": "display_data"
    },
    {
     "data": {
      "application/vnd.jupyter.widget-view+json": {
       "model_id": "",
       "version_major": 2,
       "version_minor": 0
      },
      "text/plain": [
       "HBox(children=(IntProgress(value=0, max=300), HTML(value='')))"
      ]
     },
     "metadata": {},
     "output_type": "display_data"
    },
    {
     "data": {
      "application/vnd.jupyter.widget-view+json": {
       "model_id": "",
       "version_major": 2,
       "version_minor": 0
      },
      "text/plain": [
       "HBox(children=(IntProgress(value=0, max=300), HTML(value='')))"
      ]
     },
     "metadata": {},
     "output_type": "display_data"
    },
    {
     "data": {
      "application/vnd.jupyter.widget-view+json": {
       "model_id": "",
       "version_major": 2,
       "version_minor": 0
      },
      "text/plain": [
       "HBox(children=(IntProgress(value=0, max=300), HTML(value='')))"
      ]
     },
     "metadata": {},
     "output_type": "display_data"
    },
    {
     "data": {
      "application/vnd.jupyter.widget-view+json": {
       "model_id": "",
       "version_major": 2,
       "version_minor": 0
      },
      "text/plain": [
       "HBox(children=(IntProgress(value=0, max=300), HTML(value='')))"
      ]
     },
     "metadata": {},
     "output_type": "display_data"
    },
    {
     "data": {
      "application/vnd.jupyter.widget-view+json": {
       "model_id": "",
       "version_major": 2,
       "version_minor": 0
      },
      "text/plain": [
       "HBox(children=(IntProgress(value=0, max=300), HTML(value='')))"
      ]
     },
     "metadata": {},
     "output_type": "display_data"
    },
    {
     "data": {
      "application/vnd.jupyter.widget-view+json": {
       "model_id": "",
       "version_major": 2,
       "version_minor": 0
      },
      "text/plain": [
       "HBox(children=(IntProgress(value=0, max=300), HTML(value='')))"
      ]
     },
     "metadata": {},
     "output_type": "display_data"
    },
    {
     "data": {
      "application/vnd.jupyter.widget-view+json": {
       "model_id": "",
       "version_major": 2,
       "version_minor": 0
      },
      "text/plain": [
       "HBox(children=(IntProgress(value=0, max=300), HTML(value='')))"
      ]
     },
     "metadata": {},
     "output_type": "display_data"
    },
    {
     "data": {
      "application/vnd.jupyter.widget-view+json": {
       "model_id": "",
       "version_major": 2,
       "version_minor": 0
      },
      "text/plain": [
       "HBox(children=(IntProgress(value=0, max=300), HTML(value='')))"
      ]
     },
     "metadata": {},
     "output_type": "display_data"
    },
    {
     "data": {
      "application/vnd.jupyter.widget-view+json": {
       "model_id": "",
       "version_major": 2,
       "version_minor": 0
      },
      "text/plain": [
       "HBox(children=(IntProgress(value=0, max=300), HTML(value='')))"
      ]
     },
     "metadata": {},
     "output_type": "display_data"
    },
    {
     "data": {
      "application/vnd.jupyter.widget-view+json": {
       "model_id": "",
       "version_major": 2,
       "version_minor": 0
      },
      "text/plain": [
       "HBox(children=(IntProgress(value=0, max=300), HTML(value='')))"
      ]
     },
     "metadata": {},
     "output_type": "display_data"
    },
    {
     "data": {
      "application/vnd.jupyter.widget-view+json": {
       "model_id": "",
       "version_major": 2,
       "version_minor": 0
      },
      "text/plain": [
       "HBox(children=(IntProgress(value=0, max=300), HTML(value='')))"
      ]
     },
     "metadata": {},
     "output_type": "display_data"
    },
    {
     "data": {
      "application/vnd.jupyter.widget-view+json": {
       "model_id": "",
       "version_major": 2,
       "version_minor": 0
      },
      "text/plain": [
       "HBox(children=(IntProgress(value=0, max=300), HTML(value='')))"
      ]
     },
     "metadata": {},
     "output_type": "display_data"
    },
    {
     "data": {
      "application/vnd.jupyter.widget-view+json": {
       "model_id": "",
       "version_major": 2,
       "version_minor": 0
      },
      "text/plain": [
       "HBox(children=(IntProgress(value=0, max=300), HTML(value='')))"
      ]
     },
     "metadata": {},
     "output_type": "display_data"
    },
    {
     "data": {
      "application/vnd.jupyter.widget-view+json": {
       "model_id": "",
       "version_major": 2,
       "version_minor": 0
      },
      "text/plain": [
       "HBox(children=(IntProgress(value=0, max=300), HTML(value='')))"
      ]
     },
     "metadata": {},
     "output_type": "display_data"
    },
    {
     "data": {
      "application/vnd.jupyter.widget-view+json": {
       "model_id": "",
       "version_major": 2,
       "version_minor": 0
      },
      "text/plain": [
       "HBox(children=(IntProgress(value=0, max=300), HTML(value='')))"
      ]
     },
     "metadata": {},
     "output_type": "display_data"
    },
    {
     "data": {
      "application/vnd.jupyter.widget-view+json": {
       "model_id": "",
       "version_major": 2,
       "version_minor": 0
      },
      "text/plain": [
       "HBox(children=(IntProgress(value=0, max=300), HTML(value='')))"
      ]
     },
     "metadata": {},
     "output_type": "display_data"
    },
    {
     "data": {
      "application/vnd.jupyter.widget-view+json": {
       "model_id": "",
       "version_major": 2,
       "version_minor": 0
      },
      "text/plain": [
       "HBox(children=(IntProgress(value=0, max=300), HTML(value='')))"
      ]
     },
     "metadata": {},
     "output_type": "display_data"
    },
    {
     "data": {
      "application/vnd.jupyter.widget-view+json": {
       "model_id": "",
       "version_major": 2,
       "version_minor": 0
      },
      "text/plain": [
       "HBox(children=(IntProgress(value=0, max=300), HTML(value='')))"
      ]
     },
     "metadata": {},
     "output_type": "display_data"
    },
    {
     "data": {
      "application/vnd.jupyter.widget-view+json": {
       "model_id": "",
       "version_major": 2,
       "version_minor": 0
      },
      "text/plain": [
       "HBox(children=(IntProgress(value=0, max=300), HTML(value='')))"
      ]
     },
     "metadata": {},
     "output_type": "display_data"
    },
    {
     "data": {
      "application/vnd.jupyter.widget-view+json": {
       "model_id": "",
       "version_major": 2,
       "version_minor": 0
      },
      "text/plain": [
       "HBox(children=(IntProgress(value=0, max=300), HTML(value='')))"
      ]
     },
     "metadata": {},
     "output_type": "display_data"
    },
    {
     "data": {
      "application/vnd.jupyter.widget-view+json": {
       "model_id": "",
       "version_major": 2,
       "version_minor": 0
      },
      "text/plain": [
       "HBox(children=(IntProgress(value=0, max=300), HTML(value='')))"
      ]
     },
     "metadata": {},
     "output_type": "display_data"
    },
    {
     "data": {
      "application/vnd.jupyter.widget-view+json": {
       "model_id": "",
       "version_major": 2,
       "version_minor": 0
      },
      "text/plain": [
       "HBox(children=(IntProgress(value=0, max=300), HTML(value='')))"
      ]
     },
     "metadata": {},
     "output_type": "display_data"
    },
    {
     "data": {
      "application/vnd.jupyter.widget-view+json": {
       "model_id": "",
       "version_major": 2,
       "version_minor": 0
      },
      "text/plain": [
       "HBox(children=(IntProgress(value=0, max=300), HTML(value='')))"
      ]
     },
     "metadata": {},
     "output_type": "display_data"
    },
    {
     "data": {
      "application/vnd.jupyter.widget-view+json": {
       "model_id": "",
       "version_major": 2,
       "version_minor": 0
      },
      "text/plain": [
       "HBox(children=(IntProgress(value=0, max=300), HTML(value='')))"
      ]
     },
     "metadata": {},
     "output_type": "display_data"
    },
    {
     "data": {
      "application/vnd.jupyter.widget-view+json": {
       "model_id": "",
       "version_major": 2,
       "version_minor": 0
      },
      "text/plain": [
       "HBox(children=(IntProgress(value=0, max=300), HTML(value='')))"
      ]
     },
     "metadata": {},
     "output_type": "display_data"
    },
    {
     "data": {
      "application/vnd.jupyter.widget-view+json": {
       "model_id": "",
       "version_major": 2,
       "version_minor": 0
      },
      "text/plain": [
       "HBox(children=(IntProgress(value=0, max=300), HTML(value='')))"
      ]
     },
     "metadata": {},
     "output_type": "display_data"
    },
    {
     "data": {
      "application/vnd.jupyter.widget-view+json": {
       "model_id": "",
       "version_major": 2,
       "version_minor": 0
      },
      "text/plain": [
       "HBox(children=(IntProgress(value=0, max=300), HTML(value='')))"
      ]
     },
     "metadata": {},
     "output_type": "display_data"
    },
    {
     "data": {
      "application/vnd.jupyter.widget-view+json": {
       "model_id": "",
       "version_major": 2,
       "version_minor": 0
      },
      "text/plain": [
       "HBox(children=(IntProgress(value=0, max=300), HTML(value='')))"
      ]
     },
     "metadata": {},
     "output_type": "display_data"
    },
    {
     "data": {
      "application/vnd.jupyter.widget-view+json": {
       "model_id": "",
       "version_major": 2,
       "version_minor": 0
      },
      "text/plain": [
       "HBox(children=(IntProgress(value=0, max=300), HTML(value='')))"
      ]
     },
     "metadata": {},
     "output_type": "display_data"
    },
    {
     "data": {
      "application/vnd.jupyter.widget-view+json": {
       "model_id": "",
       "version_major": 2,
       "version_minor": 0
      },
      "text/plain": [
       "HBox(children=(IntProgress(value=0, max=300), HTML(value='')))"
      ]
     },
     "metadata": {},
     "output_type": "display_data"
    },
    {
     "data": {
      "application/vnd.jupyter.widget-view+json": {
       "model_id": "",
       "version_major": 2,
       "version_minor": 0
      },
      "text/plain": [
       "HBox(children=(IntProgress(value=0, max=300), HTML(value='')))"
      ]
     },
     "metadata": {},
     "output_type": "display_data"
    },
    {
     "data": {
      "application/vnd.jupyter.widget-view+json": {
       "model_id": "",
       "version_major": 2,
       "version_minor": 0
      },
      "text/plain": [
       "HBox(children=(IntProgress(value=0, max=300), HTML(value='')))"
      ]
     },
     "metadata": {},
     "output_type": "display_data"
    },
    {
     "data": {
      "application/vnd.jupyter.widget-view+json": {
       "model_id": "",
       "version_major": 2,
       "version_minor": 0
      },
      "text/plain": [
       "HBox(children=(IntProgress(value=0, max=300), HTML(value='')))"
      ]
     },
     "metadata": {},
     "output_type": "display_data"
    },
    {
     "data": {
      "application/vnd.jupyter.widget-view+json": {
       "model_id": "",
       "version_major": 2,
       "version_minor": 0
      },
      "text/plain": [
       "HBox(children=(IntProgress(value=0, max=300), HTML(value='')))"
      ]
     },
     "metadata": {},
     "output_type": "display_data"
    },
    {
     "data": {
      "application/vnd.jupyter.widget-view+json": {
       "model_id": "",
       "version_major": 2,
       "version_minor": 0
      },
      "text/plain": [
       "HBox(children=(IntProgress(value=0, max=300), HTML(value='')))"
      ]
     },
     "metadata": {},
     "output_type": "display_data"
    },
    {
     "data": {
      "application/vnd.jupyter.widget-view+json": {
       "model_id": "",
       "version_major": 2,
       "version_minor": 0
      },
      "text/plain": [
       "HBox(children=(IntProgress(value=0, max=300), HTML(value='')))"
      ]
     },
     "metadata": {},
     "output_type": "display_data"
    },
    {
     "data": {
      "application/vnd.jupyter.widget-view+json": {
       "model_id": "",
       "version_major": 2,
       "version_minor": 0
      },
      "text/plain": [
       "HBox(children=(IntProgress(value=0, max=300), HTML(value='')))"
      ]
     },
     "metadata": {},
     "output_type": "display_data"
    },
    {
     "data": {
      "application/vnd.jupyter.widget-view+json": {
       "model_id": "",
       "version_major": 2,
       "version_minor": 0
      },
      "text/plain": [
       "HBox(children=(IntProgress(value=0, max=300), HTML(value='')))"
      ]
     },
     "metadata": {},
     "output_type": "display_data"
    },
    {
     "data": {
      "application/vnd.jupyter.widget-view+json": {
       "model_id": "",
       "version_major": 2,
       "version_minor": 0
      },
      "text/plain": [
       "HBox(children=(IntProgress(value=0, max=300), HTML(value='')))"
      ]
     },
     "metadata": {},
     "output_type": "display_data"
    },
    {
     "data": {
      "application/vnd.jupyter.widget-view+json": {
       "model_id": "",
       "version_major": 2,
       "version_minor": 0
      },
      "text/plain": [
       "HBox(children=(IntProgress(value=0, max=300), HTML(value='')))"
      ]
     },
     "metadata": {},
     "output_type": "display_data"
    },
    {
     "data": {
      "application/vnd.jupyter.widget-view+json": {
       "model_id": "",
       "version_major": 2,
       "version_minor": 0
      },
      "text/plain": [
       "HBox(children=(IntProgress(value=0, max=300), HTML(value='')))"
      ]
     },
     "metadata": {},
     "output_type": "display_data"
    },
    {
     "data": {
      "application/vnd.jupyter.widget-view+json": {
       "model_id": "",
       "version_major": 2,
       "version_minor": 0
      },
      "text/plain": [
       "HBox(children=(IntProgress(value=0, max=300), HTML(value='')))"
      ]
     },
     "metadata": {},
     "output_type": "display_data"
    },
    {
     "data": {
      "application/vnd.jupyter.widget-view+json": {
       "model_id": "",
       "version_major": 2,
       "version_minor": 0
      },
      "text/plain": [
       "HBox(children=(IntProgress(value=0, max=300), HTML(value='')))"
      ]
     },
     "metadata": {},
     "output_type": "display_data"
    },
    {
     "data": {
      "application/vnd.jupyter.widget-view+json": {
       "model_id": "",
       "version_major": 2,
       "version_minor": 0
      },
      "text/plain": [
       "HBox(children=(IntProgress(value=0, max=300), HTML(value='')))"
      ]
     },
     "metadata": {},
     "output_type": "display_data"
    },
    {
     "data": {
      "application/vnd.jupyter.widget-view+json": {
       "model_id": "",
       "version_major": 2,
       "version_minor": 0
      },
      "text/plain": [
       "HBox(children=(IntProgress(value=0, max=300), HTML(value='')))"
      ]
     },
     "metadata": {},
     "output_type": "display_data"
    },
    {
     "data": {
      "application/vnd.jupyter.widget-view+json": {
       "model_id": "",
       "version_major": 2,
       "version_minor": 0
      },
      "text/plain": [
       "HBox(children=(IntProgress(value=0, max=300), HTML(value='')))"
      ]
     },
     "metadata": {},
     "output_type": "display_data"
    },
    {
     "data": {
      "application/vnd.jupyter.widget-view+json": {
       "model_id": "",
       "version_major": 2,
       "version_minor": 0
      },
      "text/plain": [
       "HBox(children=(IntProgress(value=0, max=300), HTML(value='')))"
      ]
     },
     "metadata": {},
     "output_type": "display_data"
    },
    {
     "data": {
      "application/vnd.jupyter.widget-view+json": {
       "model_id": "",
       "version_major": 2,
       "version_minor": 0
      },
      "text/plain": [
       "HBox(children=(IntProgress(value=0, max=300), HTML(value='')))"
      ]
     },
     "metadata": {},
     "output_type": "display_data"
    },
    {
     "data": {
      "application/vnd.jupyter.widget-view+json": {
       "model_id": "",
       "version_major": 2,
       "version_minor": 0
      },
      "text/plain": [
       "HBox(children=(IntProgress(value=0, max=300), HTML(value='')))"
      ]
     },
     "metadata": {},
     "output_type": "display_data"
    },
    {
     "data": {
      "application/vnd.jupyter.widget-view+json": {
       "model_id": "",
       "version_major": 2,
       "version_minor": 0
      },
      "text/plain": [
       "HBox(children=(IntProgress(value=0, max=300), HTML(value='')))"
      ]
     },
     "metadata": {},
     "output_type": "display_data"
    },
    {
     "data": {
      "application/vnd.jupyter.widget-view+json": {
       "model_id": "",
       "version_major": 2,
       "version_minor": 0
      },
      "text/plain": [
       "HBox(children=(IntProgress(value=0, max=300), HTML(value='')))"
      ]
     },
     "metadata": {},
     "output_type": "display_data"
    },
    {
     "data": {
      "application/vnd.jupyter.widget-view+json": {
       "model_id": "",
       "version_major": 2,
       "version_minor": 0
      },
      "text/plain": [
       "HBox(children=(IntProgress(value=0, max=300), HTML(value='')))"
      ]
     },
     "metadata": {},
     "output_type": "display_data"
    },
    {
     "data": {
      "application/vnd.jupyter.widget-view+json": {
       "model_id": "",
       "version_major": 2,
       "version_minor": 0
      },
      "text/plain": [
       "HBox(children=(IntProgress(value=0, max=300), HTML(value='')))"
      ]
     },
     "metadata": {},
     "output_type": "display_data"
    },
    {
     "data": {
      "application/vnd.jupyter.widget-view+json": {
       "model_id": "",
       "version_major": 2,
       "version_minor": 0
      },
      "text/plain": [
       "HBox(children=(IntProgress(value=0, max=300), HTML(value='')))"
      ]
     },
     "metadata": {},
     "output_type": "display_data"
    },
    {
     "data": {
      "application/vnd.jupyter.widget-view+json": {
       "model_id": "",
       "version_major": 2,
       "version_minor": 0
      },
      "text/plain": [
       "HBox(children=(IntProgress(value=0, max=300), HTML(value='')))"
      ]
     },
     "metadata": {},
     "output_type": "display_data"
    },
    {
     "data": {
      "application/vnd.jupyter.widget-view+json": {
       "model_id": "",
       "version_major": 2,
       "version_minor": 0
      },
      "text/plain": [
       "HBox(children=(IntProgress(value=0, max=300), HTML(value='')))"
      ]
     },
     "metadata": {},
     "output_type": "display_data"
    },
    {
     "data": {
      "application/vnd.jupyter.widget-view+json": {
       "model_id": "",
       "version_major": 2,
       "version_minor": 0
      },
      "text/plain": [
       "HBox(children=(IntProgress(value=0, max=300), HTML(value='')))"
      ]
     },
     "metadata": {},
     "output_type": "display_data"
    },
    {
     "data": {
      "application/vnd.jupyter.widget-view+json": {
       "model_id": "",
       "version_major": 2,
       "version_minor": 0
      },
      "text/plain": [
       "HBox(children=(IntProgress(value=0, max=300), HTML(value='')))"
      ]
     },
     "metadata": {},
     "output_type": "display_data"
    },
    {
     "data": {
      "application/vnd.jupyter.widget-view+json": {
       "model_id": "",
       "version_major": 2,
       "version_minor": 0
      },
      "text/plain": [
       "HBox(children=(IntProgress(value=0, max=300), HTML(value='')))"
      ]
     },
     "metadata": {},
     "output_type": "display_data"
    },
    {
     "data": {
      "application/vnd.jupyter.widget-view+json": {
       "model_id": "",
       "version_major": 2,
       "version_minor": 0
      },
      "text/plain": [
       "HBox(children=(IntProgress(value=0, max=300), HTML(value='')))"
      ]
     },
     "metadata": {},
     "output_type": "display_data"
    },
    {
     "data": {
      "application/vnd.jupyter.widget-view+json": {
       "model_id": "",
       "version_major": 2,
       "version_minor": 0
      },
      "text/plain": [
       "HBox(children=(IntProgress(value=0, max=300), HTML(value='')))"
      ]
     },
     "metadata": {},
     "output_type": "display_data"
    },
    {
     "data": {
      "application/vnd.jupyter.widget-view+json": {
       "model_id": "",
       "version_major": 2,
       "version_minor": 0
      },
      "text/plain": [
       "HBox(children=(IntProgress(value=0, max=300), HTML(value='')))"
      ]
     },
     "metadata": {},
     "output_type": "display_data"
    },
    {
     "data": {
      "application/vnd.jupyter.widget-view+json": {
       "model_id": "",
       "version_major": 2,
       "version_minor": 0
      },
      "text/plain": [
       "HBox(children=(IntProgress(value=0, max=300), HTML(value='')))"
      ]
     },
     "metadata": {},
     "output_type": "display_data"
    },
    {
     "data": {
      "application/vnd.jupyter.widget-view+json": {
       "model_id": "",
       "version_major": 2,
       "version_minor": 0
      },
      "text/plain": [
       "HBox(children=(IntProgress(value=0, max=300), HTML(value='')))"
      ]
     },
     "metadata": {},
     "output_type": "display_data"
    },
    {
     "data": {
      "application/vnd.jupyter.widget-view+json": {
       "model_id": "",
       "version_major": 2,
       "version_minor": 0
      },
      "text/plain": [
       "HBox(children=(IntProgress(value=0, max=300), HTML(value='')))"
      ]
     },
     "metadata": {},
     "output_type": "display_data"
    },
    {
     "data": {
      "application/vnd.jupyter.widget-view+json": {
       "model_id": "",
       "version_major": 2,
       "version_minor": 0
      },
      "text/plain": [
       "HBox(children=(IntProgress(value=0, max=300), HTML(value='')))"
      ]
     },
     "metadata": {},
     "output_type": "display_data"
    },
    {
     "data": {
      "application/vnd.jupyter.widget-view+json": {
       "model_id": "",
       "version_major": 2,
       "version_minor": 0
      },
      "text/plain": [
       "HBox(children=(IntProgress(value=0, max=300), HTML(value='')))"
      ]
     },
     "metadata": {},
     "output_type": "display_data"
    },
    {
     "data": {
      "application/vnd.jupyter.widget-view+json": {
       "model_id": "",
       "version_major": 2,
       "version_minor": 0
      },
      "text/plain": [
       "HBox(children=(IntProgress(value=0, max=300), HTML(value='')))"
      ]
     },
     "metadata": {},
     "output_type": "display_data"
    },
    {
     "data": {
      "application/vnd.jupyter.widget-view+json": {
       "model_id": "",
       "version_major": 2,
       "version_minor": 0
      },
      "text/plain": [
       "HBox(children=(IntProgress(value=0, max=300), HTML(value='')))"
      ]
     },
     "metadata": {},
     "output_type": "display_data"
    },
    {
     "data": {
      "application/vnd.jupyter.widget-view+json": {
       "model_id": "",
       "version_major": 2,
       "version_minor": 0
      },
      "text/plain": [
       "HBox(children=(IntProgress(value=0, max=300), HTML(value='')))"
      ]
     },
     "metadata": {},
     "output_type": "display_data"
    },
    {
     "data": {
      "application/vnd.jupyter.widget-view+json": {
       "model_id": "",
       "version_major": 2,
       "version_minor": 0
      },
      "text/plain": [
       "HBox(children=(IntProgress(value=0, max=300), HTML(value='')))"
      ]
     },
     "metadata": {},
     "output_type": "display_data"
    },
    {
     "data": {
      "application/vnd.jupyter.widget-view+json": {
       "model_id": "",
       "version_major": 2,
       "version_minor": 0
      },
      "text/plain": [
       "HBox(children=(IntProgress(value=0, max=300), HTML(value='')))"
      ]
     },
     "metadata": {},
     "output_type": "display_data"
    },
    {
     "data": {
      "application/vnd.jupyter.widget-view+json": {
       "model_id": "",
       "version_major": 2,
       "version_minor": 0
      },
      "text/plain": [
       "HBox(children=(IntProgress(value=0, max=300), HTML(value='')))"
      ]
     },
     "metadata": {},
     "output_type": "display_data"
    },
    {
     "data": {
      "application/vnd.jupyter.widget-view+json": {
       "model_id": "",
       "version_major": 2,
       "version_minor": 0
      },
      "text/plain": [
       "HBox(children=(IntProgress(value=0, max=300), HTML(value='')))"
      ]
     },
     "metadata": {},
     "output_type": "display_data"
    },
    {
     "data": {
      "application/vnd.jupyter.widget-view+json": {
       "model_id": "",
       "version_major": 2,
       "version_minor": 0
      },
      "text/plain": [
       "HBox(children=(IntProgress(value=0, max=300), HTML(value='')))"
      ]
     },
     "metadata": {},
     "output_type": "display_data"
    },
    {
     "data": {
      "application/vnd.jupyter.widget-view+json": {
       "model_id": "",
       "version_major": 2,
       "version_minor": 0
      },
      "text/plain": [
       "HBox(children=(IntProgress(value=0, max=300), HTML(value='')))"
      ]
     },
     "metadata": {},
     "output_type": "display_data"
    },
    {
     "data": {
      "application/vnd.jupyter.widget-view+json": {
       "model_id": "",
       "version_major": 2,
       "version_minor": 0
      },
      "text/plain": [
       "HBox(children=(IntProgress(value=0, max=300), HTML(value='')))"
      ]
     },
     "metadata": {},
     "output_type": "display_data"
    },
    {
     "data": {
      "application/vnd.jupyter.widget-view+json": {
       "model_id": "",
       "version_major": 2,
       "version_minor": 0
      },
      "text/plain": [
       "HBox(children=(IntProgress(value=0, max=300), HTML(value='')))"
      ]
     },
     "metadata": {},
     "output_type": "display_data"
    },
    {
     "data": {
      "application/vnd.jupyter.widget-view+json": {
       "model_id": "",
       "version_major": 2,
       "version_minor": 0
      },
      "text/plain": [
       "HBox(children=(IntProgress(value=0, max=300), HTML(value='')))"
      ]
     },
     "metadata": {},
     "output_type": "display_data"
    },
    {
     "data": {
      "application/vnd.jupyter.widget-view+json": {
       "model_id": "",
       "version_major": 2,
       "version_minor": 0
      },
      "text/plain": [
       "HBox(children=(IntProgress(value=0, max=300), HTML(value='')))"
      ]
     },
     "metadata": {},
     "output_type": "display_data"
    },
    {
     "data": {
      "application/vnd.jupyter.widget-view+json": {
       "model_id": "",
       "version_major": 2,
       "version_minor": 0
      },
      "text/plain": [
       "HBox(children=(IntProgress(value=0, max=300), HTML(value='')))"
      ]
     },
     "metadata": {},
     "output_type": "display_data"
    },
    {
     "data": {
      "application/vnd.jupyter.widget-view+json": {
       "model_id": "",
       "version_major": 2,
       "version_minor": 0
      },
      "text/plain": [
       "HBox(children=(IntProgress(value=0, max=300), HTML(value='')))"
      ]
     },
     "metadata": {},
     "output_type": "display_data"
    },
    {
     "data": {
      "application/vnd.jupyter.widget-view+json": {
       "model_id": "",
       "version_major": 2,
       "version_minor": 0
      },
      "text/plain": [
       "HBox(children=(IntProgress(value=0, max=300), HTML(value='')))"
      ]
     },
     "metadata": {},
     "output_type": "display_data"
    },
    {
     "data": {
      "application/vnd.jupyter.widget-view+json": {
       "model_id": "",
       "version_major": 2,
       "version_minor": 0
      },
      "text/plain": [
       "HBox(children=(IntProgress(value=0, max=300), HTML(value='')))"
      ]
     },
     "metadata": {},
     "output_type": "display_data"
    },
    {
     "data": {
      "application/vnd.jupyter.widget-view+json": {
       "model_id": "",
       "version_major": 2,
       "version_minor": 0
      },
      "text/plain": [
       "HBox(children=(IntProgress(value=0, max=300), HTML(value='')))"
      ]
     },
     "metadata": {},
     "output_type": "display_data"
    },
    {
     "data": {
      "application/vnd.jupyter.widget-view+json": {
       "model_id": "",
       "version_major": 2,
       "version_minor": 0
      },
      "text/plain": [
       "HBox(children=(IntProgress(value=0, max=300), HTML(value='')))"
      ]
     },
     "metadata": {},
     "output_type": "display_data"
    },
    {
     "data": {
      "application/vnd.jupyter.widget-view+json": {
       "model_id": "",
       "version_major": 2,
       "version_minor": 0
      },
      "text/plain": [
       "HBox(children=(IntProgress(value=0, max=300), HTML(value='')))"
      ]
     },
     "metadata": {},
     "output_type": "display_data"
    },
    {
     "data": {
      "application/vnd.jupyter.widget-view+json": {
       "model_id": "",
       "version_major": 2,
       "version_minor": 0
      },
      "text/plain": [
       "HBox(children=(IntProgress(value=0, max=300), HTML(value='')))"
      ]
     },
     "metadata": {},
     "output_type": "display_data"
    },
    {
     "data": {
      "application/vnd.jupyter.widget-view+json": {
       "model_id": "",
       "version_major": 2,
       "version_minor": 0
      },
      "text/plain": [
       "HBox(children=(IntProgress(value=0, max=300), HTML(value='')))"
      ]
     },
     "metadata": {},
     "output_type": "display_data"
    },
    {
     "data": {
      "application/vnd.jupyter.widget-view+json": {
       "model_id": "",
       "version_major": 2,
       "version_minor": 0
      },
      "text/plain": [
       "HBox(children=(IntProgress(value=0, max=300), HTML(value='')))"
      ]
     },
     "metadata": {},
     "output_type": "display_data"
    },
    {
     "data": {
      "application/vnd.jupyter.widget-view+json": {
       "model_id": "",
       "version_major": 2,
       "version_minor": 0
      },
      "text/plain": [
       "HBox(children=(IntProgress(value=0, max=300), HTML(value='')))"
      ]
     },
     "metadata": {},
     "output_type": "display_data"
    },
    {
     "data": {
      "application/vnd.jupyter.widget-view+json": {
       "model_id": "",
       "version_major": 2,
       "version_minor": 0
      },
      "text/plain": [
       "HBox(children=(IntProgress(value=0, max=300), HTML(value='')))"
      ]
     },
     "metadata": {},
     "output_type": "display_data"
    },
    {
     "data": {
      "application/vnd.jupyter.widget-view+json": {
       "model_id": "",
       "version_major": 2,
       "version_minor": 0
      },
      "text/plain": [
       "HBox(children=(IntProgress(value=0, max=300), HTML(value='')))"
      ]
     },
     "metadata": {},
     "output_type": "display_data"
    },
    {
     "data": {
      "application/vnd.jupyter.widget-view+json": {
       "model_id": "",
       "version_major": 2,
       "version_minor": 0
      },
      "text/plain": [
       "HBox(children=(IntProgress(value=0, max=300), HTML(value='')))"
      ]
     },
     "metadata": {},
     "output_type": "display_data"
    },
    {
     "data": {
      "application/vnd.jupyter.widget-view+json": {
       "model_id": "",
       "version_major": 2,
       "version_minor": 0
      },
      "text/plain": [
       "HBox(children=(IntProgress(value=0, max=300), HTML(value='')))"
      ]
     },
     "metadata": {},
     "output_type": "display_data"
    },
    {
     "data": {
      "application/vnd.jupyter.widget-view+json": {
       "model_id": "",
       "version_major": 2,
       "version_minor": 0
      },
      "text/plain": [
       "HBox(children=(IntProgress(value=0, max=300), HTML(value='')))"
      ]
     },
     "metadata": {},
     "output_type": "display_data"
    },
    {
     "data": {
      "application/vnd.jupyter.widget-view+json": {
       "model_id": "",
       "version_major": 2,
       "version_minor": 0
      },
      "text/plain": [
       "HBox(children=(IntProgress(value=0, max=300), HTML(value='')))"
      ]
     },
     "metadata": {},
     "output_type": "display_data"
    },
    {
     "data": {
      "application/vnd.jupyter.widget-view+json": {
       "model_id": "",
       "version_major": 2,
       "version_minor": 0
      },
      "text/plain": [
       "HBox(children=(IntProgress(value=0, max=300), HTML(value='')))"
      ]
     },
     "metadata": {},
     "output_type": "display_data"
    },
    {
     "data": {
      "application/vnd.jupyter.widget-view+json": {
       "model_id": "",
       "version_major": 2,
       "version_minor": 0
      },
      "text/plain": [
       "HBox(children=(IntProgress(value=0, max=300), HTML(value='')))"
      ]
     },
     "metadata": {},
     "output_type": "display_data"
    },
    {
     "data": {
      "application/vnd.jupyter.widget-view+json": {
       "model_id": "",
       "version_major": 2,
       "version_minor": 0
      },
      "text/plain": [
       "HBox(children=(IntProgress(value=0, max=300), HTML(value='')))"
      ]
     },
     "metadata": {},
     "output_type": "display_data"
    },
    {
     "data": {
      "application/vnd.jupyter.widget-view+json": {
       "model_id": "",
       "version_major": 2,
       "version_minor": 0
      },
      "text/plain": [
       "HBox(children=(IntProgress(value=0, max=300), HTML(value='')))"
      ]
     },
     "metadata": {},
     "output_type": "display_data"
    },
    {
     "data": {
      "application/vnd.jupyter.widget-view+json": {
       "model_id": "",
       "version_major": 2,
       "version_minor": 0
      },
      "text/plain": [
       "HBox(children=(IntProgress(value=0, max=300), HTML(value='')))"
      ]
     },
     "metadata": {},
     "output_type": "display_data"
    },
    {
     "data": {
      "application/vnd.jupyter.widget-view+json": {
       "model_id": "",
       "version_major": 2,
       "version_minor": 0
      },
      "text/plain": [
       "HBox(children=(IntProgress(value=0, max=300), HTML(value='')))"
      ]
     },
     "metadata": {},
     "output_type": "display_data"
    },
    {
     "data": {
      "application/vnd.jupyter.widget-view+json": {
       "model_id": "",
       "version_major": 2,
       "version_minor": 0
      },
      "text/plain": [
       "HBox(children=(IntProgress(value=0, max=300), HTML(value='')))"
      ]
     },
     "metadata": {},
     "output_type": "display_data"
    },
    {
     "data": {
      "application/vnd.jupyter.widget-view+json": {
       "model_id": "",
       "version_major": 2,
       "version_minor": 0
      },
      "text/plain": [
       "HBox(children=(IntProgress(value=0, max=300), HTML(value='')))"
      ]
     },
     "metadata": {},
     "output_type": "display_data"
    },
    {
     "data": {
      "application/vnd.jupyter.widget-view+json": {
       "model_id": "",
       "version_major": 2,
       "version_minor": 0
      },
      "text/plain": [
       "HBox(children=(IntProgress(value=0, max=300), HTML(value='')))"
      ]
     },
     "metadata": {},
     "output_type": "display_data"
    },
    {
     "data": {
      "application/vnd.jupyter.widget-view+json": {
       "model_id": "",
       "version_major": 2,
       "version_minor": 0
      },
      "text/plain": [
       "HBox(children=(IntProgress(value=0, max=300), HTML(value='')))"
      ]
     },
     "metadata": {},
     "output_type": "display_data"
    },
    {
     "data": {
      "application/vnd.jupyter.widget-view+json": {
       "model_id": "",
       "version_major": 2,
       "version_minor": 0
      },
      "text/plain": [
       "HBox(children=(IntProgress(value=0, max=300), HTML(value='')))"
      ]
     },
     "metadata": {},
     "output_type": "display_data"
    },
    {
     "data": {
      "application/vnd.jupyter.widget-view+json": {
       "model_id": "",
       "version_major": 2,
       "version_minor": 0
      },
      "text/plain": [
       "HBox(children=(IntProgress(value=0, max=300), HTML(value='')))"
      ]
     },
     "metadata": {},
     "output_type": "display_data"
    },
    {
     "data": {
      "application/vnd.jupyter.widget-view+json": {
       "model_id": "",
       "version_major": 2,
       "version_minor": 0
      },
      "text/plain": [
       "HBox(children=(IntProgress(value=0, max=300), HTML(value='')))"
      ]
     },
     "metadata": {},
     "output_type": "display_data"
    },
    {
     "data": {
      "application/vnd.jupyter.widget-view+json": {
       "model_id": "",
       "version_major": 2,
       "version_minor": 0
      },
      "text/plain": [
       "HBox(children=(IntProgress(value=0, max=300), HTML(value='')))"
      ]
     },
     "metadata": {},
     "output_type": "display_data"
    },
    {
     "data": {
      "application/vnd.jupyter.widget-view+json": {
       "model_id": "",
       "version_major": 2,
       "version_minor": 0
      },
      "text/plain": [
       "HBox(children=(IntProgress(value=0, max=300), HTML(value='')))"
      ]
     },
     "metadata": {},
     "output_type": "display_data"
    },
    {
     "data": {
      "application/vnd.jupyter.widget-view+json": {
       "model_id": "",
       "version_major": 2,
       "version_minor": 0
      },
      "text/plain": [
       "HBox(children=(IntProgress(value=0, max=300), HTML(value='')))"
      ]
     },
     "metadata": {},
     "output_type": "display_data"
    },
    {
     "data": {
      "application/vnd.jupyter.widget-view+json": {
       "model_id": "",
       "version_major": 2,
       "version_minor": 0
      },
      "text/plain": [
       "HBox(children=(IntProgress(value=0, max=300), HTML(value='')))"
      ]
     },
     "metadata": {},
     "output_type": "display_data"
    },
    {
     "data": {
      "application/vnd.jupyter.widget-view+json": {
       "model_id": "",
       "version_major": 2,
       "version_minor": 0
      },
      "text/plain": [
       "HBox(children=(IntProgress(value=0, max=300), HTML(value='')))"
      ]
     },
     "metadata": {},
     "output_type": "display_data"
    },
    {
     "data": {
      "application/vnd.jupyter.widget-view+json": {
       "model_id": "",
       "version_major": 2,
       "version_minor": 0
      },
      "text/plain": [
       "HBox(children=(IntProgress(value=0, max=300), HTML(value='')))"
      ]
     },
     "metadata": {},
     "output_type": "display_data"
    },
    {
     "data": {
      "application/vnd.jupyter.widget-view+json": {
       "model_id": "",
       "version_major": 2,
       "version_minor": 0
      },
      "text/plain": [
       "HBox(children=(IntProgress(value=0, max=300), HTML(value='')))"
      ]
     },
     "metadata": {},
     "output_type": "display_data"
    },
    {
     "data": {
      "application/vnd.jupyter.widget-view+json": {
       "model_id": "",
       "version_major": 2,
       "version_minor": 0
      },
      "text/plain": [
       "HBox(children=(IntProgress(value=0, max=300), HTML(value='')))"
      ]
     },
     "metadata": {},
     "output_type": "display_data"
    },
    {
     "data": {
      "application/vnd.jupyter.widget-view+json": {
       "model_id": "",
       "version_major": 2,
       "version_minor": 0
      },
      "text/plain": [
       "HBox(children=(IntProgress(value=0, max=300), HTML(value='')))"
      ]
     },
     "metadata": {},
     "output_type": "display_data"
    },
    {
     "data": {
      "application/vnd.jupyter.widget-view+json": {
       "model_id": "",
       "version_major": 2,
       "version_minor": 0
      },
      "text/plain": [
       "HBox(children=(IntProgress(value=0, max=300), HTML(value='')))"
      ]
     },
     "metadata": {},
     "output_type": "display_data"
    },
    {
     "data": {
      "application/vnd.jupyter.widget-view+json": {
       "model_id": "",
       "version_major": 2,
       "version_minor": 0
      },
      "text/plain": [
       "HBox(children=(IntProgress(value=0, max=300), HTML(value='')))"
      ]
     },
     "metadata": {},
     "output_type": "display_data"
    },
    {
     "data": {
      "application/vnd.jupyter.widget-view+json": {
       "model_id": "",
       "version_major": 2,
       "version_minor": 0
      },
      "text/plain": [
       "HBox(children=(IntProgress(value=0, max=300), HTML(value='')))"
      ]
     },
     "metadata": {},
     "output_type": "display_data"
    },
    {
     "data": {
      "application/vnd.jupyter.widget-view+json": {
       "model_id": "",
       "version_major": 2,
       "version_minor": 0
      },
      "text/plain": [
       "HBox(children=(IntProgress(value=0, max=300), HTML(value='')))"
      ]
     },
     "metadata": {},
     "output_type": "display_data"
    },
    {
     "data": {
      "application/vnd.jupyter.widget-view+json": {
       "model_id": "",
       "version_major": 2,
       "version_minor": 0
      },
      "text/plain": [
       "HBox(children=(IntProgress(value=0, max=300), HTML(value='')))"
      ]
     },
     "metadata": {},
     "output_type": "display_data"
    },
    {
     "data": {
      "application/vnd.jupyter.widget-view+json": {
       "model_id": "",
       "version_major": 2,
       "version_minor": 0
      },
      "text/plain": [
       "HBox(children=(IntProgress(value=0, max=300), HTML(value='')))"
      ]
     },
     "metadata": {},
     "output_type": "display_data"
    },
    {
     "data": {
      "application/vnd.jupyter.widget-view+json": {
       "model_id": "",
       "version_major": 2,
       "version_minor": 0
      },
      "text/plain": [
       "HBox(children=(IntProgress(value=0, max=300), HTML(value='')))"
      ]
     },
     "metadata": {},
     "output_type": "display_data"
    },
    {
     "data": {
      "application/vnd.jupyter.widget-view+json": {
       "model_id": "",
       "version_major": 2,
       "version_minor": 0
      },
      "text/plain": [
       "HBox(children=(IntProgress(value=0, max=300), HTML(value='')))"
      ]
     },
     "metadata": {},
     "output_type": "display_data"
    },
    {
     "data": {
      "application/vnd.jupyter.widget-view+json": {
       "model_id": "",
       "version_major": 2,
       "version_minor": 0
      },
      "text/plain": [
       "HBox(children=(IntProgress(value=0, max=300), HTML(value='')))"
      ]
     },
     "metadata": {},
     "output_type": "display_data"
    },
    {
     "data": {
      "application/vnd.jupyter.widget-view+json": {
       "model_id": "",
       "version_major": 2,
       "version_minor": 0
      },
      "text/plain": [
       "HBox(children=(IntProgress(value=0, max=300), HTML(value='')))"
      ]
     },
     "metadata": {},
     "output_type": "display_data"
    },
    {
     "data": {
      "application/vnd.jupyter.widget-view+json": {
       "model_id": "",
       "version_major": 2,
       "version_minor": 0
      },
      "text/plain": [
       "HBox(children=(IntProgress(value=0, max=300), HTML(value='')))"
      ]
     },
     "metadata": {},
     "output_type": "display_data"
    },
    {
     "data": {
      "application/vnd.jupyter.widget-view+json": {
       "model_id": "",
       "version_major": 2,
       "version_minor": 0
      },
      "text/plain": [
       "HBox(children=(IntProgress(value=0, max=300), HTML(value='')))"
      ]
     },
     "metadata": {},
     "output_type": "display_data"
    },
    {
     "data": {
      "application/vnd.jupyter.widget-view+json": {
       "model_id": "",
       "version_major": 2,
       "version_minor": 0
      },
      "text/plain": [
       "HBox(children=(IntProgress(value=0, max=300), HTML(value='')))"
      ]
     },
     "metadata": {},
     "output_type": "display_data"
    },
    {
     "data": {
      "application/vnd.jupyter.widget-view+json": {
       "model_id": "",
       "version_major": 2,
       "version_minor": 0
      },
      "text/plain": [
       "HBox(children=(IntProgress(value=0, max=300), HTML(value='')))"
      ]
     },
     "metadata": {},
     "output_type": "display_data"
    },
    {
     "data": {
      "application/vnd.jupyter.widget-view+json": {
       "model_id": "",
       "version_major": 2,
       "version_minor": 0
      },
      "text/plain": [
       "HBox(children=(IntProgress(value=0, max=300), HTML(value='')))"
      ]
     },
     "metadata": {},
     "output_type": "display_data"
    },
    {
     "data": {
      "application/vnd.jupyter.widget-view+json": {
       "model_id": "",
       "version_major": 2,
       "version_minor": 0
      },
      "text/plain": [
       "HBox(children=(IntProgress(value=0, max=300), HTML(value='')))"
      ]
     },
     "metadata": {},
     "output_type": "display_data"
    },
    {
     "data": {
      "application/vnd.jupyter.widget-view+json": {
       "model_id": "",
       "version_major": 2,
       "version_minor": 0
      },
      "text/plain": [
       "HBox(children=(IntProgress(value=0, max=300), HTML(value='')))"
      ]
     },
     "metadata": {},
     "output_type": "display_data"
    },
    {
     "data": {
      "application/vnd.jupyter.widget-view+json": {
       "model_id": "",
       "version_major": 2,
       "version_minor": 0
      },
      "text/plain": [
       "HBox(children=(IntProgress(value=0, max=300), HTML(value='')))"
      ]
     },
     "metadata": {},
     "output_type": "display_data"
    },
    {
     "data": {
      "application/vnd.jupyter.widget-view+json": {
       "model_id": "",
       "version_major": 2,
       "version_minor": 0
      },
      "text/plain": [
       "HBox(children=(IntProgress(value=0, max=300), HTML(value='')))"
      ]
     },
     "metadata": {},
     "output_type": "display_data"
    },
    {
     "data": {
      "application/vnd.jupyter.widget-view+json": {
       "model_id": "",
       "version_major": 2,
       "version_minor": 0
      },
      "text/plain": [
       "HBox(children=(IntProgress(value=0, max=300), HTML(value='')))"
      ]
     },
     "metadata": {},
     "output_type": "display_data"
    },
    {
     "data": {
      "application/vnd.jupyter.widget-view+json": {
       "model_id": "",
       "version_major": 2,
       "version_minor": 0
      },
      "text/plain": [
       "HBox(children=(IntProgress(value=0, max=300), HTML(value='')))"
      ]
     },
     "metadata": {},
     "output_type": "display_data"
    },
    {
     "data": {
      "application/vnd.jupyter.widget-view+json": {
       "model_id": "",
       "version_major": 2,
       "version_minor": 0
      },
      "text/plain": [
       "HBox(children=(IntProgress(value=0, max=300), HTML(value='')))"
      ]
     },
     "metadata": {},
     "output_type": "display_data"
    },
    {
     "data": {
      "application/vnd.jupyter.widget-view+json": {
       "model_id": "",
       "version_major": 2,
       "version_minor": 0
      },
      "text/plain": [
       "HBox(children=(IntProgress(value=0, max=300), HTML(value='')))"
      ]
     },
     "metadata": {},
     "output_type": "display_data"
    },
    {
     "data": {
      "application/vnd.jupyter.widget-view+json": {
       "model_id": "",
       "version_major": 2,
       "version_minor": 0
      },
      "text/plain": [
       "HBox(children=(IntProgress(value=0, max=300), HTML(value='')))"
      ]
     },
     "metadata": {},
     "output_type": "display_data"
    },
    {
     "data": {
      "application/vnd.jupyter.widget-view+json": {
       "model_id": "",
       "version_major": 2,
       "version_minor": 0
      },
      "text/plain": [
       "HBox(children=(IntProgress(value=0, max=300), HTML(value='')))"
      ]
     },
     "metadata": {},
     "output_type": "display_data"
    },
    {
     "data": {
      "application/vnd.jupyter.widget-view+json": {
       "model_id": "",
       "version_major": 2,
       "version_minor": 0
      },
      "text/plain": [
       "HBox(children=(IntProgress(value=0, max=300), HTML(value='')))"
      ]
     },
     "metadata": {},
     "output_type": "display_data"
    },
    {
     "data": {
      "application/vnd.jupyter.widget-view+json": {
       "model_id": "",
       "version_major": 2,
       "version_minor": 0
      },
      "text/plain": [
       "HBox(children=(IntProgress(value=0, max=300), HTML(value='')))"
      ]
     },
     "metadata": {},
     "output_type": "display_data"
    },
    {
     "data": {
      "application/vnd.jupyter.widget-view+json": {
       "model_id": "",
       "version_major": 2,
       "version_minor": 0
      },
      "text/plain": [
       "HBox(children=(IntProgress(value=0, max=300), HTML(value='')))"
      ]
     },
     "metadata": {},
     "output_type": "display_data"
    },
    {
     "data": {
      "application/vnd.jupyter.widget-view+json": {
       "model_id": "",
       "version_major": 2,
       "version_minor": 0
      },
      "text/plain": [
       "HBox(children=(IntProgress(value=0, max=300), HTML(value='')))"
      ]
     },
     "metadata": {},
     "output_type": "display_data"
    },
    {
     "data": {
      "application/vnd.jupyter.widget-view+json": {
       "model_id": "",
       "version_major": 2,
       "version_minor": 0
      },
      "text/plain": [
       "HBox(children=(IntProgress(value=0, max=300), HTML(value='')))"
      ]
     },
     "metadata": {},
     "output_type": "display_data"
    },
    {
     "data": {
      "application/vnd.jupyter.widget-view+json": {
       "model_id": "",
       "version_major": 2,
       "version_minor": 0
      },
      "text/plain": [
       "HBox(children=(IntProgress(value=0, max=300), HTML(value='')))"
      ]
     },
     "metadata": {},
     "output_type": "display_data"
    },
    {
     "data": {
      "application/vnd.jupyter.widget-view+json": {
       "model_id": "",
       "version_major": 2,
       "version_minor": 0
      },
      "text/plain": [
       "HBox(children=(IntProgress(value=0, max=300), HTML(value='')))"
      ]
     },
     "metadata": {},
     "output_type": "display_data"
    },
    {
     "data": {
      "application/vnd.jupyter.widget-view+json": {
       "model_id": "",
       "version_major": 2,
       "version_minor": 0
      },
      "text/plain": [
       "HBox(children=(IntProgress(value=0, max=300), HTML(value='')))"
      ]
     },
     "metadata": {},
     "output_type": "display_data"
    },
    {
     "data": {
      "application/vnd.jupyter.widget-view+json": {
       "model_id": "",
       "version_major": 2,
       "version_minor": 0
      },
      "text/plain": [
       "HBox(children=(IntProgress(value=0, max=300), HTML(value='')))"
      ]
     },
     "metadata": {},
     "output_type": "display_data"
    },
    {
     "data": {
      "application/vnd.jupyter.widget-view+json": {
       "model_id": "",
       "version_major": 2,
       "version_minor": 0
      },
      "text/plain": [
       "HBox(children=(IntProgress(value=0, max=300), HTML(value='')))"
      ]
     },
     "metadata": {},
     "output_type": "display_data"
    },
    {
     "data": {
      "application/vnd.jupyter.widget-view+json": {
       "model_id": "",
       "version_major": 2,
       "version_minor": 0
      },
      "text/plain": [
       "HBox(children=(IntProgress(value=0, max=300), HTML(value='')))"
      ]
     },
     "metadata": {},
     "output_type": "display_data"
    },
    {
     "data": {
      "application/vnd.jupyter.widget-view+json": {
       "model_id": "",
       "version_major": 2,
       "version_minor": 0
      },
      "text/plain": [
       "HBox(children=(IntProgress(value=0, max=300), HTML(value='')))"
      ]
     },
     "metadata": {},
     "output_type": "display_data"
    },
    {
     "data": {
      "application/vnd.jupyter.widget-view+json": {
       "model_id": "",
       "version_major": 2,
       "version_minor": 0
      },
      "text/plain": [
       "HBox(children=(IntProgress(value=0, max=300), HTML(value='')))"
      ]
     },
     "metadata": {},
     "output_type": "display_data"
    },
    {
     "data": {
      "application/vnd.jupyter.widget-view+json": {
       "model_id": "",
       "version_major": 2,
       "version_minor": 0
      },
      "text/plain": [
       "HBox(children=(IntProgress(value=0, max=300), HTML(value='')))"
      ]
     },
     "metadata": {},
     "output_type": "display_data"
    },
    {
     "data": {
      "application/vnd.jupyter.widget-view+json": {
       "model_id": "",
       "version_major": 2,
       "version_minor": 0
      },
      "text/plain": [
       "HBox(children=(IntProgress(value=0, max=300), HTML(value='')))"
      ]
     },
     "metadata": {},
     "output_type": "display_data"
    },
    {
     "data": {
      "application/vnd.jupyter.widget-view+json": {
       "model_id": "",
       "version_major": 2,
       "version_minor": 0
      },
      "text/plain": [
       "HBox(children=(IntProgress(value=0, max=300), HTML(value='')))"
      ]
     },
     "metadata": {},
     "output_type": "display_data"
    },
    {
     "data": {
      "application/vnd.jupyter.widget-view+json": {
       "model_id": "",
       "version_major": 2,
       "version_minor": 0
      },
      "text/plain": [
       "HBox(children=(IntProgress(value=0, max=300), HTML(value='')))"
      ]
     },
     "metadata": {},
     "output_type": "display_data"
    },
    {
     "data": {
      "application/vnd.jupyter.widget-view+json": {
       "model_id": "",
       "version_major": 2,
       "version_minor": 0
      },
      "text/plain": [
       "HBox(children=(IntProgress(value=0, max=300), HTML(value='')))"
      ]
     },
     "metadata": {},
     "output_type": "display_data"
    },
    {
     "data": {
      "application/vnd.jupyter.widget-view+json": {
       "model_id": "",
       "version_major": 2,
       "version_minor": 0
      },
      "text/plain": [
       "HBox(children=(IntProgress(value=0, max=300), HTML(value='')))"
      ]
     },
     "metadata": {},
     "output_type": "display_data"
    },
    {
     "data": {
      "application/vnd.jupyter.widget-view+json": {
       "model_id": "",
       "version_major": 2,
       "version_minor": 0
      },
      "text/plain": [
       "HBox(children=(IntProgress(value=0, max=300), HTML(value='')))"
      ]
     },
     "metadata": {},
     "output_type": "display_data"
    },
    {
     "data": {
      "application/vnd.jupyter.widget-view+json": {
       "model_id": "",
       "version_major": 2,
       "version_minor": 0
      },
      "text/plain": [
       "HBox(children=(IntProgress(value=0, max=300), HTML(value='')))"
      ]
     },
     "metadata": {},
     "output_type": "display_data"
    },
    {
     "data": {
      "application/vnd.jupyter.widget-view+json": {
       "model_id": "",
       "version_major": 2,
       "version_minor": 0
      },
      "text/plain": [
       "HBox(children=(IntProgress(value=0, max=300), HTML(value='')))"
      ]
     },
     "metadata": {},
     "output_type": "display_data"
    },
    {
     "data": {
      "application/vnd.jupyter.widget-view+json": {
       "model_id": "",
       "version_major": 2,
       "version_minor": 0
      },
      "text/plain": [
       "HBox(children=(IntProgress(value=0, max=300), HTML(value='')))"
      ]
     },
     "metadata": {},
     "output_type": "display_data"
    },
    {
     "data": {
      "application/vnd.jupyter.widget-view+json": {
       "model_id": "",
       "version_major": 2,
       "version_minor": 0
      },
      "text/plain": [
       "HBox(children=(IntProgress(value=0, max=300), HTML(value='')))"
      ]
     },
     "metadata": {},
     "output_type": "display_data"
    },
    {
     "data": {
      "application/vnd.jupyter.widget-view+json": {
       "model_id": "",
       "version_major": 2,
       "version_minor": 0
      },
      "text/plain": [
       "HBox(children=(IntProgress(value=0, max=300), HTML(value='')))"
      ]
     },
     "metadata": {},
     "output_type": "display_data"
    },
    {
     "data": {
      "application/vnd.jupyter.widget-view+json": {
       "model_id": "",
       "version_major": 2,
       "version_minor": 0
      },
      "text/plain": [
       "HBox(children=(IntProgress(value=0, max=300), HTML(value='')))"
      ]
     },
     "metadata": {},
     "output_type": "display_data"
    },
    {
     "data": {
      "application/vnd.jupyter.widget-view+json": {
       "model_id": "",
       "version_major": 2,
       "version_minor": 0
      },
      "text/plain": [
       "HBox(children=(IntProgress(value=0, max=300), HTML(value='')))"
      ]
     },
     "metadata": {},
     "output_type": "display_data"
    },
    {
     "data": {
      "application/vnd.jupyter.widget-view+json": {
       "model_id": "",
       "version_major": 2,
       "version_minor": 0
      },
      "text/plain": [
       "HBox(children=(IntProgress(value=0, max=300), HTML(value='')))"
      ]
     },
     "metadata": {},
     "output_type": "display_data"
    },
    {
     "data": {
      "application/vnd.jupyter.widget-view+json": {
       "model_id": "",
       "version_major": 2,
       "version_minor": 0
      },
      "text/plain": [
       "HBox(children=(IntProgress(value=0, max=300), HTML(value='')))"
      ]
     },
     "metadata": {},
     "output_type": "display_data"
    },
    {
     "data": {
      "application/vnd.jupyter.widget-view+json": {
       "model_id": "",
       "version_major": 2,
       "version_minor": 0
      },
      "text/plain": [
       "HBox(children=(IntProgress(value=0, max=300), HTML(value='')))"
      ]
     },
     "metadata": {},
     "output_type": "display_data"
    },
    {
     "data": {
      "application/vnd.jupyter.widget-view+json": {
       "model_id": "",
       "version_major": 2,
       "version_minor": 0
      },
      "text/plain": [
       "HBox(children=(IntProgress(value=0, max=300), HTML(value='')))"
      ]
     },
     "metadata": {},
     "output_type": "display_data"
    },
    {
     "data": {
      "application/vnd.jupyter.widget-view+json": {
       "model_id": "",
       "version_major": 2,
       "version_minor": 0
      },
      "text/plain": [
       "HBox(children=(IntProgress(value=0, max=300), HTML(value='')))"
      ]
     },
     "metadata": {},
     "output_type": "display_data"
    },
    {
     "data": {
      "application/vnd.jupyter.widget-view+json": {
       "model_id": "",
       "version_major": 2,
       "version_minor": 0
      },
      "text/plain": [
       "HBox(children=(IntProgress(value=0, max=300), HTML(value='')))"
      ]
     },
     "metadata": {},
     "output_type": "display_data"
    },
    {
     "data": {
      "application/vnd.jupyter.widget-view+json": {
       "model_id": "",
       "version_major": 2,
       "version_minor": 0
      },
      "text/plain": [
       "HBox(children=(IntProgress(value=0, max=300), HTML(value='')))"
      ]
     },
     "metadata": {},
     "output_type": "display_data"
    },
    {
     "data": {
      "application/vnd.jupyter.widget-view+json": {
       "model_id": "",
       "version_major": 2,
       "version_minor": 0
      },
      "text/plain": [
       "HBox(children=(IntProgress(value=0, max=300), HTML(value='')))"
      ]
     },
     "metadata": {},
     "output_type": "display_data"
    },
    {
     "data": {
      "application/vnd.jupyter.widget-view+json": {
       "model_id": "",
       "version_major": 2,
       "version_minor": 0
      },
      "text/plain": [
       "HBox(children=(IntProgress(value=0, max=300), HTML(value='')))"
      ]
     },
     "metadata": {},
     "output_type": "display_data"
    },
    {
     "data": {
      "application/vnd.jupyter.widget-view+json": {
       "model_id": "",
       "version_major": 2,
       "version_minor": 0
      },
      "text/plain": [
       "HBox(children=(IntProgress(value=0, max=300), HTML(value='')))"
      ]
     },
     "metadata": {},
     "output_type": "display_data"
    },
    {
     "data": {
      "application/vnd.jupyter.widget-view+json": {
       "model_id": "",
       "version_major": 2,
       "version_minor": 0
      },
      "text/plain": [
       "HBox(children=(IntProgress(value=0, max=300), HTML(value='')))"
      ]
     },
     "metadata": {},
     "output_type": "display_data"
    },
    {
     "data": {
      "application/vnd.jupyter.widget-view+json": {
       "model_id": "",
       "version_major": 2,
       "version_minor": 0
      },
      "text/plain": [
       "HBox(children=(IntProgress(value=0, max=300), HTML(value='')))"
      ]
     },
     "metadata": {},
     "output_type": "display_data"
    },
    {
     "data": {
      "application/vnd.jupyter.widget-view+json": {
       "model_id": "",
       "version_major": 2,
       "version_minor": 0
      },
      "text/plain": [
       "HBox(children=(IntProgress(value=0, max=300), HTML(value='')))"
      ]
     },
     "metadata": {},
     "output_type": "display_data"
    },
    {
     "data": {
      "application/vnd.jupyter.widget-view+json": {
       "model_id": "",
       "version_major": 2,
       "version_minor": 0
      },
      "text/plain": [
       "HBox(children=(IntProgress(value=0, max=300), HTML(value='')))"
      ]
     },
     "metadata": {},
     "output_type": "display_data"
    },
    {
     "data": {
      "application/vnd.jupyter.widget-view+json": {
       "model_id": "",
       "version_major": 2,
       "version_minor": 0
      },
      "text/plain": [
       "HBox(children=(IntProgress(value=0, max=300), HTML(value='')))"
      ]
     },
     "metadata": {},
     "output_type": "display_data"
    },
    {
     "data": {
      "application/vnd.jupyter.widget-view+json": {
       "model_id": "",
       "version_major": 2,
       "version_minor": 0
      },
      "text/plain": [
       "HBox(children=(IntProgress(value=0, max=300), HTML(value='')))"
      ]
     },
     "metadata": {},
     "output_type": "display_data"
    },
    {
     "data": {
      "application/vnd.jupyter.widget-view+json": {
       "model_id": "",
       "version_major": 2,
       "version_minor": 0
      },
      "text/plain": [
       "HBox(children=(IntProgress(value=0, max=300), HTML(value='')))"
      ]
     },
     "metadata": {},
     "output_type": "display_data"
    },
    {
     "data": {
      "application/vnd.jupyter.widget-view+json": {
       "model_id": "",
       "version_major": 2,
       "version_minor": 0
      },
      "text/plain": [
       "HBox(children=(IntProgress(value=0, max=300), HTML(value='')))"
      ]
     },
     "metadata": {},
     "output_type": "display_data"
    },
    {
     "data": {
      "application/vnd.jupyter.widget-view+json": {
       "model_id": "",
       "version_major": 2,
       "version_minor": 0
      },
      "text/plain": [
       "HBox(children=(IntProgress(value=0, max=300), HTML(value='')))"
      ]
     },
     "metadata": {},
     "output_type": "display_data"
    },
    {
     "data": {
      "application/vnd.jupyter.widget-view+json": {
       "model_id": "",
       "version_major": 2,
       "version_minor": 0
      },
      "text/plain": [
       "HBox(children=(IntProgress(value=0, max=300), HTML(value='')))"
      ]
     },
     "metadata": {},
     "output_type": "display_data"
    },
    {
     "data": {
      "application/vnd.jupyter.widget-view+json": {
       "model_id": "",
       "version_major": 2,
       "version_minor": 0
      },
      "text/plain": [
       "HBox(children=(IntProgress(value=0, max=300), HTML(value='')))"
      ]
     },
     "metadata": {},
     "output_type": "display_data"
    },
    {
     "data": {
      "application/vnd.jupyter.widget-view+json": {
       "model_id": "",
       "version_major": 2,
       "version_minor": 0
      },
      "text/plain": [
       "HBox(children=(IntProgress(value=0, max=300), HTML(value='')))"
      ]
     },
     "metadata": {},
     "output_type": "display_data"
    },
    {
     "data": {
      "application/vnd.jupyter.widget-view+json": {
       "model_id": "",
       "version_major": 2,
       "version_minor": 0
      },
      "text/plain": [
       "HBox(children=(IntProgress(value=0, max=300), HTML(value='')))"
      ]
     },
     "metadata": {},
     "output_type": "display_data"
    },
    {
     "data": {
      "application/vnd.jupyter.widget-view+json": {
       "model_id": "",
       "version_major": 2,
       "version_minor": 0
      },
      "text/plain": [
       "HBox(children=(IntProgress(value=0, max=300), HTML(value='')))"
      ]
     },
     "metadata": {},
     "output_type": "display_data"
    },
    {
     "data": {
      "application/vnd.jupyter.widget-view+json": {
       "model_id": "",
       "version_major": 2,
       "version_minor": 0
      },
      "text/plain": [
       "HBox(children=(IntProgress(value=0, max=300), HTML(value='')))"
      ]
     },
     "metadata": {},
     "output_type": "display_data"
    },
    {
     "data": {
      "application/vnd.jupyter.widget-view+json": {
       "model_id": "",
       "version_major": 2,
       "version_minor": 0
      },
      "text/plain": [
       "HBox(children=(IntProgress(value=0, max=300), HTML(value='')))"
      ]
     },
     "metadata": {},
     "output_type": "display_data"
    },
    {
     "data": {
      "application/vnd.jupyter.widget-view+json": {
       "model_id": "",
       "version_major": 2,
       "version_minor": 0
      },
      "text/plain": [
       "HBox(children=(IntProgress(value=0, max=300), HTML(value='')))"
      ]
     },
     "metadata": {},
     "output_type": "display_data"
    },
    {
     "data": {
      "application/vnd.jupyter.widget-view+json": {
       "model_id": "",
       "version_major": 2,
       "version_minor": 0
      },
      "text/plain": [
       "HBox(children=(IntProgress(value=0, max=300), HTML(value='')))"
      ]
     },
     "metadata": {},
     "output_type": "display_data"
    },
    {
     "data": {
      "application/vnd.jupyter.widget-view+json": {
       "model_id": "",
       "version_major": 2,
       "version_minor": 0
      },
      "text/plain": [
       "HBox(children=(IntProgress(value=0, max=300), HTML(value='')))"
      ]
     },
     "metadata": {},
     "output_type": "display_data"
    },
    {
     "data": {
      "application/vnd.jupyter.widget-view+json": {
       "model_id": "",
       "version_major": 2,
       "version_minor": 0
      },
      "text/plain": [
       "HBox(children=(IntProgress(value=0, max=300), HTML(value='')))"
      ]
     },
     "metadata": {},
     "output_type": "display_data"
    },
    {
     "data": {
      "application/vnd.jupyter.widget-view+json": {
       "model_id": "",
       "version_major": 2,
       "version_minor": 0
      },
      "text/plain": [
       "HBox(children=(IntProgress(value=0, max=300), HTML(value='')))"
      ]
     },
     "metadata": {},
     "output_type": "display_data"
    },
    {
     "data": {
      "application/vnd.jupyter.widget-view+json": {
       "model_id": "",
       "version_major": 2,
       "version_minor": 0
      },
      "text/plain": [
       "HBox(children=(IntProgress(value=0, max=300), HTML(value='')))"
      ]
     },
     "metadata": {},
     "output_type": "display_data"
    },
    {
     "data": {
      "application/vnd.jupyter.widget-view+json": {
       "model_id": "",
       "version_major": 2,
       "version_minor": 0
      },
      "text/plain": [
       "HBox(children=(IntProgress(value=0, max=300), HTML(value='')))"
      ]
     },
     "metadata": {},
     "output_type": "display_data"
    },
    {
     "data": {
      "application/vnd.jupyter.widget-view+json": {
       "model_id": "",
       "version_major": 2,
       "version_minor": 0
      },
      "text/plain": [
       "HBox(children=(IntProgress(value=0, max=300), HTML(value='')))"
      ]
     },
     "metadata": {},
     "output_type": "display_data"
    },
    {
     "data": {
      "application/vnd.jupyter.widget-view+json": {
       "model_id": "",
       "version_major": 2,
       "version_minor": 0
      },
      "text/plain": [
       "HBox(children=(IntProgress(value=0, max=300), HTML(value='')))"
      ]
     },
     "metadata": {},
     "output_type": "display_data"
    },
    {
     "data": {
      "application/vnd.jupyter.widget-view+json": {
       "model_id": "",
       "version_major": 2,
       "version_minor": 0
      },
      "text/plain": [
       "HBox(children=(IntProgress(value=0, max=300), HTML(value='')))"
      ]
     },
     "metadata": {},
     "output_type": "display_data"
    },
    {
     "data": {
      "application/vnd.jupyter.widget-view+json": {
       "model_id": "",
       "version_major": 2,
       "version_minor": 0
      },
      "text/plain": [
       "HBox(children=(IntProgress(value=0, max=300), HTML(value='')))"
      ]
     },
     "metadata": {},
     "output_type": "display_data"
    },
    {
     "data": {
      "application/vnd.jupyter.widget-view+json": {
       "model_id": "",
       "version_major": 2,
       "version_minor": 0
      },
      "text/plain": [
       "HBox(children=(IntProgress(value=0, max=300), HTML(value='')))"
      ]
     },
     "metadata": {},
     "output_type": "display_data"
    },
    {
     "data": {
      "application/vnd.jupyter.widget-view+json": {
       "model_id": "",
       "version_major": 2,
       "version_minor": 0
      },
      "text/plain": [
       "HBox(children=(IntProgress(value=0, max=300), HTML(value='')))"
      ]
     },
     "metadata": {},
     "output_type": "display_data"
    },
    {
     "data": {
      "application/vnd.jupyter.widget-view+json": {
       "model_id": "",
       "version_major": 2,
       "version_minor": 0
      },
      "text/plain": [
       "HBox(children=(IntProgress(value=0, max=300), HTML(value='')))"
      ]
     },
     "metadata": {},
     "output_type": "display_data"
    },
    {
     "data": {
      "application/vnd.jupyter.widget-view+json": {
       "model_id": "",
       "version_major": 2,
       "version_minor": 0
      },
      "text/plain": [
       "HBox(children=(IntProgress(value=0, max=300), HTML(value='')))"
      ]
     },
     "metadata": {},
     "output_type": "display_data"
    },
    {
     "data": {
      "application/vnd.jupyter.widget-view+json": {
       "model_id": "",
       "version_major": 2,
       "version_minor": 0
      },
      "text/plain": [
       "HBox(children=(IntProgress(value=0, max=300), HTML(value='')))"
      ]
     },
     "metadata": {},
     "output_type": "display_data"
    },
    {
     "data": {
      "application/vnd.jupyter.widget-view+json": {
       "model_id": "",
       "version_major": 2,
       "version_minor": 0
      },
      "text/plain": [
       "HBox(children=(IntProgress(value=0, max=300), HTML(value='')))"
      ]
     },
     "metadata": {},
     "output_type": "display_data"
    },
    {
     "data": {
      "application/vnd.jupyter.widget-view+json": {
       "model_id": "",
       "version_major": 2,
       "version_minor": 0
      },
      "text/plain": [
       "HBox(children=(IntProgress(value=0, max=300), HTML(value='')))"
      ]
     },
     "metadata": {},
     "output_type": "display_data"
    },
    {
     "data": {
      "application/vnd.jupyter.widget-view+json": {
       "model_id": "",
       "version_major": 2,
       "version_minor": 0
      },
      "text/plain": [
       "HBox(children=(IntProgress(value=0, max=300), HTML(value='')))"
      ]
     },
     "metadata": {},
     "output_type": "display_data"
    },
    {
     "data": {
      "application/vnd.jupyter.widget-view+json": {
       "model_id": "",
       "version_major": 2,
       "version_minor": 0
      },
      "text/plain": [
       "HBox(children=(IntProgress(value=0, max=300), HTML(value='')))"
      ]
     },
     "metadata": {},
     "output_type": "display_data"
    },
    {
     "data": {
      "application/vnd.jupyter.widget-view+json": {
       "model_id": "",
       "version_major": 2,
       "version_minor": 0
      },
      "text/plain": [
       "HBox(children=(IntProgress(value=0, max=300), HTML(value='')))"
      ]
     },
     "metadata": {},
     "output_type": "display_data"
    },
    {
     "data": {
      "application/vnd.jupyter.widget-view+json": {
       "model_id": "",
       "version_major": 2,
       "version_minor": 0
      },
      "text/plain": [
       "HBox(children=(IntProgress(value=0, max=300), HTML(value='')))"
      ]
     },
     "metadata": {},
     "output_type": "display_data"
    },
    {
     "data": {
      "application/vnd.jupyter.widget-view+json": {
       "model_id": "",
       "version_major": 2,
       "version_minor": 0
      },
      "text/plain": [
       "HBox(children=(IntProgress(value=0, max=300), HTML(value='')))"
      ]
     },
     "metadata": {},
     "output_type": "display_data"
    },
    {
     "data": {
      "application/vnd.jupyter.widget-view+json": {
       "model_id": "",
       "version_major": 2,
       "version_minor": 0
      },
      "text/plain": [
       "HBox(children=(IntProgress(value=0, max=300), HTML(value='')))"
      ]
     },
     "metadata": {},
     "output_type": "display_data"
    },
    {
     "data": {
      "application/vnd.jupyter.widget-view+json": {
       "model_id": "",
       "version_major": 2,
       "version_minor": 0
      },
      "text/plain": [
       "HBox(children=(IntProgress(value=0, max=300), HTML(value='')))"
      ]
     },
     "metadata": {},
     "output_type": "display_data"
    },
    {
     "data": {
      "application/vnd.jupyter.widget-view+json": {
       "model_id": "",
       "version_major": 2,
       "version_minor": 0
      },
      "text/plain": [
       "HBox(children=(IntProgress(value=0, max=300), HTML(value='')))"
      ]
     },
     "metadata": {},
     "output_type": "display_data"
    },
    {
     "data": {
      "application/vnd.jupyter.widget-view+json": {
       "model_id": "",
       "version_major": 2,
       "version_minor": 0
      },
      "text/plain": [
       "HBox(children=(IntProgress(value=0, max=300), HTML(value='')))"
      ]
     },
     "metadata": {},
     "output_type": "display_data"
    },
    {
     "data": {
      "application/vnd.jupyter.widget-view+json": {
       "model_id": "",
       "version_major": 2,
       "version_minor": 0
      },
      "text/plain": [
       "HBox(children=(IntProgress(value=0, max=300), HTML(value='')))"
      ]
     },
     "metadata": {},
     "output_type": "display_data"
    },
    {
     "data": {
      "application/vnd.jupyter.widget-view+json": {
       "model_id": "",
       "version_major": 2,
       "version_minor": 0
      },
      "text/plain": [
       "HBox(children=(IntProgress(value=0, max=300), HTML(value='')))"
      ]
     },
     "metadata": {},
     "output_type": "display_data"
    },
    {
     "data": {
      "application/vnd.jupyter.widget-view+json": {
       "model_id": "",
       "version_major": 2,
       "version_minor": 0
      },
      "text/plain": [
       "HBox(children=(IntProgress(value=0, max=300), HTML(value='')))"
      ]
     },
     "metadata": {},
     "output_type": "display_data"
    },
    {
     "data": {
      "application/vnd.jupyter.widget-view+json": {
       "model_id": "",
       "version_major": 2,
       "version_minor": 0
      },
      "text/plain": [
       "HBox(children=(IntProgress(value=0, max=300), HTML(value='')))"
      ]
     },
     "metadata": {},
     "output_type": "display_data"
    },
    {
     "data": {
      "application/vnd.jupyter.widget-view+json": {
       "model_id": "",
       "version_major": 2,
       "version_minor": 0
      },
      "text/plain": [
       "HBox(children=(IntProgress(value=0, max=300), HTML(value='')))"
      ]
     },
     "metadata": {},
     "output_type": "display_data"
    },
    {
     "data": {
      "application/vnd.jupyter.widget-view+json": {
       "model_id": "",
       "version_major": 2,
       "version_minor": 0
      },
      "text/plain": [
       "HBox(children=(IntProgress(value=0, max=300), HTML(value='')))"
      ]
     },
     "metadata": {},
     "output_type": "display_data"
    },
    {
     "data": {
      "application/vnd.jupyter.widget-view+json": {
       "model_id": "",
       "version_major": 2,
       "version_minor": 0
      },
      "text/plain": [
       "HBox(children=(IntProgress(value=0, max=300), HTML(value='')))"
      ]
     },
     "metadata": {},
     "output_type": "display_data"
    },
    {
     "data": {
      "application/vnd.jupyter.widget-view+json": {
       "model_id": "",
       "version_major": 2,
       "version_minor": 0
      },
      "text/plain": [
       "HBox(children=(IntProgress(value=0, max=300), HTML(value='')))"
      ]
     },
     "metadata": {},
     "output_type": "display_data"
    },
    {
     "data": {
      "application/vnd.jupyter.widget-view+json": {
       "model_id": "",
       "version_major": 2,
       "version_minor": 0
      },
      "text/plain": [
       "HBox(children=(IntProgress(value=0, max=300), HTML(value='')))"
      ]
     },
     "metadata": {},
     "output_type": "display_data"
    },
    {
     "data": {
      "application/vnd.jupyter.widget-view+json": {
       "model_id": "",
       "version_major": 2,
       "version_minor": 0
      },
      "text/plain": [
       "HBox(children=(IntProgress(value=0, max=300), HTML(value='')))"
      ]
     },
     "metadata": {},
     "output_type": "display_data"
    },
    {
     "data": {
      "application/vnd.jupyter.widget-view+json": {
       "model_id": "",
       "version_major": 2,
       "version_minor": 0
      },
      "text/plain": [
       "HBox(children=(IntProgress(value=0, max=300), HTML(value='')))"
      ]
     },
     "metadata": {},
     "output_type": "display_data"
    },
    {
     "data": {
      "application/vnd.jupyter.widget-view+json": {
       "model_id": "",
       "version_major": 2,
       "version_minor": 0
      },
      "text/plain": [
       "HBox(children=(IntProgress(value=0, max=300), HTML(value='')))"
      ]
     },
     "metadata": {},
     "output_type": "display_data"
    },
    {
     "data": {
      "application/vnd.jupyter.widget-view+json": {
       "model_id": "",
       "version_major": 2,
       "version_minor": 0
      },
      "text/plain": [
       "HBox(children=(IntProgress(value=0, max=300), HTML(value='')))"
      ]
     },
     "metadata": {},
     "output_type": "display_data"
    },
    {
     "data": {
      "application/vnd.jupyter.widget-view+json": {
       "model_id": "",
       "version_major": 2,
       "version_minor": 0
      },
      "text/plain": [
       "HBox(children=(IntProgress(value=0, max=300), HTML(value='')))"
      ]
     },
     "metadata": {},
     "output_type": "display_data"
    },
    {
     "data": {
      "application/vnd.jupyter.widget-view+json": {
       "model_id": "",
       "version_major": 2,
       "version_minor": 0
      },
      "text/plain": [
       "HBox(children=(IntProgress(value=0, max=300), HTML(value='')))"
      ]
     },
     "metadata": {},
     "output_type": "display_data"
    },
    {
     "data": {
      "application/vnd.jupyter.widget-view+json": {
       "model_id": "",
       "version_major": 2,
       "version_minor": 0
      },
      "text/plain": [
       "HBox(children=(IntProgress(value=0, max=300), HTML(value='')))"
      ]
     },
     "metadata": {},
     "output_type": "display_data"
    },
    {
     "data": {
      "application/vnd.jupyter.widget-view+json": {
       "model_id": "",
       "version_major": 2,
       "version_minor": 0
      },
      "text/plain": [
       "HBox(children=(IntProgress(value=0, max=300), HTML(value='')))"
      ]
     },
     "metadata": {},
     "output_type": "display_data"
    },
    {
     "data": {
      "application/vnd.jupyter.widget-view+json": {
       "model_id": "",
       "version_major": 2,
       "version_minor": 0
      },
      "text/plain": [
       "HBox(children=(IntProgress(value=0, max=300), HTML(value='')))"
      ]
     },
     "metadata": {},
     "output_type": "display_data"
    },
    {
     "data": {
      "application/vnd.jupyter.widget-view+json": {
       "model_id": "",
       "version_major": 2,
       "version_minor": 0
      },
      "text/plain": [
       "HBox(children=(IntProgress(value=0, max=300), HTML(value='')))"
      ]
     },
     "metadata": {},
     "output_type": "display_data"
    },
    {
     "data": {
      "application/vnd.jupyter.widget-view+json": {
       "model_id": "",
       "version_major": 2,
       "version_minor": 0
      },
      "text/plain": [
       "HBox(children=(IntProgress(value=0, max=300), HTML(value='')))"
      ]
     },
     "metadata": {},
     "output_type": "display_data"
    },
    {
     "data": {
      "application/vnd.jupyter.widget-view+json": {
       "model_id": "",
       "version_major": 2,
       "version_minor": 0
      },
      "text/plain": [
       "HBox(children=(IntProgress(value=0, max=300), HTML(value='')))"
      ]
     },
     "metadata": {},
     "output_type": "display_data"
    },
    {
     "data": {
      "application/vnd.jupyter.widget-view+json": {
       "model_id": "",
       "version_major": 2,
       "version_minor": 0
      },
      "text/plain": [
       "HBox(children=(IntProgress(value=0, max=300), HTML(value='')))"
      ]
     },
     "metadata": {},
     "output_type": "display_data"
    },
    {
     "data": {
      "application/vnd.jupyter.widget-view+json": {
       "model_id": "",
       "version_major": 2,
       "version_minor": 0
      },
      "text/plain": [
       "HBox(children=(IntProgress(value=0, max=300), HTML(value='')))"
      ]
     },
     "metadata": {},
     "output_type": "display_data"
    },
    {
     "data": {
      "application/vnd.jupyter.widget-view+json": {
       "model_id": "",
       "version_major": 2,
       "version_minor": 0
      },
      "text/plain": [
       "HBox(children=(IntProgress(value=0, max=300), HTML(value='')))"
      ]
     },
     "metadata": {},
     "output_type": "display_data"
    },
    {
     "data": {
      "application/vnd.jupyter.widget-view+json": {
       "model_id": "",
       "version_major": 2,
       "version_minor": 0
      },
      "text/plain": [
       "HBox(children=(IntProgress(value=0, max=300), HTML(value='')))"
      ]
     },
     "metadata": {},
     "output_type": "display_data"
    },
    {
     "data": {
      "application/vnd.jupyter.widget-view+json": {
       "model_id": "",
       "version_major": 2,
       "version_minor": 0
      },
      "text/plain": [
       "HBox(children=(IntProgress(value=0, max=300), HTML(value='')))"
      ]
     },
     "metadata": {},
     "output_type": "display_data"
    },
    {
     "data": {
      "application/vnd.jupyter.widget-view+json": {
       "model_id": "",
       "version_major": 2,
       "version_minor": 0
      },
      "text/plain": [
       "HBox(children=(IntProgress(value=0, max=300), HTML(value='')))"
      ]
     },
     "metadata": {},
     "output_type": "display_data"
    },
    {
     "data": {
      "application/vnd.jupyter.widget-view+json": {
       "model_id": "",
       "version_major": 2,
       "version_minor": 0
      },
      "text/plain": [
       "HBox(children=(IntProgress(value=0, max=300), HTML(value='')))"
      ]
     },
     "metadata": {},
     "output_type": "display_data"
    },
    {
     "data": {
      "application/vnd.jupyter.widget-view+json": {
       "model_id": "",
       "version_major": 2,
       "version_minor": 0
      },
      "text/plain": [
       "HBox(children=(IntProgress(value=0, max=300), HTML(value='')))"
      ]
     },
     "metadata": {},
     "output_type": "display_data"
    },
    {
     "data": {
      "application/vnd.jupyter.widget-view+json": {
       "model_id": "",
       "version_major": 2,
       "version_minor": 0
      },
      "text/plain": [
       "HBox(children=(IntProgress(value=0, max=300), HTML(value='')))"
      ]
     },
     "metadata": {},
     "output_type": "display_data"
    },
    {
     "data": {
      "application/vnd.jupyter.widget-view+json": {
       "model_id": "",
       "version_major": 2,
       "version_minor": 0
      },
      "text/plain": [
       "HBox(children=(IntProgress(value=0, max=300), HTML(value='')))"
      ]
     },
     "metadata": {},
     "output_type": "display_data"
    },
    {
     "data": {
      "application/vnd.jupyter.widget-view+json": {
       "model_id": "",
       "version_major": 2,
       "version_minor": 0
      },
      "text/plain": [
       "HBox(children=(IntProgress(value=0, max=300), HTML(value='')))"
      ]
     },
     "metadata": {},
     "output_type": "display_data"
    },
    {
     "data": {
      "application/vnd.jupyter.widget-view+json": {
       "model_id": "",
       "version_major": 2,
       "version_minor": 0
      },
      "text/plain": [
       "HBox(children=(IntProgress(value=0, max=300), HTML(value='')))"
      ]
     },
     "metadata": {},
     "output_type": "display_data"
    },
    {
     "data": {
      "application/vnd.jupyter.widget-view+json": {
       "model_id": "",
       "version_major": 2,
       "version_minor": 0
      },
      "text/plain": [
       "HBox(children=(IntProgress(value=0, max=300), HTML(value='')))"
      ]
     },
     "metadata": {},
     "output_type": "display_data"
    },
    {
     "data": {
      "application/vnd.jupyter.widget-view+json": {
       "model_id": "",
       "version_major": 2,
       "version_minor": 0
      },
      "text/plain": [
       "HBox(children=(IntProgress(value=0, max=300), HTML(value='')))"
      ]
     },
     "metadata": {},
     "output_type": "display_data"
    },
    {
     "data": {
      "application/vnd.jupyter.widget-view+json": {
       "model_id": "",
       "version_major": 2,
       "version_minor": 0
      },
      "text/plain": [
       "HBox(children=(IntProgress(value=0, max=300), HTML(value='')))"
      ]
     },
     "metadata": {},
     "output_type": "display_data"
    },
    {
     "data": {
      "application/vnd.jupyter.widget-view+json": {
       "model_id": "",
       "version_major": 2,
       "version_minor": 0
      },
      "text/plain": [
       "HBox(children=(IntProgress(value=0, max=300), HTML(value='')))"
      ]
     },
     "metadata": {},
     "output_type": "display_data"
    },
    {
     "data": {
      "application/vnd.jupyter.widget-view+json": {
       "model_id": "",
       "version_major": 2,
       "version_minor": 0
      },
      "text/plain": [
       "HBox(children=(IntProgress(value=0, max=300), HTML(value='')))"
      ]
     },
     "metadata": {},
     "output_type": "display_data"
    },
    {
     "data": {
      "application/vnd.jupyter.widget-view+json": {
       "model_id": "",
       "version_major": 2,
       "version_minor": 0
      },
      "text/plain": [
       "HBox(children=(IntProgress(value=0, max=300), HTML(value='')))"
      ]
     },
     "metadata": {},
     "output_type": "display_data"
    },
    {
     "data": {
      "application/vnd.jupyter.widget-view+json": {
       "model_id": "",
       "version_major": 2,
       "version_minor": 0
      },
      "text/plain": [
       "HBox(children=(IntProgress(value=0, max=300), HTML(value='')))"
      ]
     },
     "metadata": {},
     "output_type": "display_data"
    },
    {
     "data": {
      "application/vnd.jupyter.widget-view+json": {
       "model_id": "",
       "version_major": 2,
       "version_minor": 0
      },
      "text/plain": [
       "HBox(children=(IntProgress(value=0, max=300), HTML(value='')))"
      ]
     },
     "metadata": {},
     "output_type": "display_data"
    },
    {
     "data": {
      "application/vnd.jupyter.widget-view+json": {
       "model_id": "",
       "version_major": 2,
       "version_minor": 0
      },
      "text/plain": [
       "HBox(children=(IntProgress(value=0, max=300), HTML(value='')))"
      ]
     },
     "metadata": {},
     "output_type": "display_data"
    },
    {
     "data": {
      "application/vnd.jupyter.widget-view+json": {
       "model_id": "",
       "version_major": 2,
       "version_minor": 0
      },
      "text/plain": [
       "HBox(children=(IntProgress(value=0, max=300), HTML(value='')))"
      ]
     },
     "metadata": {},
     "output_type": "display_data"
    },
    {
     "data": {
      "application/vnd.jupyter.widget-view+json": {
       "model_id": "",
       "version_major": 2,
       "version_minor": 0
      },
      "text/plain": [
       "HBox(children=(IntProgress(value=0, max=300), HTML(value='')))"
      ]
     },
     "metadata": {},
     "output_type": "display_data"
    },
    {
     "data": {
      "application/vnd.jupyter.widget-view+json": {
       "model_id": "",
       "version_major": 2,
       "version_minor": 0
      },
      "text/plain": [
       "HBox(children=(IntProgress(value=0, max=300), HTML(value='')))"
      ]
     },
     "metadata": {},
     "output_type": "display_data"
    },
    {
     "data": {
      "application/vnd.jupyter.widget-view+json": {
       "model_id": "",
       "version_major": 2,
       "version_minor": 0
      },
      "text/plain": [
       "HBox(children=(IntProgress(value=0, max=300), HTML(value='')))"
      ]
     },
     "metadata": {},
     "output_type": "display_data"
    },
    {
     "data": {
      "application/vnd.jupyter.widget-view+json": {
       "model_id": "",
       "version_major": 2,
       "version_minor": 0
      },
      "text/plain": [
       "HBox(children=(IntProgress(value=0, max=300), HTML(value='')))"
      ]
     },
     "metadata": {},
     "output_type": "display_data"
    },
    {
     "data": {
      "application/vnd.jupyter.widget-view+json": {
       "model_id": "",
       "version_major": 2,
       "version_minor": 0
      },
      "text/plain": [
       "HBox(children=(IntProgress(value=0, max=300), HTML(value='')))"
      ]
     },
     "metadata": {},
     "output_type": "display_data"
    },
    {
     "data": {
      "application/vnd.jupyter.widget-view+json": {
       "model_id": "",
       "version_major": 2,
       "version_minor": 0
      },
      "text/plain": [
       "HBox(children=(IntProgress(value=0, max=300), HTML(value='')))"
      ]
     },
     "metadata": {},
     "output_type": "display_data"
    },
    {
     "data": {
      "application/vnd.jupyter.widget-view+json": {
       "model_id": "",
       "version_major": 2,
       "version_minor": 0
      },
      "text/plain": [
       "HBox(children=(IntProgress(value=0, max=300), HTML(value='')))"
      ]
     },
     "metadata": {},
     "output_type": "display_data"
    },
    {
     "data": {
      "application/vnd.jupyter.widget-view+json": {
       "model_id": "",
       "version_major": 2,
       "version_minor": 0
      },
      "text/plain": [
       "HBox(children=(IntProgress(value=0, max=300), HTML(value='')))"
      ]
     },
     "metadata": {},
     "output_type": "display_data"
    },
    {
     "data": {
      "application/vnd.jupyter.widget-view+json": {
       "model_id": "",
       "version_major": 2,
       "version_minor": 0
      },
      "text/plain": [
       "HBox(children=(IntProgress(value=0, max=300), HTML(value='')))"
      ]
     },
     "metadata": {},
     "output_type": "display_data"
    },
    {
     "data": {
      "application/vnd.jupyter.widget-view+json": {
       "model_id": "",
       "version_major": 2,
       "version_minor": 0
      },
      "text/plain": [
       "HBox(children=(IntProgress(value=0, max=300), HTML(value='')))"
      ]
     },
     "metadata": {},
     "output_type": "display_data"
    },
    {
     "data": {
      "application/vnd.jupyter.widget-view+json": {
       "model_id": "",
       "version_major": 2,
       "version_minor": 0
      },
      "text/plain": [
       "HBox(children=(IntProgress(value=0, max=300), HTML(value='')))"
      ]
     },
     "metadata": {},
     "output_type": "display_data"
    },
    {
     "data": {
      "application/vnd.jupyter.widget-view+json": {
       "model_id": "",
       "version_major": 2,
       "version_minor": 0
      },
      "text/plain": [
       "HBox(children=(IntProgress(value=0, max=300), HTML(value='')))"
      ]
     },
     "metadata": {},
     "output_type": "display_data"
    },
    {
     "data": {
      "application/vnd.jupyter.widget-view+json": {
       "model_id": "",
       "version_major": 2,
       "version_minor": 0
      },
      "text/plain": [
       "HBox(children=(IntProgress(value=0, max=300), HTML(value='')))"
      ]
     },
     "metadata": {},
     "output_type": "display_data"
    },
    {
     "data": {
      "application/vnd.jupyter.widget-view+json": {
       "model_id": "",
       "version_major": 2,
       "version_minor": 0
      },
      "text/plain": [
       "HBox(children=(IntProgress(value=0, max=300), HTML(value='')))"
      ]
     },
     "metadata": {},
     "output_type": "display_data"
    },
    {
     "data": {
      "application/vnd.jupyter.widget-view+json": {
       "model_id": "",
       "version_major": 2,
       "version_minor": 0
      },
      "text/plain": [
       "HBox(children=(IntProgress(value=0, max=300), HTML(value='')))"
      ]
     },
     "metadata": {},
     "output_type": "display_data"
    },
    {
     "data": {
      "application/vnd.jupyter.widget-view+json": {
       "model_id": "",
       "version_major": 2,
       "version_minor": 0
      },
      "text/plain": [
       "HBox(children=(IntProgress(value=0, max=300), HTML(value='')))"
      ]
     },
     "metadata": {},
     "output_type": "display_data"
    },
    {
     "data": {
      "application/vnd.jupyter.widget-view+json": {
       "model_id": "",
       "version_major": 2,
       "version_minor": 0
      },
      "text/plain": [
       "HBox(children=(IntProgress(value=0, max=300), HTML(value='')))"
      ]
     },
     "metadata": {},
     "output_type": "display_data"
    },
    {
     "data": {
      "application/vnd.jupyter.widget-view+json": {
       "model_id": "",
       "version_major": 2,
       "version_minor": 0
      },
      "text/plain": [
       "HBox(children=(IntProgress(value=0, max=300), HTML(value='')))"
      ]
     },
     "metadata": {},
     "output_type": "display_data"
    },
    {
     "data": {
      "application/vnd.jupyter.widget-view+json": {
       "model_id": "",
       "version_major": 2,
       "version_minor": 0
      },
      "text/plain": [
       "HBox(children=(IntProgress(value=0, max=300), HTML(value='')))"
      ]
     },
     "metadata": {},
     "output_type": "display_data"
    },
    {
     "data": {
      "application/vnd.jupyter.widget-view+json": {
       "model_id": "",
       "version_major": 2,
       "version_minor": 0
      },
      "text/plain": [
       "HBox(children=(IntProgress(value=0, max=300), HTML(value='')))"
      ]
     },
     "metadata": {},
     "output_type": "display_data"
    },
    {
     "data": {
      "application/vnd.jupyter.widget-view+json": {
       "model_id": "",
       "version_major": 2,
       "version_minor": 0
      },
      "text/plain": [
       "HBox(children=(IntProgress(value=0, max=300), HTML(value='')))"
      ]
     },
     "metadata": {},
     "output_type": "display_data"
    },
    {
     "data": {
      "application/vnd.jupyter.widget-view+json": {
       "model_id": "",
       "version_major": 2,
       "version_minor": 0
      },
      "text/plain": [
       "HBox(children=(IntProgress(value=0, max=300), HTML(value='')))"
      ]
     },
     "metadata": {},
     "output_type": "display_data"
    },
    {
     "data": {
      "application/vnd.jupyter.widget-view+json": {
       "model_id": "",
       "version_major": 2,
       "version_minor": 0
      },
      "text/plain": [
       "HBox(children=(IntProgress(value=0, max=300), HTML(value='')))"
      ]
     },
     "metadata": {},
     "output_type": "display_data"
    },
    {
     "data": {
      "application/vnd.jupyter.widget-view+json": {
       "model_id": "",
       "version_major": 2,
       "version_minor": 0
      },
      "text/plain": [
       "HBox(children=(IntProgress(value=0, max=300), HTML(value='')))"
      ]
     },
     "metadata": {},
     "output_type": "display_data"
    },
    {
     "data": {
      "application/vnd.jupyter.widget-view+json": {
       "model_id": "",
       "version_major": 2,
       "version_minor": 0
      },
      "text/plain": [
       "HBox(children=(IntProgress(value=0, max=300), HTML(value='')))"
      ]
     },
     "metadata": {},
     "output_type": "display_data"
    },
    {
     "data": {
      "application/vnd.jupyter.widget-view+json": {
       "model_id": "",
       "version_major": 2,
       "version_minor": 0
      },
      "text/plain": [
       "HBox(children=(IntProgress(value=0, max=300), HTML(value='')))"
      ]
     },
     "metadata": {},
     "output_type": "display_data"
    },
    {
     "data": {
      "application/vnd.jupyter.widget-view+json": {
       "model_id": "",
       "version_major": 2,
       "version_minor": 0
      },
      "text/plain": [
       "HBox(children=(IntProgress(value=0, max=300), HTML(value='')))"
      ]
     },
     "metadata": {},
     "output_type": "display_data"
    },
    {
     "data": {
      "application/vnd.jupyter.widget-view+json": {
       "model_id": "",
       "version_major": 2,
       "version_minor": 0
      },
      "text/plain": [
       "HBox(children=(IntProgress(value=0, max=300), HTML(value='')))"
      ]
     },
     "metadata": {},
     "output_type": "display_data"
    },
    {
     "data": {
      "application/vnd.jupyter.widget-view+json": {
       "model_id": "",
       "version_major": 2,
       "version_minor": 0
      },
      "text/plain": [
       "HBox(children=(IntProgress(value=0, max=300), HTML(value='')))"
      ]
     },
     "metadata": {},
     "output_type": "display_data"
    },
    {
     "data": {
      "application/vnd.jupyter.widget-view+json": {
       "model_id": "",
       "version_major": 2,
       "version_minor": 0
      },
      "text/plain": [
       "HBox(children=(IntProgress(value=0, max=300), HTML(value='')))"
      ]
     },
     "metadata": {},
     "output_type": "display_data"
    },
    {
     "data": {
      "application/vnd.jupyter.widget-view+json": {
       "model_id": "",
       "version_major": 2,
       "version_minor": 0
      },
      "text/plain": [
       "HBox(children=(IntProgress(value=0, max=300), HTML(value='')))"
      ]
     },
     "metadata": {},
     "output_type": "display_data"
    },
    {
     "data": {
      "application/vnd.jupyter.widget-view+json": {
       "model_id": "",
       "version_major": 2,
       "version_minor": 0
      },
      "text/plain": [
       "HBox(children=(IntProgress(value=0, max=300), HTML(value='')))"
      ]
     },
     "metadata": {},
     "output_type": "display_data"
    },
    {
     "data": {
      "application/vnd.jupyter.widget-view+json": {
       "model_id": "",
       "version_major": 2,
       "version_minor": 0
      },
      "text/plain": [
       "HBox(children=(IntProgress(value=0, max=300), HTML(value='')))"
      ]
     },
     "metadata": {},
     "output_type": "display_data"
    },
    {
     "data": {
      "application/vnd.jupyter.widget-view+json": {
       "model_id": "",
       "version_major": 2,
       "version_minor": 0
      },
      "text/plain": [
       "HBox(children=(IntProgress(value=0, max=300), HTML(value='')))"
      ]
     },
     "metadata": {},
     "output_type": "display_data"
    },
    {
     "data": {
      "application/vnd.jupyter.widget-view+json": {
       "model_id": "",
       "version_major": 2,
       "version_minor": 0
      },
      "text/plain": [
       "HBox(children=(IntProgress(value=0, max=300), HTML(value='')))"
      ]
     },
     "metadata": {},
     "output_type": "display_data"
    },
    {
     "data": {
      "application/vnd.jupyter.widget-view+json": {
       "model_id": "",
       "version_major": 2,
       "version_minor": 0
      },
      "text/plain": [
       "HBox(children=(IntProgress(value=0, max=300), HTML(value='')))"
      ]
     },
     "metadata": {},
     "output_type": "display_data"
    },
    {
     "data": {
      "application/vnd.jupyter.widget-view+json": {
       "model_id": "",
       "version_major": 2,
       "version_minor": 0
      },
      "text/plain": [
       "HBox(children=(IntProgress(value=0, max=300), HTML(value='')))"
      ]
     },
     "metadata": {},
     "output_type": "display_data"
    },
    {
     "data": {
      "application/vnd.jupyter.widget-view+json": {
       "model_id": "",
       "version_major": 2,
       "version_minor": 0
      },
      "text/plain": [
       "HBox(children=(IntProgress(value=0, max=300), HTML(value='')))"
      ]
     },
     "metadata": {},
     "output_type": "display_data"
    },
    {
     "data": {
      "application/vnd.jupyter.widget-view+json": {
       "model_id": "",
       "version_major": 2,
       "version_minor": 0
      },
      "text/plain": [
       "HBox(children=(IntProgress(value=0, max=300), HTML(value='')))"
      ]
     },
     "metadata": {},
     "output_type": "display_data"
    },
    {
     "data": {
      "application/vnd.jupyter.widget-view+json": {
       "model_id": "",
       "version_major": 2,
       "version_minor": 0
      },
      "text/plain": [
       "HBox(children=(IntProgress(value=0, max=300), HTML(value='')))"
      ]
     },
     "metadata": {},
     "output_type": "display_data"
    },
    {
     "data": {
      "application/vnd.jupyter.widget-view+json": {
       "model_id": "",
       "version_major": 2,
       "version_minor": 0
      },
      "text/plain": [
       "HBox(children=(IntProgress(value=0, max=300), HTML(value='')))"
      ]
     },
     "metadata": {},
     "output_type": "display_data"
    },
    {
     "data": {
      "application/vnd.jupyter.widget-view+json": {
       "model_id": "",
       "version_major": 2,
       "version_minor": 0
      },
      "text/plain": [
       "HBox(children=(IntProgress(value=0, max=300), HTML(value='')))"
      ]
     },
     "metadata": {},
     "output_type": "display_data"
    },
    {
     "data": {
      "application/vnd.jupyter.widget-view+json": {
       "model_id": "",
       "version_major": 2,
       "version_minor": 0
      },
      "text/plain": [
       "HBox(children=(IntProgress(value=0, max=300), HTML(value='')))"
      ]
     },
     "metadata": {},
     "output_type": "display_data"
    },
    {
     "data": {
      "application/vnd.jupyter.widget-view+json": {
       "model_id": "",
       "version_major": 2,
       "version_minor": 0
      },
      "text/plain": [
       "HBox(children=(IntProgress(value=0, max=300), HTML(value='')))"
      ]
     },
     "metadata": {},
     "output_type": "display_data"
    },
    {
     "data": {
      "application/vnd.jupyter.widget-view+json": {
       "model_id": "",
       "version_major": 2,
       "version_minor": 0
      },
      "text/plain": [
       "HBox(children=(IntProgress(value=0, max=300), HTML(value='')))"
      ]
     },
     "metadata": {},
     "output_type": "display_data"
    },
    {
     "data": {
      "application/vnd.jupyter.widget-view+json": {
       "model_id": "",
       "version_major": 2,
       "version_minor": 0
      },
      "text/plain": [
       "HBox(children=(IntProgress(value=0, max=300), HTML(value='')))"
      ]
     },
     "metadata": {},
     "output_type": "display_data"
    },
    {
     "data": {
      "application/vnd.jupyter.widget-view+json": {
       "model_id": "",
       "version_major": 2,
       "version_minor": 0
      },
      "text/plain": [
       "HBox(children=(IntProgress(value=0, max=300), HTML(value='')))"
      ]
     },
     "metadata": {},
     "output_type": "display_data"
    },
    {
     "data": {
      "application/vnd.jupyter.widget-view+json": {
       "model_id": "",
       "version_major": 2,
       "version_minor": 0
      },
      "text/plain": [
       "HBox(children=(IntProgress(value=0, max=300), HTML(value='')))"
      ]
     },
     "metadata": {},
     "output_type": "display_data"
    },
    {
     "data": {
      "application/vnd.jupyter.widget-view+json": {
       "model_id": "",
       "version_major": 2,
       "version_minor": 0
      },
      "text/plain": [
       "HBox(children=(IntProgress(value=0, max=300), HTML(value='')))"
      ]
     },
     "metadata": {},
     "output_type": "display_data"
    },
    {
     "data": {
      "application/vnd.jupyter.widget-view+json": {
       "model_id": "",
       "version_major": 2,
       "version_minor": 0
      },
      "text/plain": [
       "HBox(children=(IntProgress(value=0, max=300), HTML(value='')))"
      ]
     },
     "metadata": {},
     "output_type": "display_data"
    },
    {
     "data": {
      "application/vnd.jupyter.widget-view+json": {
       "model_id": "",
       "version_major": 2,
       "version_minor": 0
      },
      "text/plain": [
       "HBox(children=(IntProgress(value=0, max=300), HTML(value='')))"
      ]
     },
     "metadata": {},
     "output_type": "display_data"
    },
    {
     "data": {
      "application/vnd.jupyter.widget-view+json": {
       "model_id": "",
       "version_major": 2,
       "version_minor": 0
      },
      "text/plain": [
       "HBox(children=(IntProgress(value=0, max=300), HTML(value='')))"
      ]
     },
     "metadata": {},
     "output_type": "display_data"
    },
    {
     "data": {
      "application/vnd.jupyter.widget-view+json": {
       "model_id": "",
       "version_major": 2,
       "version_minor": 0
      },
      "text/plain": [
       "HBox(children=(IntProgress(value=0, max=300), HTML(value='')))"
      ]
     },
     "metadata": {},
     "output_type": "display_data"
    },
    {
     "data": {
      "application/vnd.jupyter.widget-view+json": {
       "model_id": "",
       "version_major": 2,
       "version_minor": 0
      },
      "text/plain": [
       "HBox(children=(IntProgress(value=0, max=300), HTML(value='')))"
      ]
     },
     "metadata": {},
     "output_type": "display_data"
    },
    {
     "data": {
      "application/vnd.jupyter.widget-view+json": {
       "model_id": "",
       "version_major": 2,
       "version_minor": 0
      },
      "text/plain": [
       "HBox(children=(IntProgress(value=0, max=300), HTML(value='')))"
      ]
     },
     "metadata": {},
     "output_type": "display_data"
    },
    {
     "data": {
      "application/vnd.jupyter.widget-view+json": {
       "model_id": "",
       "version_major": 2,
       "version_minor": 0
      },
      "text/plain": [
       "HBox(children=(IntProgress(value=0, max=300), HTML(value='')))"
      ]
     },
     "metadata": {},
     "output_type": "display_data"
    },
    {
     "data": {
      "application/vnd.jupyter.widget-view+json": {
       "model_id": "",
       "version_major": 2,
       "version_minor": 0
      },
      "text/plain": [
       "HBox(children=(IntProgress(value=0, max=300), HTML(value='')))"
      ]
     },
     "metadata": {},
     "output_type": "display_data"
    },
    {
     "data": {
      "application/vnd.jupyter.widget-view+json": {
       "model_id": "",
       "version_major": 2,
       "version_minor": 0
      },
      "text/plain": [
       "HBox(children=(IntProgress(value=0, max=300), HTML(value='')))"
      ]
     },
     "metadata": {},
     "output_type": "display_data"
    },
    {
     "data": {
      "application/vnd.jupyter.widget-view+json": {
       "model_id": "",
       "version_major": 2,
       "version_minor": 0
      },
      "text/plain": [
       "HBox(children=(IntProgress(value=0, max=300), HTML(value='')))"
      ]
     },
     "metadata": {},
     "output_type": "display_data"
    },
    {
     "data": {
      "application/vnd.jupyter.widget-view+json": {
       "model_id": "",
       "version_major": 2,
       "version_minor": 0
      },
      "text/plain": [
       "HBox(children=(IntProgress(value=0, max=300), HTML(value='')))"
      ]
     },
     "metadata": {},
     "output_type": "display_data"
    },
    {
     "data": {
      "application/vnd.jupyter.widget-view+json": {
       "model_id": "",
       "version_major": 2,
       "version_minor": 0
      },
      "text/plain": [
       "HBox(children=(IntProgress(value=0, max=300), HTML(value='')))"
      ]
     },
     "metadata": {},
     "output_type": "display_data"
    },
    {
     "data": {
      "application/vnd.jupyter.widget-view+json": {
       "model_id": "",
       "version_major": 2,
       "version_minor": 0
      },
      "text/plain": [
       "HBox(children=(IntProgress(value=0, max=300), HTML(value='')))"
      ]
     },
     "metadata": {},
     "output_type": "display_data"
    },
    {
     "data": {
      "application/vnd.jupyter.widget-view+json": {
       "model_id": "",
       "version_major": 2,
       "version_minor": 0
      },
      "text/plain": [
       "HBox(children=(IntProgress(value=0, max=300), HTML(value='')))"
      ]
     },
     "metadata": {},
     "output_type": "display_data"
    },
    {
     "data": {
      "application/vnd.jupyter.widget-view+json": {
       "model_id": "",
       "version_major": 2,
       "version_minor": 0
      },
      "text/plain": [
       "HBox(children=(IntProgress(value=0, max=300), HTML(value='')))"
      ]
     },
     "metadata": {},
     "output_type": "display_data"
    },
    {
     "data": {
      "application/vnd.jupyter.widget-view+json": {
       "model_id": "",
       "version_major": 2,
       "version_minor": 0
      },
      "text/plain": [
       "HBox(children=(IntProgress(value=0, max=300), HTML(value='')))"
      ]
     },
     "metadata": {},
     "output_type": "display_data"
    },
    {
     "data": {
      "application/vnd.jupyter.widget-view+json": {
       "model_id": "",
       "version_major": 2,
       "version_minor": 0
      },
      "text/plain": [
       "HBox(children=(IntProgress(value=0, max=300), HTML(value='')))"
      ]
     },
     "metadata": {},
     "output_type": "display_data"
    },
    {
     "data": {
      "application/vnd.jupyter.widget-view+json": {
       "model_id": "",
       "version_major": 2,
       "version_minor": 0
      },
      "text/plain": [
       "HBox(children=(IntProgress(value=0, max=300), HTML(value='')))"
      ]
     },
     "metadata": {},
     "output_type": "display_data"
    },
    {
     "data": {
      "application/vnd.jupyter.widget-view+json": {
       "model_id": "",
       "version_major": 2,
       "version_minor": 0
      },
      "text/plain": [
       "HBox(children=(IntProgress(value=0, max=300), HTML(value='')))"
      ]
     },
     "metadata": {},
     "output_type": "display_data"
    },
    {
     "data": {
      "application/vnd.jupyter.widget-view+json": {
       "model_id": "",
       "version_major": 2,
       "version_minor": 0
      },
      "text/plain": [
       "HBox(children=(IntProgress(value=0, max=300), HTML(value='')))"
      ]
     },
     "metadata": {},
     "output_type": "display_data"
    },
    {
     "data": {
      "application/vnd.jupyter.widget-view+json": {
       "model_id": "",
       "version_major": 2,
       "version_minor": 0
      },
      "text/plain": [
       "HBox(children=(IntProgress(value=0, max=300), HTML(value='')))"
      ]
     },
     "metadata": {},
     "output_type": "display_data"
    },
    {
     "data": {
      "application/vnd.jupyter.widget-view+json": {
       "model_id": "",
       "version_major": 2,
       "version_minor": 0
      },
      "text/plain": [
       "HBox(children=(IntProgress(value=0, max=300), HTML(value='')))"
      ]
     },
     "metadata": {},
     "output_type": "display_data"
    },
    {
     "data": {
      "application/vnd.jupyter.widget-view+json": {
       "model_id": "",
       "version_major": 2,
       "version_minor": 0
      },
      "text/plain": [
       "HBox(children=(IntProgress(value=0, max=300), HTML(value='')))"
      ]
     },
     "metadata": {},
     "output_type": "display_data"
    },
    {
     "data": {
      "application/vnd.jupyter.widget-view+json": {
       "model_id": "",
       "version_major": 2,
       "version_minor": 0
      },
      "text/plain": [
       "HBox(children=(IntProgress(value=0, max=300), HTML(value='')))"
      ]
     },
     "metadata": {},
     "output_type": "display_data"
    },
    {
     "data": {
      "application/vnd.jupyter.widget-view+json": {
       "model_id": "",
       "version_major": 2,
       "version_minor": 0
      },
      "text/plain": [
       "HBox(children=(IntProgress(value=0, max=300), HTML(value='')))"
      ]
     },
     "metadata": {},
     "output_type": "display_data"
    },
    {
     "data": {
      "application/vnd.jupyter.widget-view+json": {
       "model_id": "",
       "version_major": 2,
       "version_minor": 0
      },
      "text/plain": [
       "HBox(children=(IntProgress(value=0, max=300), HTML(value='')))"
      ]
     },
     "metadata": {},
     "output_type": "display_data"
    },
    {
     "data": {
      "application/vnd.jupyter.widget-view+json": {
       "model_id": "",
       "version_major": 2,
       "version_minor": 0
      },
      "text/plain": [
       "HBox(children=(IntProgress(value=0, max=300), HTML(value='')))"
      ]
     },
     "metadata": {},
     "output_type": "display_data"
    },
    {
     "data": {
      "application/vnd.jupyter.widget-view+json": {
       "model_id": "",
       "version_major": 2,
       "version_minor": 0
      },
      "text/plain": [
       "HBox(children=(IntProgress(value=0, max=300), HTML(value='')))"
      ]
     },
     "metadata": {},
     "output_type": "display_data"
    },
    {
     "data": {
      "application/vnd.jupyter.widget-view+json": {
       "model_id": "",
       "version_major": 2,
       "version_minor": 0
      },
      "text/plain": [
       "HBox(children=(IntProgress(value=0, max=300), HTML(value='')))"
      ]
     },
     "metadata": {},
     "output_type": "display_data"
    },
    {
     "data": {
      "application/vnd.jupyter.widget-view+json": {
       "model_id": "",
       "version_major": 2,
       "version_minor": 0
      },
      "text/plain": [
       "HBox(children=(IntProgress(value=0, max=300), HTML(value='')))"
      ]
     },
     "metadata": {},
     "output_type": "display_data"
    },
    {
     "data": {
      "application/vnd.jupyter.widget-view+json": {
       "model_id": "",
       "version_major": 2,
       "version_minor": 0
      },
      "text/plain": [
       "HBox(children=(IntProgress(value=0, max=300), HTML(value='')))"
      ]
     },
     "metadata": {},
     "output_type": "display_data"
    },
    {
     "data": {
      "application/vnd.jupyter.widget-view+json": {
       "model_id": "",
       "version_major": 2,
       "version_minor": 0
      },
      "text/plain": [
       "HBox(children=(IntProgress(value=0, max=300), HTML(value='')))"
      ]
     },
     "metadata": {},
     "output_type": "display_data"
    },
    {
     "data": {
      "application/vnd.jupyter.widget-view+json": {
       "model_id": "",
       "version_major": 2,
       "version_minor": 0
      },
      "text/plain": [
       "HBox(children=(IntProgress(value=0, max=300), HTML(value='')))"
      ]
     },
     "metadata": {},
     "output_type": "display_data"
    },
    {
     "data": {
      "application/vnd.jupyter.widget-view+json": {
       "model_id": "",
       "version_major": 2,
       "version_minor": 0
      },
      "text/plain": [
       "HBox(children=(IntProgress(value=0, max=300), HTML(value='')))"
      ]
     },
     "metadata": {},
     "output_type": "display_data"
    },
    {
     "data": {
      "application/vnd.jupyter.widget-view+json": {
       "model_id": "",
       "version_major": 2,
       "version_minor": 0
      },
      "text/plain": [
       "HBox(children=(IntProgress(value=0, max=300), HTML(value='')))"
      ]
     },
     "metadata": {},
     "output_type": "display_data"
    },
    {
     "data": {
      "application/vnd.jupyter.widget-view+json": {
       "model_id": "",
       "version_major": 2,
       "version_minor": 0
      },
      "text/plain": [
       "HBox(children=(IntProgress(value=0, max=300), HTML(value='')))"
      ]
     },
     "metadata": {},
     "output_type": "display_data"
    },
    {
     "data": {
      "application/vnd.jupyter.widget-view+json": {
       "model_id": "",
       "version_major": 2,
       "version_minor": 0
      },
      "text/plain": [
       "HBox(children=(IntProgress(value=0, max=300), HTML(value='')))"
      ]
     },
     "metadata": {},
     "output_type": "display_data"
    },
    {
     "data": {
      "application/vnd.jupyter.widget-view+json": {
       "model_id": "",
       "version_major": 2,
       "version_minor": 0
      },
      "text/plain": [
       "HBox(children=(IntProgress(value=0, max=300), HTML(value='')))"
      ]
     },
     "metadata": {},
     "output_type": "display_data"
    },
    {
     "data": {
      "application/vnd.jupyter.widget-view+json": {
       "model_id": "",
       "version_major": 2,
       "version_minor": 0
      },
      "text/plain": [
       "HBox(children=(IntProgress(value=0, max=300), HTML(value='')))"
      ]
     },
     "metadata": {},
     "output_type": "display_data"
    },
    {
     "data": {
      "application/vnd.jupyter.widget-view+json": {
       "model_id": "",
       "version_major": 2,
       "version_minor": 0
      },
      "text/plain": [
       "HBox(children=(IntProgress(value=0, max=300), HTML(value='')))"
      ]
     },
     "metadata": {},
     "output_type": "display_data"
    },
    {
     "data": {
      "application/vnd.jupyter.widget-view+json": {
       "model_id": "",
       "version_major": 2,
       "version_minor": 0
      },
      "text/plain": [
       "HBox(children=(IntProgress(value=0, max=300), HTML(value='')))"
      ]
     },
     "metadata": {},
     "output_type": "display_data"
    },
    {
     "data": {
      "application/vnd.jupyter.widget-view+json": {
       "model_id": "",
       "version_major": 2,
       "version_minor": 0
      },
      "text/plain": [
       "HBox(children=(IntProgress(value=0, max=300), HTML(value='')))"
      ]
     },
     "metadata": {},
     "output_type": "display_data"
    },
    {
     "data": {
      "application/vnd.jupyter.widget-view+json": {
       "model_id": "",
       "version_major": 2,
       "version_minor": 0
      },
      "text/plain": [
       "HBox(children=(IntProgress(value=0, max=300), HTML(value='')))"
      ]
     },
     "metadata": {},
     "output_type": "display_data"
    },
    {
     "data": {
      "application/vnd.jupyter.widget-view+json": {
       "model_id": "",
       "version_major": 2,
       "version_minor": 0
      },
      "text/plain": [
       "HBox(children=(IntProgress(value=0, max=300), HTML(value='')))"
      ]
     },
     "metadata": {},
     "output_type": "display_data"
    },
    {
     "data": {
      "application/vnd.jupyter.widget-view+json": {
       "model_id": "",
       "version_major": 2,
       "version_minor": 0
      },
      "text/plain": [
       "HBox(children=(IntProgress(value=0, max=300), HTML(value='')))"
      ]
     },
     "metadata": {},
     "output_type": "display_data"
    },
    {
     "data": {
      "application/vnd.jupyter.widget-view+json": {
       "model_id": "",
       "version_major": 2,
       "version_minor": 0
      },
      "text/plain": [
       "HBox(children=(IntProgress(value=0, max=300), HTML(value='')))"
      ]
     },
     "metadata": {},
     "output_type": "display_data"
    },
    {
     "data": {
      "application/vnd.jupyter.widget-view+json": {
       "model_id": "",
       "version_major": 2,
       "version_minor": 0
      },
      "text/plain": [
       "HBox(children=(IntProgress(value=0, max=300), HTML(value='')))"
      ]
     },
     "metadata": {},
     "output_type": "display_data"
    },
    {
     "data": {
      "application/vnd.jupyter.widget-view+json": {
       "model_id": "",
       "version_major": 2,
       "version_minor": 0
      },
      "text/plain": [
       "HBox(children=(IntProgress(value=0, max=300), HTML(value='')))"
      ]
     },
     "metadata": {},
     "output_type": "display_data"
    },
    {
     "data": {
      "application/vnd.jupyter.widget-view+json": {
       "model_id": "",
       "version_major": 2,
       "version_minor": 0
      },
      "text/plain": [
       "HBox(children=(IntProgress(value=0, max=300), HTML(value='')))"
      ]
     },
     "metadata": {},
     "output_type": "display_data"
    },
    {
     "data": {
      "application/vnd.jupyter.widget-view+json": {
       "model_id": "",
       "version_major": 2,
       "version_minor": 0
      },
      "text/plain": [
       "HBox(children=(IntProgress(value=0, max=300), HTML(value='')))"
      ]
     },
     "metadata": {},
     "output_type": "display_data"
    },
    {
     "data": {
      "application/vnd.jupyter.widget-view+json": {
       "model_id": "",
       "version_major": 2,
       "version_minor": 0
      },
      "text/plain": [
       "HBox(children=(IntProgress(value=0, max=300), HTML(value='')))"
      ]
     },
     "metadata": {},
     "output_type": "display_data"
    },
    {
     "data": {
      "application/vnd.jupyter.widget-view+json": {
       "model_id": "",
       "version_major": 2,
       "version_minor": 0
      },
      "text/plain": [
       "HBox(children=(IntProgress(value=0, max=300), HTML(value='')))"
      ]
     },
     "metadata": {},
     "output_type": "display_data"
    },
    {
     "data": {
      "application/vnd.jupyter.widget-view+json": {
       "model_id": "",
       "version_major": 2,
       "version_minor": 0
      },
      "text/plain": [
       "HBox(children=(IntProgress(value=0, max=300), HTML(value='')))"
      ]
     },
     "metadata": {},
     "output_type": "display_data"
    },
    {
     "data": {
      "application/vnd.jupyter.widget-view+json": {
       "model_id": "",
       "version_major": 2,
       "version_minor": 0
      },
      "text/plain": [
       "HBox(children=(IntProgress(value=0, max=300), HTML(value='')))"
      ]
     },
     "metadata": {},
     "output_type": "display_data"
    },
    {
     "data": {
      "application/vnd.jupyter.widget-view+json": {
       "model_id": "",
       "version_major": 2,
       "version_minor": 0
      },
      "text/plain": [
       "HBox(children=(IntProgress(value=0, max=300), HTML(value='')))"
      ]
     },
     "metadata": {},
     "output_type": "display_data"
    },
    {
     "data": {
      "application/vnd.jupyter.widget-view+json": {
       "model_id": "",
       "version_major": 2,
       "version_minor": 0
      },
      "text/plain": [
       "HBox(children=(IntProgress(value=0, max=300), HTML(value='')))"
      ]
     },
     "metadata": {},
     "output_type": "display_data"
    },
    {
     "data": {
      "application/vnd.jupyter.widget-view+json": {
       "model_id": "",
       "version_major": 2,
       "version_minor": 0
      },
      "text/plain": [
       "HBox(children=(IntProgress(value=0, max=300), HTML(value='')))"
      ]
     },
     "metadata": {},
     "output_type": "display_data"
    },
    {
     "data": {
      "application/vnd.jupyter.widget-view+json": {
       "model_id": "",
       "version_major": 2,
       "version_minor": 0
      },
      "text/plain": [
       "HBox(children=(IntProgress(value=0, max=300), HTML(value='')))"
      ]
     },
     "metadata": {},
     "output_type": "display_data"
    },
    {
     "data": {
      "application/vnd.jupyter.widget-view+json": {
       "model_id": "",
       "version_major": 2,
       "version_minor": 0
      },
      "text/plain": [
       "HBox(children=(IntProgress(value=0, max=300), HTML(value='')))"
      ]
     },
     "metadata": {},
     "output_type": "display_data"
    },
    {
     "data": {
      "application/vnd.jupyter.widget-view+json": {
       "model_id": "",
       "version_major": 2,
       "version_minor": 0
      },
      "text/plain": [
       "HBox(children=(IntProgress(value=0, max=300), HTML(value='')))"
      ]
     },
     "metadata": {},
     "output_type": "display_data"
    },
    {
     "data": {
      "application/vnd.jupyter.widget-view+json": {
       "model_id": "",
       "version_major": 2,
       "version_minor": 0
      },
      "text/plain": [
       "HBox(children=(IntProgress(value=0, max=300), HTML(value='')))"
      ]
     },
     "metadata": {},
     "output_type": "display_data"
    },
    {
     "data": {
      "application/vnd.jupyter.widget-view+json": {
       "model_id": "",
       "version_major": 2,
       "version_minor": 0
      },
      "text/plain": [
       "HBox(children=(IntProgress(value=0, max=300), HTML(value='')))"
      ]
     },
     "metadata": {},
     "output_type": "display_data"
    },
    {
     "data": {
      "application/vnd.jupyter.widget-view+json": {
       "model_id": "",
       "version_major": 2,
       "version_minor": 0
      },
      "text/plain": [
       "HBox(children=(IntProgress(value=0, max=300), HTML(value='')))"
      ]
     },
     "metadata": {},
     "output_type": "display_data"
    },
    {
     "data": {
      "application/vnd.jupyter.widget-view+json": {
       "model_id": "",
       "version_major": 2,
       "version_minor": 0
      },
      "text/plain": [
       "HBox(children=(IntProgress(value=0, max=300), HTML(value='')))"
      ]
     },
     "metadata": {},
     "output_type": "display_data"
    },
    {
     "data": {
      "application/vnd.jupyter.widget-view+json": {
       "model_id": "",
       "version_major": 2,
       "version_minor": 0
      },
      "text/plain": [
       "HBox(children=(IntProgress(value=0, max=300), HTML(value='')))"
      ]
     },
     "metadata": {},
     "output_type": "display_data"
    },
    {
     "data": {
      "application/vnd.jupyter.widget-view+json": {
       "model_id": "",
       "version_major": 2,
       "version_minor": 0
      },
      "text/plain": [
       "HBox(children=(IntProgress(value=0, max=300), HTML(value='')))"
      ]
     },
     "metadata": {},
     "output_type": "display_data"
    },
    {
     "data": {
      "application/vnd.jupyter.widget-view+json": {
       "model_id": "",
       "version_major": 2,
       "version_minor": 0
      },
      "text/plain": [
       "HBox(children=(IntProgress(value=0, max=300), HTML(value='')))"
      ]
     },
     "metadata": {},
     "output_type": "display_data"
    },
    {
     "data": {
      "application/vnd.jupyter.widget-view+json": {
       "model_id": "",
       "version_major": 2,
       "version_minor": 0
      },
      "text/plain": [
       "HBox(children=(IntProgress(value=0, max=300), HTML(value='')))"
      ]
     },
     "metadata": {},
     "output_type": "display_data"
    },
    {
     "data": {
      "application/vnd.jupyter.widget-view+json": {
       "model_id": "",
       "version_major": 2,
       "version_minor": 0
      },
      "text/plain": [
       "HBox(children=(IntProgress(value=0, max=300), HTML(value='')))"
      ]
     },
     "metadata": {},
     "output_type": "display_data"
    },
    {
     "data": {
      "application/vnd.jupyter.widget-view+json": {
       "model_id": "",
       "version_major": 2,
       "version_minor": 0
      },
      "text/plain": [
       "HBox(children=(IntProgress(value=0, max=300), HTML(value='')))"
      ]
     },
     "metadata": {},
     "output_type": "display_data"
    },
    {
     "data": {
      "application/vnd.jupyter.widget-view+json": {
       "model_id": "",
       "version_major": 2,
       "version_minor": 0
      },
      "text/plain": [
       "HBox(children=(IntProgress(value=0, max=300), HTML(value='')))"
      ]
     },
     "metadata": {},
     "output_type": "display_data"
    },
    {
     "data": {
      "application/vnd.jupyter.widget-view+json": {
       "model_id": "",
       "version_major": 2,
       "version_minor": 0
      },
      "text/plain": [
       "HBox(children=(IntProgress(value=0, max=300), HTML(value='')))"
      ]
     },
     "metadata": {},
     "output_type": "display_data"
    },
    {
     "data": {
      "application/vnd.jupyter.widget-view+json": {
       "model_id": "",
       "version_major": 2,
       "version_minor": 0
      },
      "text/plain": [
       "HBox(children=(IntProgress(value=0, max=300), HTML(value='')))"
      ]
     },
     "metadata": {},
     "output_type": "display_data"
    },
    {
     "name": "stdout",
     "output_type": "stream",
     "text": [
      "\n"
     ]
    }
   ],
   "source": [
    "import warnings\n",
    "warnings.filterwarnings(\"ignore\")\n",
    "def neg_log_likelihood(params, *args):\n",
    "    coeffs = np.array(params[:-1])\n",
    "    inps = np.stack(args[:-1], axis=0)\n",
    "    U = (coeffs[:, None, None] * inps).sum(axis=0)\n",
    "    exponent = np.exp(U * params[-1])\n",
    "    P = (exponent.T / np.sum(exponent, axis=1)).T\n",
    "    logP = np.log(P[args[-1].astype(bool)])\n",
    "    logL = np.sum(logP, axis=0)\n",
    "    return -logL\n",
    "\n",
    "# Estimate the params\n",
    "df = lut.unpickle('supplementary/simple_choice_model/data/fit_data.pkl')\n",
    "df = df.loc[df.ntm != 0, :]\n",
    "\n",
    "# data_dict = {'form': [], 'sid': [], 'grp': [], 'ntm': [], 'loss': [], 'aic': [], 'bic': [],\n",
    "#              'alpha': [], 'beta': [], 'gamma': [], 'theta': [], 'tau': []}\n",
    "# varnames = np.array(('LP', 'PC', 'I', 'TR'))\n",
    "data_dict = {'form': [], 'sid': [], 'grp': [], 'ntm': [], 'loss': [], 'aic': [], 'bic': [],\n",
    "             'alpha': [], 'beta': [], 'gamma':[], 'tau': []}\n",
    "varnames = np.array(('LP', 'PC', 'IN'))\n",
    "alpha_bounds = [-1, 1]\n",
    "beta_bounds = [-1, 1]\n",
    "gamma_bounds = [0, 1]\n",
    "theta_bounds = [-1, 0]\n",
    "tau_bounds = [1, 10]\n",
    "\n",
    "# bounds = (alpha_bounds, beta_bounds, gamma_bounds, theta_bounds, tau_bounds)\n",
    "bounds = (alpha_bounds, beta_bounds, gamma_bounds, tau_bounds)\n",
    "\n",
    "# models, inds = [], [0,1,2,3]\n",
    "models, inds = [], [0,1]\n",
    "\n",
    "for s in range(1,len(inds)+1):\n",
    "    models += combinations(inds, s)\n",
    "\n",
    "\n",
    "grouped = df.groupby('sid')\n",
    "with tqdm_notebook(total=len(grouped)) as progbar:\n",
    "    for i, sdf in grouped:\n",
    "        sid, grp, ntm = sdf.sid.values[0], sdf.grp.values[0], sdf.ntm.values[0]\n",
    "        lps = sdf.loc[:, 'lp1':'lp4'].values[1:, :]\n",
    "        pcs = sdf.loc[:, 'pc1':'pc4'].values[1:, :]\n",
    "        ins = sdf.loc[:, 'in1':'in4'].values[1:, :]\n",
    "        chs = sdf.loc[:, 'ch1':'ch4'].values[1:, :]\n",
    "        time_alloc = (sdf.loc[:, 'ch1':'ch4'].values[1:, :].cumsum(axis=0) + 15)\n",
    "        trs = (time_alloc.T / time_alloc.sum(axis=1)).T\n",
    "\n",
    "#         data = (lps, pcs, ins, trs, chs)\n",
    "        data = (lps, pcs, ins, chs)\n",
    "\n",
    "        for model in models:\n",
    "            subdata = [data[mi] for mi in model] + [data[-1]]\n",
    "            subbounds = [bounds[mi] for mi in model] + [bounds[-1]]\n",
    "\n",
    "#             x, f, d = sp.optimize.fmin_l_bfgs_b(func=neg_log_likelihood, x0=subguess, args=tuple(subdata),\n",
    "#                                             approx_grad=True, disp=False, bounds=subbounds)\n",
    "            \n",
    "            xs, fs = [], []\n",
    "            with tqdm_notebook(total=300, leave=False) as progbar2:\n",
    "                for seed in range(300):\n",
    "                    init_guess = sim_tools.rand_params(bounds).tolist()\n",
    "                    subguess = [init_guess[mi] for mi in model] + [init_guess[-1]]\n",
    "                    res = sp.optimize.minimize(neg_log_likelihood, x0=subguess, args=tuple(subdata))\n",
    "                    xs.append(res.x)\n",
    "                    fs.append(res.fun)\n",
    "                    progbar2.update()\n",
    "                    \n",
    "#             x, f = np.stack(xs, axis=0).mean(axis=0), np.mean(fs)\n",
    "            x, f = xs[np.nanargmin(fs)], np.nanmin(fs)\n",
    "            \n",
    "            # Store params\n",
    "            vec = np.full(4, np.nan)\n",
    "            vec[tuple([model])] = x[:-1]\n",
    "            vec[-1] = x[-1]\n",
    "            data_dict['form'].append(' + '.join(varnames[tuple([model])]))\n",
    "            data_dict['sid'].append(sid)\n",
    "            data_dict['grp'].append(grp)\n",
    "            data_dict['ntm'].append(ntm)\n",
    "            data_dict['loss'].append(f)\n",
    "            data_dict['aic'].append(2*f + 2*len(models))\n",
    "            data_dict['bic'].append(2*f + np.log(chs.shape[0])*len(models))\n",
    "            data_dict['alpha'].append(vec[0])\n",
    "            data_dict['beta'].append(vec[1])\n",
    "            data_dict['gamma'].append(vec[2])\n",
    "#             data_dict['gamma'].append(vec[2])\n",
    "#             data_dict['theta'].append(vec[3])\n",
    "            data_dict['tau'].append(vec[3])\n",
    "        progbar.update()\n",
    "\n",
    "# Calculate parameter stats\n",
    "fdf = pd.DataFrame(data_dict)\n",
    "fdf.to_csv('model_comparison_300.csv')\n",
    "# fdf = pd.read_csv('model_comparison.csv')\n",
    "# gfdf = fdf.groupby(['form']).mean()[['aic', 'bic']]\n",
    "# display(gfdf.sort_values(by='aic'))"
   ]
  },
  {
   "cell_type": "markdown",
   "metadata": {
    "heading_collapsed": true
   },
   "source": [
    "### Approach n.2"
   ]
  },
  {
   "cell_type": "code",
   "execution_count": 320,
   "metadata": {
    "ExecuteTime": {
     "end_time": "2020-02-11T12:58:26.520634Z",
     "start_time": "2020-02-11T12:58:25.612544Z"
    },
    "hidden": true,
    "scrolled": false
   },
   "outputs": [
    {
     "data": {
      "text/html": [
       "<div>\n",
       "<style scoped>\n",
       "    .dataframe tbody tr th:only-of-type {\n",
       "        vertical-align: middle;\n",
       "    }\n",
       "\n",
       "    .dataframe tbody tr th {\n",
       "        vertical-align: top;\n",
       "    }\n",
       "\n",
       "    .dataframe thead th {\n",
       "        text-align: right;\n",
       "    }\n",
       "</style>\n",
       "<table border=\"1\" class=\"dataframe\">\n",
       "  <thead>\n",
       "    <tr style=\"text-align: right;\">\n",
       "      <th></th>\n",
       "      <th>aic</th>\n",
       "      <th>bic</th>\n",
       "    </tr>\n",
       "    <tr>\n",
       "      <th>form</th>\n",
       "      <th></th>\n",
       "      <th></th>\n",
       "    </tr>\n",
       "  </thead>\n",
       "  <tbody>\n",
       "    <tr>\n",
       "      <th>LP + PC</th>\n",
       "      <td>552.86381</td>\n",
       "      <td>563.40410</td>\n",
       "    </tr>\n",
       "    <tr>\n",
       "      <th>PC</th>\n",
       "      <td>585.50776</td>\n",
       "      <td>596.04804</td>\n",
       "    </tr>\n",
       "    <tr>\n",
       "      <th>LP</th>\n",
       "      <td>650.45814</td>\n",
       "      <td>660.99843</td>\n",
       "    </tr>\n",
       "  </tbody>\n",
       "</table>\n",
       "</div>"
      ],
      "text/plain": [
       "              aic       bic\n",
       "form                       \n",
       "LP + PC 552.86381 563.40410\n",
       "PC      585.50776 596.04804\n",
       "LP      650.45814 660.99843"
      ]
     },
     "metadata": {},
     "output_type": "display_data"
    },
    {
     "data": {
      "text/html": [
       "<div>\n",
       "<style scoped>\n",
       "    .dataframe tbody tr th:only-of-type {\n",
       "        vertical-align: middle;\n",
       "    }\n",
       "\n",
       "    .dataframe tbody tr th {\n",
       "        vertical-align: top;\n",
       "    }\n",
       "\n",
       "    .dataframe thead th {\n",
       "        text-align: right;\n",
       "    }\n",
       "</style>\n",
       "<table border=\"1\" class=\"dataframe\">\n",
       "  <thead>\n",
       "    <tr style=\"text-align: right;\">\n",
       "      <th></th>\n",
       "      <th>aic</th>\n",
       "      <th>bic</th>\n",
       "    </tr>\n",
       "    <tr>\n",
       "      <th>form</th>\n",
       "      <th></th>\n",
       "      <th></th>\n",
       "    </tr>\n",
       "  </thead>\n",
       "  <tbody>\n",
       "    <tr>\n",
       "      <th>LP</th>\n",
       "      <td>61.81197</td>\n",
       "      <td>61.81197</td>\n",
       "    </tr>\n",
       "    <tr>\n",
       "      <th>PC</th>\n",
       "      <td>115.81867</td>\n",
       "      <td>115.81867</td>\n",
       "    </tr>\n",
       "    <tr>\n",
       "      <th>LP + PC</th>\n",
       "      <td>127.60359</td>\n",
       "      <td>127.60359</td>\n",
       "    </tr>\n",
       "  </tbody>\n",
       "</table>\n",
       "</div>"
      ],
      "text/plain": [
       "              aic       bic\n",
       "form                       \n",
       "LP       61.81197  61.81197\n",
       "PC      115.81867 115.81867\n",
       "LP + PC 127.60359 127.60359"
      ]
     },
     "metadata": {},
     "output_type": "display_data"
    },
    {
     "name": "stdout",
     "output_type": "stream",
     "text": [
      "0.734375\n"
     ]
    }
   ],
   "source": [
    "fdf = pd.read_csv('model_comparison_300.csv')\n",
    "\n",
    "gfdf = fdf.groupby(['form']).mean()[['aic', 'bic']]\n",
    "display(gfdf.sort_values(by='aic'))\n",
    "gfdf = fdf.groupby(['form']).std()[['aic', 'bic']]\n",
    "display(gfdf.sort_values(by='aic'))\n",
    "\n",
    "remove_list = ['LP + IN','PC + IN', 'LP + PC + IN', 'IN']\n",
    "fdf = fdf[~fdf['form'].isin(remove_list)]\n",
    "# display(fdf.head())\n",
    "\n",
    "pivdf = fdf.pivot(index='sid', columns='form', values='aic')[['LP + PC','PC','LP']]\n",
    "pivdf['aic_min'] = np.nanargmin(pivdf.values, axis=1)\n",
    "a = pivdf.values[:,:-1]\n",
    "ashape = np.arange(a.shape[0])\n",
    "a[ashape, pivdf.aic_min.values] = 9999\n",
    "pivdf['aic_sec'] = np.nanargmin(a, axis=1)\n",
    "a = pivdf.values[:,[0,1,2]]\n",
    "pivdf['min_diff'] = a[ashape, pivdf.aic_sec] - a[ashape, pivdf.aic_min]\n",
    "pivdf['ref_diff'] =  a[ashape, pivdf.aic_sec] - a[:, 0]\n",
    "\n",
    "y1, y2 = a[ashape, pivdf.aic_sec], a[:, 0]\n",
    "\n",
    "diff = y1 - y2\n",
    "print(np.sum(diff>=2)/diff.size)\n",
    "# print(sp.stats.ttest_rel(y1, y2, nan_policy='omit'))"
   ]
  },
  {
   "cell_type": "code",
   "execution_count": null,
   "metadata": {
    "hidden": true
   },
   "outputs": [],
   "source": []
  },
  {
   "cell_type": "markdown",
   "metadata": {
    "heading_collapsed": true
   },
   "source": [
    "## Simulate 1"
   ]
  },
  {
   "cell_type": "code",
   "execution_count": null,
   "metadata": {
    "ExecuteTime": {
     "end_time": "2020-01-06T13:15:22.706059Z",
     "start_time": "2020-01-06T13:15:21.719Z"
    },
    "hidden": true,
    "scrolled": false
   },
   "outputs": [],
   "source": [
    "# Visualize empirical data\n",
    "plt.close()\n",
    "fig = plt.figure('Fitting individuals', figsize=[9,4])\n",
    "ax_ = vut.pretty(fig.add_subplot(2,3,3))\n",
    "group_choices = df.groupby(['grp', 'trial']).mean()\n",
    "for grp in [0, 1]:\n",
    "    ax = vut.pretty(fig.add_subplot(2,3,grp+1))\n",
    "    ax.set_title('% selection across time ({})'.format('FS'[grp]))\n",
    "    ax.set_ylim(0,.7)\n",
    "    if not grp: ax.set_ylabel('Empirical data')\n",
    "        \n",
    "    for tid in [1, 2, 3, 4]:   \n",
    "        ax.plot(group_choices.loc[(grp, slice(None)), 'ch{}'.format(tid)].values, color = colors[tid-1])\n",
    "    \n",
    "    ax_.set_title('Total time allocation')\n",
    "    ax_.plot(group_choices.loc[(grp, slice(None)), 'ch1':'ch4'].values.mean(axis=0), \n",
    "            color=['#008fd5', '#fc4f30'][grp], label='FS'[grp], lw=2)\n",
    "    ax_.set_xticks([0,1,2,3])\n",
    "    ax_.set_xticklabels(['1D', 'I1D', '2D', 'R'])\n",
    "    ax_.set_ylim(0,.7)\n",
    "ax_.legend()\n",
    "    \n",
    "# Visualize data generated by simulation with estimated parameters\n",
    "df = lut.unpickle('supplementary/simple_choice_model/data/fit_data.pkl')\n",
    "df = df.loc[df.ntm != 0, :]\n",
    "N_trials = 250\n",
    "group_sizes = (df.groupby(['grp','ntm','sid']).count()/249).reset_index().groupby(['grp','ntm']).count()\n",
    "N_runs = 1\n",
    "\n",
    "# Calculate parameter stats\n",
    "arr = lut.unpickle('mult_seeds_data.pkl')\n",
    "best = np.argmin(arr[:, :, 3], axis=0)\n",
    "arr = arr[best, np.arange(320), :]\n",
    "keys = ['sid', 'grp', 'ntm', 'loss', 'aic', 'aic_0', 'aic_diff', 'alpha', 'beta', 'tau']\n",
    "fdf = pd.DataFrame(data=arr, columns=keys)\n",
    "good_fit = (fdf.aic_diff>=2) & (np.abs(fdf.alpha) <=5) & (np.abs(fdf.beta) <=5)\n",
    "print('{} / {} = {}'.format(np.sum(good_fit),fdf.shape[0],np.sum(good_fit)/fdf.shape[0]))\n",
    "fdf = fdf.loc[good_fit]\n",
    "\n",
    "runs_data = {0: [], 1: []}\n",
    "for run in range(N_runs):\n",
    "    for grp in [0, 1]:\n",
    "        grp_simdata = []\n",
    "        for ntm in [1, 2, 3]:\n",
    "            sids = df.loc[(df.grp==grp) & (df.ntm==ntm), 'sid'].unique()\n",
    "            N_sim = group_sizes.loc[(grp, ntm), 'sid']\n",
    "            sids = np.random.choice(sids, size=N_sim)\n",
    "            hits_params = hits.get_parametric(grp=grp, ntm=ntm)\n",
    "            trials = np.arange(N_trials) + 1\n",
    "            probs = np.stack([1 / (1 + np.exp(-(hits_params[tid][0] + hits_params[tid][1]*trials))) for tid in [1,2,3,4]], axis=1)\n",
    "            simhits = (np.random.rand(N_sim, N_trials, 4) <= probs).astype(int)\n",
    "            init_data = sim_tools.get_multiple_sids(sids)\n",
    "\n",
    "            simdata = []\n",
    "            for i, sid in enumerate(sids):\n",
    "                if sid in list(fdf.sid):\n",
    "                    alpha, beta, tau = fdf.set_index('sid').loc[sid, 'alpha':'tau'].values\n",
    "                    choices = sim_tools.simple_simulation(init_state=init_data[i, :, :], \n",
    "                                                          win1=10, win2=9, N=N_trials, \n",
    "                                                          hits = simhits[i, :, :], \n",
    "                                                          alpha=alpha, beta=beta, \n",
    "                                                          gamma=0, theta=0, tau=tau,\n",
    "                                                          inverse_temp=True)\n",
    "                    simdata.append(np.eye(4)[choices.astype(int)])\n",
    "                else:\n",
    "                    continue\n",
    "            grp_simdata.append(np.stack(simdata, axis=0).mean(axis=0))\n",
    "        runs_data[grp].append(np.stack(grp_simdata, axis=0).mean(axis=0))\n",
    "\n",
    "ax_ = vut.pretty(fig.add_subplot(2,3,6))\n",
    "for grp in [0, 1]:\n",
    "    mean_runs_data = np.stack(runs_data[grp], axis=0).mean(axis=0)\n",
    "    se_runs_data = sp.stats.sem(np.stack(runs_data[grp], axis=0), axis=0)\n",
    "    \n",
    "    # Plot simulated percent selection across time\n",
    "    ax = vut.pretty(fig.add_subplot(2,3,grp+4))\n",
    "    ax.set_ylim(0,.7)\n",
    "    if not grp: ax.set_ylabel('Simulated data')\n",
    "    for tid in [1, 2, 3, 4]:   \n",
    "        ax.plot(mean_runs_data[:, tid-1], color = colors[tid-1])\n",
    "        ax.fill_between(np.arange(mean_runs_data.shape[0]), \n",
    "                        mean_runs_data[:, tid-1]+se_runs_data[:, tid-1], \n",
    "                        mean_runs_data[:, tid-1]-se_runs_data[:, tid-1], \n",
    "                        color = colors[tid-1], alpha=.3)\n",
    "        \n",
    "    # Plot simulated TIME ALLOCATION\n",
    "    ax_.plot(mean_runs_data.mean(axis=0), color=['#008fd5', '#fc4f30'][grp], lw=2)\n",
    "    ax_.fill_between([0,1,2,3], \n",
    "                        mean_runs_data.mean(axis=0)+se_runs_data.mean(axis=0), \n",
    "                        mean_runs_data.mean(axis=0)-se_runs_data.mean(axis=0), \n",
    "                        color = ['#008fd5', '#fc4f30'][grp], alpha=.3)\n",
    "    ax_.set_xticks([0,1,2,3])\n",
    "    ax_.set_xticklabels(['1D', 'I1D', '2D', 'R'])\n",
    "    ax_.set_ylim(0, .7)\n",
    "    \n",
    "fig.savefig('/Users/alexten/Desktop/fitted_runs_LP_PC_only_.png')"
   ]
  },
  {
   "cell_type": "markdown",
   "metadata": {
    "code_folding": [],
    "heading_collapsed": true
   },
   "source": [
    "## Compare LP and PC"
   ]
  },
  {
   "cell_type": "code",
   "execution_count": null,
   "metadata": {
    "ExecuteTime": {
     "end_time": "2020-01-06T13:15:22.708121Z",
     "start_time": "2020-01-06T13:15:21.724Z"
    },
    "code_folding": [],
    "hidden": true,
    "scrolled": false
   },
   "outputs": [],
   "source": [
    "import warnings\n",
    "warnings.filterwarnings(\"ignore\")\n",
    "only_switch_trials = False\n",
    "apply_bounds = False\n",
    "\n",
    "bounds = OrderedDict({\n",
    "          'alpha':[-1, 1],\n",
    "#           'beta':[-10, 10],\n",
    "          'tau':[1,10]})\n",
    "\n",
    "def neg_log_likelihood(params, *args):\n",
    "    coeffs = np.array(params[:-1])\n",
    "    inps = np.stack(args[:-1], axis=0)\n",
    "    U = (coeffs[:, None, None] * inps).sum(axis=0)\n",
    "    exponent = np.exp(U * params[-1])\n",
    "    P = (exponent.T / np.sum(exponent, axis=1)).T\n",
    "    logP = np.log(P[args[-1].astype(bool)])\n",
    "    logL = np.sum(logP, axis=0)\n",
    "    return -logL\n",
    "\n",
    "# Estimate the params\n",
    "df = lut.unpickle('supplementary/simple_choice_model/data/fit_data.pkl')\n",
    "df = df.loc[df.ntm != 0, :]\n",
    "\n",
    "if only_switch_trials:\n",
    "    z = lut.unpickle('supplementary/simple_choice_model/data/trials_data_w15.pkl')\n",
    "    z.loc[:, 'trial'] = z.trial - 60\n",
    "    df = df.merge(z.loc[:, ('sid','trial','switch')], on=['sid','trial']).drop_duplicates()\n",
    "    df = df.loc[df.switch==1]\n",
    "\n",
    "arr = []\n",
    "for seed in range(50):\n",
    "    print(seed, end=' ')\n",
    "    np.random.seed(seed)\n",
    "    data_dict = {'sid': [], 'grp': [], 'ntm': [], \n",
    "                 'loss1': [], 'loss2': [],\n",
    "                 'coef1': [], 'coef2': [],\n",
    "                 'aic0': [], 'aic1': [],  'aic2': [], 'aic3': [], \n",
    "                 'aic_min': [], 'bivariate_best': []}\n",
    "\n",
    "    init_guess = sim_tools.rand_params([bound for bound in bounds.values()])\n",
    "    \n",
    "    for i, sdf in df.groupby('sid'):\n",
    "        sid, grp, ntm = sdf.sid.values[0], sdf.grp.values[0], sdf.ntm.values[0]\n",
    "        lps = sdf.loc[:, 'lp1':'lp4'].values[1:, :]\n",
    "        pcs = sdf.loc[:, 'pc1':'pc4'].values[1:, :]\n",
    "        ins = sdf.loc[:, 'in1':'in4'].values[1:, :]\n",
    "        chs = sdf.loc[:, 'ch1':'ch4'].values[1:, :]\n",
    "        time_alloc = (sdf.loc[:, 'ch1':'ch4'].values[1:, :].cumsum(axis=0) + 15)\n",
    "        trs = (time_alloc.T / time_alloc.sum(axis=1)).T\n",
    "\n",
    "#         data = {'alpha':lps, 'beta':pcs, 'gamma':ins, 'theta':trs, 'tau':chs}\n",
    "#         data = tuple([data[k] for k in bounds.keys()])\n",
    "#         data_arr = np.stack(data, axis=0)\n",
    "        \n",
    "        data1 = (lps, chs)\n",
    "        data2 = (pcs, chs)\n",
    "        data3 = (lps, pcs, chs)\n",
    "\n",
    "        if apply_bounds:\n",
    "            x, f, d = sp.optimize.fmin_l_bfgs_b(func=neg_log_likelihood, x0=init_guess, args=data1,\n",
    "                                            approx_grad=True, disp=False, bounds=tuple(bounds.values()))\n",
    "        else:\n",
    "            res1 = sp.optimize.minimize(neg_log_likelihood, x0=init_guess, args=data1)\n",
    "            res2 = sp.optimize.minimize(neg_log_likelihood, x0=init_guess, args=data2)\n",
    "            res3 = sp.optimize.minimize(neg_log_likelihood, x0=sim_tools.rand_params([bound for bound in [(-1,1),(-1,1),(1,10)]]), args=data3)\n",
    "\n",
    "            x1, f1 = res1.x, res1.fun\n",
    "            x2, f2 = res2.x, res2.fun\n",
    "            x3, f3 = res3.x, res3.fun\n",
    "            \n",
    "        baseline = neg_log_likelihood([0 for k in bounds.keys()], *data1)\n",
    "        aic0 = 2*baseline\n",
    "        aic1 = 2*f1 + 4\n",
    "        aic2 = 2*f2 + 4\n",
    "        aic3 = 2*f3 + 6\n",
    "        \n",
    "        # Store params   \n",
    "        data_dict['sid'].append(sid)\n",
    "        data_dict['grp'].append(grp)\n",
    "        data_dict['ntm'].append(ntm)\n",
    "        data_dict['loss1'].append(f1)\n",
    "        data_dict['loss2'].append(f2)\n",
    "        data_dict['coef1'].append(x1[0])\n",
    "        data_dict['coef2'].append(x2[0])\n",
    "        data_dict['aic0'].append(aic0)\n",
    "        data_dict['aic1'].append(aic1)\n",
    "        data_dict['aic2'].append(aic2)\n",
    "        data_dict['aic_min'].append(np.nanmin((data_dict['aic1'][-1], data_dict['aic2'][-1])))\n",
    "        data_dict['aic3'].append(aic3)\n",
    "        data_dict['bivariate_best'].append(int((aic3<aic1) & (aic3<aic2)))\n",
    "        \n",
    "    arr.append(pd.DataFrame(data_dict).values)\n",
    "    \n",
    "arr = np.stack(arr, axis=0)\n",
    "lut.dopickle('/Users/alexten/Projects/Concept-Lab/mult_seeds_data_alphaVSbeta_plus.pkl', data=arr)"
   ]
  },
  {
   "cell_type": "code",
   "execution_count": null,
   "metadata": {
    "ExecuteTime": {
     "end_time": "2020-01-06T13:15:22.715710Z",
     "start_time": "2020-01-06T13:15:21.731Z"
    },
    "hidden": true,
    "scrolled": false
   },
   "outputs": [],
   "source": [
    "# Calculate parameter stats\n",
    "keys = 'sid,grp,ntm,loss1,loss2,coef1,coef2,aic0,aic1,aic2,aic3,aic_min,bivariate_best'.split(',')\n",
    "arr = lut.unpickle('mult_seeds_data_alphaVSbeta_plus.pkl')\n",
    "best = np.nanargmin(arr[:, :, -1], axis=0)\n",
    "arr = arr[best, np.arange(320), :]\n",
    "fdf = pd.DataFrame(data=arr, columns=keys)\n",
    "fdf.loc[fdf.ntm<=2, 'ntm'] = 1\n",
    "\n",
    "good_fit = (np.abs(fdf.coef1) <=10) & (np.abs(fdf.coef2) <=10)\n",
    "print('{} / {} = {}'.format(np.sum(good_fit),fdf.shape[0],np.sum(good_fit)/fdf.shape[0]))\n",
    "fdf = fdf.loc[good_fit]\n",
    "\n",
    "lpbest = fdf.aic1 < fdf.aic2\n",
    "lpmods = fdf.loc[lpbest, :]\n",
    "pcmods = fdf.loc[~lpbest, :]\n",
    "\n",
    "fig = plt.figure('Comparing LP and PC', figsize=[6, 3])\n",
    "gs = GridSpec(1, 2)\n",
    "\n",
    "for i, mods in enumerate([lpmods, pcmods]):\n",
    "    ax = vut.pretty(fig.add_subplot(gs[0, i]), 'y')\n",
    "    print(mods.loc[:, 'coef{}'.format(i+1)].mean())\n",
    "    for grp in [0, 1]:\n",
    "        inds = np.array([1, 2]) + [-.01, .01][grp]\n",
    "        means = []\n",
    "        sems = []\n",
    "        for ntm in [1, 3]:\n",
    "            mask = (mods.grp==grp) & (mods.ntm==ntm)\n",
    "            report = (grp, ntm, mask.sum(), int(mods.loc[mask, 'bivariate_best'].sum()), y.mean())\n",
    "            print('grp = {0}, ntm = {1}, N = {2}, N_biv_best = {3}, mean = {4:0.2f}'.format(*report))\n",
    "            \n",
    "            y = mods.loc[mask, 'coef{}'.format(i+1)]\n",
    "            means.append(y.mean())\n",
    "            sems.append(y.sem())\n",
    "        \n",
    "        ax.errorbar(inds, means, yerr=sems, capsize=4, marker='os'[grp],\n",
    "                    c=gcolors[grp], lw=2, label=fullglabels[grp])\n",
    "\n",
    "    ax.set_xlabel('Tasks mastered', fontsize=12)\n",
    "    ax.set_title('Coefficient value (LP)' if i==0 else 'Coefficient value (PC)', fontsize=12)\n",
    "    ax.legend()\n",
    "    ax.set_xticks([1, 2])\n",
    "    ax.set_xticklabels(['Not all', 'All'])\n",
    "    ax.set_xlim([.7,2.3])\n",
    "\n",
    "    lm = ols('coef{} ~ C(grp) + C(ntm)'.format(i+1), data=mods).fit()\n",
    "    display(lm.summary())\n",
    "    lm = ols('coef{} ~ C(grp) * C(ntm)'.format(i+1), data=mods).fit()\n",
    "    display(lm.summary())\n",
    "    \n",
    "fig.tight_layout()\n",
    "fig.savefig('/Users/alexten/Desktop/univariate_models.png')"
   ]
  },
  {
   "cell_type": "code",
   "execution_count": null,
   "metadata": {
    "ExecuteTime": {
     "end_time": "2020-01-06T13:15:22.719375Z",
     "start_time": "2020-01-06T13:15:21.738Z"
    },
    "hidden": true
   },
   "outputs": [],
   "source": [
    "# Calculate parameter stats\n",
    "keys = 'sid,grp,ntm,loss1,loss2,coef1,coef2,aic0,aic1,aic2,aic3,aic_min,bivariate_best'.split(',')\n",
    "arr = lut.unpickle('mult_seeds_data_alphaVSbeta_plus.pkl')\n",
    "best = np.nanargmin(arr[:, :, -1], axis=0)\n",
    "arr = arr[best, np.arange(320), :]\n",
    "fdf = pd.DataFrame(data=arr, columns=keys)\n",
    "fdf.loc[fdf.ntm<=2, 'ntm'] = 1\n",
    "\n",
    "good_fit = (np.abs(fdf.coef1) <=10) & (np.abs(fdf.coef2) <=10)\n",
    "print('{} / {} = {}'.format(np.sum(good_fit),fdf.shape[0],np.sum(good_fit)/fdf.shape[0]))\n",
    "fdf = fdf.loc[good_fit]\n",
    "\n",
    "lpbest = fdf.aic1 < fdf.aic2\n",
    "lpmods = fdf.loc[lpbest, :]\n",
    "pcmods = fdf.loc[~lpbest, :]\n",
    "\n",
    "fig = plt.figure('Comparing LP and PC bars', figsize=[5, 4])\n",
    "ax = vut.pretty(fig.add_subplot(111), 'y')\n",
    "\n",
    "means, sems = [], []\n",
    "for i, mods in enumerate([lpmods, pcmods]):\n",
    "    means.append(mods.groupby(['grp', 'ntm'])[['coef{}'.format(i+1)]].mean())\n",
    "    sems.append(mods.groupby(['grp', 'ntm'])[['coef{}'.format(i+1)]].sem())\n",
    "\n",
    "width = .20\n",
    "ind = np.array([2, 1])\n",
    "i = 0\n",
    "# for ntm in [1, 3]:\n",
    "for mod in [0, 1]:\n",
    "    for grp in [0, 1]:\n",
    "        pos = ind + width*i\n",
    "        y = means[mod].loc[(grp, slice(None)), :].values.squeeze()\n",
    "        yerr = sems[mod].loc[(grp, slice(None)), :].values.squeeze()\n",
    "        ax.bar(pos-width*2, y, width,\n",
    "               yerr = yerr,\n",
    "               align='edge',\n",
    "               color=gcolors[grp], zorder=2, error_kw={'zorder': 3},\n",
    "               hatch=r'//' if mod else None, edgecolor='w')\n",
    "        i += 1\n",
    "\n",
    "ax.set_xticks([2, 1])\n",
    "ax.set_xticklabels(['NTM-1|2', 'NTM-3'], fontsize=12)\n",
    "ax.set_ylabel('Coefficient value\\n(Mean and SEM)', fontsize=12)\n",
    "\n",
    "blue = mpl.patches.Patch(color=gcolors[0], label='Free')\n",
    "red = mpl.patches.Patch(color=gcolors[1], label='Strategic')\n",
    "solid = mpl.patches.Patch(color='k', label='LP models')\n",
    "hatch = mpl.patches.Patch(facecolor='black', hatch=r'///', \n",
    "                          edgecolor='white', label='PC models')\n",
    "\n",
    "ax.legend(handles=[blue, red, solid, hatch], ncol=2,\n",
    "              bbox_to_anchor=(0.5, 1), loc='lower center', fontsize=12,\n",
    "              handler_map={tuple: mpl.legend_handler.HandlerTuple(ndivide=None)})\n",
    "\n",
    "fig.tight_layout()\n",
    "fig.savefig('/Users/alexten/Desktop/univariate_models_bar.png')"
   ]
  },
  {
   "cell_type": "markdown",
   "metadata": {
    "heading_collapsed": true
   },
   "source": [
    "## Does PC / LP sensitivity predict learning / R selection?"
   ]
  },
  {
   "cell_type": "markdown",
   "metadata": {},
   "source": [
    "## Model comparisons"
   ]
  },
  {
   "cell_type": "code",
   "execution_count": 332,
   "metadata": {
    "ExecuteTime": {
     "end_time": "2020-02-11T14:20:30.186370Z",
     "start_time": "2020-02-11T14:20:28.681101Z"
    },
    "code_folding": [
     48
    ],
    "run_control": {
     "marked": false
    },
    "scrolled": false
   },
   "outputs": [
    {
     "name": "stdout",
     "output_type": "stream",
     "text": [
      "313 / 320 = 0.978125\n"
     ]
    },
    {
     "data": {
      "text/html": [
       "<div>\n",
       "<style scoped>\n",
       "    .dataframe tbody tr th:only-of-type {\n",
       "        vertical-align: middle;\n",
       "    }\n",
       "\n",
       "    .dataframe tbody tr th {\n",
       "        vertical-align: top;\n",
       "    }\n",
       "\n",
       "    .dataframe thead th {\n",
       "        text-align: right;\n",
       "    }\n",
       "</style>\n",
       "<table border=\"1\" class=\"dataframe\">\n",
       "  <thead>\n",
       "    <tr style=\"text-align: right;\">\n",
       "      <th></th>\n",
       "      <th>grp</th>\n",
       "      <th>ntm</th>\n",
       "      <th>loss</th>\n",
       "      <th>aic</th>\n",
       "      <th>aic_0</th>\n",
       "      <th>aic_diff</th>\n",
       "      <th>alpha</th>\n",
       "      <th>beta</th>\n",
       "      <th>tau</th>\n",
       "      <th>wscore</th>\n",
       "      <th>meanlp</th>\n",
       "      <th>lp2d</th>\n",
       "      <th>rselect</th>\n",
       "      <th>select2d</th>\n",
       "      <th>sid</th>\n",
       "      <th>selectR_lp3</th>\n",
       "      <th>select2D_lp3</th>\n",
       "      <th>alpha_abs</th>\n",
       "    </tr>\n",
       "    <tr>\n",
       "      <th>sid</th>\n",
       "      <th></th>\n",
       "      <th></th>\n",
       "      <th></th>\n",
       "      <th></th>\n",
       "      <th></th>\n",
       "      <th></th>\n",
       "      <th></th>\n",
       "      <th></th>\n",
       "      <th></th>\n",
       "      <th></th>\n",
       "      <th></th>\n",
       "      <th></th>\n",
       "      <th></th>\n",
       "      <th></th>\n",
       "      <th></th>\n",
       "      <th></th>\n",
       "      <th></th>\n",
       "      <th></th>\n",
       "    </tr>\n",
       "  </thead>\n",
       "  <tbody>\n",
       "    <tr>\n",
       "      <th>0</th>\n",
       "      <td>0</td>\n",
       "      <td>3</td>\n",
       "      <td>340.46356</td>\n",
       "      <td>686.92713</td>\n",
       "      <td>693.60200</td>\n",
       "      <td>6.67487</td>\n",
       "      <td>-0.21689</td>\n",
       "      <td>0.13006</td>\n",
       "      <td>5.57588</td>\n",
       "      <td>0.96667</td>\n",
       "      <td>64.33333</td>\n",
       "      <td>79</td>\n",
       "      <td>0.22400</td>\n",
       "      <td>0.71200</td>\n",
       "      <td>0</td>\n",
       "      <td>0.28947</td>\n",
       "      <td>0.40351</td>\n",
       "      <td>0.21689</td>\n",
       "    </tr>\n",
       "    <tr>\n",
       "      <th>1</th>\n",
       "      <td>0</td>\n",
       "      <td>3</td>\n",
       "      <td>332.88334</td>\n",
       "      <td>671.76668</td>\n",
       "      <td>693.60200</td>\n",
       "      <td>21.83532</td>\n",
       "      <td>0.24237</td>\n",
       "      <td>-0.05585</td>\n",
       "      <td>8.71224</td>\n",
       "      <td>0.78889</td>\n",
       "      <td>72.33333</td>\n",
       "      <td>179</td>\n",
       "      <td>0.20000</td>\n",
       "      <td>0.38800</td>\n",
       "      <td>1</td>\n",
       "      <td>0.07263</td>\n",
       "      <td>0.35196</td>\n",
       "      <td>0.24237</td>\n",
       "    </tr>\n",
       "    <tr>\n",
       "      <th>2</th>\n",
       "      <td>0</td>\n",
       "      <td>1</td>\n",
       "      <td>295.13709</td>\n",
       "      <td>596.27418</td>\n",
       "      <td>693.60200</td>\n",
       "      <td>97.32782</td>\n",
       "      <td>0.13391</td>\n",
       "      <td>0.76433</td>\n",
       "      <td>3.55653</td>\n",
       "      <td>0.48889</td>\n",
       "      <td>178.66667</td>\n",
       "      <td>250</td>\n",
       "      <td>0.39600</td>\n",
       "      <td>0.00000</td>\n",
       "      <td>2</td>\n",
       "      <td>0.39600</td>\n",
       "      <td>0.00000</td>\n",
       "      <td>0.13391</td>\n",
       "    </tr>\n",
       "    <tr>\n",
       "      <th>3</th>\n",
       "      <td>0</td>\n",
       "      <td>3</td>\n",
       "      <td>287.44341</td>\n",
       "      <td>580.88683</td>\n",
       "      <td>693.60200</td>\n",
       "      <td>112.71518</td>\n",
       "      <td>0.54175</td>\n",
       "      <td>0.01479</td>\n",
       "      <td>10.11584</td>\n",
       "      <td>0.95556</td>\n",
       "      <td>0.33333</td>\n",
       "      <td>1</td>\n",
       "      <td>0.40800</td>\n",
       "      <td>0.33600</td>\n",
       "      <td>3</td>\n",
       "      <td>0.00000</td>\n",
       "      <td>1.00000</td>\n",
       "      <td>0.54175</td>\n",
       "    </tr>\n",
       "    <tr>\n",
       "      <th>4</th>\n",
       "      <td>0</td>\n",
       "      <td>2</td>\n",
       "      <td>290.61570</td>\n",
       "      <td>587.23141</td>\n",
       "      <td>693.60200</td>\n",
       "      <td>106.37059</td>\n",
       "      <td>0.29951</td>\n",
       "      <td>0.51350</td>\n",
       "      <td>7.96300</td>\n",
       "      <td>0.73333</td>\n",
       "      <td>113.66667</td>\n",
       "      <td>85</td>\n",
       "      <td>0.16000</td>\n",
       "      <td>0.32000</td>\n",
       "      <td>4</td>\n",
       "      <td>0.14400</td>\n",
       "      <td>0.10800</td>\n",
       "      <td>0.29951</td>\n",
       "    </tr>\n",
       "  </tbody>\n",
       "</table>\n",
       "</div>"
      ],
      "text/plain": [
       "     grp  ntm      loss       aic     aic_0  aic_diff    alpha     beta  \\\n",
       "sid                                                                       \n",
       "0      0    3 340.46356 686.92713 693.60200   6.67487 -0.21689  0.13006   \n",
       "1      0    3 332.88334 671.76668 693.60200  21.83532  0.24237 -0.05585   \n",
       "2      0    1 295.13709 596.27418 693.60200  97.32782  0.13391  0.76433   \n",
       "3      0    3 287.44341 580.88683 693.60200 112.71518  0.54175  0.01479   \n",
       "4      0    2 290.61570 587.23141 693.60200 106.37059  0.29951  0.51350   \n",
       "\n",
       "         tau  wscore    meanlp  lp2d  rselect  select2d  sid  selectR_lp3  \\\n",
       "sid                                                                         \n",
       "0    5.57588 0.96667  64.33333    79  0.22400   0.71200    0      0.28947   \n",
       "1    8.71224 0.78889  72.33333   179  0.20000   0.38800    1      0.07263   \n",
       "2    3.55653 0.48889 178.66667   250  0.39600   0.00000    2      0.39600   \n",
       "3   10.11584 0.95556   0.33333     1  0.40800   0.33600    3      0.00000   \n",
       "4    7.96300 0.73333 113.66667    85  0.16000   0.32000    4      0.14400   \n",
       "\n",
       "     select2D_lp3  alpha_abs  \n",
       "sid                           \n",
       "0         0.40351    0.21689  \n",
       "1         0.35196    0.24237  \n",
       "2         0.00000    0.13391  \n",
       "3         1.00000    0.54175  \n",
       "4         0.10800    0.29951  "
      ]
     },
     "metadata": {},
     "output_type": "display_data"
    },
    {
     "data": {
      "text/html": [
       "<div>\n",
       "<style scoped>\n",
       "    .dataframe tbody tr th:only-of-type {\n",
       "        vertical-align: middle;\n",
       "    }\n",
       "\n",
       "    .dataframe tbody tr th {\n",
       "        vertical-align: top;\n",
       "    }\n",
       "\n",
       "    .dataframe thead th {\n",
       "        text-align: right;\n",
       "    }\n",
       "</style>\n",
       "<table border=\"1\" class=\"dataframe\">\n",
       "  <thead>\n",
       "    <tr style=\"text-align: right;\">\n",
       "      <th></th>\n",
       "      <th>form</th>\n",
       "      <th>aic</th>\n",
       "      <th>bic</th>\n",
       "    </tr>\n",
       "  </thead>\n",
       "  <tbody>\n",
       "    <tr>\n",
       "      <th>0</th>\n",
       "      <td>wscore ~ beta</td>\n",
       "      <td>-474.21949</td>\n",
       "      <td>-466.72708</td>\n",
       "    </tr>\n",
       "    <tr>\n",
       "      <th>4</th>\n",
       "      <td>wscore ~ beta · alpha_abs</td>\n",
       "      <td>-472.08694</td>\n",
       "      <td>-457.10212</td>\n",
       "    </tr>\n",
       "    <tr>\n",
       "      <th>2</th>\n",
       "      <td>wscore ~ beta · alpha</td>\n",
       "      <td>-470.90009</td>\n",
       "      <td>-455.91528</td>\n",
       "    </tr>\n",
       "    <tr>\n",
       "      <th>1</th>\n",
       "      <td>wscore ~ beta · C(grp)</td>\n",
       "      <td>-470.59689</td>\n",
       "      <td>-455.61208</td>\n",
       "    </tr>\n",
       "    <tr>\n",
       "      <th>5</th>\n",
       "      <td>wscore ~ beta · alpha_abs · C(grp)</td>\n",
       "      <td>-465.17031</td>\n",
       "      <td>-435.20069</td>\n",
       "    </tr>\n",
       "    <tr>\n",
       "      <th>3</th>\n",
       "      <td>wscore ~ beta · alpha · C(grp)</td>\n",
       "      <td>-463.58925</td>\n",
       "      <td>-433.61962</td>\n",
       "    </tr>\n",
       "    <tr>\n",
       "      <th>22</th>\n",
       "      <td>rselect ~ beta · alpha_abs</td>\n",
       "      <td>-238.53389</td>\n",
       "      <td>-223.54907</td>\n",
       "    </tr>\n",
       "    <tr>\n",
       "      <th>23</th>\n",
       "      <td>rselect ~ beta · alpha_abs · C(grp)</td>\n",
       "      <td>-238.42073</td>\n",
       "      <td>-208.45110</td>\n",
       "    </tr>\n",
       "    <tr>\n",
       "      <th>19</th>\n",
       "      <td>rselect ~ beta · C(grp)</td>\n",
       "      <td>-231.90105</td>\n",
       "      <td>-216.91624</td>\n",
       "    </tr>\n",
       "    <tr>\n",
       "      <th>18</th>\n",
       "      <td>rselect ~ beta</td>\n",
       "      <td>-229.87381</td>\n",
       "      <td>-222.38141</td>\n",
       "    </tr>\n",
       "    <tr>\n",
       "      <th>21</th>\n",
       "      <td>rselect ~ beta · alpha · C(grp)</td>\n",
       "      <td>-229.28392</td>\n",
       "      <td>-199.31430</td>\n",
       "    </tr>\n",
       "    <tr>\n",
       "      <th>20</th>\n",
       "      <td>rselect ~ beta · alpha</td>\n",
       "      <td>-228.31590</td>\n",
       "      <td>-213.33108</td>\n",
       "    </tr>\n",
       "    <tr>\n",
       "      <th>28</th>\n",
       "      <td>selectR_lp3 ~ beta · alpha_abs</td>\n",
       "      <td>-137.92563</td>\n",
       "      <td>-123.11050</td>\n",
       "    </tr>\n",
       "    <tr>\n",
       "      <th>24</th>\n",
       "      <td>selectR_lp3 ~ beta</td>\n",
       "      <td>-137.63946</td>\n",
       "      <td>-130.23189</td>\n",
       "    </tr>\n",
       "    <tr>\n",
       "      <th>25</th>\n",
       "      <td>selectR_lp3 ~ beta · C(grp)</td>\n",
       "      <td>-136.54359</td>\n",
       "      <td>-121.72846</td>\n",
       "    </tr>\n",
       "    <tr>\n",
       "      <th>26</th>\n",
       "      <td>selectR_lp3 ~ beta · alpha</td>\n",
       "      <td>-134.33189</td>\n",
       "      <td>-119.51676</td>\n",
       "    </tr>\n",
       "    <tr>\n",
       "      <th>29</th>\n",
       "      <td>selectR_lp3 ~ beta · alpha_abs · C(grp)</td>\n",
       "      <td>-133.39929</td>\n",
       "      <td>-103.76903</td>\n",
       "    </tr>\n",
       "    <tr>\n",
       "      <th>27</th>\n",
       "      <td>selectR_lp3 ~ beta · alpha · C(grp)</td>\n",
       "      <td>-131.19179</td>\n",
       "      <td>-101.56153</td>\n",
       "    </tr>\n",
       "    <tr>\n",
       "      <th>6</th>\n",
       "      <td>meanlp ~ beta</td>\n",
       "      <td>3405.59528</td>\n",
       "      <td>3413.08769</td>\n",
       "    </tr>\n",
       "    <tr>\n",
       "      <th>7</th>\n",
       "      <td>meanlp ~ beta · C(grp)</td>\n",
       "      <td>3406.84404</td>\n",
       "      <td>3421.82885</td>\n",
       "    </tr>\n",
       "    <tr>\n",
       "      <th>8</th>\n",
       "      <td>meanlp ~ beta · alpha</td>\n",
       "      <td>3408.27910</td>\n",
       "      <td>3423.26391</td>\n",
       "    </tr>\n",
       "    <tr>\n",
       "      <th>10</th>\n",
       "      <td>meanlp ~ beta · alpha_abs</td>\n",
       "      <td>3409.17634</td>\n",
       "      <td>3424.16115</td>\n",
       "    </tr>\n",
       "    <tr>\n",
       "      <th>9</th>\n",
       "      <td>meanlp ~ beta · alpha · C(grp)</td>\n",
       "      <td>3409.25184</td>\n",
       "      <td>3439.22147</td>\n",
       "    </tr>\n",
       "    <tr>\n",
       "      <th>11</th>\n",
       "      <td>meanlp ~ beta · alpha_abs · C(grp)</td>\n",
       "      <td>3413.54443</td>\n",
       "      <td>3443.51405</td>\n",
       "    </tr>\n",
       "    <tr>\n",
       "      <th>13</th>\n",
       "      <td>lp2d ~ beta · C(grp)</td>\n",
       "      <td>3705.34422</td>\n",
       "      <td>3720.32903</td>\n",
       "    </tr>\n",
       "    <tr>\n",
       "      <th>12</th>\n",
       "      <td>lp2d ~ beta</td>\n",
       "      <td>3707.42492</td>\n",
       "      <td>3714.91732</td>\n",
       "    </tr>\n",
       "    <tr>\n",
       "      <th>15</th>\n",
       "      <td>lp2d ~ beta · alpha · C(grp)</td>\n",
       "      <td>3710.67466</td>\n",
       "      <td>3740.64429</td>\n",
       "    </tr>\n",
       "    <tr>\n",
       "      <th>14</th>\n",
       "      <td>lp2d ~ beta · alpha</td>\n",
       "      <td>3711.16721</td>\n",
       "      <td>3726.15202</td>\n",
       "    </tr>\n",
       "    <tr>\n",
       "      <th>17</th>\n",
       "      <td>lp2d ~ beta · alpha_abs · C(grp)</td>\n",
       "      <td>3711.19892</td>\n",
       "      <td>3741.16855</td>\n",
       "    </tr>\n",
       "    <tr>\n",
       "      <th>16</th>\n",
       "      <td>lp2d ~ beta · alpha_abs</td>\n",
       "      <td>3711.21982</td>\n",
       "      <td>3726.20463</td>\n",
       "    </tr>\n",
       "  </tbody>\n",
       "</table>\n",
       "</div>"
      ],
      "text/plain": [
       "                                       form        aic        bic\n",
       "0                             wscore ~ beta -474.21949 -466.72708\n",
       "4                 wscore ~ beta · alpha_abs -472.08694 -457.10212\n",
       "2                     wscore ~ beta · alpha -470.90009 -455.91528\n",
       "1                    wscore ~ beta · C(grp) -470.59689 -455.61208\n",
       "5        wscore ~ beta · alpha_abs · C(grp) -465.17031 -435.20069\n",
       "3            wscore ~ beta · alpha · C(grp) -463.58925 -433.61962\n",
       "22               rselect ~ beta · alpha_abs -238.53389 -223.54907\n",
       "23      rselect ~ beta · alpha_abs · C(grp) -238.42073 -208.45110\n",
       "19                  rselect ~ beta · C(grp) -231.90105 -216.91624\n",
       "18                           rselect ~ beta -229.87381 -222.38141\n",
       "21          rselect ~ beta · alpha · C(grp) -229.28392 -199.31430\n",
       "20                   rselect ~ beta · alpha -228.31590 -213.33108\n",
       "28           selectR_lp3 ~ beta · alpha_abs -137.92563 -123.11050\n",
       "24                       selectR_lp3 ~ beta -137.63946 -130.23189\n",
       "25              selectR_lp3 ~ beta · C(grp) -136.54359 -121.72846\n",
       "26               selectR_lp3 ~ beta · alpha -134.33189 -119.51676\n",
       "29  selectR_lp3 ~ beta · alpha_abs · C(grp) -133.39929 -103.76903\n",
       "27      selectR_lp3 ~ beta · alpha · C(grp) -131.19179 -101.56153\n",
       "6                             meanlp ~ beta 3405.59528 3413.08769\n",
       "7                    meanlp ~ beta · C(grp) 3406.84404 3421.82885\n",
       "8                     meanlp ~ beta · alpha 3408.27910 3423.26391\n",
       "10                meanlp ~ beta · alpha_abs 3409.17634 3424.16115\n",
       "9            meanlp ~ beta · alpha · C(grp) 3409.25184 3439.22147\n",
       "11       meanlp ~ beta · alpha_abs · C(grp) 3413.54443 3443.51405\n",
       "13                     lp2d ~ beta · C(grp) 3705.34422 3720.32903\n",
       "12                              lp2d ~ beta 3707.42492 3714.91732\n",
       "15             lp2d ~ beta · alpha · C(grp) 3710.67466 3740.64429\n",
       "14                      lp2d ~ beta · alpha 3711.16721 3726.15202\n",
       "17         lp2d ~ beta · alpha_abs · C(grp) 3711.19892 3741.16855\n",
       "16                  lp2d ~ beta · alpha_abs 3711.21982 3726.20463"
      ]
     },
     "metadata": {},
     "output_type": "display_data"
    }
   ],
   "source": [
    "# Calculate parameter stats\n",
    "# ================================\n",
    "arr = lut.unpickle('mult_seeds_data_small_bounds.pkl') # SWITCH DATA\n",
    "best = np.nanargmin(arr[:, :, 3], axis=0)\n",
    "arr = arr[best, np.arange(320), :]\n",
    "fdf = pd.DataFrame(data=arr, columns=data_dict.keys())\n",
    "good_fit = (fdf.aic_diff>=2) & (np.abs(fdf.alpha) <=3) & (np.abs(fdf.beta) <=3)\n",
    "print('{} / {} = {}'.format(np.sum(good_fit),fdf.shape[0],np.sum(good_fit)/fdf.shape[0]))\n",
    "fdf = fdf.loc[good_fit]\n",
    "fdf = fdf.loc[fdf.ntm>0, :]\n",
    "# fdf.loc[fdf.ntm<=2, 'ntm'] = 1\n",
    "fdf.loc[:, 'sid'] = fdf.sid.astype(int)\n",
    "fdf.loc[:, 'grp'] = fdf.grp.astype(int)\n",
    "fdf.loc[:, 'ntm'] = fdf.ntm.astype(int)\n",
    "fdf.set_index('sid', inplace=True)\n",
    "\n",
    "# gfdf = fdf.reset_index().groupby(['grp','ntm']).mean().drop(columns=['sid'])\n",
    "# gfdf_se = fdf.reset_index().groupby(['grp','ntm']).sem().drop(columns=['sid'])\n",
    "\n",
    "df = lut.unpickle('supplementary/simple_choice_model/data/ntm_data.pkl')\n",
    "tot = df.groupby('sid')[['st1','st2','st3','st4']].sum()\n",
    "pr = tot / 250\n",
    "df['lplast'] = df.loc[:, ('lp1','lp2','lp3')].max(axis=1)\n",
    "\n",
    "tempdf = {'sid': [], 'selectR_lp3': [], 'select2D_lp3': []}\n",
    "for sid, sdf in df.groupby('sid'):\n",
    "    lp3 = sdf.lp3.values[0]\n",
    "    lplast = sdf.lplast.values[0]\n",
    "    tempdf['sid'].append(sid)\n",
    "    if lp3:\n",
    "        selectR_lp3 = sdf.st4.values[:lp3].sum() / lplast\n",
    "        select2D_lp3 = sdf.st3.values[:lp3].sum() / lplast\n",
    "    else:\n",
    "        selectR_lp3, select2D_lp3 = np.nan, np.nan\n",
    "        \n",
    "    tempdf['selectR_lp3'].append(selectR_lp3)\n",
    "    tempdf['select2D_lp3'].append(select2D_lp3)\n",
    "tempdf = pd.DataFrame(tempdf)\n",
    "\n",
    "df = df.loc[df.trial==249, 'sid,loc_pc1,loc_pc2,loc_pc3,loc_pc4,lp1,lp2,lp3'.split(',')]\n",
    "df.set_index('sid', inplace=True)\n",
    "df['wscore'] = df.loc_pc1/6 + df.loc_pc2/3 + df.loc_pc3/2\n",
    "df['meanlp'] = (df.lp1 + df.lp2 + df.lp3)/3\n",
    "df['lp2d'] = df.lp3\n",
    "df['rselect'] = pd.Series(pr.st4, index=df.index)\n",
    "df['select2d'] = pd.Series(pr.st3, index=df.index)\n",
    "\n",
    "df = df.drop(columns='loc_pc1,loc_pc2,loc_pc3,loc_pc4,lp1,lp2,lp3'.split(','))\n",
    "fdf = fdf.join(df)\n",
    "fdf = fdf.join(tempdf)\n",
    "fdf.loc[:, 'alpha_abs'] = np.abs(fdf.alpha)\n",
    "\n",
    "display(fdf.head())\n",
    "comp_dict = OrderedDict({'form': [], 'aic': [], 'aicc': [], 'bic': [], 'model': []})\n",
    "for dv in ['wscore', 'meanlp', 'lp2d', 'rselect', 'selectR_lp3']:\n",
    "    for alpha in ['', ' * alpha', ' * alpha_abs']:\n",
    "        for include_grp in [0, 1]:\n",
    "            grp = ' * C(grp)' if include_grp else ''\n",
    "            k = 2 + bool(grp) + bool(alpha)  # wrong \n",
    "            \n",
    "            form = (dv + ' ~ beta' + alpha) + (grp if include_grp else '')\n",
    "            lm = ols(form, data=fdf).fit()\n",
    "            \n",
    "            comp_dict['form'].append(form.replace('*', '·'))\n",
    "            comp_dict['aic'].append(lm.aic)\n",
    "            comp_dict['aicc'].append(lm.aic + (2*k**2 + 2*k)/(lm.nobs - k - 1))\n",
    "            comp_dict['bic'].append(lm.bic)\n",
    "            comp_dict['model'].append(lm)\n",
    "\n",
    "comp_df = pd.DataFrame(comp_dict)\n",
    "\n",
    "display(comp_df.drop(columns=['model','aicc']).sort_values(by='aic'))"
   ]
  },
  {
   "cell_type": "code",
   "execution_count": 341,
   "metadata": {
    "ExecuteTime": {
     "end_time": "2020-02-11T16:43:48.337163Z",
     "start_time": "2020-02-11T16:43:47.758928Z"
    },
    "scrolled": false
   },
   "outputs": [
    {
     "data": {
      "application/javascript": [
       "/* Put everything inside the global mpl namespace */\n",
       "window.mpl = {};\n",
       "\n",
       "\n",
       "mpl.get_websocket_type = function() {\n",
       "    if (typeof(WebSocket) !== 'undefined') {\n",
       "        return WebSocket;\n",
       "    } else if (typeof(MozWebSocket) !== 'undefined') {\n",
       "        return MozWebSocket;\n",
       "    } else {\n",
       "        alert('Your browser does not have WebSocket support.' +\n",
       "              'Please try Chrome, Safari or Firefox ≥ 6. ' +\n",
       "              'Firefox 4 and 5 are also supported but you ' +\n",
       "              'have to enable WebSockets in about:config.');\n",
       "    };\n",
       "}\n",
       "\n",
       "mpl.figure = function(figure_id, websocket, ondownload, parent_element) {\n",
       "    this.id = figure_id;\n",
       "\n",
       "    this.ws = websocket;\n",
       "\n",
       "    this.supports_binary = (this.ws.binaryType != undefined);\n",
       "\n",
       "    if (!this.supports_binary) {\n",
       "        var warnings = document.getElementById(\"mpl-warnings\");\n",
       "        if (warnings) {\n",
       "            warnings.style.display = 'block';\n",
       "            warnings.textContent = (\n",
       "                \"This browser does not support binary websocket messages. \" +\n",
       "                    \"Performance may be slow.\");\n",
       "        }\n",
       "    }\n",
       "\n",
       "    this.imageObj = new Image();\n",
       "\n",
       "    this.context = undefined;\n",
       "    this.message = undefined;\n",
       "    this.canvas = undefined;\n",
       "    this.rubberband_canvas = undefined;\n",
       "    this.rubberband_context = undefined;\n",
       "    this.format_dropdown = undefined;\n",
       "\n",
       "    this.image_mode = 'full';\n",
       "\n",
       "    this.root = $('<div/>');\n",
       "    this._root_extra_style(this.root)\n",
       "    this.root.attr('style', 'display: inline-block');\n",
       "\n",
       "    $(parent_element).append(this.root);\n",
       "\n",
       "    this._init_header(this);\n",
       "    this._init_canvas(this);\n",
       "    this._init_toolbar(this);\n",
       "\n",
       "    var fig = this;\n",
       "\n",
       "    this.waiting = false;\n",
       "\n",
       "    this.ws.onopen =  function () {\n",
       "            fig.send_message(\"supports_binary\", {value: fig.supports_binary});\n",
       "            fig.send_message(\"send_image_mode\", {});\n",
       "            if (mpl.ratio != 1) {\n",
       "                fig.send_message(\"set_dpi_ratio\", {'dpi_ratio': mpl.ratio});\n",
       "            }\n",
       "            fig.send_message(\"refresh\", {});\n",
       "        }\n",
       "\n",
       "    this.imageObj.onload = function() {\n",
       "            if (fig.image_mode == 'full') {\n",
       "                // Full images could contain transparency (where diff images\n",
       "                // almost always do), so we need to clear the canvas so that\n",
       "                // there is no ghosting.\n",
       "                fig.context.clearRect(0, 0, fig.canvas.width, fig.canvas.height);\n",
       "            }\n",
       "            fig.context.drawImage(fig.imageObj, 0, 0);\n",
       "        };\n",
       "\n",
       "    this.imageObj.onunload = function() {\n",
       "        fig.ws.close();\n",
       "    }\n",
       "\n",
       "    this.ws.onmessage = this._make_on_message_function(this);\n",
       "\n",
       "    this.ondownload = ondownload;\n",
       "}\n",
       "\n",
       "mpl.figure.prototype._init_header = function() {\n",
       "    var titlebar = $(\n",
       "        '<div class=\"ui-dialog-titlebar ui-widget-header ui-corner-all ' +\n",
       "        'ui-helper-clearfix\"/>');\n",
       "    var titletext = $(\n",
       "        '<div class=\"ui-dialog-title\" style=\"width: 100%; ' +\n",
       "        'text-align: center; padding: 3px;\"/>');\n",
       "    titlebar.append(titletext)\n",
       "    this.root.append(titlebar);\n",
       "    this.header = titletext[0];\n",
       "}\n",
       "\n",
       "\n",
       "\n",
       "mpl.figure.prototype._canvas_extra_style = function(canvas_div) {\n",
       "\n",
       "}\n",
       "\n",
       "\n",
       "mpl.figure.prototype._root_extra_style = function(canvas_div) {\n",
       "\n",
       "}\n",
       "\n",
       "mpl.figure.prototype._init_canvas = function() {\n",
       "    var fig = this;\n",
       "\n",
       "    var canvas_div = $('<div/>');\n",
       "\n",
       "    canvas_div.attr('style', 'position: relative; clear: both; outline: 0');\n",
       "\n",
       "    function canvas_keyboard_event(event) {\n",
       "        return fig.key_event(event, event['data']);\n",
       "    }\n",
       "\n",
       "    canvas_div.keydown('key_press', canvas_keyboard_event);\n",
       "    canvas_div.keyup('key_release', canvas_keyboard_event);\n",
       "    this.canvas_div = canvas_div\n",
       "    this._canvas_extra_style(canvas_div)\n",
       "    this.root.append(canvas_div);\n",
       "\n",
       "    var canvas = $('<canvas/>');\n",
       "    canvas.addClass('mpl-canvas');\n",
       "    canvas.attr('style', \"left: 0; top: 0; z-index: 0; outline: 0\")\n",
       "\n",
       "    this.canvas = canvas[0];\n",
       "    this.context = canvas[0].getContext(\"2d\");\n",
       "\n",
       "    var backingStore = this.context.backingStorePixelRatio ||\n",
       "\tthis.context.webkitBackingStorePixelRatio ||\n",
       "\tthis.context.mozBackingStorePixelRatio ||\n",
       "\tthis.context.msBackingStorePixelRatio ||\n",
       "\tthis.context.oBackingStorePixelRatio ||\n",
       "\tthis.context.backingStorePixelRatio || 1;\n",
       "\n",
       "    mpl.ratio = (window.devicePixelRatio || 1) / backingStore;\n",
       "\n",
       "    var rubberband = $('<canvas/>');\n",
       "    rubberband.attr('style', \"position: absolute; left: 0; top: 0; z-index: 1;\")\n",
       "\n",
       "    var pass_mouse_events = true;\n",
       "\n",
       "    canvas_div.resizable({\n",
       "        start: function(event, ui) {\n",
       "            pass_mouse_events = false;\n",
       "        },\n",
       "        resize: function(event, ui) {\n",
       "            fig.request_resize(ui.size.width, ui.size.height);\n",
       "        },\n",
       "        stop: function(event, ui) {\n",
       "            pass_mouse_events = true;\n",
       "            fig.request_resize(ui.size.width, ui.size.height);\n",
       "        },\n",
       "    });\n",
       "\n",
       "    function mouse_event_fn(event) {\n",
       "        if (pass_mouse_events)\n",
       "            return fig.mouse_event(event, event['data']);\n",
       "    }\n",
       "\n",
       "    rubberband.mousedown('button_press', mouse_event_fn);\n",
       "    rubberband.mouseup('button_release', mouse_event_fn);\n",
       "    // Throttle sequential mouse events to 1 every 20ms.\n",
       "    rubberband.mousemove('motion_notify', mouse_event_fn);\n",
       "\n",
       "    rubberband.mouseenter('figure_enter', mouse_event_fn);\n",
       "    rubberband.mouseleave('figure_leave', mouse_event_fn);\n",
       "\n",
       "    canvas_div.on(\"wheel\", function (event) {\n",
       "        event = event.originalEvent;\n",
       "        event['data'] = 'scroll'\n",
       "        if (event.deltaY < 0) {\n",
       "            event.step = 1;\n",
       "        } else {\n",
       "            event.step = -1;\n",
       "        }\n",
       "        mouse_event_fn(event);\n",
       "    });\n",
       "\n",
       "    canvas_div.append(canvas);\n",
       "    canvas_div.append(rubberband);\n",
       "\n",
       "    this.rubberband = rubberband;\n",
       "    this.rubberband_canvas = rubberband[0];\n",
       "    this.rubberband_context = rubberband[0].getContext(\"2d\");\n",
       "    this.rubberband_context.strokeStyle = \"#000000\";\n",
       "\n",
       "    this._resize_canvas = function(width, height) {\n",
       "        // Keep the size of the canvas, canvas container, and rubber band\n",
       "        // canvas in synch.\n",
       "        canvas_div.css('width', width)\n",
       "        canvas_div.css('height', height)\n",
       "\n",
       "        canvas.attr('width', width * mpl.ratio);\n",
       "        canvas.attr('height', height * mpl.ratio);\n",
       "        canvas.attr('style', 'width: ' + width + 'px; height: ' + height + 'px;');\n",
       "\n",
       "        rubberband.attr('width', width);\n",
       "        rubberband.attr('height', height);\n",
       "    }\n",
       "\n",
       "    // Set the figure to an initial 600x600px, this will subsequently be updated\n",
       "    // upon first draw.\n",
       "    this._resize_canvas(600, 600);\n",
       "\n",
       "    // Disable right mouse context menu.\n",
       "    $(this.rubberband_canvas).bind(\"contextmenu\",function(e){\n",
       "        return false;\n",
       "    });\n",
       "\n",
       "    function set_focus () {\n",
       "        canvas.focus();\n",
       "        canvas_div.focus();\n",
       "    }\n",
       "\n",
       "    window.setTimeout(set_focus, 100);\n",
       "}\n",
       "\n",
       "mpl.figure.prototype._init_toolbar = function() {\n",
       "    var fig = this;\n",
       "\n",
       "    var nav_element = $('<div/>')\n",
       "    nav_element.attr('style', 'width: 100%');\n",
       "    this.root.append(nav_element);\n",
       "\n",
       "    // Define a callback function for later on.\n",
       "    function toolbar_event(event) {\n",
       "        return fig.toolbar_button_onclick(event['data']);\n",
       "    }\n",
       "    function toolbar_mouse_event(event) {\n",
       "        return fig.toolbar_button_onmouseover(event['data']);\n",
       "    }\n",
       "\n",
       "    for(var toolbar_ind in mpl.toolbar_items) {\n",
       "        var name = mpl.toolbar_items[toolbar_ind][0];\n",
       "        var tooltip = mpl.toolbar_items[toolbar_ind][1];\n",
       "        var image = mpl.toolbar_items[toolbar_ind][2];\n",
       "        var method_name = mpl.toolbar_items[toolbar_ind][3];\n",
       "\n",
       "        if (!name) {\n",
       "            // put a spacer in here.\n",
       "            continue;\n",
       "        }\n",
       "        var button = $('<button/>');\n",
       "        button.addClass('ui-button ui-widget ui-state-default ui-corner-all ' +\n",
       "                        'ui-button-icon-only');\n",
       "        button.attr('role', 'button');\n",
       "        button.attr('aria-disabled', 'false');\n",
       "        button.click(method_name, toolbar_event);\n",
       "        button.mouseover(tooltip, toolbar_mouse_event);\n",
       "\n",
       "        var icon_img = $('<span/>');\n",
       "        icon_img.addClass('ui-button-icon-primary ui-icon');\n",
       "        icon_img.addClass(image);\n",
       "        icon_img.addClass('ui-corner-all');\n",
       "\n",
       "        var tooltip_span = $('<span/>');\n",
       "        tooltip_span.addClass('ui-button-text');\n",
       "        tooltip_span.html(tooltip);\n",
       "\n",
       "        button.append(icon_img);\n",
       "        button.append(tooltip_span);\n",
       "\n",
       "        nav_element.append(button);\n",
       "    }\n",
       "\n",
       "    var fmt_picker_span = $('<span/>');\n",
       "\n",
       "    var fmt_picker = $('<select/>');\n",
       "    fmt_picker.addClass('mpl-toolbar-option ui-widget ui-widget-content');\n",
       "    fmt_picker_span.append(fmt_picker);\n",
       "    nav_element.append(fmt_picker_span);\n",
       "    this.format_dropdown = fmt_picker[0];\n",
       "\n",
       "    for (var ind in mpl.extensions) {\n",
       "        var fmt = mpl.extensions[ind];\n",
       "        var option = $(\n",
       "            '<option/>', {selected: fmt === mpl.default_extension}).html(fmt);\n",
       "        fmt_picker.append(option)\n",
       "    }\n",
       "\n",
       "    // Add hover states to the ui-buttons\n",
       "    $( \".ui-button\" ).hover(\n",
       "        function() { $(this).addClass(\"ui-state-hover\");},\n",
       "        function() { $(this).removeClass(\"ui-state-hover\");}\n",
       "    );\n",
       "\n",
       "    var status_bar = $('<span class=\"mpl-message\"/>');\n",
       "    nav_element.append(status_bar);\n",
       "    this.message = status_bar[0];\n",
       "}\n",
       "\n",
       "mpl.figure.prototype.request_resize = function(x_pixels, y_pixels) {\n",
       "    // Request matplotlib to resize the figure. Matplotlib will then trigger a resize in the client,\n",
       "    // which will in turn request a refresh of the image.\n",
       "    this.send_message('resize', {'width': x_pixels, 'height': y_pixels});\n",
       "}\n",
       "\n",
       "mpl.figure.prototype.send_message = function(type, properties) {\n",
       "    properties['type'] = type;\n",
       "    properties['figure_id'] = this.id;\n",
       "    this.ws.send(JSON.stringify(properties));\n",
       "}\n",
       "\n",
       "mpl.figure.prototype.send_draw_message = function() {\n",
       "    if (!this.waiting) {\n",
       "        this.waiting = true;\n",
       "        this.ws.send(JSON.stringify({type: \"draw\", figure_id: this.id}));\n",
       "    }\n",
       "}\n",
       "\n",
       "\n",
       "mpl.figure.prototype.handle_save = function(fig, msg) {\n",
       "    var format_dropdown = fig.format_dropdown;\n",
       "    var format = format_dropdown.options[format_dropdown.selectedIndex].value;\n",
       "    fig.ondownload(fig, format);\n",
       "}\n",
       "\n",
       "\n",
       "mpl.figure.prototype.handle_resize = function(fig, msg) {\n",
       "    var size = msg['size'];\n",
       "    if (size[0] != fig.canvas.width || size[1] != fig.canvas.height) {\n",
       "        fig._resize_canvas(size[0], size[1]);\n",
       "        fig.send_message(\"refresh\", {});\n",
       "    };\n",
       "}\n",
       "\n",
       "mpl.figure.prototype.handle_rubberband = function(fig, msg) {\n",
       "    var x0 = msg['x0'] / mpl.ratio;\n",
       "    var y0 = (fig.canvas.height - msg['y0']) / mpl.ratio;\n",
       "    var x1 = msg['x1'] / mpl.ratio;\n",
       "    var y1 = (fig.canvas.height - msg['y1']) / mpl.ratio;\n",
       "    x0 = Math.floor(x0) + 0.5;\n",
       "    y0 = Math.floor(y0) + 0.5;\n",
       "    x1 = Math.floor(x1) + 0.5;\n",
       "    y1 = Math.floor(y1) + 0.5;\n",
       "    var min_x = Math.min(x0, x1);\n",
       "    var min_y = Math.min(y0, y1);\n",
       "    var width = Math.abs(x1 - x0);\n",
       "    var height = Math.abs(y1 - y0);\n",
       "\n",
       "    fig.rubberband_context.clearRect(\n",
       "        0, 0, fig.canvas.width, fig.canvas.height);\n",
       "\n",
       "    fig.rubberband_context.strokeRect(min_x, min_y, width, height);\n",
       "}\n",
       "\n",
       "mpl.figure.prototype.handle_figure_label = function(fig, msg) {\n",
       "    // Updates the figure title.\n",
       "    fig.header.textContent = msg['label'];\n",
       "}\n",
       "\n",
       "mpl.figure.prototype.handle_cursor = function(fig, msg) {\n",
       "    var cursor = msg['cursor'];\n",
       "    switch(cursor)\n",
       "    {\n",
       "    case 0:\n",
       "        cursor = 'pointer';\n",
       "        break;\n",
       "    case 1:\n",
       "        cursor = 'default';\n",
       "        break;\n",
       "    case 2:\n",
       "        cursor = 'crosshair';\n",
       "        break;\n",
       "    case 3:\n",
       "        cursor = 'move';\n",
       "        break;\n",
       "    }\n",
       "    fig.rubberband_canvas.style.cursor = cursor;\n",
       "}\n",
       "\n",
       "mpl.figure.prototype.handle_message = function(fig, msg) {\n",
       "    fig.message.textContent = msg['message'];\n",
       "}\n",
       "\n",
       "mpl.figure.prototype.handle_draw = function(fig, msg) {\n",
       "    // Request the server to send over a new figure.\n",
       "    fig.send_draw_message();\n",
       "}\n",
       "\n",
       "mpl.figure.prototype.handle_image_mode = function(fig, msg) {\n",
       "    fig.image_mode = msg['mode'];\n",
       "}\n",
       "\n",
       "mpl.figure.prototype.updated_canvas_event = function() {\n",
       "    // Called whenever the canvas gets updated.\n",
       "    this.send_message(\"ack\", {});\n",
       "}\n",
       "\n",
       "// A function to construct a web socket function for onmessage handling.\n",
       "// Called in the figure constructor.\n",
       "mpl.figure.prototype._make_on_message_function = function(fig) {\n",
       "    return function socket_on_message(evt) {\n",
       "        if (evt.data instanceof Blob) {\n",
       "            /* FIXME: We get \"Resource interpreted as Image but\n",
       "             * transferred with MIME type text/plain:\" errors on\n",
       "             * Chrome.  But how to set the MIME type?  It doesn't seem\n",
       "             * to be part of the websocket stream */\n",
       "            evt.data.type = \"image/png\";\n",
       "\n",
       "            /* Free the memory for the previous frames */\n",
       "            if (fig.imageObj.src) {\n",
       "                (window.URL || window.webkitURL).revokeObjectURL(\n",
       "                    fig.imageObj.src);\n",
       "            }\n",
       "\n",
       "            fig.imageObj.src = (window.URL || window.webkitURL).createObjectURL(\n",
       "                evt.data);\n",
       "            fig.updated_canvas_event();\n",
       "            fig.waiting = false;\n",
       "            return;\n",
       "        }\n",
       "        else if (typeof evt.data === 'string' && evt.data.slice(0, 21) == \"data:image/png;base64\") {\n",
       "            fig.imageObj.src = evt.data;\n",
       "            fig.updated_canvas_event();\n",
       "            fig.waiting = false;\n",
       "            return;\n",
       "        }\n",
       "\n",
       "        var msg = JSON.parse(evt.data);\n",
       "        var msg_type = msg['type'];\n",
       "\n",
       "        // Call the  \"handle_{type}\" callback, which takes\n",
       "        // the figure and JSON message as its only arguments.\n",
       "        try {\n",
       "            var callback = fig[\"handle_\" + msg_type];\n",
       "        } catch (e) {\n",
       "            console.log(\"No handler for the '\" + msg_type + \"' message type: \", msg);\n",
       "            return;\n",
       "        }\n",
       "\n",
       "        if (callback) {\n",
       "            try {\n",
       "                // console.log(\"Handling '\" + msg_type + \"' message: \", msg);\n",
       "                callback(fig, msg);\n",
       "            } catch (e) {\n",
       "                console.log(\"Exception inside the 'handler_\" + msg_type + \"' callback:\", e, e.stack, msg);\n",
       "            }\n",
       "        }\n",
       "    };\n",
       "}\n",
       "\n",
       "// from http://stackoverflow.com/questions/1114465/getting-mouse-location-in-canvas\n",
       "mpl.findpos = function(e) {\n",
       "    //this section is from http://www.quirksmode.org/js/events_properties.html\n",
       "    var targ;\n",
       "    if (!e)\n",
       "        e = window.event;\n",
       "    if (e.target)\n",
       "        targ = e.target;\n",
       "    else if (e.srcElement)\n",
       "        targ = e.srcElement;\n",
       "    if (targ.nodeType == 3) // defeat Safari bug\n",
       "        targ = targ.parentNode;\n",
       "\n",
       "    // jQuery normalizes the pageX and pageY\n",
       "    // pageX,Y are the mouse positions relative to the document\n",
       "    // offset() returns the position of the element relative to the document\n",
       "    var x = e.pageX - $(targ).offset().left;\n",
       "    var y = e.pageY - $(targ).offset().top;\n",
       "\n",
       "    return {\"x\": x, \"y\": y};\n",
       "};\n",
       "\n",
       "/*\n",
       " * return a copy of an object with only non-object keys\n",
       " * we need this to avoid circular references\n",
       " * http://stackoverflow.com/a/24161582/3208463\n",
       " */\n",
       "function simpleKeys (original) {\n",
       "  return Object.keys(original).reduce(function (obj, key) {\n",
       "    if (typeof original[key] !== 'object')\n",
       "        obj[key] = original[key]\n",
       "    return obj;\n",
       "  }, {});\n",
       "}\n",
       "\n",
       "mpl.figure.prototype.mouse_event = function(event, name) {\n",
       "    var canvas_pos = mpl.findpos(event)\n",
       "\n",
       "    if (name === 'button_press')\n",
       "    {\n",
       "        this.canvas.focus();\n",
       "        this.canvas_div.focus();\n",
       "    }\n",
       "\n",
       "    var x = canvas_pos.x * mpl.ratio;\n",
       "    var y = canvas_pos.y * mpl.ratio;\n",
       "\n",
       "    this.send_message(name, {x: x, y: y, button: event.button,\n",
       "                             step: event.step,\n",
       "                             guiEvent: simpleKeys(event)});\n",
       "\n",
       "    /* This prevents the web browser from automatically changing to\n",
       "     * the text insertion cursor when the button is pressed.  We want\n",
       "     * to control all of the cursor setting manually through the\n",
       "     * 'cursor' event from matplotlib */\n",
       "    event.preventDefault();\n",
       "    return false;\n",
       "}\n",
       "\n",
       "mpl.figure.prototype._key_event_extra = function(event, name) {\n",
       "    // Handle any extra behaviour associated with a key event\n",
       "}\n",
       "\n",
       "mpl.figure.prototype.key_event = function(event, name) {\n",
       "\n",
       "    // Prevent repeat events\n",
       "    if (name == 'key_press')\n",
       "    {\n",
       "        if (event.which === this._key)\n",
       "            return;\n",
       "        else\n",
       "            this._key = event.which;\n",
       "    }\n",
       "    if (name == 'key_release')\n",
       "        this._key = null;\n",
       "\n",
       "    var value = '';\n",
       "    if (event.ctrlKey && event.which != 17)\n",
       "        value += \"ctrl+\";\n",
       "    if (event.altKey && event.which != 18)\n",
       "        value += \"alt+\";\n",
       "    if (event.shiftKey && event.which != 16)\n",
       "        value += \"shift+\";\n",
       "\n",
       "    value += 'k';\n",
       "    value += event.which.toString();\n",
       "\n",
       "    this._key_event_extra(event, name);\n",
       "\n",
       "    this.send_message(name, {key: value,\n",
       "                             guiEvent: simpleKeys(event)});\n",
       "    return false;\n",
       "}\n",
       "\n",
       "mpl.figure.prototype.toolbar_button_onclick = function(name) {\n",
       "    if (name == 'download') {\n",
       "        this.handle_save(this, null);\n",
       "    } else {\n",
       "        this.send_message(\"toolbar_button\", {name: name});\n",
       "    }\n",
       "};\n",
       "\n",
       "mpl.figure.prototype.toolbar_button_onmouseover = function(tooltip) {\n",
       "    this.message.textContent = tooltip;\n",
       "};\n",
       "mpl.toolbar_items = [[\"Home\", \"Reset original view\", \"fa fa-home icon-home\", \"home\"], [\"Back\", \"Back to previous view\", \"fa fa-arrow-left icon-arrow-left\", \"back\"], [\"Forward\", \"Forward to next view\", \"fa fa-arrow-right icon-arrow-right\", \"forward\"], [\"\", \"\", \"\", \"\"], [\"Pan\", \"Pan axes with left mouse, zoom with right\", \"fa fa-arrows icon-move\", \"pan\"], [\"Zoom\", \"Zoom to rectangle\", \"fa fa-square-o icon-check-empty\", \"zoom\"], [\"\", \"\", \"\", \"\"], [\"Download\", \"Download plot\", \"fa fa-floppy-o icon-save\", \"download\"]];\n",
       "\n",
       "mpl.extensions = [\"eps\", \"jpeg\", \"pdf\", \"png\", \"ps\", \"raw\", \"svg\", \"tif\"];\n",
       "\n",
       "mpl.default_extension = \"png\";var comm_websocket_adapter = function(comm) {\n",
       "    // Create a \"websocket\"-like object which calls the given IPython comm\n",
       "    // object with the appropriate methods. Currently this is a non binary\n",
       "    // socket, so there is still some room for performance tuning.\n",
       "    var ws = {};\n",
       "\n",
       "    ws.close = function() {\n",
       "        comm.close()\n",
       "    };\n",
       "    ws.send = function(m) {\n",
       "        //console.log('sending', m);\n",
       "        comm.send(m);\n",
       "    };\n",
       "    // Register the callback with on_msg.\n",
       "    comm.on_msg(function(msg) {\n",
       "        //console.log('receiving', msg['content']['data'], msg);\n",
       "        // Pass the mpl event to the overridden (by mpl) onmessage function.\n",
       "        ws.onmessage(msg['content']['data'])\n",
       "    });\n",
       "    return ws;\n",
       "}\n",
       "\n",
       "mpl.mpl_figure_comm = function(comm, msg) {\n",
       "    // This is the function which gets called when the mpl process\n",
       "    // starts-up an IPython Comm through the \"matplotlib\" channel.\n",
       "\n",
       "    var id = msg.content.data.id;\n",
       "    // Get hold of the div created by the display call when the Comm\n",
       "    // socket was opened in Python.\n",
       "    var element = $(\"#\" + id);\n",
       "    var ws_proxy = comm_websocket_adapter(comm)\n",
       "\n",
       "    function ondownload(figure, format) {\n",
       "        window.open(figure.imageObj.src);\n",
       "    }\n",
       "\n",
       "    var fig = new mpl.figure(id, ws_proxy,\n",
       "                           ondownload,\n",
       "                           element.get(0));\n",
       "\n",
       "    // Call onopen now - mpl needs it, as it is assuming we've passed it a real\n",
       "    // web socket which is closed, not our websocket->open comm proxy.\n",
       "    ws_proxy.onopen();\n",
       "\n",
       "    fig.parent_element = element.get(0);\n",
       "    fig.cell_info = mpl.find_output_cell(\"<div id='\" + id + \"'></div>\");\n",
       "    if (!fig.cell_info) {\n",
       "        console.error(\"Failed to find cell for figure\", id, fig);\n",
       "        return;\n",
       "    }\n",
       "\n",
       "    var output_index = fig.cell_info[2]\n",
       "    var cell = fig.cell_info[0];\n",
       "\n",
       "};\n",
       "\n",
       "mpl.figure.prototype.handle_close = function(fig, msg) {\n",
       "    var width = fig.canvas.width/mpl.ratio\n",
       "    fig.root.unbind('remove')\n",
       "\n",
       "    // Update the output cell to use the data from the current canvas.\n",
       "    fig.push_to_output();\n",
       "    var dataURL = fig.canvas.toDataURL();\n",
       "    // Re-enable the keyboard manager in IPython - without this line, in FF,\n",
       "    // the notebook keyboard shortcuts fail.\n",
       "    IPython.keyboard_manager.enable()\n",
       "    $(fig.parent_element).html('<img src=\"' + dataURL + '\" width=\"' + width + '\">');\n",
       "    fig.close_ws(fig, msg);\n",
       "}\n",
       "\n",
       "mpl.figure.prototype.close_ws = function(fig, msg){\n",
       "    fig.send_message('closing', msg);\n",
       "    // fig.ws.close()\n",
       "}\n",
       "\n",
       "mpl.figure.prototype.push_to_output = function(remove_interactive) {\n",
       "    // Turn the data on the canvas into data in the output cell.\n",
       "    var width = this.canvas.width/mpl.ratio\n",
       "    var dataURL = this.canvas.toDataURL();\n",
       "    this.cell_info[1]['text/html'] = '<img src=\"' + dataURL + '\" width=\"' + width + '\">';\n",
       "}\n",
       "\n",
       "mpl.figure.prototype.updated_canvas_event = function() {\n",
       "    // Tell IPython that the notebook contents must change.\n",
       "    IPython.notebook.set_dirty(true);\n",
       "    this.send_message(\"ack\", {});\n",
       "    var fig = this;\n",
       "    // Wait a second, then push the new image to the DOM so\n",
       "    // that it is saved nicely (might be nice to debounce this).\n",
       "    setTimeout(function () { fig.push_to_output() }, 1000);\n",
       "}\n",
       "\n",
       "mpl.figure.prototype._init_toolbar = function() {\n",
       "    var fig = this;\n",
       "\n",
       "    var nav_element = $('<div/>')\n",
       "    nav_element.attr('style', 'width: 100%');\n",
       "    this.root.append(nav_element);\n",
       "\n",
       "    // Define a callback function for later on.\n",
       "    function toolbar_event(event) {\n",
       "        return fig.toolbar_button_onclick(event['data']);\n",
       "    }\n",
       "    function toolbar_mouse_event(event) {\n",
       "        return fig.toolbar_button_onmouseover(event['data']);\n",
       "    }\n",
       "\n",
       "    for(var toolbar_ind in mpl.toolbar_items){\n",
       "        var name = mpl.toolbar_items[toolbar_ind][0];\n",
       "        var tooltip = mpl.toolbar_items[toolbar_ind][1];\n",
       "        var image = mpl.toolbar_items[toolbar_ind][2];\n",
       "        var method_name = mpl.toolbar_items[toolbar_ind][3];\n",
       "\n",
       "        if (!name) { continue; };\n",
       "\n",
       "        var button = $('<button class=\"btn btn-default\" href=\"#\" title=\"' + name + '\"><i class=\"fa ' + image + ' fa-lg\"></i></button>');\n",
       "        button.click(method_name, toolbar_event);\n",
       "        button.mouseover(tooltip, toolbar_mouse_event);\n",
       "        nav_element.append(button);\n",
       "    }\n",
       "\n",
       "    // Add the status bar.\n",
       "    var status_bar = $('<span class=\"mpl-message\" style=\"text-align:right; float: right;\"/>');\n",
       "    nav_element.append(status_bar);\n",
       "    this.message = status_bar[0];\n",
       "\n",
       "    // Add the close button to the window.\n",
       "    var buttongrp = $('<div class=\"btn-group inline pull-right\"></div>');\n",
       "    var button = $('<button class=\"btn btn-mini btn-primary\" href=\"#\" title=\"Stop Interaction\"><i class=\"fa fa-power-off icon-remove icon-large\"></i></button>');\n",
       "    button.click(function (evt) { fig.handle_close(fig, {}); } );\n",
       "    button.mouseover('Stop Interaction', toolbar_mouse_event);\n",
       "    buttongrp.append(button);\n",
       "    var titlebar = this.root.find($('.ui-dialog-titlebar'));\n",
       "    titlebar.prepend(buttongrp);\n",
       "}\n",
       "\n",
       "mpl.figure.prototype._root_extra_style = function(el){\n",
       "    var fig = this\n",
       "    el.on(\"remove\", function(){\n",
       "\tfig.close_ws(fig, {});\n",
       "    });\n",
       "}\n",
       "\n",
       "mpl.figure.prototype._canvas_extra_style = function(el){\n",
       "    // this is important to make the div 'focusable\n",
       "    el.attr('tabindex', 0)\n",
       "    // reach out to IPython and tell the keyboard manager to turn it's self\n",
       "    // off when our div gets focus\n",
       "\n",
       "    // location in version 3\n",
       "    if (IPython.notebook.keyboard_manager) {\n",
       "        IPython.notebook.keyboard_manager.register_events(el);\n",
       "    }\n",
       "    else {\n",
       "        // location in version 2\n",
       "        IPython.keyboard_manager.register_events(el);\n",
       "    }\n",
       "\n",
       "}\n",
       "\n",
       "mpl.figure.prototype._key_event_extra = function(event, name) {\n",
       "    var manager = IPython.notebook.keyboard_manager;\n",
       "    if (!manager)\n",
       "        manager = IPython.keyboard_manager;\n",
       "\n",
       "    // Check for shift+enter\n",
       "    if (event.shiftKey && event.which == 13) {\n",
       "        this.canvas_div.blur();\n",
       "        event.shiftKey = false;\n",
       "        // Send a \"J\" for go to next cell\n",
       "        event.which = 74;\n",
       "        event.keyCode = 74;\n",
       "        manager.command_mode();\n",
       "        manager.handle_keydown(event);\n",
       "    }\n",
       "}\n",
       "\n",
       "mpl.figure.prototype.handle_save = function(fig, msg) {\n",
       "    fig.ondownload(fig, null);\n",
       "}\n",
       "\n",
       "\n",
       "mpl.find_output_cell = function(html_output) {\n",
       "    // Return the cell and output element which can be found *uniquely* in the notebook.\n",
       "    // Note - this is a bit hacky, but it is done because the \"notebook_saving.Notebook\"\n",
       "    // IPython event is triggered only after the cells have been serialised, which for\n",
       "    // our purposes (turning an active figure into a static one), is too late.\n",
       "    var cells = IPython.notebook.get_cells();\n",
       "    var ncells = cells.length;\n",
       "    for (var i=0; i<ncells; i++) {\n",
       "        var cell = cells[i];\n",
       "        if (cell.cell_type === 'code'){\n",
       "            for (var j=0; j<cell.output_area.outputs.length; j++) {\n",
       "                var data = cell.output_area.outputs[j];\n",
       "                if (data.data) {\n",
       "                    // IPython >= 3 moved mimebundle to data attribute of output\n",
       "                    data = data.data;\n",
       "                }\n",
       "                if (data['text/html'] == html_output) {\n",
       "                    return [cell, data, j];\n",
       "                }\n",
       "            }\n",
       "        }\n",
       "    }\n",
       "}\n",
       "\n",
       "// Register the function which deals with the matplotlib target/channel.\n",
       "// The kernel may be null if the page has been refreshed.\n",
       "if (IPython.notebook.kernel != null) {\n",
       "    IPython.notebook.kernel.comm_manager.register_target('matplotlib', mpl.mpl_figure_comm);\n",
       "}\n"
      ],
      "text/plain": [
       "<IPython.core.display.Javascript object>"
      ]
     },
     "metadata": {},
     "output_type": "display_data"
    },
    {
     "data": {
      "text/html": [
       "<img src=\"data:image/png;base64,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\" width=\"700\">"
      ],
      "text/plain": [
       "<IPython.core.display.HTML object>"
      ]
     },
     "metadata": {},
     "output_type": "display_data"
    }
   ],
   "source": [
    "K = 10\n",
    "\n",
    "fdf['bin'] = pd.qcut(fdf.alpha_abs, q=K, precision=10)\n",
    "\n",
    "fig = plt.figure('newfig', figsize=[7,3])\n",
    "ax = vut.pretty(fig.add_subplot(111))\n",
    "ax.set_ylim(-0.1, 1)\n",
    "ax.set_xlabel(r'$\\alpha$', fontsize=12)\n",
    "ax.set_ylabel('%R-selection', fontsize=12)\n",
    "\n",
    "cmap = mpl.cm.get_cmap('winter')\n",
    "std_space = np.linspace(0, 1, K)\n",
    "\n",
    "lm = comp_df.loc[22, 'model']\n",
    "\n",
    "avs = []\n",
    "for i, (b, d) in enumerate(fdf.groupby(fdf.bin)):\n",
    "    x = d.beta.values.squeeze()\n",
    "    y = d.rselect.values.squeeze()\n",
    "    ax.scatter(x, y, color=cmap(std_space[i]), alpha=.5, s=10)\n",
    "    avs.append(d.alpha_abs.mean())\n",
    "    \n",
    "    bvals = np.linspace(-5,5,50)\n",
    "    y = lm.predict({'alpha_abs': [avs[-1] for val in bvals], 'beta': bvals})\n",
    "    ax.plot(bvals, y.values.squeeze(), color=cmap(std_space[i]), label='{:.2f}'.format(avs[-1]), lw=1)\n",
    "ax.legend(bbox_to_anchor=[1, 1.1], loc='upper left', title=r'$|\\beta|$')\n",
    "\n",
    "# norm = mpl.colors.Normalize(vmin=fdf.alpha.min(), vmax=fdf.alpha.max())\n",
    "# sm = plt.cm.ScalarMappable(cmap=cmap, norm=norm)\n",
    "# sm.set_array([])\n",
    "# plt.colorbar(sm, ticks=avs)\n",
    "\n",
    "fig.tight_layout()\n",
    "fig.savefig('/Users/alexten/Desktop/rselect_model.png')"
   ]
  },
  {
   "cell_type": "code",
   "execution_count": null,
   "metadata": {
    "ExecuteTime": {
     "end_time": "2020-01-10T13:15:20.441767Z",
     "start_time": "2020-01-10T13:15:17.797560Z"
    },
    "scrolled": false
   },
   "outputs": [],
   "source": [
    "K = 12\n",
    "fdf['alpha_abs_bins'] = pd.qcut(fdf.alpha_abs, q=K)\n",
    "fdf['alpha_bins'] = pd.qcut(fdf.alpha, q=K)\n",
    "\n",
    "fig = plt.figure('empirical slopes', figsize=[8, 5])\n",
    "\n",
    "xi, x, y = list(range(K)), [], []\n",
    "\n",
    "x, slopes, rs = [], [], []\n",
    "ntm_counts = []\n",
    "lp2d_means = []\n",
    "meanlp_means = []\n",
    "select2d_means = []\n",
    "for i, (b, d) in enumerate(fdf.groupby(fdf.alpha_abs_bins)):\n",
    "    ax = vut.pretty(fig.add_subplot(3, 4, 1+i))\n",
    "    \n",
    "    marglm = ols('rselect ~ beta', data=d).fit()\n",
    "    amean = np.mean([b.left, b.right])\n",
    "    slope = marglm.params[1]\n",
    "    \n",
    "    r, pval = sp.stats.pearsonr(d['rselect'], d.beta)\n",
    "    \n",
    "    s = '[{:.2f}, {:.2f}{}'.format(b.left, b.right,']' if (i+1)==K else ')')\n",
    "    \n",
    "    counts = []\n",
    "    for ntm in (1,2,3):\n",
    "        dntm = d.loc[d.ntm==ntm, :]\n",
    "        ax.scatter(dntm.beta, dntm['rselect'], alpha=.5, s=10, color=gcolors[ntm-1])\n",
    "        counts.append((d.ntm==ntm).sum())\n",
    "    \n",
    "    \n",
    "    ax.text(0.05, 0.9, 'r={:.2f}'.format(r)+('*' if pval <.01 else ''))\n",
    "    ax.text(0.05, 0.75, 'b={:.2f}'.format(slope)+('*' if marglm.pvalues[1] <.01 else ''))\n",
    "    ax.plot([-3, 3], marglm.predict({'beta': [-3, 3]}), color='k', alpha=.5)\n",
    "    ax.set_xlim(-3, 3)\n",
    "    ax.set_ylim(0, 1)\n",
    "    ax.set_title('|alpha| in {}'.format(s), fontsize=8)\n",
    "    \n",
    "    ntm_counts.append(counts)\n",
    "    rs.append(r)\n",
    "    slopes.append(slope)\n",
    "    x.append(s)\n",
    "    lp2d_means.append(d.lp2d.mean())\n",
    "    meanlp_means.append(d.meanlp.mean())\n",
    "    select2d_means.append(d.wscore.mean())\n",
    "    \n",
    "fig.tight_layout()\n",
    "# fig.savefig('/Users/alexten/Desktop/rselect_model2.png')\n",
    "\n",
    "fig2 = plt.figure('slopes plot', figsize=[8, 6])\n",
    "ax = vut.pretty(fig2.add_subplot(321))\n",
    "ax.plot(rs, color='darkgray', marker='o')\n",
    "ax.set_title('Correlation coefficients')\n",
    "ax.set_xticks(list(range(K)))\n",
    "ax.set_xticklabels(x, rotation=35, ha='right', fontsize=10)\n",
    "\n",
    "ax = vut.pretty(fig2.add_subplot(322))\n",
    "ax.plot(slopes, color='darkgray', marker='o')\n",
    "ax.set_title('Regression slopes')\n",
    "ax.set_xticks(list(range(K)))\n",
    "ax.set_xticklabels(x, rotation=35, ha='right', fontsize=10)\n",
    "\n",
    "ax = vut.pretty(fig2.add_subplot(323))\n",
    "ntm_counts = np.array(ntm_counts)\n",
    "ntm_props = ntm_counts / ntm_counts.sum(axis=1)[:,np.newaxis]\n",
    "ax.stackplot(list(range(K)), ntm_props.T, colors=[gcolors[i] for i in range(3)], \n",
    "             labels=['NTM-{}'.format(i) for i in range(1,4)], alpha=.7)\n",
    "ax.set_title('NTM proportions')\n",
    "ax.set_xticks(list(range(K)))\n",
    "ax.set_xticklabels(x, rotation=35, ha='right', fontsize=10)\n",
    "\n",
    "ax = vut.pretty(fig2.add_subplot(324))\n",
    "ax.plot(lp2d_means, color='darkgray', marker='o')\n",
    "ax.set_title('Mean learning point (2D)')\n",
    "ax.set_xticks(list(range(K)))\n",
    "ax.set_xticklabels(x, rotation=35, ha='right', fontsize=10)\n",
    "\n",
    "ax = vut.pretty(fig2.add_subplot(325))\n",
    "ax.plot(meanlp_means, color='darkgray', marker='o')\n",
    "ax.set_title('Mean learning point (3 tasks)')\n",
    "ax.set_xticks(list(range(K)))\n",
    "ax.set_xticklabels(x, rotation=35, ha='right', fontsize=10)\n",
    "\n",
    "ax = vut.pretty(fig2.add_subplot(326))\n",
    "ax.plot(select2d_means, color='darkgray', marker='o')\n",
    "ax.set_title('%time on R')\n",
    "ax.set_xticks(list(range(K)))\n",
    "ax.set_xticklabels(x, rotation=35, ha='right', fontsize=10)\n",
    "\n",
    "fig2.tight_layout()\n",
    "fig.savefig('/Users/alexten/Desktop/alpha_beta_interaction.png')\n",
    "fig2.savefig('/Users/alexten/Desktop/dvs_by_alpha.png')"
   ]
  },
  {
   "cell_type": "code",
   "execution_count": 68,
   "metadata": {
    "ExecuteTime": {
     "end_time": "2020-01-13T10:37:42.437620Z",
     "start_time": "2020-01-13T10:37:42.000657Z"
    },
    "scrolled": false
   },
   "outputs": [
    {
     "data": {
      "application/javascript": [
       "/* Put everything inside the global mpl namespace */\n",
       "window.mpl = {};\n",
       "\n",
       "\n",
       "mpl.get_websocket_type = function() {\n",
       "    if (typeof(WebSocket) !== 'undefined') {\n",
       "        return WebSocket;\n",
       "    } else if (typeof(MozWebSocket) !== 'undefined') {\n",
       "        return MozWebSocket;\n",
       "    } else {\n",
       "        alert('Your browser does not have WebSocket support.' +\n",
       "              'Please try Chrome, Safari or Firefox ≥ 6. ' +\n",
       "              'Firefox 4 and 5 are also supported but you ' +\n",
       "              'have to enable WebSockets in about:config.');\n",
       "    };\n",
       "}\n",
       "\n",
       "mpl.figure = function(figure_id, websocket, ondownload, parent_element) {\n",
       "    this.id = figure_id;\n",
       "\n",
       "    this.ws = websocket;\n",
       "\n",
       "    this.supports_binary = (this.ws.binaryType != undefined);\n",
       "\n",
       "    if (!this.supports_binary) {\n",
       "        var warnings = document.getElementById(\"mpl-warnings\");\n",
       "        if (warnings) {\n",
       "            warnings.style.display = 'block';\n",
       "            warnings.textContent = (\n",
       "                \"This browser does not support binary websocket messages. \" +\n",
       "                    \"Performance may be slow.\");\n",
       "        }\n",
       "    }\n",
       "\n",
       "    this.imageObj = new Image();\n",
       "\n",
       "    this.context = undefined;\n",
       "    this.message = undefined;\n",
       "    this.canvas = undefined;\n",
       "    this.rubberband_canvas = undefined;\n",
       "    this.rubberband_context = undefined;\n",
       "    this.format_dropdown = undefined;\n",
       "\n",
       "    this.image_mode = 'full';\n",
       "\n",
       "    this.root = $('<div/>');\n",
       "    this._root_extra_style(this.root)\n",
       "    this.root.attr('style', 'display: inline-block');\n",
       "\n",
       "    $(parent_element).append(this.root);\n",
       "\n",
       "    this._init_header(this);\n",
       "    this._init_canvas(this);\n",
       "    this._init_toolbar(this);\n",
       "\n",
       "    var fig = this;\n",
       "\n",
       "    this.waiting = false;\n",
       "\n",
       "    this.ws.onopen =  function () {\n",
       "            fig.send_message(\"supports_binary\", {value: fig.supports_binary});\n",
       "            fig.send_message(\"send_image_mode\", {});\n",
       "            if (mpl.ratio != 1) {\n",
       "                fig.send_message(\"set_dpi_ratio\", {'dpi_ratio': mpl.ratio});\n",
       "            }\n",
       "            fig.send_message(\"refresh\", {});\n",
       "        }\n",
       "\n",
       "    this.imageObj.onload = function() {\n",
       "            if (fig.image_mode == 'full') {\n",
       "                // Full images could contain transparency (where diff images\n",
       "                // almost always do), so we need to clear the canvas so that\n",
       "                // there is no ghosting.\n",
       "                fig.context.clearRect(0, 0, fig.canvas.width, fig.canvas.height);\n",
       "            }\n",
       "            fig.context.drawImage(fig.imageObj, 0, 0);\n",
       "        };\n",
       "\n",
       "    this.imageObj.onunload = function() {\n",
       "        fig.ws.close();\n",
       "    }\n",
       "\n",
       "    this.ws.onmessage = this._make_on_message_function(this);\n",
       "\n",
       "    this.ondownload = ondownload;\n",
       "}\n",
       "\n",
       "mpl.figure.prototype._init_header = function() {\n",
       "    var titlebar = $(\n",
       "        '<div class=\"ui-dialog-titlebar ui-widget-header ui-corner-all ' +\n",
       "        'ui-helper-clearfix\"/>');\n",
       "    var titletext = $(\n",
       "        '<div class=\"ui-dialog-title\" style=\"width: 100%; ' +\n",
       "        'text-align: center; padding: 3px;\"/>');\n",
       "    titlebar.append(titletext)\n",
       "    this.root.append(titlebar);\n",
       "    this.header = titletext[0];\n",
       "}\n",
       "\n",
       "\n",
       "\n",
       "mpl.figure.prototype._canvas_extra_style = function(canvas_div) {\n",
       "\n",
       "}\n",
       "\n",
       "\n",
       "mpl.figure.prototype._root_extra_style = function(canvas_div) {\n",
       "\n",
       "}\n",
       "\n",
       "mpl.figure.prototype._init_canvas = function() {\n",
       "    var fig = this;\n",
       "\n",
       "    var canvas_div = $('<div/>');\n",
       "\n",
       "    canvas_div.attr('style', 'position: relative; clear: both; outline: 0');\n",
       "\n",
       "    function canvas_keyboard_event(event) {\n",
       "        return fig.key_event(event, event['data']);\n",
       "    }\n",
       "\n",
       "    canvas_div.keydown('key_press', canvas_keyboard_event);\n",
       "    canvas_div.keyup('key_release', canvas_keyboard_event);\n",
       "    this.canvas_div = canvas_div\n",
       "    this._canvas_extra_style(canvas_div)\n",
       "    this.root.append(canvas_div);\n",
       "\n",
       "    var canvas = $('<canvas/>');\n",
       "    canvas.addClass('mpl-canvas');\n",
       "    canvas.attr('style', \"left: 0; top: 0; z-index: 0; outline: 0\")\n",
       "\n",
       "    this.canvas = canvas[0];\n",
       "    this.context = canvas[0].getContext(\"2d\");\n",
       "\n",
       "    var backingStore = this.context.backingStorePixelRatio ||\n",
       "\tthis.context.webkitBackingStorePixelRatio ||\n",
       "\tthis.context.mozBackingStorePixelRatio ||\n",
       "\tthis.context.msBackingStorePixelRatio ||\n",
       "\tthis.context.oBackingStorePixelRatio ||\n",
       "\tthis.context.backingStorePixelRatio || 1;\n",
       "\n",
       "    mpl.ratio = (window.devicePixelRatio || 1) / backingStore;\n",
       "\n",
       "    var rubberband = $('<canvas/>');\n",
       "    rubberband.attr('style', \"position: absolute; left: 0; top: 0; z-index: 1;\")\n",
       "\n",
       "    var pass_mouse_events = true;\n",
       "\n",
       "    canvas_div.resizable({\n",
       "        start: function(event, ui) {\n",
       "            pass_mouse_events = false;\n",
       "        },\n",
       "        resize: function(event, ui) {\n",
       "            fig.request_resize(ui.size.width, ui.size.height);\n",
       "        },\n",
       "        stop: function(event, ui) {\n",
       "            pass_mouse_events = true;\n",
       "            fig.request_resize(ui.size.width, ui.size.height);\n",
       "        },\n",
       "    });\n",
       "\n",
       "    function mouse_event_fn(event) {\n",
       "        if (pass_mouse_events)\n",
       "            return fig.mouse_event(event, event['data']);\n",
       "    }\n",
       "\n",
       "    rubberband.mousedown('button_press', mouse_event_fn);\n",
       "    rubberband.mouseup('button_release', mouse_event_fn);\n",
       "    // Throttle sequential mouse events to 1 every 20ms.\n",
       "    rubberband.mousemove('motion_notify', mouse_event_fn);\n",
       "\n",
       "    rubberband.mouseenter('figure_enter', mouse_event_fn);\n",
       "    rubberband.mouseleave('figure_leave', mouse_event_fn);\n",
       "\n",
       "    canvas_div.on(\"wheel\", function (event) {\n",
       "        event = event.originalEvent;\n",
       "        event['data'] = 'scroll'\n",
       "        if (event.deltaY < 0) {\n",
       "            event.step = 1;\n",
       "        } else {\n",
       "            event.step = -1;\n",
       "        }\n",
       "        mouse_event_fn(event);\n",
       "    });\n",
       "\n",
       "    canvas_div.append(canvas);\n",
       "    canvas_div.append(rubberband);\n",
       "\n",
       "    this.rubberband = rubberband;\n",
       "    this.rubberband_canvas = rubberband[0];\n",
       "    this.rubberband_context = rubberband[0].getContext(\"2d\");\n",
       "    this.rubberband_context.strokeStyle = \"#000000\";\n",
       "\n",
       "    this._resize_canvas = function(width, height) {\n",
       "        // Keep the size of the canvas, canvas container, and rubber band\n",
       "        // canvas in synch.\n",
       "        canvas_div.css('width', width)\n",
       "        canvas_div.css('height', height)\n",
       "\n",
       "        canvas.attr('width', width * mpl.ratio);\n",
       "        canvas.attr('height', height * mpl.ratio);\n",
       "        canvas.attr('style', 'width: ' + width + 'px; height: ' + height + 'px;');\n",
       "\n",
       "        rubberband.attr('width', width);\n",
       "        rubberband.attr('height', height);\n",
       "    }\n",
       "\n",
       "    // Set the figure to an initial 600x600px, this will subsequently be updated\n",
       "    // upon first draw.\n",
       "    this._resize_canvas(600, 600);\n",
       "\n",
       "    // Disable right mouse context menu.\n",
       "    $(this.rubberband_canvas).bind(\"contextmenu\",function(e){\n",
       "        return false;\n",
       "    });\n",
       "\n",
       "    function set_focus () {\n",
       "        canvas.focus();\n",
       "        canvas_div.focus();\n",
       "    }\n",
       "\n",
       "    window.setTimeout(set_focus, 100);\n",
       "}\n",
       "\n",
       "mpl.figure.prototype._init_toolbar = function() {\n",
       "    var fig = this;\n",
       "\n",
       "    var nav_element = $('<div/>')\n",
       "    nav_element.attr('style', 'width: 100%');\n",
       "    this.root.append(nav_element);\n",
       "\n",
       "    // Define a callback function for later on.\n",
       "    function toolbar_event(event) {\n",
       "        return fig.toolbar_button_onclick(event['data']);\n",
       "    }\n",
       "    function toolbar_mouse_event(event) {\n",
       "        return fig.toolbar_button_onmouseover(event['data']);\n",
       "    }\n",
       "\n",
       "    for(var toolbar_ind in mpl.toolbar_items) {\n",
       "        var name = mpl.toolbar_items[toolbar_ind][0];\n",
       "        var tooltip = mpl.toolbar_items[toolbar_ind][1];\n",
       "        var image = mpl.toolbar_items[toolbar_ind][2];\n",
       "        var method_name = mpl.toolbar_items[toolbar_ind][3];\n",
       "\n",
       "        if (!name) {\n",
       "            // put a spacer in here.\n",
       "            continue;\n",
       "        }\n",
       "        var button = $('<button/>');\n",
       "        button.addClass('ui-button ui-widget ui-state-default ui-corner-all ' +\n",
       "                        'ui-button-icon-only');\n",
       "        button.attr('role', 'button');\n",
       "        button.attr('aria-disabled', 'false');\n",
       "        button.click(method_name, toolbar_event);\n",
       "        button.mouseover(tooltip, toolbar_mouse_event);\n",
       "\n",
       "        var icon_img = $('<span/>');\n",
       "        icon_img.addClass('ui-button-icon-primary ui-icon');\n",
       "        icon_img.addClass(image);\n",
       "        icon_img.addClass('ui-corner-all');\n",
       "\n",
       "        var tooltip_span = $('<span/>');\n",
       "        tooltip_span.addClass('ui-button-text');\n",
       "        tooltip_span.html(tooltip);\n",
       "\n",
       "        button.append(icon_img);\n",
       "        button.append(tooltip_span);\n",
       "\n",
       "        nav_element.append(button);\n",
       "    }\n",
       "\n",
       "    var fmt_picker_span = $('<span/>');\n",
       "\n",
       "    var fmt_picker = $('<select/>');\n",
       "    fmt_picker.addClass('mpl-toolbar-option ui-widget ui-widget-content');\n",
       "    fmt_picker_span.append(fmt_picker);\n",
       "    nav_element.append(fmt_picker_span);\n",
       "    this.format_dropdown = fmt_picker[0];\n",
       "\n",
       "    for (var ind in mpl.extensions) {\n",
       "        var fmt = mpl.extensions[ind];\n",
       "        var option = $(\n",
       "            '<option/>', {selected: fmt === mpl.default_extension}).html(fmt);\n",
       "        fmt_picker.append(option)\n",
       "    }\n",
       "\n",
       "    // Add hover states to the ui-buttons\n",
       "    $( \".ui-button\" ).hover(\n",
       "        function() { $(this).addClass(\"ui-state-hover\");},\n",
       "        function() { $(this).removeClass(\"ui-state-hover\");}\n",
       "    );\n",
       "\n",
       "    var status_bar = $('<span class=\"mpl-message\"/>');\n",
       "    nav_element.append(status_bar);\n",
       "    this.message = status_bar[0];\n",
       "}\n",
       "\n",
       "mpl.figure.prototype.request_resize = function(x_pixels, y_pixels) {\n",
       "    // Request matplotlib to resize the figure. Matplotlib will then trigger a resize in the client,\n",
       "    // which will in turn request a refresh of the image.\n",
       "    this.send_message('resize', {'width': x_pixels, 'height': y_pixels});\n",
       "}\n",
       "\n",
       "mpl.figure.prototype.send_message = function(type, properties) {\n",
       "    properties['type'] = type;\n",
       "    properties['figure_id'] = this.id;\n",
       "    this.ws.send(JSON.stringify(properties));\n",
       "}\n",
       "\n",
       "mpl.figure.prototype.send_draw_message = function() {\n",
       "    if (!this.waiting) {\n",
       "        this.waiting = true;\n",
       "        this.ws.send(JSON.stringify({type: \"draw\", figure_id: this.id}));\n",
       "    }\n",
       "}\n",
       "\n",
       "\n",
       "mpl.figure.prototype.handle_save = function(fig, msg) {\n",
       "    var format_dropdown = fig.format_dropdown;\n",
       "    var format = format_dropdown.options[format_dropdown.selectedIndex].value;\n",
       "    fig.ondownload(fig, format);\n",
       "}\n",
       "\n",
       "\n",
       "mpl.figure.prototype.handle_resize = function(fig, msg) {\n",
       "    var size = msg['size'];\n",
       "    if (size[0] != fig.canvas.width || size[1] != fig.canvas.height) {\n",
       "        fig._resize_canvas(size[0], size[1]);\n",
       "        fig.send_message(\"refresh\", {});\n",
       "    };\n",
       "}\n",
       "\n",
       "mpl.figure.prototype.handle_rubberband = function(fig, msg) {\n",
       "    var x0 = msg['x0'] / mpl.ratio;\n",
       "    var y0 = (fig.canvas.height - msg['y0']) / mpl.ratio;\n",
       "    var x1 = msg['x1'] / mpl.ratio;\n",
       "    var y1 = (fig.canvas.height - msg['y1']) / mpl.ratio;\n",
       "    x0 = Math.floor(x0) + 0.5;\n",
       "    y0 = Math.floor(y0) + 0.5;\n",
       "    x1 = Math.floor(x1) + 0.5;\n",
       "    y1 = Math.floor(y1) + 0.5;\n",
       "    var min_x = Math.min(x0, x1);\n",
       "    var min_y = Math.min(y0, y1);\n",
       "    var width = Math.abs(x1 - x0);\n",
       "    var height = Math.abs(y1 - y0);\n",
       "\n",
       "    fig.rubberband_context.clearRect(\n",
       "        0, 0, fig.canvas.width, fig.canvas.height);\n",
       "\n",
       "    fig.rubberband_context.strokeRect(min_x, min_y, width, height);\n",
       "}\n",
       "\n",
       "mpl.figure.prototype.handle_figure_label = function(fig, msg) {\n",
       "    // Updates the figure title.\n",
       "    fig.header.textContent = msg['label'];\n",
       "}\n",
       "\n",
       "mpl.figure.prototype.handle_cursor = function(fig, msg) {\n",
       "    var cursor = msg['cursor'];\n",
       "    switch(cursor)\n",
       "    {\n",
       "    case 0:\n",
       "        cursor = 'pointer';\n",
       "        break;\n",
       "    case 1:\n",
       "        cursor = 'default';\n",
       "        break;\n",
       "    case 2:\n",
       "        cursor = 'crosshair';\n",
       "        break;\n",
       "    case 3:\n",
       "        cursor = 'move';\n",
       "        break;\n",
       "    }\n",
       "    fig.rubberband_canvas.style.cursor = cursor;\n",
       "}\n",
       "\n",
       "mpl.figure.prototype.handle_message = function(fig, msg) {\n",
       "    fig.message.textContent = msg['message'];\n",
       "}\n",
       "\n",
       "mpl.figure.prototype.handle_draw = function(fig, msg) {\n",
       "    // Request the server to send over a new figure.\n",
       "    fig.send_draw_message();\n",
       "}\n",
       "\n",
       "mpl.figure.prototype.handle_image_mode = function(fig, msg) {\n",
       "    fig.image_mode = msg['mode'];\n",
       "}\n",
       "\n",
       "mpl.figure.prototype.updated_canvas_event = function() {\n",
       "    // Called whenever the canvas gets updated.\n",
       "    this.send_message(\"ack\", {});\n",
       "}\n",
       "\n",
       "// A function to construct a web socket function for onmessage handling.\n",
       "// Called in the figure constructor.\n",
       "mpl.figure.prototype._make_on_message_function = function(fig) {\n",
       "    return function socket_on_message(evt) {\n",
       "        if (evt.data instanceof Blob) {\n",
       "            /* FIXME: We get \"Resource interpreted as Image but\n",
       "             * transferred with MIME type text/plain:\" errors on\n",
       "             * Chrome.  But how to set the MIME type?  It doesn't seem\n",
       "             * to be part of the websocket stream */\n",
       "            evt.data.type = \"image/png\";\n",
       "\n",
       "            /* Free the memory for the previous frames */\n",
       "            if (fig.imageObj.src) {\n",
       "                (window.URL || window.webkitURL).revokeObjectURL(\n",
       "                    fig.imageObj.src);\n",
       "            }\n",
       "\n",
       "            fig.imageObj.src = (window.URL || window.webkitURL).createObjectURL(\n",
       "                evt.data);\n",
       "            fig.updated_canvas_event();\n",
       "            fig.waiting = false;\n",
       "            return;\n",
       "        }\n",
       "        else if (typeof evt.data === 'string' && evt.data.slice(0, 21) == \"data:image/png;base64\") {\n",
       "            fig.imageObj.src = evt.data;\n",
       "            fig.updated_canvas_event();\n",
       "            fig.waiting = false;\n",
       "            return;\n",
       "        }\n",
       "\n",
       "        var msg = JSON.parse(evt.data);\n",
       "        var msg_type = msg['type'];\n",
       "\n",
       "        // Call the  \"handle_{type}\" callback, which takes\n",
       "        // the figure and JSON message as its only arguments.\n",
       "        try {\n",
       "            var callback = fig[\"handle_\" + msg_type];\n",
       "        } catch (e) {\n",
       "            console.log(\"No handler for the '\" + msg_type + \"' message type: \", msg);\n",
       "            return;\n",
       "        }\n",
       "\n",
       "        if (callback) {\n",
       "            try {\n",
       "                // console.log(\"Handling '\" + msg_type + \"' message: \", msg);\n",
       "                callback(fig, msg);\n",
       "            } catch (e) {\n",
       "                console.log(\"Exception inside the 'handler_\" + msg_type + \"' callback:\", e, e.stack, msg);\n",
       "            }\n",
       "        }\n",
       "    };\n",
       "}\n",
       "\n",
       "// from http://stackoverflow.com/questions/1114465/getting-mouse-location-in-canvas\n",
       "mpl.findpos = function(e) {\n",
       "    //this section is from http://www.quirksmode.org/js/events_properties.html\n",
       "    var targ;\n",
       "    if (!e)\n",
       "        e = window.event;\n",
       "    if (e.target)\n",
       "        targ = e.target;\n",
       "    else if (e.srcElement)\n",
       "        targ = e.srcElement;\n",
       "    if (targ.nodeType == 3) // defeat Safari bug\n",
       "        targ = targ.parentNode;\n",
       "\n",
       "    // jQuery normalizes the pageX and pageY\n",
       "    // pageX,Y are the mouse positions relative to the document\n",
       "    // offset() returns the position of the element relative to the document\n",
       "    var x = e.pageX - $(targ).offset().left;\n",
       "    var y = e.pageY - $(targ).offset().top;\n",
       "\n",
       "    return {\"x\": x, \"y\": y};\n",
       "};\n",
       "\n",
       "/*\n",
       " * return a copy of an object with only non-object keys\n",
       " * we need this to avoid circular references\n",
       " * http://stackoverflow.com/a/24161582/3208463\n",
       " */\n",
       "function simpleKeys (original) {\n",
       "  return Object.keys(original).reduce(function (obj, key) {\n",
       "    if (typeof original[key] !== 'object')\n",
       "        obj[key] = original[key]\n",
       "    return obj;\n",
       "  }, {});\n",
       "}\n",
       "\n",
       "mpl.figure.prototype.mouse_event = function(event, name) {\n",
       "    var canvas_pos = mpl.findpos(event)\n",
       "\n",
       "    if (name === 'button_press')\n",
       "    {\n",
       "        this.canvas.focus();\n",
       "        this.canvas_div.focus();\n",
       "    }\n",
       "\n",
       "    var x = canvas_pos.x * mpl.ratio;\n",
       "    var y = canvas_pos.y * mpl.ratio;\n",
       "\n",
       "    this.send_message(name, {x: x, y: y, button: event.button,\n",
       "                             step: event.step,\n",
       "                             guiEvent: simpleKeys(event)});\n",
       "\n",
       "    /* This prevents the web browser from automatically changing to\n",
       "     * the text insertion cursor when the button is pressed.  We want\n",
       "     * to control all of the cursor setting manually through the\n",
       "     * 'cursor' event from matplotlib */\n",
       "    event.preventDefault();\n",
       "    return false;\n",
       "}\n",
       "\n",
       "mpl.figure.prototype._key_event_extra = function(event, name) {\n",
       "    // Handle any extra behaviour associated with a key event\n",
       "}\n",
       "\n",
       "mpl.figure.prototype.key_event = function(event, name) {\n",
       "\n",
       "    // Prevent repeat events\n",
       "    if (name == 'key_press')\n",
       "    {\n",
       "        if (event.which === this._key)\n",
       "            return;\n",
       "        else\n",
       "            this._key = event.which;\n",
       "    }\n",
       "    if (name == 'key_release')\n",
       "        this._key = null;\n",
       "\n",
       "    var value = '';\n",
       "    if (event.ctrlKey && event.which != 17)\n",
       "        value += \"ctrl+\";\n",
       "    if (event.altKey && event.which != 18)\n",
       "        value += \"alt+\";\n",
       "    if (event.shiftKey && event.which != 16)\n",
       "        value += \"shift+\";\n",
       "\n",
       "    value += 'k';\n",
       "    value += event.which.toString();\n",
       "\n",
       "    this._key_event_extra(event, name);\n",
       "\n",
       "    this.send_message(name, {key: value,\n",
       "                             guiEvent: simpleKeys(event)});\n",
       "    return false;\n",
       "}\n",
       "\n",
       "mpl.figure.prototype.toolbar_button_onclick = function(name) {\n",
       "    if (name == 'download') {\n",
       "        this.handle_save(this, null);\n",
       "    } else {\n",
       "        this.send_message(\"toolbar_button\", {name: name});\n",
       "    }\n",
       "};\n",
       "\n",
       "mpl.figure.prototype.toolbar_button_onmouseover = function(tooltip) {\n",
       "    this.message.textContent = tooltip;\n",
       "};\n",
       "mpl.toolbar_items = [[\"Home\", \"Reset original view\", \"fa fa-home icon-home\", \"home\"], [\"Back\", \"Back to previous view\", \"fa fa-arrow-left icon-arrow-left\", \"back\"], [\"Forward\", \"Forward to next view\", \"fa fa-arrow-right icon-arrow-right\", \"forward\"], [\"\", \"\", \"\", \"\"], [\"Pan\", \"Pan axes with left mouse, zoom with right\", \"fa fa-arrows icon-move\", \"pan\"], [\"Zoom\", \"Zoom to rectangle\", \"fa fa-square-o icon-check-empty\", \"zoom\"], [\"\", \"\", \"\", \"\"], [\"Download\", \"Download plot\", \"fa fa-floppy-o icon-save\", \"download\"]];\n",
       "\n",
       "mpl.extensions = [\"eps\", \"jpeg\", \"pdf\", \"png\", \"ps\", \"raw\", \"svg\", \"tif\"];\n",
       "\n",
       "mpl.default_extension = \"png\";var comm_websocket_adapter = function(comm) {\n",
       "    // Create a \"websocket\"-like object which calls the given IPython comm\n",
       "    // object with the appropriate methods. Currently this is a non binary\n",
       "    // socket, so there is still some room for performance tuning.\n",
       "    var ws = {};\n",
       "\n",
       "    ws.close = function() {\n",
       "        comm.close()\n",
       "    };\n",
       "    ws.send = function(m) {\n",
       "        //console.log('sending', m);\n",
       "        comm.send(m);\n",
       "    };\n",
       "    // Register the callback with on_msg.\n",
       "    comm.on_msg(function(msg) {\n",
       "        //console.log('receiving', msg['content']['data'], msg);\n",
       "        // Pass the mpl event to the overridden (by mpl) onmessage function.\n",
       "        ws.onmessage(msg['content']['data'])\n",
       "    });\n",
       "    return ws;\n",
       "}\n",
       "\n",
       "mpl.mpl_figure_comm = function(comm, msg) {\n",
       "    // This is the function which gets called when the mpl process\n",
       "    // starts-up an IPython Comm through the \"matplotlib\" channel.\n",
       "\n",
       "    var id = msg.content.data.id;\n",
       "    // Get hold of the div created by the display call when the Comm\n",
       "    // socket was opened in Python.\n",
       "    var element = $(\"#\" + id);\n",
       "    var ws_proxy = comm_websocket_adapter(comm)\n",
       "\n",
       "    function ondownload(figure, format) {\n",
       "        window.open(figure.imageObj.src);\n",
       "    }\n",
       "\n",
       "    var fig = new mpl.figure(id, ws_proxy,\n",
       "                           ondownload,\n",
       "                           element.get(0));\n",
       "\n",
       "    // Call onopen now - mpl needs it, as it is assuming we've passed it a real\n",
       "    // web socket which is closed, not our websocket->open comm proxy.\n",
       "    ws_proxy.onopen();\n",
       "\n",
       "    fig.parent_element = element.get(0);\n",
       "    fig.cell_info = mpl.find_output_cell(\"<div id='\" + id + \"'></div>\");\n",
       "    if (!fig.cell_info) {\n",
       "        console.error(\"Failed to find cell for figure\", id, fig);\n",
       "        return;\n",
       "    }\n",
       "\n",
       "    var output_index = fig.cell_info[2]\n",
       "    var cell = fig.cell_info[0];\n",
       "\n",
       "};\n",
       "\n",
       "mpl.figure.prototype.handle_close = function(fig, msg) {\n",
       "    var width = fig.canvas.width/mpl.ratio\n",
       "    fig.root.unbind('remove')\n",
       "\n",
       "    // Update the output cell to use the data from the current canvas.\n",
       "    fig.push_to_output();\n",
       "    var dataURL = fig.canvas.toDataURL();\n",
       "    // Re-enable the keyboard manager in IPython - without this line, in FF,\n",
       "    // the notebook keyboard shortcuts fail.\n",
       "    IPython.keyboard_manager.enable()\n",
       "    $(fig.parent_element).html('<img src=\"' + dataURL + '\" width=\"' + width + '\">');\n",
       "    fig.close_ws(fig, msg);\n",
       "}\n",
       "\n",
       "mpl.figure.prototype.close_ws = function(fig, msg){\n",
       "    fig.send_message('closing', msg);\n",
       "    // fig.ws.close()\n",
       "}\n",
       "\n",
       "mpl.figure.prototype.push_to_output = function(remove_interactive) {\n",
       "    // Turn the data on the canvas into data in the output cell.\n",
       "    var width = this.canvas.width/mpl.ratio\n",
       "    var dataURL = this.canvas.toDataURL();\n",
       "    this.cell_info[1]['text/html'] = '<img src=\"' + dataURL + '\" width=\"' + width + '\">';\n",
       "}\n",
       "\n",
       "mpl.figure.prototype.updated_canvas_event = function() {\n",
       "    // Tell IPython that the notebook contents must change.\n",
       "    IPython.notebook.set_dirty(true);\n",
       "    this.send_message(\"ack\", {});\n",
       "    var fig = this;\n",
       "    // Wait a second, then push the new image to the DOM so\n",
       "    // that it is saved nicely (might be nice to debounce this).\n",
       "    setTimeout(function () { fig.push_to_output() }, 1000);\n",
       "}\n",
       "\n",
       "mpl.figure.prototype._init_toolbar = function() {\n",
       "    var fig = this;\n",
       "\n",
       "    var nav_element = $('<div/>')\n",
       "    nav_element.attr('style', 'width: 100%');\n",
       "    this.root.append(nav_element);\n",
       "\n",
       "    // Define a callback function for later on.\n",
       "    function toolbar_event(event) {\n",
       "        return fig.toolbar_button_onclick(event['data']);\n",
       "    }\n",
       "    function toolbar_mouse_event(event) {\n",
       "        return fig.toolbar_button_onmouseover(event['data']);\n",
       "    }\n",
       "\n",
       "    for(var toolbar_ind in mpl.toolbar_items){\n",
       "        var name = mpl.toolbar_items[toolbar_ind][0];\n",
       "        var tooltip = mpl.toolbar_items[toolbar_ind][1];\n",
       "        var image = mpl.toolbar_items[toolbar_ind][2];\n",
       "        var method_name = mpl.toolbar_items[toolbar_ind][3];\n",
       "\n",
       "        if (!name) { continue; };\n",
       "\n",
       "        var button = $('<button class=\"btn btn-default\" href=\"#\" title=\"' + name + '\"><i class=\"fa ' + image + ' fa-lg\"></i></button>');\n",
       "        button.click(method_name, toolbar_event);\n",
       "        button.mouseover(tooltip, toolbar_mouse_event);\n",
       "        nav_element.append(button);\n",
       "    }\n",
       "\n",
       "    // Add the status bar.\n",
       "    var status_bar = $('<span class=\"mpl-message\" style=\"text-align:right; float: right;\"/>');\n",
       "    nav_element.append(status_bar);\n",
       "    this.message = status_bar[0];\n",
       "\n",
       "    // Add the close button to the window.\n",
       "    var buttongrp = $('<div class=\"btn-group inline pull-right\"></div>');\n",
       "    var button = $('<button class=\"btn btn-mini btn-primary\" href=\"#\" title=\"Stop Interaction\"><i class=\"fa fa-power-off icon-remove icon-large\"></i></button>');\n",
       "    button.click(function (evt) { fig.handle_close(fig, {}); } );\n",
       "    button.mouseover('Stop Interaction', toolbar_mouse_event);\n",
       "    buttongrp.append(button);\n",
       "    var titlebar = this.root.find($('.ui-dialog-titlebar'));\n",
       "    titlebar.prepend(buttongrp);\n",
       "}\n",
       "\n",
       "mpl.figure.prototype._root_extra_style = function(el){\n",
       "    var fig = this\n",
       "    el.on(\"remove\", function(){\n",
       "\tfig.close_ws(fig, {});\n",
       "    });\n",
       "}\n",
       "\n",
       "mpl.figure.prototype._canvas_extra_style = function(el){\n",
       "    // this is important to make the div 'focusable\n",
       "    el.attr('tabindex', 0)\n",
       "    // reach out to IPython and tell the keyboard manager to turn it's self\n",
       "    // off when our div gets focus\n",
       "\n",
       "    // location in version 3\n",
       "    if (IPython.notebook.keyboard_manager) {\n",
       "        IPython.notebook.keyboard_manager.register_events(el);\n",
       "    }\n",
       "    else {\n",
       "        // location in version 2\n",
       "        IPython.keyboard_manager.register_events(el);\n",
       "    }\n",
       "\n",
       "}\n",
       "\n",
       "mpl.figure.prototype._key_event_extra = function(event, name) {\n",
       "    var manager = IPython.notebook.keyboard_manager;\n",
       "    if (!manager)\n",
       "        manager = IPython.keyboard_manager;\n",
       "\n",
       "    // Check for shift+enter\n",
       "    if (event.shiftKey && event.which == 13) {\n",
       "        this.canvas_div.blur();\n",
       "        event.shiftKey = false;\n",
       "        // Send a \"J\" for go to next cell\n",
       "        event.which = 74;\n",
       "        event.keyCode = 74;\n",
       "        manager.command_mode();\n",
       "        manager.handle_keydown(event);\n",
       "    }\n",
       "}\n",
       "\n",
       "mpl.figure.prototype.handle_save = function(fig, msg) {\n",
       "    fig.ondownload(fig, null);\n",
       "}\n",
       "\n",
       "\n",
       "mpl.find_output_cell = function(html_output) {\n",
       "    // Return the cell and output element which can be found *uniquely* in the notebook.\n",
       "    // Note - this is a bit hacky, but it is done because the \"notebook_saving.Notebook\"\n",
       "    // IPython event is triggered only after the cells have been serialised, which for\n",
       "    // our purposes (turning an active figure into a static one), is too late.\n",
       "    var cells = IPython.notebook.get_cells();\n",
       "    var ncells = cells.length;\n",
       "    for (var i=0; i<ncells; i++) {\n",
       "        var cell = cells[i];\n",
       "        if (cell.cell_type === 'code'){\n",
       "            for (var j=0; j<cell.output_area.outputs.length; j++) {\n",
       "                var data = cell.output_area.outputs[j];\n",
       "                if (data.data) {\n",
       "                    // IPython >= 3 moved mimebundle to data attribute of output\n",
       "                    data = data.data;\n",
       "                }\n",
       "                if (data['text/html'] == html_output) {\n",
       "                    return [cell, data, j];\n",
       "                }\n",
       "            }\n",
       "        }\n",
       "    }\n",
       "}\n",
       "\n",
       "// Register the function which deals with the matplotlib target/channel.\n",
       "// The kernel may be null if the page has been refreshed.\n",
       "if (IPython.notebook.kernel != null) {\n",
       "    IPython.notebook.kernel.comm_manager.register_target('matplotlib', mpl.mpl_figure_comm);\n",
       "}\n"
      ],
      "text/plain": [
       "<IPython.core.display.Javascript object>"
      ]
     },
     "metadata": {},
     "output_type": "display_data"
    },
    {
     "data": {
      "text/html": [
       "<img src=\"data:image/png;base64,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\" width=\"500\">"
      ],
      "text/plain": [
       "<IPython.core.display.HTML object>"
      ]
     },
     "metadata": {},
     "output_type": "display_data"
    }
   ],
   "source": [
    "K = 2\n",
    "M = 2\n",
    "fdf['alpha_abs_bins'] = pd.qcut(fdf.alpha_abs, q=K)\n",
    "\n",
    "fig = plt.figure('ntm_props_by_alpha_beta', figsize=[5, 3])\n",
    "\n",
    "ntm3 = fdf.loc[fdf.ntm==3, :]\n",
    "grpF = fdf.loc[fdf.grp==0, :]\n",
    "grpS = fdf.loc[fdf.grp==1, :]\n",
    "\n",
    "ax = vut.pretty(fig.add_subplot(111), 'y')\n",
    "# ax.set_ylim(0, 1)\n",
    "ax.set_xlim([0.7, 2.3])\n",
    "ax.set_ylabel('Proportion')\n",
    "ax.set_xlabel('Beta', fontsize=12)\n",
    "\n",
    "for i, (abounds, ad) in enumerate(grpS.groupby('alpha_abs_bins')):\n",
    "    ls = '-' if i else '--'\n",
    "#     ax.set_title('|alpha| in [{:.2f}, {:.2f}{}'.format(abounds.left, abounds.right,']' if (i+1)==K else ')'))\n",
    "#     ax.axvline(M/2, c='k', alpha=.5, ls=':')\n",
    "    inds = np.array([1, 2])\n",
    "    \n",
    "    # Process and plot data\n",
    "    # ====================================================\n",
    "    bounds, props = [], []\n",
    "#     for j, (bbounds, bd) in enumerate(ad.groupby(pd.qcut(ad.beta, q=M))): # bin by beta quantiles\n",
    "    for j, (bbounds, bd) in enumerate(ad.groupby(pd.cut(ad.beta, bins=[-3,0,3]))): # bin into standard bins\n",
    "        s = '[{:.2f}, {:.2f}{}'.format(bbounds.left, bbounds.right,']' if (j+1)==M else ')')\n",
    "        bounds.append(s)\n",
    "        counts = [(bd.ntm==ntm).sum() for ntm in (1,2,3)]\n",
    "        counts = np.array(counts)\n",
    "        props.append(counts / counts.sum())\n",
    "    props = np.stack(props, axis=1)\n",
    "    astr = 'High-alpha' if i else 'Low-alpha'\n",
    "\n",
    "    for j, row in enumerate(props):\n",
    "        ntmstr = ' / NTM-{}'.format(j+1)\n",
    "        label = astr + ntmstr\n",
    "        ax.plot(inds, row, color=gcolors[j], ls=ls, label=label, marker='o^s'[j])\n",
    "#     ax.stackplot(inds, props, colors=[gcolors[i] for i in range(3)], \n",
    "#                  labels=['NTM-{}'.format(i) for i in range(1, 4)], alpha=.8)\n",
    "    # ====================================================\n",
    "    \n",
    "    ax.set_xticks(inds)\n",
    "    ax.set_xticklabels(('< 0', '>= 0'))\n",
    "\n",
    "solid = mpl.lines.Line2D([0],[0], color='k', lw=2, label='High-alpha')\n",
    "solid_ = mpl.lines.Line2D([0],[0], color='k', ls='', marker='o', label='High-alpha')\n",
    "\n",
    "dashed = mpl.lines.Line2D([0],[0], color='k', lw=2, label='Low-alpha', ls='--', dashes=(2, 1))\n",
    "dashed_ = mpl.lines.Line2D([0],[0], ls='', marker='o', label='Low-alpha', markerfacecolor='w', markeredgecolor='k')\n",
    "\n",
    "blue = mpl.lines.Line2D([0],[0], color=gcolors[0], lw=2, label='NTM-1')\n",
    "blue_ = mpl.lines.Line2D([0],[0], color=gcolors[0], ls='', marker='o', label='NTM-1')\n",
    "\n",
    "red = mpl.lines.Line2D([0],[0], color=gcolors[1], lw=2, label='NTM-2')\n",
    "red_ = mpl.lines.Line2D([0],[0], color=gcolors[1], ls='', marker='^', label='NTM-1')\n",
    "\n",
    "yellow = mpl.lines.Line2D([0],[0], color=gcolors[2], lw=2, label='NTM-3')\n",
    "yellow_ = mpl.lines.Line2D([0],[0], color=gcolors[2], ls='', marker='s', label='NTM-1')\n",
    "\n",
    "ax.legend([(blue, blue_), (red, red_), (yellow, yellow_), (dashed), (solid)], \n",
    "              ['NTM-1', 'NTM-2', 'NTM-3', 'Low-alpha', 'High-alpha'],\n",
    "              bbox_to_anchor=(1.05, 1.0), loc='upper left',\n",
    "              handler_map={tuple: mpl.legend_handler.HandlerTuple(ndivide=None)})\n",
    "\n",
    "fig.tight_layout()\n",
    "# fig.savefig('/Users/alexten/Desktop/ntm_props_by_alpha_beta.png')"
   ]
  },
  {
   "cell_type": "code",
   "execution_count": 73,
   "metadata": {
    "ExecuteTime": {
     "end_time": "2020-01-13T10:42:51.192274Z",
     "start_time": "2020-01-13T10:42:50.835120Z"
    },
    "scrolled": false
   },
   "outputs": [
    {
     "data": {
      "application/javascript": [
       "/* Put everything inside the global mpl namespace */\n",
       "window.mpl = {};\n",
       "\n",
       "\n",
       "mpl.get_websocket_type = function() {\n",
       "    if (typeof(WebSocket) !== 'undefined') {\n",
       "        return WebSocket;\n",
       "    } else if (typeof(MozWebSocket) !== 'undefined') {\n",
       "        return MozWebSocket;\n",
       "    } else {\n",
       "        alert('Your browser does not have WebSocket support.' +\n",
       "              'Please try Chrome, Safari or Firefox ≥ 6. ' +\n",
       "              'Firefox 4 and 5 are also supported but you ' +\n",
       "              'have to enable WebSockets in about:config.');\n",
       "    };\n",
       "}\n",
       "\n",
       "mpl.figure = function(figure_id, websocket, ondownload, parent_element) {\n",
       "    this.id = figure_id;\n",
       "\n",
       "    this.ws = websocket;\n",
       "\n",
       "    this.supports_binary = (this.ws.binaryType != undefined);\n",
       "\n",
       "    if (!this.supports_binary) {\n",
       "        var warnings = document.getElementById(\"mpl-warnings\");\n",
       "        if (warnings) {\n",
       "            warnings.style.display = 'block';\n",
       "            warnings.textContent = (\n",
       "                \"This browser does not support binary websocket messages. \" +\n",
       "                    \"Performance may be slow.\");\n",
       "        }\n",
       "    }\n",
       "\n",
       "    this.imageObj = new Image();\n",
       "\n",
       "    this.context = undefined;\n",
       "    this.message = undefined;\n",
       "    this.canvas = undefined;\n",
       "    this.rubberband_canvas = undefined;\n",
       "    this.rubberband_context = undefined;\n",
       "    this.format_dropdown = undefined;\n",
       "\n",
       "    this.image_mode = 'full';\n",
       "\n",
       "    this.root = $('<div/>');\n",
       "    this._root_extra_style(this.root)\n",
       "    this.root.attr('style', 'display: inline-block');\n",
       "\n",
       "    $(parent_element).append(this.root);\n",
       "\n",
       "    this._init_header(this);\n",
       "    this._init_canvas(this);\n",
       "    this._init_toolbar(this);\n",
       "\n",
       "    var fig = this;\n",
       "\n",
       "    this.waiting = false;\n",
       "\n",
       "    this.ws.onopen =  function () {\n",
       "            fig.send_message(\"supports_binary\", {value: fig.supports_binary});\n",
       "            fig.send_message(\"send_image_mode\", {});\n",
       "            if (mpl.ratio != 1) {\n",
       "                fig.send_message(\"set_dpi_ratio\", {'dpi_ratio': mpl.ratio});\n",
       "            }\n",
       "            fig.send_message(\"refresh\", {});\n",
       "        }\n",
       "\n",
       "    this.imageObj.onload = function() {\n",
       "            if (fig.image_mode == 'full') {\n",
       "                // Full images could contain transparency (where diff images\n",
       "                // almost always do), so we need to clear the canvas so that\n",
       "                // there is no ghosting.\n",
       "                fig.context.clearRect(0, 0, fig.canvas.width, fig.canvas.height);\n",
       "            }\n",
       "            fig.context.drawImage(fig.imageObj, 0, 0);\n",
       "        };\n",
       "\n",
       "    this.imageObj.onunload = function() {\n",
       "        fig.ws.close();\n",
       "    }\n",
       "\n",
       "    this.ws.onmessage = this._make_on_message_function(this);\n",
       "\n",
       "    this.ondownload = ondownload;\n",
       "}\n",
       "\n",
       "mpl.figure.prototype._init_header = function() {\n",
       "    var titlebar = $(\n",
       "        '<div class=\"ui-dialog-titlebar ui-widget-header ui-corner-all ' +\n",
       "        'ui-helper-clearfix\"/>');\n",
       "    var titletext = $(\n",
       "        '<div class=\"ui-dialog-title\" style=\"width: 100%; ' +\n",
       "        'text-align: center; padding: 3px;\"/>');\n",
       "    titlebar.append(titletext)\n",
       "    this.root.append(titlebar);\n",
       "    this.header = titletext[0];\n",
       "}\n",
       "\n",
       "\n",
       "\n",
       "mpl.figure.prototype._canvas_extra_style = function(canvas_div) {\n",
       "\n",
       "}\n",
       "\n",
       "\n",
       "mpl.figure.prototype._root_extra_style = function(canvas_div) {\n",
       "\n",
       "}\n",
       "\n",
       "mpl.figure.prototype._init_canvas = function() {\n",
       "    var fig = this;\n",
       "\n",
       "    var canvas_div = $('<div/>');\n",
       "\n",
       "    canvas_div.attr('style', 'position: relative; clear: both; outline: 0');\n",
       "\n",
       "    function canvas_keyboard_event(event) {\n",
       "        return fig.key_event(event, event['data']);\n",
       "    }\n",
       "\n",
       "    canvas_div.keydown('key_press', canvas_keyboard_event);\n",
       "    canvas_div.keyup('key_release', canvas_keyboard_event);\n",
       "    this.canvas_div = canvas_div\n",
       "    this._canvas_extra_style(canvas_div)\n",
       "    this.root.append(canvas_div);\n",
       "\n",
       "    var canvas = $('<canvas/>');\n",
       "    canvas.addClass('mpl-canvas');\n",
       "    canvas.attr('style', \"left: 0; top: 0; z-index: 0; outline: 0\")\n",
       "\n",
       "    this.canvas = canvas[0];\n",
       "    this.context = canvas[0].getContext(\"2d\");\n",
       "\n",
       "    var backingStore = this.context.backingStorePixelRatio ||\n",
       "\tthis.context.webkitBackingStorePixelRatio ||\n",
       "\tthis.context.mozBackingStorePixelRatio ||\n",
       "\tthis.context.msBackingStorePixelRatio ||\n",
       "\tthis.context.oBackingStorePixelRatio ||\n",
       "\tthis.context.backingStorePixelRatio || 1;\n",
       "\n",
       "    mpl.ratio = (window.devicePixelRatio || 1) / backingStore;\n",
       "\n",
       "    var rubberband = $('<canvas/>');\n",
       "    rubberband.attr('style', \"position: absolute; left: 0; top: 0; z-index: 1;\")\n",
       "\n",
       "    var pass_mouse_events = true;\n",
       "\n",
       "    canvas_div.resizable({\n",
       "        start: function(event, ui) {\n",
       "            pass_mouse_events = false;\n",
       "        },\n",
       "        resize: function(event, ui) {\n",
       "            fig.request_resize(ui.size.width, ui.size.height);\n",
       "        },\n",
       "        stop: function(event, ui) {\n",
       "            pass_mouse_events = true;\n",
       "            fig.request_resize(ui.size.width, ui.size.height);\n",
       "        },\n",
       "    });\n",
       "\n",
       "    function mouse_event_fn(event) {\n",
       "        if (pass_mouse_events)\n",
       "            return fig.mouse_event(event, event['data']);\n",
       "    }\n",
       "\n",
       "    rubberband.mousedown('button_press', mouse_event_fn);\n",
       "    rubberband.mouseup('button_release', mouse_event_fn);\n",
       "    // Throttle sequential mouse events to 1 every 20ms.\n",
       "    rubberband.mousemove('motion_notify', mouse_event_fn);\n",
       "\n",
       "    rubberband.mouseenter('figure_enter', mouse_event_fn);\n",
       "    rubberband.mouseleave('figure_leave', mouse_event_fn);\n",
       "\n",
       "    canvas_div.on(\"wheel\", function (event) {\n",
       "        event = event.originalEvent;\n",
       "        event['data'] = 'scroll'\n",
       "        if (event.deltaY < 0) {\n",
       "            event.step = 1;\n",
       "        } else {\n",
       "            event.step = -1;\n",
       "        }\n",
       "        mouse_event_fn(event);\n",
       "    });\n",
       "\n",
       "    canvas_div.append(canvas);\n",
       "    canvas_div.append(rubberband);\n",
       "\n",
       "    this.rubberband = rubberband;\n",
       "    this.rubberband_canvas = rubberband[0];\n",
       "    this.rubberband_context = rubberband[0].getContext(\"2d\");\n",
       "    this.rubberband_context.strokeStyle = \"#000000\";\n",
       "\n",
       "    this._resize_canvas = function(width, height) {\n",
       "        // Keep the size of the canvas, canvas container, and rubber band\n",
       "        // canvas in synch.\n",
       "        canvas_div.css('width', width)\n",
       "        canvas_div.css('height', height)\n",
       "\n",
       "        canvas.attr('width', width * mpl.ratio);\n",
       "        canvas.attr('height', height * mpl.ratio);\n",
       "        canvas.attr('style', 'width: ' + width + 'px; height: ' + height + 'px;');\n",
       "\n",
       "        rubberband.attr('width', width);\n",
       "        rubberband.attr('height', height);\n",
       "    }\n",
       "\n",
       "    // Set the figure to an initial 600x600px, this will subsequently be updated\n",
       "    // upon first draw.\n",
       "    this._resize_canvas(600, 600);\n",
       "\n",
       "    // Disable right mouse context menu.\n",
       "    $(this.rubberband_canvas).bind(\"contextmenu\",function(e){\n",
       "        return false;\n",
       "    });\n",
       "\n",
       "    function set_focus () {\n",
       "        canvas.focus();\n",
       "        canvas_div.focus();\n",
       "    }\n",
       "\n",
       "    window.setTimeout(set_focus, 100);\n",
       "}\n",
       "\n",
       "mpl.figure.prototype._init_toolbar = function() {\n",
       "    var fig = this;\n",
       "\n",
       "    var nav_element = $('<div/>')\n",
       "    nav_element.attr('style', 'width: 100%');\n",
       "    this.root.append(nav_element);\n",
       "\n",
       "    // Define a callback function for later on.\n",
       "    function toolbar_event(event) {\n",
       "        return fig.toolbar_button_onclick(event['data']);\n",
       "    }\n",
       "    function toolbar_mouse_event(event) {\n",
       "        return fig.toolbar_button_onmouseover(event['data']);\n",
       "    }\n",
       "\n",
       "    for(var toolbar_ind in mpl.toolbar_items) {\n",
       "        var name = mpl.toolbar_items[toolbar_ind][0];\n",
       "        var tooltip = mpl.toolbar_items[toolbar_ind][1];\n",
       "        var image = mpl.toolbar_items[toolbar_ind][2];\n",
       "        var method_name = mpl.toolbar_items[toolbar_ind][3];\n",
       "\n",
       "        if (!name) {\n",
       "            // put a spacer in here.\n",
       "            continue;\n",
       "        }\n",
       "        var button = $('<button/>');\n",
       "        button.addClass('ui-button ui-widget ui-state-default ui-corner-all ' +\n",
       "                        'ui-button-icon-only');\n",
       "        button.attr('role', 'button');\n",
       "        button.attr('aria-disabled', 'false');\n",
       "        button.click(method_name, toolbar_event);\n",
       "        button.mouseover(tooltip, toolbar_mouse_event);\n",
       "\n",
       "        var icon_img = $('<span/>');\n",
       "        icon_img.addClass('ui-button-icon-primary ui-icon');\n",
       "        icon_img.addClass(image);\n",
       "        icon_img.addClass('ui-corner-all');\n",
       "\n",
       "        var tooltip_span = $('<span/>');\n",
       "        tooltip_span.addClass('ui-button-text');\n",
       "        tooltip_span.html(tooltip);\n",
       "\n",
       "        button.append(icon_img);\n",
       "        button.append(tooltip_span);\n",
       "\n",
       "        nav_element.append(button);\n",
       "    }\n",
       "\n",
       "    var fmt_picker_span = $('<span/>');\n",
       "\n",
       "    var fmt_picker = $('<select/>');\n",
       "    fmt_picker.addClass('mpl-toolbar-option ui-widget ui-widget-content');\n",
       "    fmt_picker_span.append(fmt_picker);\n",
       "    nav_element.append(fmt_picker_span);\n",
       "    this.format_dropdown = fmt_picker[0];\n",
       "\n",
       "    for (var ind in mpl.extensions) {\n",
       "        var fmt = mpl.extensions[ind];\n",
       "        var option = $(\n",
       "            '<option/>', {selected: fmt === mpl.default_extension}).html(fmt);\n",
       "        fmt_picker.append(option)\n",
       "    }\n",
       "\n",
       "    // Add hover states to the ui-buttons\n",
       "    $( \".ui-button\" ).hover(\n",
       "        function() { $(this).addClass(\"ui-state-hover\");},\n",
       "        function() { $(this).removeClass(\"ui-state-hover\");}\n",
       "    );\n",
       "\n",
       "    var status_bar = $('<span class=\"mpl-message\"/>');\n",
       "    nav_element.append(status_bar);\n",
       "    this.message = status_bar[0];\n",
       "}\n",
       "\n",
       "mpl.figure.prototype.request_resize = function(x_pixels, y_pixels) {\n",
       "    // Request matplotlib to resize the figure. Matplotlib will then trigger a resize in the client,\n",
       "    // which will in turn request a refresh of the image.\n",
       "    this.send_message('resize', {'width': x_pixels, 'height': y_pixels});\n",
       "}\n",
       "\n",
       "mpl.figure.prototype.send_message = function(type, properties) {\n",
       "    properties['type'] = type;\n",
       "    properties['figure_id'] = this.id;\n",
       "    this.ws.send(JSON.stringify(properties));\n",
       "}\n",
       "\n",
       "mpl.figure.prototype.send_draw_message = function() {\n",
       "    if (!this.waiting) {\n",
       "        this.waiting = true;\n",
       "        this.ws.send(JSON.stringify({type: \"draw\", figure_id: this.id}));\n",
       "    }\n",
       "}\n",
       "\n",
       "\n",
       "mpl.figure.prototype.handle_save = function(fig, msg) {\n",
       "    var format_dropdown = fig.format_dropdown;\n",
       "    var format = format_dropdown.options[format_dropdown.selectedIndex].value;\n",
       "    fig.ondownload(fig, format);\n",
       "}\n",
       "\n",
       "\n",
       "mpl.figure.prototype.handle_resize = function(fig, msg) {\n",
       "    var size = msg['size'];\n",
       "    if (size[0] != fig.canvas.width || size[1] != fig.canvas.height) {\n",
       "        fig._resize_canvas(size[0], size[1]);\n",
       "        fig.send_message(\"refresh\", {});\n",
       "    };\n",
       "}\n",
       "\n",
       "mpl.figure.prototype.handle_rubberband = function(fig, msg) {\n",
       "    var x0 = msg['x0'] / mpl.ratio;\n",
       "    var y0 = (fig.canvas.height - msg['y0']) / mpl.ratio;\n",
       "    var x1 = msg['x1'] / mpl.ratio;\n",
       "    var y1 = (fig.canvas.height - msg['y1']) / mpl.ratio;\n",
       "    x0 = Math.floor(x0) + 0.5;\n",
       "    y0 = Math.floor(y0) + 0.5;\n",
       "    x1 = Math.floor(x1) + 0.5;\n",
       "    y1 = Math.floor(y1) + 0.5;\n",
       "    var min_x = Math.min(x0, x1);\n",
       "    var min_y = Math.min(y0, y1);\n",
       "    var width = Math.abs(x1 - x0);\n",
       "    var height = Math.abs(y1 - y0);\n",
       "\n",
       "    fig.rubberband_context.clearRect(\n",
       "        0, 0, fig.canvas.width, fig.canvas.height);\n",
       "\n",
       "    fig.rubberband_context.strokeRect(min_x, min_y, width, height);\n",
       "}\n",
       "\n",
       "mpl.figure.prototype.handle_figure_label = function(fig, msg) {\n",
       "    // Updates the figure title.\n",
       "    fig.header.textContent = msg['label'];\n",
       "}\n",
       "\n",
       "mpl.figure.prototype.handle_cursor = function(fig, msg) {\n",
       "    var cursor = msg['cursor'];\n",
       "    switch(cursor)\n",
       "    {\n",
       "    case 0:\n",
       "        cursor = 'pointer';\n",
       "        break;\n",
       "    case 1:\n",
       "        cursor = 'default';\n",
       "        break;\n",
       "    case 2:\n",
       "        cursor = 'crosshair';\n",
       "        break;\n",
       "    case 3:\n",
       "        cursor = 'move';\n",
       "        break;\n",
       "    }\n",
       "    fig.rubberband_canvas.style.cursor = cursor;\n",
       "}\n",
       "\n",
       "mpl.figure.prototype.handle_message = function(fig, msg) {\n",
       "    fig.message.textContent = msg['message'];\n",
       "}\n",
       "\n",
       "mpl.figure.prototype.handle_draw = function(fig, msg) {\n",
       "    // Request the server to send over a new figure.\n",
       "    fig.send_draw_message();\n",
       "}\n",
       "\n",
       "mpl.figure.prototype.handle_image_mode = function(fig, msg) {\n",
       "    fig.image_mode = msg['mode'];\n",
       "}\n",
       "\n",
       "mpl.figure.prototype.updated_canvas_event = function() {\n",
       "    // Called whenever the canvas gets updated.\n",
       "    this.send_message(\"ack\", {});\n",
       "}\n",
       "\n",
       "// A function to construct a web socket function for onmessage handling.\n",
       "// Called in the figure constructor.\n",
       "mpl.figure.prototype._make_on_message_function = function(fig) {\n",
       "    return function socket_on_message(evt) {\n",
       "        if (evt.data instanceof Blob) {\n",
       "            /* FIXME: We get \"Resource interpreted as Image but\n",
       "             * transferred with MIME type text/plain:\" errors on\n",
       "             * Chrome.  But how to set the MIME type?  It doesn't seem\n",
       "             * to be part of the websocket stream */\n",
       "            evt.data.type = \"image/png\";\n",
       "\n",
       "            /* Free the memory for the previous frames */\n",
       "            if (fig.imageObj.src) {\n",
       "                (window.URL || window.webkitURL).revokeObjectURL(\n",
       "                    fig.imageObj.src);\n",
       "            }\n",
       "\n",
       "            fig.imageObj.src = (window.URL || window.webkitURL).createObjectURL(\n",
       "                evt.data);\n",
       "            fig.updated_canvas_event();\n",
       "            fig.waiting = false;\n",
       "            return;\n",
       "        }\n",
       "        else if (typeof evt.data === 'string' && evt.data.slice(0, 21) == \"data:image/png;base64\") {\n",
       "            fig.imageObj.src = evt.data;\n",
       "            fig.updated_canvas_event();\n",
       "            fig.waiting = false;\n",
       "            return;\n",
       "        }\n",
       "\n",
       "        var msg = JSON.parse(evt.data);\n",
       "        var msg_type = msg['type'];\n",
       "\n",
       "        // Call the  \"handle_{type}\" callback, which takes\n",
       "        // the figure and JSON message as its only arguments.\n",
       "        try {\n",
       "            var callback = fig[\"handle_\" + msg_type];\n",
       "        } catch (e) {\n",
       "            console.log(\"No handler for the '\" + msg_type + \"' message type: \", msg);\n",
       "            return;\n",
       "        }\n",
       "\n",
       "        if (callback) {\n",
       "            try {\n",
       "                // console.log(\"Handling '\" + msg_type + \"' message: \", msg);\n",
       "                callback(fig, msg);\n",
       "            } catch (e) {\n",
       "                console.log(\"Exception inside the 'handler_\" + msg_type + \"' callback:\", e, e.stack, msg);\n",
       "            }\n",
       "        }\n",
       "    };\n",
       "}\n",
       "\n",
       "// from http://stackoverflow.com/questions/1114465/getting-mouse-location-in-canvas\n",
       "mpl.findpos = function(e) {\n",
       "    //this section is from http://www.quirksmode.org/js/events_properties.html\n",
       "    var targ;\n",
       "    if (!e)\n",
       "        e = window.event;\n",
       "    if (e.target)\n",
       "        targ = e.target;\n",
       "    else if (e.srcElement)\n",
       "        targ = e.srcElement;\n",
       "    if (targ.nodeType == 3) // defeat Safari bug\n",
       "        targ = targ.parentNode;\n",
       "\n",
       "    // jQuery normalizes the pageX and pageY\n",
       "    // pageX,Y are the mouse positions relative to the document\n",
       "    // offset() returns the position of the element relative to the document\n",
       "    var x = e.pageX - $(targ).offset().left;\n",
       "    var y = e.pageY - $(targ).offset().top;\n",
       "\n",
       "    return {\"x\": x, \"y\": y};\n",
       "};\n",
       "\n",
       "/*\n",
       " * return a copy of an object with only non-object keys\n",
       " * we need this to avoid circular references\n",
       " * http://stackoverflow.com/a/24161582/3208463\n",
       " */\n",
       "function simpleKeys (original) {\n",
       "  return Object.keys(original).reduce(function (obj, key) {\n",
       "    if (typeof original[key] !== 'object')\n",
       "        obj[key] = original[key]\n",
       "    return obj;\n",
       "  }, {});\n",
       "}\n",
       "\n",
       "mpl.figure.prototype.mouse_event = function(event, name) {\n",
       "    var canvas_pos = mpl.findpos(event)\n",
       "\n",
       "    if (name === 'button_press')\n",
       "    {\n",
       "        this.canvas.focus();\n",
       "        this.canvas_div.focus();\n",
       "    }\n",
       "\n",
       "    var x = canvas_pos.x * mpl.ratio;\n",
       "    var y = canvas_pos.y * mpl.ratio;\n",
       "\n",
       "    this.send_message(name, {x: x, y: y, button: event.button,\n",
       "                             step: event.step,\n",
       "                             guiEvent: simpleKeys(event)});\n",
       "\n",
       "    /* This prevents the web browser from automatically changing to\n",
       "     * the text insertion cursor when the button is pressed.  We want\n",
       "     * to control all of the cursor setting manually through the\n",
       "     * 'cursor' event from matplotlib */\n",
       "    event.preventDefault();\n",
       "    return false;\n",
       "}\n",
       "\n",
       "mpl.figure.prototype._key_event_extra = function(event, name) {\n",
       "    // Handle any extra behaviour associated with a key event\n",
       "}\n",
       "\n",
       "mpl.figure.prototype.key_event = function(event, name) {\n",
       "\n",
       "    // Prevent repeat events\n",
       "    if (name == 'key_press')\n",
       "    {\n",
       "        if (event.which === this._key)\n",
       "            return;\n",
       "        else\n",
       "            this._key = event.which;\n",
       "    }\n",
       "    if (name == 'key_release')\n",
       "        this._key = null;\n",
       "\n",
       "    var value = '';\n",
       "    if (event.ctrlKey && event.which != 17)\n",
       "        value += \"ctrl+\";\n",
       "    if (event.altKey && event.which != 18)\n",
       "        value += \"alt+\";\n",
       "    if (event.shiftKey && event.which != 16)\n",
       "        value += \"shift+\";\n",
       "\n",
       "    value += 'k';\n",
       "    value += event.which.toString();\n",
       "\n",
       "    this._key_event_extra(event, name);\n",
       "\n",
       "    this.send_message(name, {key: value,\n",
       "                             guiEvent: simpleKeys(event)});\n",
       "    return false;\n",
       "}\n",
       "\n",
       "mpl.figure.prototype.toolbar_button_onclick = function(name) {\n",
       "    if (name == 'download') {\n",
       "        this.handle_save(this, null);\n",
       "    } else {\n",
       "        this.send_message(\"toolbar_button\", {name: name});\n",
       "    }\n",
       "};\n",
       "\n",
       "mpl.figure.prototype.toolbar_button_onmouseover = function(tooltip) {\n",
       "    this.message.textContent = tooltip;\n",
       "};\n",
       "mpl.toolbar_items = [[\"Home\", \"Reset original view\", \"fa fa-home icon-home\", \"home\"], [\"Back\", \"Back to previous view\", \"fa fa-arrow-left icon-arrow-left\", \"back\"], [\"Forward\", \"Forward to next view\", \"fa fa-arrow-right icon-arrow-right\", \"forward\"], [\"\", \"\", \"\", \"\"], [\"Pan\", \"Pan axes with left mouse, zoom with right\", \"fa fa-arrows icon-move\", \"pan\"], [\"Zoom\", \"Zoom to rectangle\", \"fa fa-square-o icon-check-empty\", \"zoom\"], [\"\", \"\", \"\", \"\"], [\"Download\", \"Download plot\", \"fa fa-floppy-o icon-save\", \"download\"]];\n",
       "\n",
       "mpl.extensions = [\"eps\", \"jpeg\", \"pdf\", \"png\", \"ps\", \"raw\", \"svg\", \"tif\"];\n",
       "\n",
       "mpl.default_extension = \"png\";var comm_websocket_adapter = function(comm) {\n",
       "    // Create a \"websocket\"-like object which calls the given IPython comm\n",
       "    // object with the appropriate methods. Currently this is a non binary\n",
       "    // socket, so there is still some room for performance tuning.\n",
       "    var ws = {};\n",
       "\n",
       "    ws.close = function() {\n",
       "        comm.close()\n",
       "    };\n",
       "    ws.send = function(m) {\n",
       "        //console.log('sending', m);\n",
       "        comm.send(m);\n",
       "    };\n",
       "    // Register the callback with on_msg.\n",
       "    comm.on_msg(function(msg) {\n",
       "        //console.log('receiving', msg['content']['data'], msg);\n",
       "        // Pass the mpl event to the overridden (by mpl) onmessage function.\n",
       "        ws.onmessage(msg['content']['data'])\n",
       "    });\n",
       "    return ws;\n",
       "}\n",
       "\n",
       "mpl.mpl_figure_comm = function(comm, msg) {\n",
       "    // This is the function which gets called when the mpl process\n",
       "    // starts-up an IPython Comm through the \"matplotlib\" channel.\n",
       "\n",
       "    var id = msg.content.data.id;\n",
       "    // Get hold of the div created by the display call when the Comm\n",
       "    // socket was opened in Python.\n",
       "    var element = $(\"#\" + id);\n",
       "    var ws_proxy = comm_websocket_adapter(comm)\n",
       "\n",
       "    function ondownload(figure, format) {\n",
       "        window.open(figure.imageObj.src);\n",
       "    }\n",
       "\n",
       "    var fig = new mpl.figure(id, ws_proxy,\n",
       "                           ondownload,\n",
       "                           element.get(0));\n",
       "\n",
       "    // Call onopen now - mpl needs it, as it is assuming we've passed it a real\n",
       "    // web socket which is closed, not our websocket->open comm proxy.\n",
       "    ws_proxy.onopen();\n",
       "\n",
       "    fig.parent_element = element.get(0);\n",
       "    fig.cell_info = mpl.find_output_cell(\"<div id='\" + id + \"'></div>\");\n",
       "    if (!fig.cell_info) {\n",
       "        console.error(\"Failed to find cell for figure\", id, fig);\n",
       "        return;\n",
       "    }\n",
       "\n",
       "    var output_index = fig.cell_info[2]\n",
       "    var cell = fig.cell_info[0];\n",
       "\n",
       "};\n",
       "\n",
       "mpl.figure.prototype.handle_close = function(fig, msg) {\n",
       "    var width = fig.canvas.width/mpl.ratio\n",
       "    fig.root.unbind('remove')\n",
       "\n",
       "    // Update the output cell to use the data from the current canvas.\n",
       "    fig.push_to_output();\n",
       "    var dataURL = fig.canvas.toDataURL();\n",
       "    // Re-enable the keyboard manager in IPython - without this line, in FF,\n",
       "    // the notebook keyboard shortcuts fail.\n",
       "    IPython.keyboard_manager.enable()\n",
       "    $(fig.parent_element).html('<img src=\"' + dataURL + '\" width=\"' + width + '\">');\n",
       "    fig.close_ws(fig, msg);\n",
       "}\n",
       "\n",
       "mpl.figure.prototype.close_ws = function(fig, msg){\n",
       "    fig.send_message('closing', msg);\n",
       "    // fig.ws.close()\n",
       "}\n",
       "\n",
       "mpl.figure.prototype.push_to_output = function(remove_interactive) {\n",
       "    // Turn the data on the canvas into data in the output cell.\n",
       "    var width = this.canvas.width/mpl.ratio\n",
       "    var dataURL = this.canvas.toDataURL();\n",
       "    this.cell_info[1]['text/html'] = '<img src=\"' + dataURL + '\" width=\"' + width + '\">';\n",
       "}\n",
       "\n",
       "mpl.figure.prototype.updated_canvas_event = function() {\n",
       "    // Tell IPython that the notebook contents must change.\n",
       "    IPython.notebook.set_dirty(true);\n",
       "    this.send_message(\"ack\", {});\n",
       "    var fig = this;\n",
       "    // Wait a second, then push the new image to the DOM so\n",
       "    // that it is saved nicely (might be nice to debounce this).\n",
       "    setTimeout(function () { fig.push_to_output() }, 1000);\n",
       "}\n",
       "\n",
       "mpl.figure.prototype._init_toolbar = function() {\n",
       "    var fig = this;\n",
       "\n",
       "    var nav_element = $('<div/>')\n",
       "    nav_element.attr('style', 'width: 100%');\n",
       "    this.root.append(nav_element);\n",
       "\n",
       "    // Define a callback function for later on.\n",
       "    function toolbar_event(event) {\n",
       "        return fig.toolbar_button_onclick(event['data']);\n",
       "    }\n",
       "    function toolbar_mouse_event(event) {\n",
       "        return fig.toolbar_button_onmouseover(event['data']);\n",
       "    }\n",
       "\n",
       "    for(var toolbar_ind in mpl.toolbar_items){\n",
       "        var name = mpl.toolbar_items[toolbar_ind][0];\n",
       "        var tooltip = mpl.toolbar_items[toolbar_ind][1];\n",
       "        var image = mpl.toolbar_items[toolbar_ind][2];\n",
       "        var method_name = mpl.toolbar_items[toolbar_ind][3];\n",
       "\n",
       "        if (!name) { continue; };\n",
       "\n",
       "        var button = $('<button class=\"btn btn-default\" href=\"#\" title=\"' + name + '\"><i class=\"fa ' + image + ' fa-lg\"></i></button>');\n",
       "        button.click(method_name, toolbar_event);\n",
       "        button.mouseover(tooltip, toolbar_mouse_event);\n",
       "        nav_element.append(button);\n",
       "    }\n",
       "\n",
       "    // Add the status bar.\n",
       "    var status_bar = $('<span class=\"mpl-message\" style=\"text-align:right; float: right;\"/>');\n",
       "    nav_element.append(status_bar);\n",
       "    this.message = status_bar[0];\n",
       "\n",
       "    // Add the close button to the window.\n",
       "    var buttongrp = $('<div class=\"btn-group inline pull-right\"></div>');\n",
       "    var button = $('<button class=\"btn btn-mini btn-primary\" href=\"#\" title=\"Stop Interaction\"><i class=\"fa fa-power-off icon-remove icon-large\"></i></button>');\n",
       "    button.click(function (evt) { fig.handle_close(fig, {}); } );\n",
       "    button.mouseover('Stop Interaction', toolbar_mouse_event);\n",
       "    buttongrp.append(button);\n",
       "    var titlebar = this.root.find($('.ui-dialog-titlebar'));\n",
       "    titlebar.prepend(buttongrp);\n",
       "}\n",
       "\n",
       "mpl.figure.prototype._root_extra_style = function(el){\n",
       "    var fig = this\n",
       "    el.on(\"remove\", function(){\n",
       "\tfig.close_ws(fig, {});\n",
       "    });\n",
       "}\n",
       "\n",
       "mpl.figure.prototype._canvas_extra_style = function(el){\n",
       "    // this is important to make the div 'focusable\n",
       "    el.attr('tabindex', 0)\n",
       "    // reach out to IPython and tell the keyboard manager to turn it's self\n",
       "    // off when our div gets focus\n",
       "\n",
       "    // location in version 3\n",
       "    if (IPython.notebook.keyboard_manager) {\n",
       "        IPython.notebook.keyboard_manager.register_events(el);\n",
       "    }\n",
       "    else {\n",
       "        // location in version 2\n",
       "        IPython.keyboard_manager.register_events(el);\n",
       "    }\n",
       "\n",
       "}\n",
       "\n",
       "mpl.figure.prototype._key_event_extra = function(event, name) {\n",
       "    var manager = IPython.notebook.keyboard_manager;\n",
       "    if (!manager)\n",
       "        manager = IPython.keyboard_manager;\n",
       "\n",
       "    // Check for shift+enter\n",
       "    if (event.shiftKey && event.which == 13) {\n",
       "        this.canvas_div.blur();\n",
       "        event.shiftKey = false;\n",
       "        // Send a \"J\" for go to next cell\n",
       "        event.which = 74;\n",
       "        event.keyCode = 74;\n",
       "        manager.command_mode();\n",
       "        manager.handle_keydown(event);\n",
       "    }\n",
       "}\n",
       "\n",
       "mpl.figure.prototype.handle_save = function(fig, msg) {\n",
       "    fig.ondownload(fig, null);\n",
       "}\n",
       "\n",
       "\n",
       "mpl.find_output_cell = function(html_output) {\n",
       "    // Return the cell and output element which can be found *uniquely* in the notebook.\n",
       "    // Note - this is a bit hacky, but it is done because the \"notebook_saving.Notebook\"\n",
       "    // IPython event is triggered only after the cells have been serialised, which for\n",
       "    // our purposes (turning an active figure into a static one), is too late.\n",
       "    var cells = IPython.notebook.get_cells();\n",
       "    var ncells = cells.length;\n",
       "    for (var i=0; i<ncells; i++) {\n",
       "        var cell = cells[i];\n",
       "        if (cell.cell_type === 'code'){\n",
       "            for (var j=0; j<cell.output_area.outputs.length; j++) {\n",
       "                var data = cell.output_area.outputs[j];\n",
       "                if (data.data) {\n",
       "                    // IPython >= 3 moved mimebundle to data attribute of output\n",
       "                    data = data.data;\n",
       "                }\n",
       "                if (data['text/html'] == html_output) {\n",
       "                    return [cell, data, j];\n",
       "                }\n",
       "            }\n",
       "        }\n",
       "    }\n",
       "}\n",
       "\n",
       "// Register the function which deals with the matplotlib target/channel.\n",
       "// The kernel may be null if the page has been refreshed.\n",
       "if (IPython.notebook.kernel != null) {\n",
       "    IPython.notebook.kernel.comm_manager.register_target('matplotlib', mpl.mpl_figure_comm);\n",
       "}\n"
      ],
      "text/plain": [
       "<IPython.core.display.Javascript object>"
      ]
     },
     "metadata": {},
     "output_type": "display_data"
    },
    {
     "data": {
      "text/html": [
       "<img src=\"data:image/png;base64,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\" width=\"500\">"
      ],
      "text/plain": [
       "<IPython.core.display.HTML object>"
      ]
     },
     "metadata": {},
     "output_type": "display_data"
    }
   ],
   "source": [
    "v = 'select2d'\n",
    "K = 2\n",
    "M = 5\n",
    "fdf['alpha_abs_bins'] = pd.qcut(fdf.alpha_abs, q=K)\n",
    "\n",
    "fig = plt.figure('_by_alpha_beta', figsize=[5, 3])\n",
    "\n",
    "ntm3 = fdf.loc[fdf.ntm==3, :]\n",
    "grpF = fdf.loc[fdf.grp==0, :]\n",
    "grpS = fdf.loc[fdf.grp==1, :]\n",
    "\n",
    "ax = vut.pretty(fig.add_subplot(111), 'y')\n",
    "# ax.set_ylim(0, 1)\n",
    "# ax.set_xlim([0.7, 2.3])\n",
    "ax.set_ylabel(v)\n",
    "ax.set_xlabel('Beta', fontsize=12)\n",
    "\n",
    "for i, (abounds, ad) in enumerate(grpS.groupby('alpha_abs_bins')):\n",
    "#     ax.set_title('|alpha| in [{:.2f}, {:.2f}{}'.format(abounds.left, abounds.right,']' if (i+1)==K else ')'))\n",
    "#     ax.axvline(M/2, c='k', alpha=.5, ls=':')\n",
    "    bins = np.arange(-3,3.1,1)\n",
    "    inds = np.arange(bins.size)    \n",
    "    \n",
    "    # Process and plot data\n",
    "    # ====================================================\n",
    "    y = []\n",
    "    yerr = []\n",
    "    bounds = []\n",
    "#     for j, (bbounds, bd) in enumerate(ad.groupby(pd.qcut(ad.beta, q=M))): # bin by beta quantiles\n",
    "    for j, (bbounds, bd) in enumerate(ad.groupby(pd.cut(ad.beta, bins=bins))): # bin into standard bins\n",
    "        s = '[{:.2f}, {:.2f}{}'.format(bbounds.left, bbounds.right,']' if bins[-1]==bbounds.right else ')')\n",
    "        bounds.append(s)\n",
    "        y.append(bd.loc[:, v].mean())\n",
    "        yerr.append(bd.loc[:, v].sem())\n",
    "    ax.errorbar(inds[:-1], y, yerr=yerr, color=gcolors[i], label=label, marker='o', capsize=5)\n",
    "    # ====================================================\n",
    "    \n",
    "    ax.set_xticks(np.arange(inds.size)-1)\n",
    "    ax.set_xticklabels(bounds, fontsize=10, rotation=35)\n",
    "    \n",
    "dashed = mpl.lines.Line2D([0],[0], color=gcolors[0], lw=2, label='Low-alpha')\n",
    "solid = mpl.lines.Line2D([0],[0], color=gcolors[1], lw=2, label='High-alpha')\n",
    "\n",
    "ax.legend([dashed, solid], \n",
    "          ['Low-alpha', 'High-alpha'],\n",
    "          bbox_to_anchor=(1.05, 1.0), loc='upper left',\n",
    "          handler_map={tuple: mpl.legend_handler.HandlerTuple(ndivide=None)})\n",
    "\n",
    "fig.tight_layout()\n",
    "# fig.savefig('/Users/alexten/Desktop/{}_by_alpha_beta.png'.format(v))"
   ]
  },
  {
   "cell_type": "markdown",
   "metadata": {},
   "source": [
    "## R and 2D selection plots"
   ]
  },
  {
   "cell_type": "code",
   "execution_count": 167,
   "metadata": {
    "ExecuteTime": {
     "end_time": "2020-02-06T10:39:21.763311Z",
     "start_time": "2020-02-06T10:39:20.238892Z"
    },
    "scrolled": false
   },
   "outputs": [
    {
     "name": "stdout",
     "output_type": "stream",
     "text": [
      "313 / 320 = 0.978125\n"
     ]
    },
    {
     "data": {
      "application/javascript": [
       "/* Put everything inside the global mpl namespace */\n",
       "window.mpl = {};\n",
       "\n",
       "\n",
       "mpl.get_websocket_type = function() {\n",
       "    if (typeof(WebSocket) !== 'undefined') {\n",
       "        return WebSocket;\n",
       "    } else if (typeof(MozWebSocket) !== 'undefined') {\n",
       "        return MozWebSocket;\n",
       "    } else {\n",
       "        alert('Your browser does not have WebSocket support.' +\n",
       "              'Please try Chrome, Safari or Firefox ≥ 6. ' +\n",
       "              'Firefox 4 and 5 are also supported but you ' +\n",
       "              'have to enable WebSockets in about:config.');\n",
       "    };\n",
       "}\n",
       "\n",
       "mpl.figure = function(figure_id, websocket, ondownload, parent_element) {\n",
       "    this.id = figure_id;\n",
       "\n",
       "    this.ws = websocket;\n",
       "\n",
       "    this.supports_binary = (this.ws.binaryType != undefined);\n",
       "\n",
       "    if (!this.supports_binary) {\n",
       "        var warnings = document.getElementById(\"mpl-warnings\");\n",
       "        if (warnings) {\n",
       "            warnings.style.display = 'block';\n",
       "            warnings.textContent = (\n",
       "                \"This browser does not support binary websocket messages. \" +\n",
       "                    \"Performance may be slow.\");\n",
       "        }\n",
       "    }\n",
       "\n",
       "    this.imageObj = new Image();\n",
       "\n",
       "    this.context = undefined;\n",
       "    this.message = undefined;\n",
       "    this.canvas = undefined;\n",
       "    this.rubberband_canvas = undefined;\n",
       "    this.rubberband_context = undefined;\n",
       "    this.format_dropdown = undefined;\n",
       "\n",
       "    this.image_mode = 'full';\n",
       "\n",
       "    this.root = $('<div/>');\n",
       "    this._root_extra_style(this.root)\n",
       "    this.root.attr('style', 'display: inline-block');\n",
       "\n",
       "    $(parent_element).append(this.root);\n",
       "\n",
       "    this._init_header(this);\n",
       "    this._init_canvas(this);\n",
       "    this._init_toolbar(this);\n",
       "\n",
       "    var fig = this;\n",
       "\n",
       "    this.waiting = false;\n",
       "\n",
       "    this.ws.onopen =  function () {\n",
       "            fig.send_message(\"supports_binary\", {value: fig.supports_binary});\n",
       "            fig.send_message(\"send_image_mode\", {});\n",
       "            if (mpl.ratio != 1) {\n",
       "                fig.send_message(\"set_dpi_ratio\", {'dpi_ratio': mpl.ratio});\n",
       "            }\n",
       "            fig.send_message(\"refresh\", {});\n",
       "        }\n",
       "\n",
       "    this.imageObj.onload = function() {\n",
       "            if (fig.image_mode == 'full') {\n",
       "                // Full images could contain transparency (where diff images\n",
       "                // almost always do), so we need to clear the canvas so that\n",
       "                // there is no ghosting.\n",
       "                fig.context.clearRect(0, 0, fig.canvas.width, fig.canvas.height);\n",
       "            }\n",
       "            fig.context.drawImage(fig.imageObj, 0, 0);\n",
       "        };\n",
       "\n",
       "    this.imageObj.onunload = function() {\n",
       "        fig.ws.close();\n",
       "    }\n",
       "\n",
       "    this.ws.onmessage = this._make_on_message_function(this);\n",
       "\n",
       "    this.ondownload = ondownload;\n",
       "}\n",
       "\n",
       "mpl.figure.prototype._init_header = function() {\n",
       "    var titlebar = $(\n",
       "        '<div class=\"ui-dialog-titlebar ui-widget-header ui-corner-all ' +\n",
       "        'ui-helper-clearfix\"/>');\n",
       "    var titletext = $(\n",
       "        '<div class=\"ui-dialog-title\" style=\"width: 100%; ' +\n",
       "        'text-align: center; padding: 3px;\"/>');\n",
       "    titlebar.append(titletext)\n",
       "    this.root.append(titlebar);\n",
       "    this.header = titletext[0];\n",
       "}\n",
       "\n",
       "\n",
       "\n",
       "mpl.figure.prototype._canvas_extra_style = function(canvas_div) {\n",
       "\n",
       "}\n",
       "\n",
       "\n",
       "mpl.figure.prototype._root_extra_style = function(canvas_div) {\n",
       "\n",
       "}\n",
       "\n",
       "mpl.figure.prototype._init_canvas = function() {\n",
       "    var fig = this;\n",
       "\n",
       "    var canvas_div = $('<div/>');\n",
       "\n",
       "    canvas_div.attr('style', 'position: relative; clear: both; outline: 0');\n",
       "\n",
       "    function canvas_keyboard_event(event) {\n",
       "        return fig.key_event(event, event['data']);\n",
       "    }\n",
       "\n",
       "    canvas_div.keydown('key_press', canvas_keyboard_event);\n",
       "    canvas_div.keyup('key_release', canvas_keyboard_event);\n",
       "    this.canvas_div = canvas_div\n",
       "    this._canvas_extra_style(canvas_div)\n",
       "    this.root.append(canvas_div);\n",
       "\n",
       "    var canvas = $('<canvas/>');\n",
       "    canvas.addClass('mpl-canvas');\n",
       "    canvas.attr('style', \"left: 0; top: 0; z-index: 0; outline: 0\")\n",
       "\n",
       "    this.canvas = canvas[0];\n",
       "    this.context = canvas[0].getContext(\"2d\");\n",
       "\n",
       "    var backingStore = this.context.backingStorePixelRatio ||\n",
       "\tthis.context.webkitBackingStorePixelRatio ||\n",
       "\tthis.context.mozBackingStorePixelRatio ||\n",
       "\tthis.context.msBackingStorePixelRatio ||\n",
       "\tthis.context.oBackingStorePixelRatio ||\n",
       "\tthis.context.backingStorePixelRatio || 1;\n",
       "\n",
       "    mpl.ratio = (window.devicePixelRatio || 1) / backingStore;\n",
       "\n",
       "    var rubberband = $('<canvas/>');\n",
       "    rubberband.attr('style', \"position: absolute; left: 0; top: 0; z-index: 1;\")\n",
       "\n",
       "    var pass_mouse_events = true;\n",
       "\n",
       "    canvas_div.resizable({\n",
       "        start: function(event, ui) {\n",
       "            pass_mouse_events = false;\n",
       "        },\n",
       "        resize: function(event, ui) {\n",
       "            fig.request_resize(ui.size.width, ui.size.height);\n",
       "        },\n",
       "        stop: function(event, ui) {\n",
       "            pass_mouse_events = true;\n",
       "            fig.request_resize(ui.size.width, ui.size.height);\n",
       "        },\n",
       "    });\n",
       "\n",
       "    function mouse_event_fn(event) {\n",
       "        if (pass_mouse_events)\n",
       "            return fig.mouse_event(event, event['data']);\n",
       "    }\n",
       "\n",
       "    rubberband.mousedown('button_press', mouse_event_fn);\n",
       "    rubberband.mouseup('button_release', mouse_event_fn);\n",
       "    // Throttle sequential mouse events to 1 every 20ms.\n",
       "    rubberband.mousemove('motion_notify', mouse_event_fn);\n",
       "\n",
       "    rubberband.mouseenter('figure_enter', mouse_event_fn);\n",
       "    rubberband.mouseleave('figure_leave', mouse_event_fn);\n",
       "\n",
       "    canvas_div.on(\"wheel\", function (event) {\n",
       "        event = event.originalEvent;\n",
       "        event['data'] = 'scroll'\n",
       "        if (event.deltaY < 0) {\n",
       "            event.step = 1;\n",
       "        } else {\n",
       "            event.step = -1;\n",
       "        }\n",
       "        mouse_event_fn(event);\n",
       "    });\n",
       "\n",
       "    canvas_div.append(canvas);\n",
       "    canvas_div.append(rubberband);\n",
       "\n",
       "    this.rubberband = rubberband;\n",
       "    this.rubberband_canvas = rubberband[0];\n",
       "    this.rubberband_context = rubberband[0].getContext(\"2d\");\n",
       "    this.rubberband_context.strokeStyle = \"#000000\";\n",
       "\n",
       "    this._resize_canvas = function(width, height) {\n",
       "        // Keep the size of the canvas, canvas container, and rubber band\n",
       "        // canvas in synch.\n",
       "        canvas_div.css('width', width)\n",
       "        canvas_div.css('height', height)\n",
       "\n",
       "        canvas.attr('width', width * mpl.ratio);\n",
       "        canvas.attr('height', height * mpl.ratio);\n",
       "        canvas.attr('style', 'width: ' + width + 'px; height: ' + height + 'px;');\n",
       "\n",
       "        rubberband.attr('width', width);\n",
       "        rubberband.attr('height', height);\n",
       "    }\n",
       "\n",
       "    // Set the figure to an initial 600x600px, this will subsequently be updated\n",
       "    // upon first draw.\n",
       "    this._resize_canvas(600, 600);\n",
       "\n",
       "    // Disable right mouse context menu.\n",
       "    $(this.rubberband_canvas).bind(\"contextmenu\",function(e){\n",
       "        return false;\n",
       "    });\n",
       "\n",
       "    function set_focus () {\n",
       "        canvas.focus();\n",
       "        canvas_div.focus();\n",
       "    }\n",
       "\n",
       "    window.setTimeout(set_focus, 100);\n",
       "}\n",
       "\n",
       "mpl.figure.prototype._init_toolbar = function() {\n",
       "    var fig = this;\n",
       "\n",
       "    var nav_element = $('<div/>')\n",
       "    nav_element.attr('style', 'width: 100%');\n",
       "    this.root.append(nav_element);\n",
       "\n",
       "    // Define a callback function for later on.\n",
       "    function toolbar_event(event) {\n",
       "        return fig.toolbar_button_onclick(event['data']);\n",
       "    }\n",
       "    function toolbar_mouse_event(event) {\n",
       "        return fig.toolbar_button_onmouseover(event['data']);\n",
       "    }\n",
       "\n",
       "    for(var toolbar_ind in mpl.toolbar_items) {\n",
       "        var name = mpl.toolbar_items[toolbar_ind][0];\n",
       "        var tooltip = mpl.toolbar_items[toolbar_ind][1];\n",
       "        var image = mpl.toolbar_items[toolbar_ind][2];\n",
       "        var method_name = mpl.toolbar_items[toolbar_ind][3];\n",
       "\n",
       "        if (!name) {\n",
       "            // put a spacer in here.\n",
       "            continue;\n",
       "        }\n",
       "        var button = $('<button/>');\n",
       "        button.addClass('ui-button ui-widget ui-state-default ui-corner-all ' +\n",
       "                        'ui-button-icon-only');\n",
       "        button.attr('role', 'button');\n",
       "        button.attr('aria-disabled', 'false');\n",
       "        button.click(method_name, toolbar_event);\n",
       "        button.mouseover(tooltip, toolbar_mouse_event);\n",
       "\n",
       "        var icon_img = $('<span/>');\n",
       "        icon_img.addClass('ui-button-icon-primary ui-icon');\n",
       "        icon_img.addClass(image);\n",
       "        icon_img.addClass('ui-corner-all');\n",
       "\n",
       "        var tooltip_span = $('<span/>');\n",
       "        tooltip_span.addClass('ui-button-text');\n",
       "        tooltip_span.html(tooltip);\n",
       "\n",
       "        button.append(icon_img);\n",
       "        button.append(tooltip_span);\n",
       "\n",
       "        nav_element.append(button);\n",
       "    }\n",
       "\n",
       "    var fmt_picker_span = $('<span/>');\n",
       "\n",
       "    var fmt_picker = $('<select/>');\n",
       "    fmt_picker.addClass('mpl-toolbar-option ui-widget ui-widget-content');\n",
       "    fmt_picker_span.append(fmt_picker);\n",
       "    nav_element.append(fmt_picker_span);\n",
       "    this.format_dropdown = fmt_picker[0];\n",
       "\n",
       "    for (var ind in mpl.extensions) {\n",
       "        var fmt = mpl.extensions[ind];\n",
       "        var option = $(\n",
       "            '<option/>', {selected: fmt === mpl.default_extension}).html(fmt);\n",
       "        fmt_picker.append(option)\n",
       "    }\n",
       "\n",
       "    // Add hover states to the ui-buttons\n",
       "    $( \".ui-button\" ).hover(\n",
       "        function() { $(this).addClass(\"ui-state-hover\");},\n",
       "        function() { $(this).removeClass(\"ui-state-hover\");}\n",
       "    );\n",
       "\n",
       "    var status_bar = $('<span class=\"mpl-message\"/>');\n",
       "    nav_element.append(status_bar);\n",
       "    this.message = status_bar[0];\n",
       "}\n",
       "\n",
       "mpl.figure.prototype.request_resize = function(x_pixels, y_pixels) {\n",
       "    // Request matplotlib to resize the figure. Matplotlib will then trigger a resize in the client,\n",
       "    // which will in turn request a refresh of the image.\n",
       "    this.send_message('resize', {'width': x_pixels, 'height': y_pixels});\n",
       "}\n",
       "\n",
       "mpl.figure.prototype.send_message = function(type, properties) {\n",
       "    properties['type'] = type;\n",
       "    properties['figure_id'] = this.id;\n",
       "    this.ws.send(JSON.stringify(properties));\n",
       "}\n",
       "\n",
       "mpl.figure.prototype.send_draw_message = function() {\n",
       "    if (!this.waiting) {\n",
       "        this.waiting = true;\n",
       "        this.ws.send(JSON.stringify({type: \"draw\", figure_id: this.id}));\n",
       "    }\n",
       "}\n",
       "\n",
       "\n",
       "mpl.figure.prototype.handle_save = function(fig, msg) {\n",
       "    var format_dropdown = fig.format_dropdown;\n",
       "    var format = format_dropdown.options[format_dropdown.selectedIndex].value;\n",
       "    fig.ondownload(fig, format);\n",
       "}\n",
       "\n",
       "\n",
       "mpl.figure.prototype.handle_resize = function(fig, msg) {\n",
       "    var size = msg['size'];\n",
       "    if (size[0] != fig.canvas.width || size[1] != fig.canvas.height) {\n",
       "        fig._resize_canvas(size[0], size[1]);\n",
       "        fig.send_message(\"refresh\", {});\n",
       "    };\n",
       "}\n",
       "\n",
       "mpl.figure.prototype.handle_rubberband = function(fig, msg) {\n",
       "    var x0 = msg['x0'] / mpl.ratio;\n",
       "    var y0 = (fig.canvas.height - msg['y0']) / mpl.ratio;\n",
       "    var x1 = msg['x1'] / mpl.ratio;\n",
       "    var y1 = (fig.canvas.height - msg['y1']) / mpl.ratio;\n",
       "    x0 = Math.floor(x0) + 0.5;\n",
       "    y0 = Math.floor(y0) + 0.5;\n",
       "    x1 = Math.floor(x1) + 0.5;\n",
       "    y1 = Math.floor(y1) + 0.5;\n",
       "    var min_x = Math.min(x0, x1);\n",
       "    var min_y = Math.min(y0, y1);\n",
       "    var width = Math.abs(x1 - x0);\n",
       "    var height = Math.abs(y1 - y0);\n",
       "\n",
       "    fig.rubberband_context.clearRect(\n",
       "        0, 0, fig.canvas.width, fig.canvas.height);\n",
       "\n",
       "    fig.rubberband_context.strokeRect(min_x, min_y, width, height);\n",
       "}\n",
       "\n",
       "mpl.figure.prototype.handle_figure_label = function(fig, msg) {\n",
       "    // Updates the figure title.\n",
       "    fig.header.textContent = msg['label'];\n",
       "}\n",
       "\n",
       "mpl.figure.prototype.handle_cursor = function(fig, msg) {\n",
       "    var cursor = msg['cursor'];\n",
       "    switch(cursor)\n",
       "    {\n",
       "    case 0:\n",
       "        cursor = 'pointer';\n",
       "        break;\n",
       "    case 1:\n",
       "        cursor = 'default';\n",
       "        break;\n",
       "    case 2:\n",
       "        cursor = 'crosshair';\n",
       "        break;\n",
       "    case 3:\n",
       "        cursor = 'move';\n",
       "        break;\n",
       "    }\n",
       "    fig.rubberband_canvas.style.cursor = cursor;\n",
       "}\n",
       "\n",
       "mpl.figure.prototype.handle_message = function(fig, msg) {\n",
       "    fig.message.textContent = msg['message'];\n",
       "}\n",
       "\n",
       "mpl.figure.prototype.handle_draw = function(fig, msg) {\n",
       "    // Request the server to send over a new figure.\n",
       "    fig.send_draw_message();\n",
       "}\n",
       "\n",
       "mpl.figure.prototype.handle_image_mode = function(fig, msg) {\n",
       "    fig.image_mode = msg['mode'];\n",
       "}\n",
       "\n",
       "mpl.figure.prototype.updated_canvas_event = function() {\n",
       "    // Called whenever the canvas gets updated.\n",
       "    this.send_message(\"ack\", {});\n",
       "}\n",
       "\n",
       "// A function to construct a web socket function for onmessage handling.\n",
       "// Called in the figure constructor.\n",
       "mpl.figure.prototype._make_on_message_function = function(fig) {\n",
       "    return function socket_on_message(evt) {\n",
       "        if (evt.data instanceof Blob) {\n",
       "            /* FIXME: We get \"Resource interpreted as Image but\n",
       "             * transferred with MIME type text/plain:\" errors on\n",
       "             * Chrome.  But how to set the MIME type?  It doesn't seem\n",
       "             * to be part of the websocket stream */\n",
       "            evt.data.type = \"image/png\";\n",
       "\n",
       "            /* Free the memory for the previous frames */\n",
       "            if (fig.imageObj.src) {\n",
       "                (window.URL || window.webkitURL).revokeObjectURL(\n",
       "                    fig.imageObj.src);\n",
       "            }\n",
       "\n",
       "            fig.imageObj.src = (window.URL || window.webkitURL).createObjectURL(\n",
       "                evt.data);\n",
       "            fig.updated_canvas_event();\n",
       "            fig.waiting = false;\n",
       "            return;\n",
       "        }\n",
       "        else if (typeof evt.data === 'string' && evt.data.slice(0, 21) == \"data:image/png;base64\") {\n",
       "            fig.imageObj.src = evt.data;\n",
       "            fig.updated_canvas_event();\n",
       "            fig.waiting = false;\n",
       "            return;\n",
       "        }\n",
       "\n",
       "        var msg = JSON.parse(evt.data);\n",
       "        var msg_type = msg['type'];\n",
       "\n",
       "        // Call the  \"handle_{type}\" callback, which takes\n",
       "        // the figure and JSON message as its only arguments.\n",
       "        try {\n",
       "            var callback = fig[\"handle_\" + msg_type];\n",
       "        } catch (e) {\n",
       "            console.log(\"No handler for the '\" + msg_type + \"' message type: \", msg);\n",
       "            return;\n",
       "        }\n",
       "\n",
       "        if (callback) {\n",
       "            try {\n",
       "                // console.log(\"Handling '\" + msg_type + \"' message: \", msg);\n",
       "                callback(fig, msg);\n",
       "            } catch (e) {\n",
       "                console.log(\"Exception inside the 'handler_\" + msg_type + \"' callback:\", e, e.stack, msg);\n",
       "            }\n",
       "        }\n",
       "    };\n",
       "}\n",
       "\n",
       "// from http://stackoverflow.com/questions/1114465/getting-mouse-location-in-canvas\n",
       "mpl.findpos = function(e) {\n",
       "    //this section is from http://www.quirksmode.org/js/events_properties.html\n",
       "    var targ;\n",
       "    if (!e)\n",
       "        e = window.event;\n",
       "    if (e.target)\n",
       "        targ = e.target;\n",
       "    else if (e.srcElement)\n",
       "        targ = e.srcElement;\n",
       "    if (targ.nodeType == 3) // defeat Safari bug\n",
       "        targ = targ.parentNode;\n",
       "\n",
       "    // jQuery normalizes the pageX and pageY\n",
       "    // pageX,Y are the mouse positions relative to the document\n",
       "    // offset() returns the position of the element relative to the document\n",
       "    var x = e.pageX - $(targ).offset().left;\n",
       "    var y = e.pageY - $(targ).offset().top;\n",
       "\n",
       "    return {\"x\": x, \"y\": y};\n",
       "};\n",
       "\n",
       "/*\n",
       " * return a copy of an object with only non-object keys\n",
       " * we need this to avoid circular references\n",
       " * http://stackoverflow.com/a/24161582/3208463\n",
       " */\n",
       "function simpleKeys (original) {\n",
       "  return Object.keys(original).reduce(function (obj, key) {\n",
       "    if (typeof original[key] !== 'object')\n",
       "        obj[key] = original[key]\n",
       "    return obj;\n",
       "  }, {});\n",
       "}\n",
       "\n",
       "mpl.figure.prototype.mouse_event = function(event, name) {\n",
       "    var canvas_pos = mpl.findpos(event)\n",
       "\n",
       "    if (name === 'button_press')\n",
       "    {\n",
       "        this.canvas.focus();\n",
       "        this.canvas_div.focus();\n",
       "    }\n",
       "\n",
       "    var x = canvas_pos.x * mpl.ratio;\n",
       "    var y = canvas_pos.y * mpl.ratio;\n",
       "\n",
       "    this.send_message(name, {x: x, y: y, button: event.button,\n",
       "                             step: event.step,\n",
       "                             guiEvent: simpleKeys(event)});\n",
       "\n",
       "    /* This prevents the web browser from automatically changing to\n",
       "     * the text insertion cursor when the button is pressed.  We want\n",
       "     * to control all of the cursor setting manually through the\n",
       "     * 'cursor' event from matplotlib */\n",
       "    event.preventDefault();\n",
       "    return false;\n",
       "}\n",
       "\n",
       "mpl.figure.prototype._key_event_extra = function(event, name) {\n",
       "    // Handle any extra behaviour associated with a key event\n",
       "}\n",
       "\n",
       "mpl.figure.prototype.key_event = function(event, name) {\n",
       "\n",
       "    // Prevent repeat events\n",
       "    if (name == 'key_press')\n",
       "    {\n",
       "        if (event.which === this._key)\n",
       "            return;\n",
       "        else\n",
       "            this._key = event.which;\n",
       "    }\n",
       "    if (name == 'key_release')\n",
       "        this._key = null;\n",
       "\n",
       "    var value = '';\n",
       "    if (event.ctrlKey && event.which != 17)\n",
       "        value += \"ctrl+\";\n",
       "    if (event.altKey && event.which != 18)\n",
       "        value += \"alt+\";\n",
       "    if (event.shiftKey && event.which != 16)\n",
       "        value += \"shift+\";\n",
       "\n",
       "    value += 'k';\n",
       "    value += event.which.toString();\n",
       "\n",
       "    this._key_event_extra(event, name);\n",
       "\n",
       "    this.send_message(name, {key: value,\n",
       "                             guiEvent: simpleKeys(event)});\n",
       "    return false;\n",
       "}\n",
       "\n",
       "mpl.figure.prototype.toolbar_button_onclick = function(name) {\n",
       "    if (name == 'download') {\n",
       "        this.handle_save(this, null);\n",
       "    } else {\n",
       "        this.send_message(\"toolbar_button\", {name: name});\n",
       "    }\n",
       "};\n",
       "\n",
       "mpl.figure.prototype.toolbar_button_onmouseover = function(tooltip) {\n",
       "    this.message.textContent = tooltip;\n",
       "};\n",
       "mpl.toolbar_items = [[\"Home\", \"Reset original view\", \"fa fa-home icon-home\", \"home\"], [\"Back\", \"Back to previous view\", \"fa fa-arrow-left icon-arrow-left\", \"back\"], [\"Forward\", \"Forward to next view\", \"fa fa-arrow-right icon-arrow-right\", \"forward\"], [\"\", \"\", \"\", \"\"], [\"Pan\", \"Pan axes with left mouse, zoom with right\", \"fa fa-arrows icon-move\", \"pan\"], [\"Zoom\", \"Zoom to rectangle\", \"fa fa-square-o icon-check-empty\", \"zoom\"], [\"\", \"\", \"\", \"\"], [\"Download\", \"Download plot\", \"fa fa-floppy-o icon-save\", \"download\"]];\n",
       "\n",
       "mpl.extensions = [\"eps\", \"jpeg\", \"pdf\", \"png\", \"ps\", \"raw\", \"svg\", \"tif\"];\n",
       "\n",
       "mpl.default_extension = \"png\";var comm_websocket_adapter = function(comm) {\n",
       "    // Create a \"websocket\"-like object which calls the given IPython comm\n",
       "    // object with the appropriate methods. Currently this is a non binary\n",
       "    // socket, so there is still some room for performance tuning.\n",
       "    var ws = {};\n",
       "\n",
       "    ws.close = function() {\n",
       "        comm.close()\n",
       "    };\n",
       "    ws.send = function(m) {\n",
       "        //console.log('sending', m);\n",
       "        comm.send(m);\n",
       "    };\n",
       "    // Register the callback with on_msg.\n",
       "    comm.on_msg(function(msg) {\n",
       "        //console.log('receiving', msg['content']['data'], msg);\n",
       "        // Pass the mpl event to the overridden (by mpl) onmessage function.\n",
       "        ws.onmessage(msg['content']['data'])\n",
       "    });\n",
       "    return ws;\n",
       "}\n",
       "\n",
       "mpl.mpl_figure_comm = function(comm, msg) {\n",
       "    // This is the function which gets called when the mpl process\n",
       "    // starts-up an IPython Comm through the \"matplotlib\" channel.\n",
       "\n",
       "    var id = msg.content.data.id;\n",
       "    // Get hold of the div created by the display call when the Comm\n",
       "    // socket was opened in Python.\n",
       "    var element = $(\"#\" + id);\n",
       "    var ws_proxy = comm_websocket_adapter(comm)\n",
       "\n",
       "    function ondownload(figure, format) {\n",
       "        window.open(figure.imageObj.src);\n",
       "    }\n",
       "\n",
       "    var fig = new mpl.figure(id, ws_proxy,\n",
       "                           ondownload,\n",
       "                           element.get(0));\n",
       "\n",
       "    // Call onopen now - mpl needs it, as it is assuming we've passed it a real\n",
       "    // web socket which is closed, not our websocket->open comm proxy.\n",
       "    ws_proxy.onopen();\n",
       "\n",
       "    fig.parent_element = element.get(0);\n",
       "    fig.cell_info = mpl.find_output_cell(\"<div id='\" + id + \"'></div>\");\n",
       "    if (!fig.cell_info) {\n",
       "        console.error(\"Failed to find cell for figure\", id, fig);\n",
       "        return;\n",
       "    }\n",
       "\n",
       "    var output_index = fig.cell_info[2]\n",
       "    var cell = fig.cell_info[0];\n",
       "\n",
       "};\n",
       "\n",
       "mpl.figure.prototype.handle_close = function(fig, msg) {\n",
       "    var width = fig.canvas.width/mpl.ratio\n",
       "    fig.root.unbind('remove')\n",
       "\n",
       "    // Update the output cell to use the data from the current canvas.\n",
       "    fig.push_to_output();\n",
       "    var dataURL = fig.canvas.toDataURL();\n",
       "    // Re-enable the keyboard manager in IPython - without this line, in FF,\n",
       "    // the notebook keyboard shortcuts fail.\n",
       "    IPython.keyboard_manager.enable()\n",
       "    $(fig.parent_element).html('<img src=\"' + dataURL + '\" width=\"' + width + '\">');\n",
       "    fig.close_ws(fig, msg);\n",
       "}\n",
       "\n",
       "mpl.figure.prototype.close_ws = function(fig, msg){\n",
       "    fig.send_message('closing', msg);\n",
       "    // fig.ws.close()\n",
       "}\n",
       "\n",
       "mpl.figure.prototype.push_to_output = function(remove_interactive) {\n",
       "    // Turn the data on the canvas into data in the output cell.\n",
       "    var width = this.canvas.width/mpl.ratio\n",
       "    var dataURL = this.canvas.toDataURL();\n",
       "    this.cell_info[1]['text/html'] = '<img src=\"' + dataURL + '\" width=\"' + width + '\">';\n",
       "}\n",
       "\n",
       "mpl.figure.prototype.updated_canvas_event = function() {\n",
       "    // Tell IPython that the notebook contents must change.\n",
       "    IPython.notebook.set_dirty(true);\n",
       "    this.send_message(\"ack\", {});\n",
       "    var fig = this;\n",
       "    // Wait a second, then push the new image to the DOM so\n",
       "    // that it is saved nicely (might be nice to debounce this).\n",
       "    setTimeout(function () { fig.push_to_output() }, 1000);\n",
       "}\n",
       "\n",
       "mpl.figure.prototype._init_toolbar = function() {\n",
       "    var fig = this;\n",
       "\n",
       "    var nav_element = $('<div/>')\n",
       "    nav_element.attr('style', 'width: 100%');\n",
       "    this.root.append(nav_element);\n",
       "\n",
       "    // Define a callback function for later on.\n",
       "    function toolbar_event(event) {\n",
       "        return fig.toolbar_button_onclick(event['data']);\n",
       "    }\n",
       "    function toolbar_mouse_event(event) {\n",
       "        return fig.toolbar_button_onmouseover(event['data']);\n",
       "    }\n",
       "\n",
       "    for(var toolbar_ind in mpl.toolbar_items){\n",
       "        var name = mpl.toolbar_items[toolbar_ind][0];\n",
       "        var tooltip = mpl.toolbar_items[toolbar_ind][1];\n",
       "        var image = mpl.toolbar_items[toolbar_ind][2];\n",
       "        var method_name = mpl.toolbar_items[toolbar_ind][3];\n",
       "\n",
       "        if (!name) { continue; };\n",
       "\n",
       "        var button = $('<button class=\"btn btn-default\" href=\"#\" title=\"' + name + '\"><i class=\"fa ' + image + ' fa-lg\"></i></button>');\n",
       "        button.click(method_name, toolbar_event);\n",
       "        button.mouseover(tooltip, toolbar_mouse_event);\n",
       "        nav_element.append(button);\n",
       "    }\n",
       "\n",
       "    // Add the status bar.\n",
       "    var status_bar = $('<span class=\"mpl-message\" style=\"text-align:right; float: right;\"/>');\n",
       "    nav_element.append(status_bar);\n",
       "    this.message = status_bar[0];\n",
       "\n",
       "    // Add the close button to the window.\n",
       "    var buttongrp = $('<div class=\"btn-group inline pull-right\"></div>');\n",
       "    var button = $('<button class=\"btn btn-mini btn-primary\" href=\"#\" title=\"Stop Interaction\"><i class=\"fa fa-power-off icon-remove icon-large\"></i></button>');\n",
       "    button.click(function (evt) { fig.handle_close(fig, {}); } );\n",
       "    button.mouseover('Stop Interaction', toolbar_mouse_event);\n",
       "    buttongrp.append(button);\n",
       "    var titlebar = this.root.find($('.ui-dialog-titlebar'));\n",
       "    titlebar.prepend(buttongrp);\n",
       "}\n",
       "\n",
       "mpl.figure.prototype._root_extra_style = function(el){\n",
       "    var fig = this\n",
       "    el.on(\"remove\", function(){\n",
       "\tfig.close_ws(fig, {});\n",
       "    });\n",
       "}\n",
       "\n",
       "mpl.figure.prototype._canvas_extra_style = function(el){\n",
       "    // this is important to make the div 'focusable\n",
       "    el.attr('tabindex', 0)\n",
       "    // reach out to IPython and tell the keyboard manager to turn it's self\n",
       "    // off when our div gets focus\n",
       "\n",
       "    // location in version 3\n",
       "    if (IPython.notebook.keyboard_manager) {\n",
       "        IPython.notebook.keyboard_manager.register_events(el);\n",
       "    }\n",
       "    else {\n",
       "        // location in version 2\n",
       "        IPython.keyboard_manager.register_events(el);\n",
       "    }\n",
       "\n",
       "}\n",
       "\n",
       "mpl.figure.prototype._key_event_extra = function(event, name) {\n",
       "    var manager = IPython.notebook.keyboard_manager;\n",
       "    if (!manager)\n",
       "        manager = IPython.keyboard_manager;\n",
       "\n",
       "    // Check for shift+enter\n",
       "    if (event.shiftKey && event.which == 13) {\n",
       "        this.canvas_div.blur();\n",
       "        event.shiftKey = false;\n",
       "        // Send a \"J\" for go to next cell\n",
       "        event.which = 74;\n",
       "        event.keyCode = 74;\n",
       "        manager.command_mode();\n",
       "        manager.handle_keydown(event);\n",
       "    }\n",
       "}\n",
       "\n",
       "mpl.figure.prototype.handle_save = function(fig, msg) {\n",
       "    fig.ondownload(fig, null);\n",
       "}\n",
       "\n",
       "\n",
       "mpl.find_output_cell = function(html_output) {\n",
       "    // Return the cell and output element which can be found *uniquely* in the notebook.\n",
       "    // Note - this is a bit hacky, but it is done because the \"notebook_saving.Notebook\"\n",
       "    // IPython event is triggered only after the cells have been serialised, which for\n",
       "    // our purposes (turning an active figure into a static one), is too late.\n",
       "    var cells = IPython.notebook.get_cells();\n",
       "    var ncells = cells.length;\n",
       "    for (var i=0; i<ncells; i++) {\n",
       "        var cell = cells[i];\n",
       "        if (cell.cell_type === 'code'){\n",
       "            for (var j=0; j<cell.output_area.outputs.length; j++) {\n",
       "                var data = cell.output_area.outputs[j];\n",
       "                if (data.data) {\n",
       "                    // IPython >= 3 moved mimebundle to data attribute of output\n",
       "                    data = data.data;\n",
       "                }\n",
       "                if (data['text/html'] == html_output) {\n",
       "                    return [cell, data, j];\n",
       "                }\n",
       "            }\n",
       "        }\n",
       "    }\n",
       "}\n",
       "\n",
       "// Register the function which deals with the matplotlib target/channel.\n",
       "// The kernel may be null if the page has been refreshed.\n",
       "if (IPython.notebook.kernel != null) {\n",
       "    IPython.notebook.kernel.comm_manager.register_target('matplotlib', mpl.mpl_figure_comm);\n",
       "}\n"
      ],
      "text/plain": [
       "<IPython.core.display.Javascript object>"
      ]
     },
     "metadata": {},
     "output_type": "display_data"
    },
    {
     "data": {
      "text/html": [
       "<img src=\"data:image/png;base64,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\" width=\"640\">"
      ],
      "text/plain": [
       "<IPython.core.display.HTML object>"
      ]
     },
     "metadata": {},
     "output_type": "display_data"
    },
    {
     "name": "stdout",
     "output_type": "stream",
     "text": [
      "0 1 (0.0072297218792676315, 0.969209599940793)\n",
      "1 1 (-0.311294415376434, 0.12984574916229372)\n",
      "0 3 (-0.5962490349322365, 1.9471355137890345e-05)\n",
      "1 3 (-0.5073217133536091, 1.1491529955881661e-06)\n"
     ]
    }
   ],
   "source": [
    "# Calculate parameter stats\n",
    "# ================================\n",
    "arr = lut.unpickle('mult_seeds_data_small_bounds.pkl') # SWITCH DATA\n",
    "best = np.nanargmin(arr[:, :, 3], axis=0)\n",
    "arr = arr[best, np.arange(320), :]\n",
    "fdf = pd.DataFrame(data=arr, columns=data_dict.keys())\n",
    "good_fit = (fdf.aic_diff>=2) & (np.abs(fdf.alpha) <=3) & (np.abs(fdf.beta) <=3)\n",
    "print('{} / {} = {}'.format(np.sum(good_fit),fdf.shape[0],np.sum(good_fit)/fdf.shape[0]))\n",
    "fdf = fdf.loc[good_fit]\n",
    "fdf = fdf.loc[fdf.ntm>0, :]\n",
    "# fdf.loc[fdf.ntm<=2, 'ntm'] = 1\n",
    "fdf.loc[:, 'sid'] = fdf.sid.astype(int)\n",
    "fdf.loc[:, 'grp'] = fdf.grp.astype(int)\n",
    "fdf.loc[:, 'ntm'] = fdf.ntm.astype(int)\n",
    "fdf.set_index('sid', inplace=True)\n",
    "\n",
    "df = lut.unpickle('supplementary/simple_choice_model/data/ntm_data.pkl')\n",
    "tot = df.groupby('sid')[['st1','st2','st3','st4']].sum()\n",
    "pr = tot / 250\n",
    "\n",
    "tempdf = {'sid': [], 'selectR_lp3': [], 'select2D_lp3': []}\n",
    "for sid, sdf in df.groupby('sid'):\n",
    "    lp3 = sdf.lp3.values[0]\n",
    "    tempdf['sid'].append(sid)\n",
    "    if lp3:\n",
    "        selectR_lp3 = sdf.st4.values[:lp3].sum() / lp3\n",
    "        select2D_lp3 = sdf.st3.values[:lp3].sum() / lp3\n",
    "    else:\n",
    "        selectR_lp3, select2D_lp3 = np.nan, np.nan\n",
    "    tempdf['selectR_lp3'].append(selectR_lp3)\n",
    "    tempdf['select2D_lp3'].append(select2D_lp3)\n",
    "tempdf = pd.DataFrame(tempdf)\n",
    "\n",
    "df = df.loc[df.trial==249, 'sid,loc_pc1,loc_pc2,loc_pc3,loc_pc4,lp1,lp2,lp3'.split(',')]\n",
    "df.set_index('sid', inplace=True)\n",
    "df['wscore'] = df.loc_pc1/6 + df.loc_pc2/3 + df.loc_pc3/2\n",
    "df['meanlp'] = (df.lp1 + df.lp2 + df.lp3)/3\n",
    "df['lp2d'] = df.lp3\n",
    "df['lplast'] = df.loc[:, ('lp1','lp2','lp3')].max(axis=1)\n",
    "df['rselect'] = pd.Series(pr.st4, index=df.index)\n",
    "df['select2d'] = pd.Series(pr.st3, index=df.index)\n",
    "\n",
    "df = df.drop(columns='loc_pc1,loc_pc2,loc_pc3,loc_pc4,lp1,lp2,lp3'.split(','))\n",
    "fdf = fdf.join(df)\n",
    "fdf = fdf.join(tempdf)\n",
    "fdf.loc[:, 'alpha_abs'] = np.abs(fdf.alpha)\n",
    "\n",
    "fig = plt.figure('r2d_select')\n",
    "gs = GridSpec(3, 3)\n",
    "\n",
    "# Figure (scatter plot and histograms)\n",
    "# ====================================\n",
    "ax = vut.pretty(fig.add_subplot(gs[1:, :2]))\n",
    "ax2 = vut.pretty(fig.add_subplot(gs[0, :2], sharex=ax))\n",
    "ax3 = vut.pretty(fig.add_subplot(gs[1:, 2], sharey=ax))\n",
    "ax_leg = vut.pretty(fig.add_subplot(gs[0, 2]))\n",
    "\n",
    "bins = np.arange(0,1.01, 0.1)\n",
    "for i, (ind, df) in enumerate(fdf.dropna().groupby(['ntm', 'grp'])):\n",
    "    ntm, grp = ind\n",
    "    if ntm == 2: continue\n",
    "    x = df.loc[:, 'select2D_lp3']\n",
    "    y = df.loc[:, 'selectR_lp3']\n",
    "    \n",
    "    print(grp, ntm, sp.stats.pearsonr(x,y))\n",
    "    ax.scatter(x, y, s=20, \n",
    "               marker='ox'[grp],\n",
    "               color=gcolors[ntm-1],\n",
    "               alpha=.5)\n",
    "\n",
    "    rf, _ = np.histogram(x, bins=bins, weights=np.zeros_like(x) + 1. / x.size)\n",
    "    ax2.plot(bins[:-1]+.05, rf, c=gcolors[ntm-1], lw=1.5, alpha=.8,\n",
    "             ls = '-' if grp else '--',\n",
    "             label='{} / NTM-{}'.format(glabels[grp], ntm))\n",
    "    ax2.axvline(x.mean(), ymin=0, ymax=.2, color=gcolors[ntm-1], lw=2,\n",
    "                ls = '-' if grp else '--',)\n",
    "\n",
    "    rf, _ = np.histogram(y, bins=bins, weights=np.zeros_like(y) + 1. / y.size)\n",
    "    ax3.plot(rf, bins[:-1]+.05, c=gcolors[ntm-1], lw=1.5, alpha=.8,\n",
    "             ls = '-' if grp else '--',\n",
    "             label='{} / NTM-{}'.format(glabels[grp], ntm))\n",
    "    ax3.axhline(y.mean(), xmin=0, xmax=.2, color=gcolors[ntm-1], lw=2,\n",
    "                    ls = '-' if grp else '--',)\n",
    "\n",
    "ax_leg.axis('off')\n",
    "solid = mpl.lines.Line2D([0],[0], color='k', lw=2, label='Strategic')\n",
    "solid_ = mpl.lines.Line2D([0],[0], color='k', ls='', marker='x', label='Strategic')\n",
    "\n",
    "dashed = mpl.lines.Line2D([0],[0], color='k', lw=2, label='Free', ls='--', dashes=(2, 1))\n",
    "dashed_ = mpl.lines.Line2D([0],[0], color='k', ls='', marker='o', label='Free')\n",
    "\n",
    "blue = mpl.lines.Line2D([0],[0], color=gcolors[0], lw=2, label='NTM-1')\n",
    "red = mpl.lines.Line2D([0],[0], color=gcolors[1], lw=2, label='NTM-2')\n",
    "yellow = mpl.lines.Line2D([0],[0], color=gcolors[2], lw=2, label='NTM-3')\n",
    "\n",
    "ax_leg.legend([(blue), (yellow), (dashed, dashed_), (solid, solid_)], \n",
    "              ['NTM-1', 'NTM-3', 'Free', 'Strategic'],\n",
    "              bbox_to_anchor=(-.1, 1.5), loc='upper left', fontsize=12,\n",
    "              handler_map={tuple: mpl.legend_handler.HandlerTuple(ndivide=None)})\n",
    "\n",
    "ax3.set_xlabel('Relative\\nfrequency', fontsize=14)\n",
    "\n",
    "ax.set_xlabel('% 2D', fontsize=14)\n",
    "ax.set_ylabel('% R', fontsize=14)\n",
    "ax2.set_ylabel('Relative\\nfrequency', fontsize=14)\n",
    "\n",
    "fig.tight_layout()\n",
    "# fig.savefig('/Users/alexten/Desktop/R2Dselect.png')"
   ]
  },
  {
   "cell_type": "code",
   "execution_count": 342,
   "metadata": {
    "ExecuteTime": {
     "end_time": "2020-02-11T17:47:10.481418Z",
     "start_time": "2020-02-11T17:47:09.414896Z"
    },
    "scrolled": false
   },
   "outputs": [
    {
     "name": "stdout",
     "output_type": "stream",
     "text": [
      "317 / 320 = 0.990625\n"
     ]
    },
    {
     "data": {
      "text/html": [
       "<div>\n",
       "<style scoped>\n",
       "    .dataframe tbody tr th:only-of-type {\n",
       "        vertical-align: middle;\n",
       "    }\n",
       "\n",
       "    .dataframe tbody tr th {\n",
       "        vertical-align: top;\n",
       "    }\n",
       "\n",
       "    .dataframe thead th {\n",
       "        text-align: right;\n",
       "    }\n",
       "</style>\n",
       "<table border=\"1\" class=\"dataframe\">\n",
       "  <thead>\n",
       "    <tr style=\"text-align: right;\">\n",
       "      <th></th>\n",
       "      <th>grp</th>\n",
       "      <th>loss</th>\n",
       "      <th>aic</th>\n",
       "      <th>aic_0</th>\n",
       "      <th>aic_diff</th>\n",
       "      <th>alpha</th>\n",
       "      <th>beta</th>\n",
       "      <th>tau</th>\n",
       "      <th>wscore</th>\n",
       "      <th>meanlp</th>\n",
       "      <th>lp2d</th>\n",
       "      <th>lplast</th>\n",
       "      <th>rselect</th>\n",
       "      <th>select2d</th>\n",
       "      <th>sid</th>\n",
       "      <th>selectR_lp3</th>\n",
       "      <th>select2D_lp3</th>\n",
       "      <th>alpha_abs</th>\n",
       "    </tr>\n",
       "    <tr>\n",
       "      <th>ntm</th>\n",
       "      <th></th>\n",
       "      <th></th>\n",
       "      <th></th>\n",
       "      <th></th>\n",
       "      <th></th>\n",
       "      <th></th>\n",
       "      <th></th>\n",
       "      <th></th>\n",
       "      <th></th>\n",
       "      <th></th>\n",
       "      <th></th>\n",
       "      <th></th>\n",
       "      <th></th>\n",
       "      <th></th>\n",
       "      <th></th>\n",
       "      <th></th>\n",
       "      <th></th>\n",
       "      <th></th>\n",
       "    </tr>\n",
       "  </thead>\n",
       "  <tbody>\n",
       "    <tr>\n",
       "      <th>1</th>\n",
       "      <td>26</td>\n",
       "      <td>26</td>\n",
       "      <td>26</td>\n",
       "      <td>26</td>\n",
       "      <td>26</td>\n",
       "      <td>26</td>\n",
       "      <td>26</td>\n",
       "      <td>26</td>\n",
       "      <td>26</td>\n",
       "      <td>26</td>\n",
       "      <td>26</td>\n",
       "      <td>26</td>\n",
       "      <td>26</td>\n",
       "      <td>26</td>\n",
       "      <td>26</td>\n",
       "      <td>26</td>\n",
       "      <td>26</td>\n",
       "      <td>26</td>\n",
       "    </tr>\n",
       "    <tr>\n",
       "      <th>2</th>\n",
       "      <td>55</td>\n",
       "      <td>55</td>\n",
       "      <td>55</td>\n",
       "      <td>55</td>\n",
       "      <td>55</td>\n",
       "      <td>55</td>\n",
       "      <td>55</td>\n",
       "      <td>55</td>\n",
       "      <td>55</td>\n",
       "      <td>55</td>\n",
       "      <td>55</td>\n",
       "      <td>55</td>\n",
       "      <td>55</td>\n",
       "      <td>55</td>\n",
       "      <td>55</td>\n",
       "      <td>55</td>\n",
       "      <td>55</td>\n",
       "      <td>55</td>\n",
       "    </tr>\n",
       "    <tr>\n",
       "      <th>3</th>\n",
       "      <td>82</td>\n",
       "      <td>82</td>\n",
       "      <td>82</td>\n",
       "      <td>82</td>\n",
       "      <td>82</td>\n",
       "      <td>82</td>\n",
       "      <td>82</td>\n",
       "      <td>82</td>\n",
       "      <td>82</td>\n",
       "      <td>82</td>\n",
       "      <td>82</td>\n",
       "      <td>82</td>\n",
       "      <td>82</td>\n",
       "      <td>82</td>\n",
       "      <td>82</td>\n",
       "      <td>82</td>\n",
       "      <td>82</td>\n",
       "      <td>82</td>\n",
       "    </tr>\n",
       "  </tbody>\n",
       "</table>\n",
       "</div>"
      ],
      "text/plain": [
       "     grp  loss  aic  aic_0  aic_diff  alpha  beta  tau  wscore  meanlp  lp2d  \\\n",
       "ntm                                                                            \n",
       "1     26    26   26     26        26     26    26   26      26      26    26   \n",
       "2     55    55   55     55        55     55    55   55      55      55    55   \n",
       "3     82    82   82     82        82     82    82   82      82      82    82   \n",
       "\n",
       "     lplast  rselect  select2d  sid  selectR_lp3  select2D_lp3  alpha_abs  \n",
       "ntm                                                                        \n",
       "1        26       26        26   26           26            26         26  \n",
       "2        55       55        55   55           55            55         55  \n",
       "3        82       82        82   82           82            82         82  "
      ]
     },
     "metadata": {},
     "output_type": "display_data"
    },
    {
     "name": "stdout",
     "output_type": "stream",
     "text": [
      "MannwhitneyuResult(statistic=926.5, pvalue=0.15631491061783026)\n",
      "KruskalResult(statistic=1.0268809076293535, pvalue=0.3108923802648732)\n"
     ]
    },
    {
     "data": {
      "text/html": [
       "<table class=\"simpletable\">\n",
       "<caption>OLS Regression Results</caption>\n",
       "<tr>\n",
       "  <th>Dep. Variable:</th>          <td>lp2d</td>       <th>  R-squared:         </th> <td>   0.166</td>\n",
       "</tr>\n",
       "<tr>\n",
       "  <th>Model:</th>                   <td>OLS</td>       <th>  Adj. R-squared:    </th> <td>   0.157</td>\n",
       "</tr>\n",
       "<tr>\n",
       "  <th>Method:</th>             <td>Least Squares</td>  <th>  F-statistic:       </th> <td>   19.88</td>\n",
       "</tr>\n",
       "<tr>\n",
       "  <th>Date:</th>             <td>Tue, 11 Feb 2020</td> <th>  Prob (F-statistic):</th> <td>8.86e-12</td>\n",
       "</tr>\n",
       "<tr>\n",
       "  <th>Time:</th>                 <td>18:47:10</td>     <th>  Log-Likelihood:    </th> <td> -1766.8</td>\n",
       "</tr>\n",
       "<tr>\n",
       "  <th>No. Observations:</th>      <td>   304</td>      <th>  AIC:               </th> <td>   3542.</td>\n",
       "</tr>\n",
       "<tr>\n",
       "  <th>Df Residuals:</th>          <td>   300</td>      <th>  BIC:               </th> <td>   3557.</td>\n",
       "</tr>\n",
       "<tr>\n",
       "  <th>Df Model:</th>              <td>     3</td>      <th>                     </th>     <td> </td>   \n",
       "</tr>\n",
       "<tr>\n",
       "  <th>Covariance Type:</th>      <td>nonrobust</td>    <th>                     </th>     <td> </td>   \n",
       "</tr>\n",
       "</table>\n",
       "<table class=\"simpletable\">\n",
       "<tr>\n",
       "             <td></td>                <th>coef</th>     <th>std err</th>      <th>t</th>      <th>P>|t|</th>  <th>[0.025</th>    <th>0.975]</th>  \n",
       "</tr>\n",
       "<tr>\n",
       "  <th>Intercept</th>               <td>  168.9477</td> <td>    9.912</td> <td>   17.045</td> <td> 0.000</td> <td>  149.442</td> <td>  188.453</td>\n",
       "</tr>\n",
       "<tr>\n",
       "  <th>C(grp)[T.1]</th>             <td>  -66.6213</td> <td>   13.922</td> <td>   -4.785</td> <td> 0.000</td> <td>  -94.018</td> <td>  -39.225</td>\n",
       "</tr>\n",
       "<tr>\n",
       "  <th>selectR_lp3</th>             <td>   80.3141</td> <td>   37.993</td> <td>    2.114</td> <td> 0.035</td> <td>    5.547</td> <td>  155.081</td>\n",
       "</tr>\n",
       "<tr>\n",
       "  <th>selectR_lp3:C(grp)[T.1]</th> <td>  101.1831</td> <td>   47.134</td> <td>    2.147</td> <td> 0.033</td> <td>    8.427</td> <td>  193.939</td>\n",
       "</tr>\n",
       "</table>\n",
       "<table class=\"simpletable\">\n",
       "<tr>\n",
       "  <th>Omnibus:</th>       <td>100.610</td> <th>  Durbin-Watson:     </th> <td>   1.954</td>\n",
       "</tr>\n",
       "<tr>\n",
       "  <th>Prob(Omnibus):</th> <td> 0.000</td>  <th>  Jarque-Bera (JB):  </th> <td>  19.523</td>\n",
       "</tr>\n",
       "<tr>\n",
       "  <th>Skew:</th>          <td>-0.281</td>  <th>  Prob(JB):          </th> <td>5.76e-05</td>\n",
       "</tr>\n",
       "<tr>\n",
       "  <th>Kurtosis:</th>      <td> 1.893</td>  <th>  Cond. No.          </th> <td>    15.1</td>\n",
       "</tr>\n",
       "</table><br/><br/>Warnings:<br/>[1] Standard Errors assume that the covariance matrix of the errors is correctly specified."
      ],
      "text/plain": [
       "<class 'statsmodels.iolib.summary.Summary'>\n",
       "\"\"\"\n",
       "                            OLS Regression Results                            \n",
       "==============================================================================\n",
       "Dep. Variable:                   lp2d   R-squared:                       0.166\n",
       "Model:                            OLS   Adj. R-squared:                  0.157\n",
       "Method:                 Least Squares   F-statistic:                     19.88\n",
       "Date:                Tue, 11 Feb 2020   Prob (F-statistic):           8.86e-12\n",
       "Time:                        18:47:10   Log-Likelihood:                -1766.8\n",
       "No. Observations:                 304   AIC:                             3542.\n",
       "Df Residuals:                     300   BIC:                             3557.\n",
       "Df Model:                           3                                         \n",
       "Covariance Type:            nonrobust                                         \n",
       "===========================================================================================\n",
       "                              coef    std err          t      P>|t|      [0.025      0.975]\n",
       "-------------------------------------------------------------------------------------------\n",
       "Intercept                 168.9477      9.912     17.045      0.000     149.442     188.453\n",
       "C(grp)[T.1]               -66.6213     13.922     -4.785      0.000     -94.018     -39.225\n",
       "selectR_lp3                80.3141     37.993      2.114      0.035       5.547     155.081\n",
       "selectR_lp3:C(grp)[T.1]   101.1831     47.134      2.147      0.033       8.427     193.939\n",
       "==============================================================================\n",
       "Omnibus:                      100.610   Durbin-Watson:                   1.954\n",
       "Prob(Omnibus):                  0.000   Jarque-Bera (JB):               19.523\n",
       "Skew:                          -0.281   Prob(JB):                     5.76e-05\n",
       "Kurtosis:                       1.893   Cond. No.                         15.1\n",
       "==============================================================================\n",
       "\n",
       "Warnings:\n",
       "[1] Standard Errors assume that the covariance matrix of the errors is correctly specified.\n",
       "\"\"\""
      ]
     },
     "metadata": {},
     "output_type": "display_data"
    }
   ],
   "source": [
    "# Calculate parameter stats\n",
    "# ================================\n",
    "arr = lut.unpickle('mult_seeds_data_small_bounds.pkl')\n",
    "best = np.nanargmin(arr[:, :, 3], axis=0)\n",
    "arr = arr[best, np.arange(320), :]\n",
    "fdf = pd.DataFrame(data=arr, columns=data_dict.keys())\n",
    "good_fit = (fdf.aic_diff>=2) #& (np.abs(fdf.alpha) <=3) & (np.abs(fdf.beta) <=3)\n",
    "print('{} / {} = {}'.format(np.sum(good_fit),fdf.shape[0],np.sum(good_fit)/fdf.shape[0]))\n",
    "fdf = fdf.loc[good_fit]\n",
    "fdf = fdf.loc[fdf.ntm>0, :]\n",
    "# fdf.loc[fdf.ntm<=2, 'ntm'] = 1\n",
    "fdf.loc[:, 'sid'] = fdf.sid.astype(int)\n",
    "fdf.loc[:, 'grp'] = fdf.grp.astype(int)\n",
    "fdf.loc[:, 'ntm'] = fdf.ntm.astype(int)\n",
    "fdf.set_index('sid', inplace=True)\n",
    "\n",
    "df = lut.unpickle('supplementary/simple_choice_model/data/ntm_data.pkl')\n",
    "tot = df.groupby('sid')[['st1','st2','st3','st4']].sum()\n",
    "pr = tot / 250\n",
    "df['lplast'] = df.loc[:, ('lp1','lp2','lp3')].max(axis=1)\n",
    "\n",
    "tempdf = {'sid': [], 'selectR_lp3': [], 'select2D_lp3': []}\n",
    "for sid, sdf in df.groupby('sid'):\n",
    "    lp3 = sdf.lp3.values[0]\n",
    "    lplast = sdf.lplast.values[0]\n",
    "    tempdf['sid'].append(sid)\n",
    "    if lp3:\n",
    "        selectR_lp3 = sdf.st4.values[:lp3].sum() / lplast #/ lp3\n",
    "        select2D_lp3 = sdf.st3.values[:lp3].sum() / lplast # / lp3\n",
    "    else:\n",
    "        selectR_lp3, select2D_lp3 = np.nan, np.nan\n",
    "    tempdf['selectR_lp3'].append(selectR_lp3)\n",
    "    tempdf['select2D_lp3'].append(select2D_lp3)\n",
    "tempdf = pd.DataFrame(tempdf)\n",
    "\n",
    "df = df.loc[df.trial==249, 'sid,loc_pc1,loc_pc2,loc_pc3,loc_pc4,lp1,lp2,lp3'.split(',')]\n",
    "df.set_index('sid', inplace=True)\n",
    "df['wscore'] = df.loc_pc1/6 + df.loc_pc2/3 + df.loc_pc3/2\n",
    "df['meanlp'] = (df.lp1 + df.lp2 + df.lp3)/3\n",
    "df['lp2d'] = df.lp3\n",
    "df['lplast'] = df.loc[:, ('lp1','lp2','lp3')].max(axis=1)\n",
    "df['rselect'] = pd.Series(pr.st4, index=df.index)\n",
    "df['select2d'] = pd.Series(pr.st3, index=df.index)\n",
    "\n",
    "df = df.drop(columns='loc_pc1,loc_pc2,loc_pc3,loc_pc4,lp1,lp2,lp3'.split(','))\n",
    "fdf = fdf.join(df)\n",
    "fdf = fdf.join(tempdf)\n",
    "fdf.loc[:, 'alpha_abs'] = np.abs(fdf.alpha)\n",
    "\n",
    "ntm3 = fdf.loc[fdf.ntm==3, :]\n",
    "grpF = fdf.loc[fdf.grp==0, :]\n",
    "grpS = fdf.loc[(fdf.grp==1), :].dropna()\n",
    "\n",
    "display(grpS.groupby('ntm').count())\n",
    "\n",
    "dv = 'selectR_lp3'\n",
    "x = grpS.loc[grpS.ntm==1, dv].values\n",
    "y = grpS.loc[grpS.ntm==3, dv].values\n",
    "print(sp.stats.mannwhitneyu(x, y))\n",
    "print(sp.stats.kruskal(x, y))\n",
    "display(ols('lp2d ~ selectR_lp3 * C(grp)', data=fdf).fit().summary())\n",
    "# display(ols('lp2d ~ selectR_lp3', data=grpS).fit().summary())"
   ]
  },
  {
   "cell_type": "code",
   "execution_count": null,
   "metadata": {},
   "outputs": [],
   "source": []
  },
  {
   "cell_type": "markdown",
   "metadata": {},
   "source": [
    "## May be visualize LP and PC of different groups"
   ]
  },
  {
   "cell_type": "code",
   "execution_count": 180,
   "metadata": {
    "ExecuteTime": {
     "end_time": "2020-02-06T12:59:41.283679Z",
     "start_time": "2020-02-06T12:59:40.932877Z"
    }
   },
   "outputs": [
    {
     "data": {
      "text/html": [
       "<div>\n",
       "<style scoped>\n",
       "    .dataframe tbody tr th:only-of-type {\n",
       "        vertical-align: middle;\n",
       "    }\n",
       "\n",
       "    .dataframe tbody tr th {\n",
       "        vertical-align: top;\n",
       "    }\n",
       "\n",
       "    .dataframe thead th {\n",
       "        text-align: right;\n",
       "    }\n",
       "</style>\n",
       "<table border=\"1\" class=\"dataframe\">\n",
       "  <thead>\n",
       "    <tr style=\"text-align: right;\">\n",
       "      <th></th>\n",
       "      <th>sid</th>\n",
       "      <th>grp</th>\n",
       "      <th>ntm</th>\n",
       "      <th>trial</th>\n",
       "      <th>lp1</th>\n",
       "      <th>lp2</th>\n",
       "      <th>lp3</th>\n",
       "      <th>lp4</th>\n",
       "      <th>pc1</th>\n",
       "      <th>pc2</th>\n",
       "      <th>pc3</th>\n",
       "      <th>pc4</th>\n",
       "      <th>ch1</th>\n",
       "      <th>ch2</th>\n",
       "      <th>ch3</th>\n",
       "      <th>ch4</th>\n",
       "    </tr>\n",
       "  </thead>\n",
       "  <tbody>\n",
       "    <tr>\n",
       "      <th>1992</th>\n",
       "      <td>8</td>\n",
       "      <td>0</td>\n",
       "      <td>2</td>\n",
       "      <td>1</td>\n",
       "      <td>0.04444</td>\n",
       "      <td>0.48889</td>\n",
       "      <td>0.04444</td>\n",
       "      <td>0.35556</td>\n",
       "      <td>0.60000</td>\n",
       "      <td>0.73333</td>\n",
       "      <td>0.53333</td>\n",
       "      <td>0.60000</td>\n",
       "      <td>0</td>\n",
       "      <td>1</td>\n",
       "      <td>0</td>\n",
       "      <td>0</td>\n",
       "    </tr>\n",
       "    <tr>\n",
       "      <th>1993</th>\n",
       "      <td>8</td>\n",
       "      <td>0</td>\n",
       "      <td>2</td>\n",
       "      <td>2</td>\n",
       "      <td>0.04444</td>\n",
       "      <td>0.28889</td>\n",
       "      <td>0.04444</td>\n",
       "      <td>0.35556</td>\n",
       "      <td>0.60000</td>\n",
       "      <td>0.80000</td>\n",
       "      <td>0.53333</td>\n",
       "      <td>0.60000</td>\n",
       "      <td>0</td>\n",
       "      <td>1</td>\n",
       "      <td>0</td>\n",
       "      <td>0</td>\n",
       "    </tr>\n",
       "    <tr>\n",
       "      <th>1994</th>\n",
       "      <td>8</td>\n",
       "      <td>0</td>\n",
       "      <td>2</td>\n",
       "      <td>3</td>\n",
       "      <td>0.04444</td>\n",
       "      <td>0.28889</td>\n",
       "      <td>0.04444</td>\n",
       "      <td>0.35556</td>\n",
       "      <td>0.60000</td>\n",
       "      <td>0.80000</td>\n",
       "      <td>0.53333</td>\n",
       "      <td>0.60000</td>\n",
       "      <td>0</td>\n",
       "      <td>1</td>\n",
       "      <td>0</td>\n",
       "      <td>0</td>\n",
       "    </tr>\n",
       "  </tbody>\n",
       "</table>\n",
       "</div>"
      ],
      "text/plain": [
       "      sid  grp  ntm  trial     lp1     lp2     lp3     lp4     pc1     pc2  \\\n",
       "1992    8    0    2      1 0.04444 0.48889 0.04444 0.35556 0.60000 0.73333   \n",
       "1993    8    0    2      2 0.04444 0.28889 0.04444 0.35556 0.60000 0.80000   \n",
       "1994    8    0    2      3 0.04444 0.28889 0.04444 0.35556 0.60000 0.80000   \n",
       "\n",
       "         pc3     pc4  ch1  ch2  ch3  ch4  \n",
       "1992 0.53333 0.60000    0    1    0    0  \n",
       "1993 0.53333 0.60000    0    1    0    0  \n",
       "1994 0.53333 0.60000    0    1    0    0  "
      ]
     },
     "metadata": {},
     "output_type": "display_data"
    },
    {
     "data": {
      "text/plain": [
       "array([1.22183997, 7.88753061, 8.93355769])"
      ]
     },
     "metadata": {},
     "output_type": "display_data"
    },
    {
     "data": {
      "text/plain": [
       "3.244183482916029e-06"
      ]
     },
     "metadata": {},
     "output_type": "display_data"
    },
    {
     "name": "stdout",
     "output_type": "stream",
     "text": [
      "[[0.237 0.292 0.223 0.247]\n",
      " [0.237 0.292 0.223 0.247]]\n"
     ]
    }
   ],
   "source": [
    "np.random.seed(12312)\n",
    "xs = []\n",
    "fs = []\n",
    "bounds = (alpha_bounds, beta_bounds, tau_bounds)\n",
    "sid = df.loc[(df.sid==8) & (df.trial<4), :]\n",
    "sid = sid.drop(columns=['in1','in2','in3','in4'])\n",
    "\n",
    "# ------------------------------------------------------------------------\n",
    "lps = sid.loc[:, 'lp1':'lp4'].values[1:, :] \n",
    "pcs = sid.loc[:, 'pc1':'pc4'].values[1:, :]\n",
    "chs = sid.loc[:, 'ch1':'ch4'].values[1:, :]\n",
    "data = (lps, pcs, chs)\n",
    "res = sp.optimize.minimize(neg_log_likelihood, x0=init_guess, args=data)\n",
    "choice_lp = lps[chs.astype(bool)]\n",
    "choice_pc = pcs[chs.astype(bool)]\n",
    "# ------------------------------------------------------------------------\n",
    "\n",
    "\n",
    "U = res.x[0]*lps + res.x[1]*pcs\n",
    "p = np.exp(U/res.x[2])/np.sum(np.exp(U/res.x[2]), axis=1)[:, np.newaxis]\n",
    "display(sid.head())\n",
    "display(res.x)\n",
    "display(res.fun)\n",
    "print(np.around(p, 3)[:5])\n",
    "\n",
    "# lpsn = sid.loc[:, 'lp1':'lp4'].values[1:, :] - sid.loc[:, 'lp1':'lp4'].values[1:, :].mean(axis=1)[:,np.newaxis]\n",
    "# pcsn = sid.loc[:, 'pc1':'pc4'].values[1:, :] - sid.loc[:, 'pc1':'pc4'].values[1:, :].mean(axis=1)[:,np.newaxis]\n",
    "# chs = sid.loc[:, 'ch1':'ch4'].values[1:, :]\n",
    "\n",
    "# data = (lpsn, pcsn, chs)\n",
    "# init_guess = sim_tools.rand_params(bounds).tolist()\n",
    "# res = sp.optimize.minimize(neg_log_likelihood, x0=init_guess, args=data)\n",
    "\n",
    "# choice_lp = lpsn[chs.astype(bool)]#, axis=1)\n",
    "# choice_pc = pcsn[chs.astype(bool)]#, axis=1)\n",
    "\n",
    "# U = res.x[0]*lps + res.x[1]*pcs\n",
    "# p = np.exp(U)/np.sum(np.exp(U), axis=1)[:, np.newaxis]\n",
    "\n",
    "# plt.close()\n",
    "# x = lps[chs.astype(bool)]\n",
    "# plt.figure('newnewnew')\n",
    "# plt.plot(choice_lp+(x[0]-choice_lp[0]), c='blue', alpha=.7)\n",
    "# plt.plot(x, c='red', alpha=.7)\n",
    "# plt.plot((np.argmax(chs, axis=1)+1)/4, c='k')\n",
    "\n",
    "# display(sid.head())\n",
    "# display(res.x)\n",
    "# display(res.fun)\n",
    "# print(np.around(p, 3)[:5])\n",
    "# print(choice_lp.mean(), choice_pc.mean())\n",
    "\n",
    "# print(lps[:5], lpsn[:5], sid.loc[:, 'lp1':'lp4'].values[1:, :].mean(axis=1)[:5,np.newaxis],"
   ]
  },
  {
   "cell_type": "code",
   "execution_count": null,
   "metadata": {},
   "outputs": [],
   "source": []
  }
 ],
 "metadata": {
  "hide_input": false,
  "kernelspec": {
   "display_name": "Python 3",
   "language": "python",
   "name": "python3"
  },
  "language_info": {
   "codemirror_mode": {
    "name": "ipython",
    "version": 3
   },
   "file_extension": ".py",
   "mimetype": "text/x-python",
   "name": "python",
   "nbconvert_exporter": "python",
   "pygments_lexer": "ipython3",
   "version": "3.6.4"
  },
  "toc": {
   "base_numbering": 1,
   "nav_menu": {},
   "number_sections": true,
   "sideBar": true,
   "skip_h1_title": false,
   "title_cell": "Table of Contents",
   "title_sidebar": "Contents",
   "toc_cell": false,
   "toc_position": {},
   "toc_section_display": true,
   "toc_window_display": false
  },
  "varInspector": {
   "cols": {
    "lenName": 16,
    "lenType": 16,
    "lenVar": 40
   },
   "kernels_config": {
    "python": {
     "delete_cmd_postfix": "",
     "delete_cmd_prefix": "del ",
     "library": "var_list.py",
     "varRefreshCmd": "print(var_dic_list())"
    },
    "r": {
     "delete_cmd_postfix": ") ",
     "delete_cmd_prefix": "rm(",
     "library": "var_list.r",
     "varRefreshCmd": "cat(var_dic_list()) "
    }
   },
   "position": {
    "height": "896.969px",
    "left": "152.969px",
    "right": "20px",
    "top": "109.969px",
    "width": "800px"
   },
   "types_to_exclude": [
    "module",
    "function",
    "builtin_function_or_method",
    "instance",
    "_Feature"
   ],
   "window_display": false
  }
 },
 "nbformat": 4,
 "nbformat_minor": 2
}
